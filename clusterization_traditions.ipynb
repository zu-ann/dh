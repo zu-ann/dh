{
 "cells": [
  {
   "cell_type": "markdown",
   "metadata": {
    "slideshow": {
     "slide_type": "slide"
    }
   },
   "source": [
    "## Word Embeddings for Fun and Profit\n",
    "### Document classification with Gensim\n",
    "\n",
    "In this tutorial we'll classify movie plots by genre using word embeddings techniques in [gensim](http://radimrehurek.com/gensim/) . \n",
    "\n",
    "See accompanying slides in this repo.\n",
    "\n",
    "We will show how to get a __'hello-world'__ first untuned run using 7 techniques:\n",
    "\n",
    "- Bag of words\n",
    "\n",
    "- Character n-grams\n",
    "\n",
    "- TF-IDF \n",
    "\n",
    "- Averaging word2vec vectors\n",
    "\n",
    "- doc2vec\n",
    "\n",
    "- Deep IR \n",
    "\n",
    "- Word Mover's Distance\n",
    "\n",
    "The goal of this tutorial is to show the API so you can start tuning them yourself. Model tuning of the models is out of scope of this tutorial.\n",
    "\n",
    "We will also compare the accuracy of this first 'no tuning'/out of the box run of these techniques. It is in no way an indication of their best peformance that can be achieved with proper tuning. The benefit of the comparison is to manage the expectations."
   ]
  },
  {
   "cell_type": "markdown",
   "metadata": {
    "slideshow": {
     "slide_type": "slide"
    }
   },
   "source": [
    "## Requirements\n",
    "- Python 3\n",
    "- [Google News pre-trained word2vec (1.5 GB)](https://drive.google.com/file/d/0B7XkCwpI5KDYNlNUTTlSS21pQmM/edit?usp=sharing)\n",
    "- gensim\n",
    "- sklearn\n",
    "- pandas\n",
    "- matplotlib\n",
    "- nltk with English stopwords\n",
    "- pyemd\n",
    "- 4 GB RAM\n",
    "- 8 GB disk space for WMD"
   ]
  },
  {
   "cell_type": "markdown",
   "metadata": {
    "slideshow": {
     "slide_type": "slide"
    }
   },
   "source": [
    "## Dataset"
   ]
  },
  {
   "cell_type": "code",
   "execution_count": 1,
   "metadata": {},
   "outputs": [
    {
     "name": "stderr",
     "output_type": "stream",
     "text": [
      "/usr/local/lib/python3.5/dist-packages/sklearn/cross_validation.py:41: DeprecationWarning: This module was deprecated in version 0.18 in favor of the model_selection module into which all the refactored classes and functions are moved. Also note that the interface of the new CV iterators are different from that of this module. This module will be removed in 0.20.\n",
      "  \"This module will be removed in 0.20.\", DeprecationWarning)\n"
     ]
    }
   ],
   "source": [
    "from functions import *"
   ]
  },
  {
   "cell_type": "code",
   "execution_count": 2,
   "metadata": {},
   "outputs": [],
   "source": [
    "import logging\n",
    "logging.root.handlers = []  # Jupyter messes up logging so needs a reset\n",
    "logging.basicConfig(format='%(asctime)s : %(levelname)s : %(message)s', level=logging.INFO)"
   ]
  },
  {
   "cell_type": "code",
   "execution_count": 3,
   "metadata": {
    "slideshow": {
     "slide_type": "subslide"
    }
   },
   "outputs": [],
   "source": [
    "%matplotlib inline\n",
    "plt.rcParams['figure.figsize'] = (20, 6)"
   ]
  },
  {
   "cell_type": "markdown",
   "metadata": {
    "slideshow": {
     "slide_type": "slide"
    }
   },
   "source": [
    "## Exploring the data\n",
    "\n"
   ]
  },
  {
   "cell_type": "code",
   "execution_count": 4,
   "metadata": {
    "slideshow": {
     "slide_type": "-"
    }
   },
   "outputs": [],
   "source": [
    "df = pd.read_pickle('metatable_preprocessed.pkl')"
   ]
  },
  {
   "cell_type": "code",
   "execution_count": 5,
   "metadata": {},
   "outputs": [
    {
     "data": {
      "text/plain": [
       "tradition\n",
       "Американская литература          201\n",
       "Античная литература               49\n",
       "Британская литература             21\n",
       "Европейская литература           543\n",
       "Латиноамериканская литература     14\n",
       "Прочая восточная литература        7\n",
       "Прочая европейская литература     24\n",
       "Прочая литература                113\n",
       "Русская литература               499\n",
       "Скандинавская литература          39\n",
       "Name: tradition, dtype: int64"
      ]
     },
     "execution_count": 5,
     "metadata": {},
     "output_type": "execute_result"
    }
   ],
   "source": [
    "df.groupby('tradition')['tradition'].count()"
   ]
  },
  {
   "cell_type": "code",
   "execution_count": 6,
   "metadata": {},
   "outputs": [
    {
     "data": {
      "text/plain": [
       "<matplotlib.axes._subplots.AxesSubplot at 0x7f1ae29b4ba8>"
      ]
     },
     "execution_count": 6,
     "metadata": {},
     "output_type": "execute_result"
    },
    {
     "data": {
      "image/png": "[encoded data removed]",
      "text/plain": [
       "<matplotlib.figure.Figure at 0x7f1ae29b4668>"
      ]
     },
     "metadata": {},
     "output_type": "display_data"
    }
   ],
   "source": [
    "df.tradition.value_counts().plot(kind=\"bar\")"
   ]
  },
  {
   "cell_type": "code",
   "execution_count": 7,
   "metadata": {},
   "outputs": [
    {
     "data": {
      "text/plain": [
       "1925532"
      ]
     },
     "execution_count": 7,
     "metadata": {},
     "output_type": "execute_result"
    }
   ],
   "source": [
    "df['text'].apply(lambda x: len(x.split(' '))).sum()"
   ]
  },
  {
   "cell_type": "code",
   "execution_count": 8,
   "metadata": {
    "slideshow": {
     "slide_type": "-"
    }
   },
   "outputs": [
    {
     "name": "stdout",
     "output_type": "stream",
     "text": [
      "Миссис Кремона — немолодая женщина с ласковой улыбкой и ясным кротким взглядом, пришла в огромное правительственное здание к сыну Джеральду, видному физику. Он был очень занят — беседовал с генералом Райнером. Генерал усомнился в уместности присутствия матушки Джеральда при их разговоре. Джеральд успокоил его — матушка ничего не понимает в их делах. Он объяснял генералу ситуацию. Одна из экспедиций, которая была отправлена за пояс астероидов, достигла Плутония. Они подают радиосигналы. Загадка в том, что люди отправились в полёт четыре года назад, а всех припасов им могло хватить от силы на год. Джеральд предположил, что, возможно, им помогают жители других планет. Надо срочно узнать, что происходит. Может быть, от этого зависит будущее человечества. Для этого нужен электронный мозг Мультивак. От Земли до Плутония около четырёх миллиардов миль. Даже если радиоволны будут распространяются со скоростью света, то они покроют это расстояние за шесть часов, значит, ответа придётся ждать двенадцать часов. Надо передать возможно больше битов информации в секунду, пока не потерялась связь. Для этого нужен электронный мозг военного ведомства и соответствующие специалисты. Необходимо придумать, как передавать те же сообщения меньшим количеством сигналов. Вдруг в беседу вмешалась миссис Кремона. Она посоветовала: пока вы ждёте ответа, всё равно ведите передачу дальше. И им велите так делать. Говорите не переставая, и они пускай говорят не переставая. И пускай у вас кто-нибудь всё время слушает, и у них тоже — вы услышите всё, что надо. Джеральд и генерал ошеломлённо смотрели на неё. Джеральд прошептал: «Ну, конечно! Непрерывный разговор, сдвинутый по фазе на двенадцать часов, только и всего.». После Джеральд спросил: «Как ты до этого додумалась, мама?». Миссис Кремона сказала, что это известно всем женщинам. Они прекрасно понимают: чтобы передать любую новость, надо просто говорить не переставая. В этом весь секрет. \n",
      "\n",
      "\n",
      "tradition: Американская литература\n"
     ]
    }
   ],
   "source": [
    "print_plot(df, 12, 'tradition')"
   ]
  },
  {
   "cell_type": "markdown",
   "metadata": {
    "slideshow": {
     "slide_type": "slide"
    }
   },
   "source": [
    "### Train/test split"
   ]
  },
  {
   "cell_type": "code",
   "execution_count": 9,
   "metadata": {},
   "outputs": [],
   "source": [
    "train_data, test_data = train_test_split(df, test_size=0.2, random_state=42)"
   ]
  },
  {
   "cell_type": "code",
   "execution_count": 10,
   "metadata": {
    "slideshow": {
     "slide_type": "slide"
    }
   },
   "outputs": [
    {
     "data": {
      "text/plain": [
       "302"
      ]
     },
     "execution_count": 10,
     "metadata": {},
     "output_type": "execute_result"
    }
   ],
   "source": [
    "len(test_data)"
   ]
  },
  {
   "cell_type": "code",
   "execution_count": 11,
   "metadata": {},
   "outputs": [
    {
     "data": {
      "text/plain": [
       "tradition\n",
       "Американская литература          201\n",
       "Античная литература               49\n",
       "Британская литература             21\n",
       "Европейская литература           543\n",
       "Латиноамериканская литература     14\n",
       "Прочая восточная литература        7\n",
       "Прочая европейская литература     24\n",
       "Прочая литература                113\n",
       "Русская литература               499\n",
       "Скандинавская литература          39\n",
       "Name: tradition, dtype: int64"
      ]
     },
     "execution_count": 11,
     "metadata": {},
     "output_type": "execute_result"
    }
   ],
   "source": [
    "df.groupby('tradition')['tradition'].count()"
   ]
  },
  {
   "cell_type": "code",
   "execution_count": 12,
   "metadata": {},
   "outputs": [
    {
     "data": {
      "text/plain": [
       "<matplotlib.axes._subplots.AxesSubplot at 0x7f1ae9306748>"
      ]
     },
     "execution_count": 12,
     "metadata": {},
     "output_type": "execute_result"
    },
    {
     "data": {
      "image/png": "[encoded data removed]",
      "text/plain": [
       "<matplotlib.figure.Figure at 0x7f1ae92ef780>"
      ]
     },
     "metadata": {},
     "output_type": "display_data"
    }
   ],
   "source": [
    "fig, axs = plt.subplots(1,2)\n",
    "train_data.tradition.value_counts().plot(kind=\"bar\", ax=axs[0])\n",
    "test_data.tradition.value_counts().plot(kind=\"bar\", ax=axs[1])"
   ]
  },
  {
   "cell_type": "code",
   "execution_count": 13,
   "metadata": {},
   "outputs": [],
   "source": [
    "traditions = ['Американская литература', 'Античная литература',\n",
    "       'Британская литература', 'Европейская литература',\n",
    "       'Латиноамериканская литература', 'Прочая восточная литература',\n",
    "       'Прочая европейская литература', 'Прочая литература',\n",
    "       'Русская литература', 'Скандинавская литература']"
   ]
  },
  {
   "cell_type": "markdown",
   "metadata": {
    "slideshow": {
     "slide_type": "slide"
    }
   },
   "source": [
    "## Baseline: bag of words, n-grams, tf-idf\n",
    "Let's start with some simple baselines before diving into more advanced methods."
   ]
  },
  {
   "cell_type": "code",
   "execution_count": 14,
   "metadata": {},
   "outputs": [],
   "source": [
    "STOPWORDS = stopwords.words('russian')\n",
    "TOKENIZER = nltk.word_tokenize"
   ]
  },
  {
   "cell_type": "markdown",
   "metadata": {
    "slideshow": {
     "slide_type": "slide"
    }
   },
   "source": [
    "### Bag of words"
   ]
  },
  {
   "cell_type": "markdown",
   "metadata": {},
   "source": [
    "The simplest document feature is just a count of each word occurrence in a document."
   ]
  },
  {
   "cell_type": "code",
   "execution_count": 15,
   "metadata": {},
   "outputs": [
    {
     "name": "stdout",
     "output_type": "stream",
     "text": [
      "CPU times: user 43 s, sys: 410 ms, total: 43.4 s\n",
      "Wall time: 43.9 s\n"
     ]
    }
   ],
   "source": [
    "%%time\n",
    "\n",
    "count_vectorizer = CountVectorizer(analyzer=\"word\", max_features=3000, tokenizer=TOKENIZER, stop_words=STOPWORDS) \n",
    "train_data_features = count_vectorizer.fit_transform(train_data['text'])"
   ]
  },
  {
   "cell_type": "code",
   "execution_count": 16,
   "metadata": {},
   "outputs": [
    {
     "name": "stdout",
     "output_type": "stream",
     "text": [
      "CPU times: user 2.39 s, sys: 4.42 ms, total: 2.4 s\n",
      "Wall time: 2.4 s\n"
     ]
    }
   ],
   "source": [
    "%%time\n",
    "\n",
    "logreg = linear_model.LogisticRegression(n_jobs=1, C=1e5)\n",
    "logreg = logreg.fit(train_data_features, train_data['tradition'])"
   ]
  },
  {
   "cell_type": "code",
   "execution_count": 17,
   "metadata": {
    "slideshow": {
     "slide_type": "slide"
    }
   },
   "outputs": [
    {
     "data": {
      "text/plain": [
       "['той',\n",
       " 'толпа',\n",
       " 'толпы',\n",
       " 'тома',\n",
       " 'томас',\n",
       " 'томми',\n",
       " 'тому',\n",
       " 'тони',\n",
       " 'тотчас',\n",
       " 'точки',\n",
       " 'точно',\n",
       " 'трагедии',\n",
       " 'требует',\n",
       " 'требуют',\n",
       " 'третий',\n",
       " 'третьего',\n",
       " 'третья',\n",
       " 'тридцать',\n",
       " 'трое',\n",
       " 'троих']"
      ]
     },
     "execution_count": 17,
     "metadata": {},
     "output_type": "execute_result"
    }
   ],
   "source": [
    "count_vectorizer.get_feature_names()[2680:2700]"
   ]
  },
  {
   "cell_type": "code",
   "execution_count": 18,
   "metadata": {},
   "outputs": [
    {
     "name": "stdout",
     "output_type": "stream",
     "text": [
      "accuracy 0.6854304635761589\n",
      "confusion matrix\n",
      " [[24  0  0 10  0  0  1  1  8  0]\n",
      " [ 0 11  0  2  0  0  0  0  2  0]\n",
      " [ 0  0  0  2  0  0  0  0  0  0]\n",
      " [ 6  0  0 75  0  0  0  3 15  0]\n",
      " [ 0  0  0  2  0  0  0  0  1  0]\n",
      " [ 0  0  0  1  0  0  0  1  1  0]\n",
      " [ 2  0  0  5  0  0  0  0  0  0]\n",
      " [ 2  0  0  5  0  0  0  8  4  0]\n",
      " [ 4  0  0 10  0  0  0  2 84  2]\n",
      " [ 0  0  0  1  0  0  0  1  1  5]]\n",
      "(row=expected, col=predicted)\n",
      "CPU times: user 8.93 s, sys: 109 ms, total: 9.04 s\n",
      "Wall time: 8.98 s\n"
     ]
    },
    {
     "data": {
      "image/png": "[encoded data removed]",
      "text/plain": [
       "<matplotlib.figure.Figure at 0x7f1ae954e860>"
      ]
     },
     "metadata": {},
     "output_type": "display_data"
    }
   ],
   "source": [
    "%%time\n",
    "\n",
    "predict(count_vectorizer, logreg, test_data['text'], test_data['tradition'], traditions)"
   ]
  },
  {
   "cell_type": "code",
   "execution_count": 19,
   "metadata": {},
   "outputs": [
    {
     "name": "stdout",
     "output_type": "stream",
     "text": [
      "CPU times: user 12.9 s, sys: 1.03 s, total: 13.9 s\n",
      "Wall time: 14.9 s\n"
     ]
    }
   ],
   "source": [
    "%%time\n",
    "\n",
    "count_vectorizer_lemmatized = count_vectorizer.set_params(stop_words=None)\n",
    "train_data_features_lemmatized = count_vectorizer_lemmatized.fit_transform(train_data['text_pymystem'])"
   ]
  },
  {
   "cell_type": "code",
   "execution_count": 20,
   "metadata": {},
   "outputs": [
    {
     "name": "stdout",
     "output_type": "stream",
     "text": [
      "CPU times: user 1.8 s, sys: 40.8 ms, total: 1.84 s\n",
      "Wall time: 2.02 s\n"
     ]
    }
   ],
   "source": [
    "%%time\n",
    "\n",
    "logreg = logreg.fit(train_data_features_lemmatized, train_data['tradition'])"
   ]
  },
  {
   "cell_type": "code",
   "execution_count": 21,
   "metadata": {},
   "outputs": [
    {
     "name": "stdout",
     "output_type": "stream",
     "text": [
      "accuracy 0.7185430463576159\n",
      "confusion matrix\n",
      " [[29  0  0  9  0  0  0  1  5  0]\n",
      " [ 0 12  0  2  0  0  0  0  1  0]\n",
      " [ 0  0  0  2  0  0  0  0  0  0]\n",
      " [ 5  0  0 82  0  0  1  3  7  1]\n",
      " [ 0  0  0  2  0  0  0  0  1  0]\n",
      " [ 0  0  0  1  0  0  0  1  1  0]\n",
      " [ 0  0  0  7  0  0  0  0  0  0]\n",
      " [ 1  0  0  7  0  0  0  8  3  0]\n",
      " [ 4  0  0 14  0  0  0  0 84  0]\n",
      " [ 0  0  0  5  0  0  0  0  1  2]]\n",
      "(row=expected, col=predicted)\n",
      "CPU times: user 3.54 s, sys: 174 ms, total: 3.72 s\n",
      "Wall time: 4.37 s\n"
     ]
    },
    {
     "data": {
      "image/png": "[encoded data removed]",
      "text/plain": [
       "<matplotlib.figure.Figure at 0x7f1b3b80a3c8>"
      ]
     },
     "metadata": {},
     "output_type": "display_data"
    }
   ],
   "source": [
    "%%time\n",
    "\n",
    "predict(count_vectorizer_lemmatized, logreg, test_data['text_pymystem'], test_data['tradition'], traditions)"
   ]
  },
  {
   "cell_type": "markdown",
   "metadata": {
    "slideshow": {
     "slide_type": "slide"
    }
   },
   "source": [
    "White box vectorizer and classifier are great! We can see what are the most important words for sci-fi. This makes it very easy to tune and debug."
   ]
  },
  {
   "cell_type": "code",
   "execution_count": 22,
   "metadata": {},
   "outputs": [
    {
     "name": "stdout",
     "output_type": "stream",
     "text": [
      "Американская литература\n"
     ]
    },
    {
     "data": {
      "text/plain": [
       "['часть',\n",
       " 'доллар',\n",
       " 'ферма',\n",
       " 'банк',\n",
       " 'индеец',\n",
       " 'штат',\n",
       " 'тома',\n",
       " 'мост',\n",
       " 'находиться',\n",
       " 'дерево']"
      ]
     },
     "execution_count": 22,
     "metadata": {},
     "output_type": "execute_result"
    }
   ],
   "source": [
    "tradition_tag_id = 0\n",
    "print(traditions[tradition_tag_id])\n",
    "most_influential_words(count_vectorizer, logreg, tradition_tag_id)"
   ]
  },
  {
   "cell_type": "markdown",
   "metadata": {
    "slideshow": {
     "slide_type": "slide"
    }
   },
   "source": [
    "### Character N-grams"
   ]
  },
  {
   "cell_type": "markdown",
   "metadata": {},
   "source": [
    "A character _n-gram_ is a chunk of a document of length _n_. It is a poor man's tokenizer but sometimes works well. The parameter _n_ depends on language and the corpus. We choose length between 3 and 6 characters and to only focus on 3k most popular ones."
   ]
  },
  {
   "cell_type": "code",
   "execution_count": 23,
   "metadata": {},
   "outputs": [
    {
     "name": "stderr",
     "output_type": "stream",
     "text": [
      "/usr/local/lib/python3.5/dist-packages/sklearn/linear_model/logistic.py:1228: UserWarning: 'n_jobs' > 1 does not have any effect when 'solver' is set to 'liblinear'. Got 'n_jobs' = -1.\n",
      "  \" = {}.\".format(self.n_jobs))\n"
     ]
    },
    {
     "name": "stdout",
     "output_type": "stream",
     "text": [
      "CPU times: user 1min 17s, sys: 4.77 s, total: 1min 22s\n",
      "Wall time: 3min 20s\n"
     ]
    }
   ],
   "source": [
    "%%time\n",
    "n_gram_vectorizer = CountVectorizer(\n",
    "    analyzer=\"char\",\n",
    "    ngram_range=([2,5]),\n",
    "    tokenizer=None,    \n",
    "    preprocessor=None,                               \n",
    "    max_features=3000) \n",
    "\n",
    "logreg = linear_model.LogisticRegression(n_jobs=-1, C=1e5)\n",
    "\n",
    "train_data_features = n_gram_vectorizer.fit_transform(train_data['text'])\n",
    "\n",
    "logreg = logreg.fit(train_data_features, train_data['tradition'])"
   ]
  },
  {
   "cell_type": "code",
   "execution_count": 24,
   "metadata": {
    "slideshow": {
     "slide_type": "slide"
    }
   },
   "outputs": [
    {
     "data": {
      "text/plain": [
       "[' вм', ' вме', ' вн', ' во', ' во ', ' воз', ' вос', ' вр', ' вре', ' врем']"
      ]
     },
     "execution_count": 24,
     "metadata": {},
     "output_type": "execute_result"
    }
   ],
   "source": [
    "n_gram_vectorizer.get_feature_names()[50:60]"
   ]
  },
  {
   "cell_type": "markdown",
   "metadata": {
    "slideshow": {
     "slide_type": "slide"
    }
   },
   "source": [
    "The results are worse than using a tokenizer and bag of words. Probably due to not removing the stop words."
   ]
  },
  {
   "cell_type": "code",
   "execution_count": 25,
   "metadata": {},
   "outputs": [
    {
     "name": "stdout",
     "output_type": "stream",
     "text": [
      "accuracy 0.695364238410596\n",
      "confusion matrix\n",
      " [[25  0  0 11  0  0  0  0  7  1]\n",
      " [ 0 11  0  2  0  0  0  0  2  0]\n",
      " [ 0  0  0  2  0  0  0  0  0  0]\n",
      " [ 9  0  0 68  0  0  1  2 19  0]\n",
      " [ 1  0  0  2  0  0  0  0  0  0]\n",
      " [ 0  0  0  1  0  0  0  1  1  0]\n",
      " [ 1  1  0  5  0  0  0  0  0  0]\n",
      " [ 0  0  0  3  0  0  0 10  5  1]\n",
      " [ 2  0  0  6  0  0  0  1 93  0]\n",
      " [ 1  0  0  3  0  0  0  0  1  3]]\n",
      "(row=expected, col=predicted)\n"
     ]
    },
    {
     "data": {
      "image/png": "[encoded data removed]",
      "text/plain": [
       "<matplotlib.figure.Figure at 0x7f1addbd4860>"
      ]
     },
     "metadata": {},
     "output_type": "display_data"
    }
   ],
   "source": [
    "predict(n_gram_vectorizer, logreg, test_data['text'], test_data['tradition'], traditions)"
   ]
  },
  {
   "cell_type": "markdown",
   "metadata": {
    "slideshow": {
     "slide_type": "slide"
    }
   },
   "source": [
    "### TF-IDF\n",
    "\n",
    "[Term Frequency - Inverse Document Frequency](https://en.wikipedia.org/wiki/Tf%E2%80%93idf) is a little more advanced way to count words in a document.\n",
    "It adjusts for document length, word frequency and most importantly for frequency of a particular word in a particular document.\n"
   ]
  },
  {
   "cell_type": "code",
   "execution_count": 26,
   "metadata": {
    "scrolled": true
   },
   "outputs": [
    {
     "name": "stderr",
     "output_type": "stream",
     "text": [
      "/usr/local/lib/python3.5/dist-packages/sklearn/linear_model/logistic.py:1228: UserWarning: 'n_jobs' > 1 does not have any effect when 'solver' is set to 'liblinear'. Got 'n_jobs' = -1.\n",
      "  \" = {}.\".format(self.n_jobs))\n"
     ]
    },
    {
     "name": "stdout",
     "output_type": "stream",
     "text": [
      "CPU times: user 17.1 s, sys: 355 ms, total: 17.5 s\n",
      "Wall time: 18.1 s\n"
     ]
    }
   ],
   "source": [
    "%%time\n",
    "tf_vect = TfidfVectorizer(min_df=2, tokenizer=TOKENIZER)\n",
    "train_data_features = tf_vect.fit_transform(train_data['text_pymystem'])\n",
    "\n",
    "logreg = linear_model.LogisticRegression(n_jobs=-1, C=1e5)\n",
    "logreg = logreg.fit(train_data_features, train_data['tradition'])"
   ]
  },
  {
   "cell_type": "code",
   "execution_count": 27,
   "metadata": {
    "slideshow": {
     "slide_type": "slide"
    }
   },
   "outputs": [
    {
     "data": {
      "text/plain": [
       "['беготня',\n",
       " 'бегство',\n",
       " 'бегун',\n",
       " 'беда',\n",
       " 'бедненький',\n",
       " 'беднеть',\n",
       " 'бедно',\n",
       " 'бедность',\n",
       " 'беднота',\n",
       " 'бедный']"
      ]
     },
     "execution_count": 27,
     "metadata": {},
     "output_type": "execute_result"
    }
   ],
   "source": [
    "tf_vect.get_feature_names()[1000:1010]"
   ]
  },
  {
   "cell_type": "code",
   "execution_count": 28,
   "metadata": {
    "slideshow": {
     "slide_type": "slide"
    }
   },
   "outputs": [
    {
     "name": "stdout",
     "output_type": "stream",
     "text": [
      "accuracy 0.7649006622516556\n",
      "confusion matrix\n",
      " [[29  0  0 11  0  0  0  0  4  0]\n",
      " [ 0 11  0  3  0  0  0  0  0  1]\n",
      " [ 0  0  0  2  0  0  0  0  0  0]\n",
      " [ 5  1  0 87  0  0  0  0  6  0]\n",
      " [ 0  0  0  3  0  0  0  0  0  0]\n",
      " [ 0  0  0  3  0  0  0  0  0  0]\n",
      " [ 0  0  0  7  0  0  0  0  0  0]\n",
      " [ 0  0  0  7  0  0  0  9  3  0]\n",
      " [ 2  0  0  7  0  0  0  0 93  0]\n",
      " [ 0  0  0  5  0  0  0  0  1  2]]\n",
      "(row=expected, col=predicted)\n"
     ]
    },
    {
     "data": {
      "image/png": "[encoded data removed]",
      "text/plain": [
       "<matplotlib.figure.Figure at 0x7f1ae958ba20>"
      ]
     },
     "metadata": {},
     "output_type": "display_data"
    }
   ],
   "source": [
    "predict(tf_vect, logreg, test_data['text_pymystem'], test_data['tradition'], traditions)"
   ]
  },
  {
   "cell_type": "markdown",
   "metadata": {
    "slideshow": {
     "slide_type": "slide"
    }
   },
   "source": [
    "White box vectorizer and classifier are great! We can see what are the most important words for sci-fi. This makes it very easy to tune and debug."
   ]
  },
  {
   "cell_type": "code",
   "execution_count": 29,
   "metadata": {},
   "outputs": [
    {
     "name": "stdout",
     "output_type": "stream",
     "text": [
      "Американская литература\n"
     ]
    },
    {
     "data": {
      "text/plain": [
       "['питер',\n",
       " 'доллар',\n",
       " 'лэнгдон',\n",
       " 'джек',\n",
       " 'чарли',\n",
       " 'нью',\n",
       " 'юджин',\n",
       " 'кира',\n",
       " 'ганин',\n",
       " 'индеец']"
      ]
     },
     "execution_count": 29,
     "metadata": {},
     "output_type": "execute_result"
    }
   ],
   "source": [
    "tradition_tag_id = 0\n",
    "print(traditions[tradition_tag_id])\n",
    "most_influential_words(tf_vect, logreg, tradition_tag_id)"
   ]
  },
  {
   "cell_type": "markdown",
   "metadata": {
    "slideshow": {
     "slide_type": "slide"
    }
   },
   "source": [
    "# Averaging word vectors"
   ]
  },
  {
   "cell_type": "markdown",
   "metadata": {},
   "source": [
    "Now let's use more complex features rather than just counting words.\n",
    "\n",
    "A great recent achievement of NLP is the [word2vec embedding](https://papers.nips.cc/paper/5021-distributed-representations-of-words-and-phrases-and-their-compositionality.pdf). See Chris Moody's [video](https://www.youtube.com/watch?v=vkfXBGnDplQ) for a great introduction to word2vec. \n"
   ]
  },
  {
   "cell_type": "markdown",
   "metadata": {
    "slideshow": {
     "slide_type": "slide"
    }
   },
   "source": [
    "First we load a word2vec model. It has been pre-trained by Google on a 100 billon word Google News corpus. You can play with this model using a fun [web-app](http://rare-technologies.com/word2vec-tutorial/#app).\n",
    "\n",
    "Link to the web-app: http://rare-technologies.com/word2vec-tutorial/#app\n",
    "\n",
    "Vocabulary size: 3 mln words. \n",
    "\n",
    "__Warning__: 3 mins to load, takes 4 GB of RAM."
   ]
  },
  {
   "cell_type": "code",
   "execution_count": 30,
   "metadata": {},
   "outputs": [
    {
     "name": "stderr",
     "output_type": "stream",
     "text": [
      "2018-09-29 02:30:08,146 : INFO : loading FastText object from /media/zu_ann/OS/Users/zu_ann/Yandex.Disk/HSE/DH/dh/araneum_none_fasttextskipgram_300_5_2018/araneum_none_fasttextskipgram_300_5_2018.model\n",
      "2018-09-29 02:30:26,589 : INFO : loading wv recursively from /media/zu_ann/OS/Users/zu_ann/Yandex.Disk/HSE/DH/dh/araneum_none_fasttextskipgram_300_5_2018/araneum_none_fasttextskipgram_300_5_2018.model.wv.* with mmap=None\n",
      "2018-09-29 02:30:26,594 : INFO : loading syn0_vocab from /media/zu_ann/OS/Users/zu_ann/Yandex.Disk/HSE/DH/dh/araneum_none_fasttextskipgram_300_5_2018/araneum_none_fasttextskipgram_300_5_2018.model.wv.syn0_vocab.npy with mmap=None\n",
      "2018-09-29 02:30:27,388 : INFO : loading syn0 from /media/zu_ann/OS/Users/zu_ann/Yandex.Disk/HSE/DH/dh/araneum_none_fasttextskipgram_300_5_2018/araneum_none_fasttextskipgram_300_5_2018.model.wv.syn0.npy with mmap=None\n",
      "2018-09-29 02:30:28,345 : INFO : setting ignored attribute syn0norm to None\n",
      "2018-09-29 02:30:28,347 : INFO : setting ignored attribute syn0_vocab_norm to None\n",
      "2018-09-29 02:30:28,349 : INFO : setting ignored attribute syn0_ngrams_norm to None\n",
      "2018-09-29 02:30:28,350 : INFO : loading syn0_vocab_lockf from /media/zu_ann/OS/Users/zu_ann/Yandex.Disk/HSE/DH/dh/araneum_none_fasttextskipgram_300_5_2018/araneum_none_fasttextskipgram_300_5_2018.model.syn0_vocab_lockf.npy with mmap=None\n",
      "2018-09-29 02:30:29,177 : INFO : Model saved using code from earlier Gensim Version. Re-loading old model in a compatible way.\n",
      "2018-09-29 02:30:29,208 : INFO : loading FastText object from /media/zu_ann/OS/Users/zu_ann/Yandex.Disk/HSE/DH/dh/araneum_none_fasttextskipgram_300_5_2018/araneum_none_fasttextskipgram_300_5_2018.model\n",
      "2018-09-29 02:30:34,661 : INFO : loading wv recursively from /media/zu_ann/OS/Users/zu_ann/Yandex.Disk/HSE/DH/dh/araneum_none_fasttextskipgram_300_5_2018/araneum_none_fasttextskipgram_300_5_2018.model.wv.* with mmap=None\n",
      "2018-09-29 02:30:34,668 : INFO : loading syn0_vocab from /media/zu_ann/OS/Users/zu_ann/Yandex.Disk/HSE/DH/dh/araneum_none_fasttextskipgram_300_5_2018/araneum_none_fasttextskipgram_300_5_2018.model.wv.syn0_vocab.npy with mmap=None\n",
      "2018-09-29 02:30:35,488 : INFO : loading syn0 from /media/zu_ann/OS/Users/zu_ann/Yandex.Disk/HSE/DH/dh/araneum_none_fasttextskipgram_300_5_2018/araneum_none_fasttextskipgram_300_5_2018.model.wv.syn0.npy with mmap=None\n",
      "2018-09-29 02:30:36,416 : INFO : setting ignored attribute syn0norm to None\n",
      "2018-09-29 02:30:36,421 : INFO : setting ignored attribute syn0_vocab_norm to None\n",
      "2018-09-29 02:30:36,422 : INFO : setting ignored attribute syn0_ngrams_norm to None\n",
      "2018-09-29 02:30:36,423 : INFO : loading syn0_vocab_lockf from /media/zu_ann/OS/Users/zu_ann/Yandex.Disk/HSE/DH/dh/araneum_none_fasttextskipgram_300_5_2018/araneum_none_fasttextskipgram_300_5_2018.model.syn0_vocab_lockf.npy with mmap=None\n",
      "2018-09-29 02:30:39,273 : INFO : loading syn1neg from /media/zu_ann/OS/Users/zu_ann/Yandex.Disk/HSE/DH/dh/araneum_none_fasttextskipgram_300_5_2018/araneum_none_fasttextskipgram_300_5_2018.model.syn1neg.npy with mmap=None\n",
      "2018-09-29 02:30:43,670 : INFO : loaded /media/zu_ann/OS/Users/zu_ann/Yandex.Disk/HSE/DH/dh/araneum_none_fasttextskipgram_300_5_2018/araneum_none_fasttextskipgram_300_5_2018.model\n",
      "2018-09-29 02:30:46,573 : INFO : precomputing L2-norms of word weight vectors\n",
      "2018-09-29 02:30:50,265 : INFO : precomputing L2-norms of ngram weight vectors\n"
     ]
    },
    {
     "name": "stdout",
     "output_type": "stream",
     "text": [
      "CPU times: user 14.1 s, sys: 6.82 s, total: 20.9 s\n",
      "Wall time: 42.6 s\n"
     ]
    }
   ],
   "source": [
    "%%time \n",
    "\n",
    "path = '/araneum_none_fasttextskipgram_300_5_2018/araneum_none_fasttextskipgram_300_5_2018.model'\n",
    "model = FastText.load(os.getcwd() + path)\n",
    "model.init_sims(replace=True)"
   ]
  },
  {
   "cell_type": "markdown",
   "metadata": {
    "slideshow": {
     "slide_type": "slide"
    }
   },
   "source": [
    "Example vocabulary"
   ]
  },
  {
   "cell_type": "code",
   "execution_count": 31,
   "metadata": {},
   "outputs": [
    {
     "data": {
      "text/plain": [
       "['славдом',\n",
       " 'лучок',\n",
       " 'ронц',\n",
       " 'никитин',\n",
       " 'flashpoint',\n",
       " 'балинезийский',\n",
       " 'дитенок',\n",
       " 'облезать',\n",
       " 'аплодировать',\n",
       " 'эксгумация',\n",
       " 'ssangyong',\n",
       " 'буонаротти',\n",
       " 'лобко',\n",
       " 'куха',\n",
       " 'теплякова',\n",
       " 'аs',\n",
       " 'лесбос',\n",
       " 'аблация',\n",
       " 'имущество',\n",
       " 'шипр']"
      ]
     },
     "execution_count": 31,
     "metadata": {},
     "output_type": "execute_result"
    }
   ],
   "source": [
    "from itertools import islice\n",
    "list(islice(model.wv.vocab, 0, 20))"
   ]
  },
  {
   "cell_type": "markdown",
   "metadata": {
    "slideshow": {
     "slide_type": "slide"
    }
   },
   "source": [
    "Now we have a vector for each word. How do we get a vector for a sequence of words (aka a document)?\n",
    "\n",
    "\n"
   ]
  },
  {
   "cell_type": "markdown",
   "metadata": {
    "slideshow": {
     "slide_type": "slide"
    }
   },
   "source": [
    "The most naive way is just to take an average. [Mike Tamir](https://www.youtube.com/watch?v=7gTjYwiaJiU) has suggested that the resulting vector points to a single word summarising the whole document. For example all words in a book\n",
    " ‘A tale of two cities’ should add up to 'class-struggle’"
   ]
  },
  {
   "cell_type": "code",
   "execution_count": 33,
   "metadata": {
    "slideshow": {
     "slide_type": "slide"
    }
   },
   "outputs": [],
   "source": [
    "test_tokenized = test_data['text_pymystem_list'].values\n",
    "train_tokenized = train_data['text_pymystem_list'].values"
   ]
  },
  {
   "cell_type": "code",
   "execution_count": 34,
   "metadata": {},
   "outputs": [
    {
     "name": "stdout",
     "output_type": "stream",
     "text": [
      "CPU times: user 11.1 s, sys: 79.1 ms, total: 11.1 s\n",
      "Wall time: 11.2 s\n"
     ]
    }
   ],
   "source": [
    "%%time\n",
    "X_train_word_average = word_averaging_list(model.wv, train_tokenized)\n",
    "X_test_word_average = word_averaging_list(model.wv, test_tokenized)"
   ]
  },
  {
   "cell_type": "markdown",
   "metadata": {
    "slideshow": {
     "slide_type": "slide"
    }
   },
   "source": [
    "Let's see how KNN and logistic regression classifiers perform on these word-averaging document features."
   ]
  },
  {
   "cell_type": "code",
   "execution_count": 35,
   "metadata": {},
   "outputs": [
    {
     "name": "stdout",
     "output_type": "stream",
     "text": [
      "CPU times: user 8.44 ms, sys: 0 ns, total: 8.44 ms\n",
      "Wall time: 8.37 ms\n"
     ]
    }
   ],
   "source": [
    "%%time\n",
    "knn_naive_dv = KNeighborsClassifier(n_neighbors=3, n_jobs=1, algorithm='brute', metric='cosine' )\n",
    "knn_naive_dv.fit(X_train_word_average, train_data.tradition)"
   ]
  },
  {
   "cell_type": "code",
   "execution_count": 36,
   "metadata": {},
   "outputs": [
    {
     "name": "stdout",
     "output_type": "stream",
     "text": [
      "CPU times: user 28.4 ms, sys: 22.1 ms, total: 50.6 ms\n",
      "Wall time: 30 ms\n"
     ]
    }
   ],
   "source": [
    "%%time\n",
    "predicted = knn_naive_dv.predict(X_test_word_average)"
   ]
  },
  {
   "cell_type": "code",
   "execution_count": 37,
   "metadata": {
    "slideshow": {
     "slide_type": "slide"
    }
   },
   "outputs": [
    {
     "name": "stdout",
     "output_type": "stream",
     "text": [
      "accuracy 0.7152317880794702\n",
      "confusion matrix\n",
      " [[35  0  0  8  0  0  0  0  1  0]\n",
      " [ 0 13  0  2  0  0  0  0  0  0]\n",
      " [ 0  0  0  2  0  0  0  0  0  0]\n",
      " [14  5  1 73  0  0  0  2  3  1]\n",
      " [ 0  0  0  2  0  0  0  0  1  0]\n",
      " [ 0  0  0  2  0  1  0  0  0  0]\n",
      " [ 0  0  0  6  0  0  0  1  0  0]\n",
      " [ 0  1  0  8  0  0  0  9  1  0]\n",
      " [ 2  3  1 10  0  0  0  5 81  0]\n",
      " [ 1  0  0  2  0  0  0  1  0  4]]\n",
      "(row=expected, col=predicted)\n"
     ]
    },
    {
     "data": {
      "image/png": "[encoded data removed]",
      "text/plain": [
       "<matplotlib.figure.Figure at 0x7f1ae818ed68>"
      ]
     },
     "metadata": {},
     "output_type": "display_data"
    }
   ],
   "source": [
    "evaluate_prediction(predicted, test_data.tradition, traditions)"
   ]
  },
  {
   "cell_type": "markdown",
   "metadata": {
    "slideshow": {
     "slide_type": "fragment"
    }
   },
   "source": [
    "KNN is even worse than the naive 'everything is comedy' baseline! Let's see if logistic regression is better."
   ]
  },
  {
   "cell_type": "code",
   "execution_count": 38,
   "metadata": {
    "slideshow": {
     "slide_type": "slide"
    }
   },
   "outputs": [
    {
     "name": "stdout",
     "output_type": "stream",
     "text": [
      "CPU times: user 4.23 s, sys: 219 ms, total: 4.45 s\n",
      "Wall time: 4.21 s\n"
     ]
    }
   ],
   "source": [
    "%%time\n",
    "logreg = linear_model.LogisticRegression(n_jobs=1, C=1e5)\n",
    "\n",
    "logreg = logreg.fit(X_train_word_average, train_data.tradition)\n",
    "predicted = logreg.predict(X_test_word_average)"
   ]
  },
  {
   "cell_type": "code",
   "execution_count": 39,
   "metadata": {
    "slideshow": {
     "slide_type": "-"
    }
   },
   "outputs": [
    {
     "name": "stdout",
     "output_type": "stream",
     "text": [
      "accuracy 0.7384105960264901\n",
      "confusion matrix\n",
      " [[29  0  3  8  0  0  0  1  3  0]\n",
      " [ 0 12  0  3  0  0  0  0  0  0]\n",
      " [ 0  0  0  2  0  0  0  0  0  0]\n",
      " [ 9  1  0 73  1  0  0  4  9  2]\n",
      " [ 1  0  0  1  0  0  0  1  0  0]\n",
      " [ 0  0  0  1  0  1  0  0  1  0]\n",
      " [ 0  1  0  5  0  0  0  1  0  0]\n",
      " [ 0  0  0  6  0  0  0 13  0  0]\n",
      " [ 5  0  0  6  0  0  0  2 89  0]\n",
      " [ 0  0  0  1  0  0  0  0  1  6]]\n",
      "(row=expected, col=predicted)\n"
     ]
    },
    {
     "data": {
      "image/png": "[encoded data removed]",
      "text/plain": [
       "<matplotlib.figure.Figure at 0x7f1adc5f8c50>"
      ]
     },
     "metadata": {},
     "output_type": "display_data"
    }
   ],
   "source": [
    "evaluate_prediction(predicted, test_data.tradition, traditions)"
   ]
  },
  {
   "cell_type": "markdown",
   "metadata": {
    "slideshow": {
     "slide_type": "slide"
    }
   },
   "source": [
    "Now just for fun let's see if text summarisation works on our data. Let's pick a plot and see which words it averages to."
   ]
  },
  {
   "cell_type": "code",
   "execution_count": 40,
   "metadata": {
    "scrolled": true
   },
   "outputs": [
    {
     "data": {
      "text/plain": [
       "'Семнадцатилетний Мелькур вступил в свет, «обладая всем, что требуется, дабы не остаться незамеченным». От отца он унаследовал прекрасное имя, со стороны матери его ожидало большое состояние. Время было мирное, и Мелькур ни о чем не помышлял, кроме удовольствий. Среди суеты и блеска юноша страдал от сердечной пустоты и мечтал изведать любовь, о которой имел лишь самое смутное представление. Наивный и неопытный, Мелькур не знал, как завязываются любовные связи в высшем кругу. С одной стороны, он был о себе достаточно высокого мнения, с другой — полагал, что успех у женщин может иметь только человек выдающийся, и не надеялся заслужить их благосклонность. Мелькур стал все больше думать о подруге своей матери маркизе де Люрсе и убедил себя, что влюблён в неё. Некогда маркиза слыла кокеткой и даже ветреницей, но впоследствии усвоила строгий и добродетельный тон, поэтому Мелькур, не знавший о её прошлом, считал её неприступной. Маркиза без труда догадалась о чувствах Мелькура и была готова на них ответить, но робкий и почтительный юноша вёл себя так нерешительно, что она не могла этого сделать без риска уронить своё достоинство. Оставаясь с Мелькуром наедине, она бросала на него нежные взгляды и советовала ему держаться непринуждённее, но он не понимал намёков, а сделать самой первый решительный шаг маркизе мешали приличия и боязнь утратить уважение Мелькура. Так прошло больше двух месяцев. Наконец маркиза устала ждать и решила поторопить события. Она стала допытываться у Мелькура, в кого он влюблён, но юноша, не надеясь на взаимность, не желал открывать свою тайну. Маркиза упорно добивалась признания, и в конце концов Мелькур объяснился ей в любви. Маркиза боялась, что слишком лёгкая победа охладит пыл юноши, он же боялся своими домогательствами оскорбить её. Так они, оба желая одного и того же, никак не могли прийти к заветной цели. Досадуя на суровость маркизы, Мелькур отправился в театр, где увидел девушку, поразившую его своей красотой. В ложу прекрасной незнакомки вошёл маркиз де Жермейль — молодой человек приятной наружности, пользовавшийся всеобщим уважением, — и Мелькур почувствовал, что ревнует. После этого он два дня повсюду искал незнакомку, обошёл все театры и сады, но тщетно — он нигде не встретил ни её, ни Жермейля.Продолжение текста после рекламыХотя Мелькур уже три дня не видел маркизу де Люрсе, он не очень скучал по ней. Поначалу он размышлял над тем, как бы ему завоевать одну и в то же время не потерять другую, но поскольку несокрушимая добродетель маркизы делала все дальнейшие попытки безнадёжными, он по здравом размышлении решил отдать своё сердце той, что нравилась ему больше. Маркиза, видя, что незадачливый поклонник не кажет носа и не возобновляет попыток завоевать её сердце, встревожилась. Она отправилась с визитом к госпоже де Мелькур и, улучив момент, потребовала от юноши объяснений. Маркиза упрекала его в том, что он стал её избегать и отверг её дружбу. Мелькур пытался оправдываться. Увлекаемый обстоятельствами, он начал вновь уверять маркизу в своей любви и просил позволения надеяться, что сердце её когда-нибудь смягчится. Маркиза, не полагаясь более на догадливость Мелькура, все яснее выказывала ему своё расположение. Юноше следовало просить о свидании, но застенчивость и неуверенность мешали ему. Тогда маркиза пришла ему на помощь и сказала, что завтра днём будет дома и может принять его. Наутро Мелькур отправился к Жермейлю в надежде узнать что-либо о незнакомке, но Жермейль уже несколько дней как уехал за город. Мелькур отправился в сад Тюильри, где случайно встретил двух дам, одной из которых оказалась давешняя прекрасная незнакомка. Мелькуру удалось подслушать разговор дам, из которого он выяснил, что его избраннице понравился в театре незнакомый молодой человек. Мелькур не верил, что это мог быть он сам, и терзался ревностью к незнакомцу.Благодаря рекламе Брифли бесплатенВечером Мелькур отправился к госпоже де Люрсе, которая напрасно прождала его весь день. Когда Мелькур увидел маркизу, угасшие чувства вспыхнули в его душе с новой силой. Маркиза почувствовала свою победу. Мелькур хотел услышать от неё признание в любви, но в доме были гости, и он не мог поговорить с ней наедине. Он возомнил, что покорил сердце, дотоле не знавшее любви, и был весьма горд собой. Позже, размышляя об этом первом своём опыте, Мелькур пришёл к выводу, что для женщины важнее польстить самолюбию мужчины, чем тронуть его сердце. Гости маркизы разъехались, а Мелькур задержался, якобы ожидая запоздавшую карету. Оставшись наедине с маркизой, он почувствовал такой приступ страха, какого не испытывал за всю жизнь. Его охватило неописуемое волнение, голос дрожал, руки не слушались. Маркиза призналась ему в любви, он же в ответ упал к её ногам и стал заверять её в своих пылких чувствах. Он не понимал, что она готова отдаться ему, и боялся чрезмерной вольностью оттолкнуть её от себя. Раздосадованной маркизе ничего не оставалось, как попросить его удалиться. Когда Мелькур пришёл в себя и оправился от смущения, он понял всю нелепость своего поведения, но было уже поздно. Он решил при следующем свидании быть настойчивее. На следующий день к матери Мелькура явился с визитом граф де Версак. Госпожа де Мелькур недолюбливала графа и считала его влияние вредным для сына. Мелькур восхищался Версаком и считал его образцом для подражания. Версак был дерзким повесой, он обманывал и высмеивал женщин, но его очаровательная наглость не отвращала их, а, напротив, пленяла. Он одержал множество побед и приобрёл множество подражателей, но, не обладая обаянием Версака, они копировали лишь его недостатки, прибавляя их к своим собственным. Версак прямо с порога стал язвительно злословить о самых разных людях. Не пощадил он и маркизу де Люрсе, сообщив Мелькуру некоторые подробности её прошлой жизни. Мелькур почувствовал себя обманутым. Беспорочная богиня оказалась не лучше других женщин. Он отправился к маркизе «с намерением отплатить ей самыми оскорбительными знаками презрения за нелепое понятие о её добродетели», которое она сумела ему внушить. К большому удивлению, он увидел во дворе маркизы карету Версака. Версак и маркиза беседовали как лучшие друзья, но после его отъезда маркиза назвала его самым опасным фатом, самым скверным сплетником и самым опасным негодяем при дворе. Мелькур, не веривший больше ни одному слову маркизы, повёл себя так развязно и стал домогаться её так грубо, что она обиделась. Пока они выясняли отношения, лакей доложил о приходе мадам и мадемуазель де Тевиль. Мелькур слышал это имя: госпожа де Тевиль была родственницей его матери, но жила в провинции, поэтому он никогда её не видел. Каково же было удивление юноши, когда он узнал в мадемуазель де Тевиль свою прекрасную незнакомку! Мелькуру показалось, что Гортензия — так звали девушку — отнеслась к нему с безразличием и даже с пренебрежением. Эта мысль огорчала его, но не излечивала от любви. Когда лакей доложил о приходе ещё одной гостьи — госпожи де Сенанж, — Мелькур почти не обратил на неё внимания, но госпожа де Сенанж очень заинтересовалась вступающим в свет юношей. Это была одна из тех философски настроенных дам, которые считают, что они выше предрассудков, меж тем как на самом деле они ниже всякой нравственности. Она была немолода, но сохранила остатки былой красоты. Она немедленно забрала себе в голову, что должна заняться воспитанием Мелькура и «сформировать» его — это модное выражение заключало в себе множество не поддающихся точному определению понятий. Мелькур же испытывал неловкость от её развязных манер и считал её престарелой кокеткой. Вечером явился Версак в сопровождении маркиза де Пранзи, чьё присутствие явно смутило маркизу де Люрсе — судя по всему, Пранзи некогда был её любовником. Версак обратил внимание на Гортензию и изо всех сил старался ей понравиться, но девушка оставалась холодна. Версак делал все, чтобы настроить присутствующих друг против друга. Он шепнул маркизе, что госпожа де Сенанж хочет завладеть сердцем Мелькура, и маркиза терзалась ревностью. За ужином гости исчерпали запас новых сплетен. Когда они встали из-за стола, маркиза предложила сыграть в карты. Мелькур пообещал прислать госпоже де Сенанж понравившиеся ей сатирические куплеты, но Версак сказал, что учтивее было бы не посылать, а привезти их, и Мелькуру ничего не оставалось, как пообещать госпоже Сенанж доставить их лично. Версак явно радовался, что сумел насолить маркизе. Госпожа де Люрсе просила Мелькура заехать за ней завтра после обеда, чтобы вместе отправиться к госпоже де Тевиль. Мелькур с восторгом согласился, думая лишь о Гортензии. Придя на следующий день к маркизе, Мелькур, окончательно разочаровавшийся в ней после того, как узнал о её былой слабости к господину де Пранзи, держал себя с ней так равнодушно, что маркиза заподозрила его в серьёзном увлечении госпожой де Сенанж. Маркиза де Люрсе осудила его выбор и попыталась образумить его. Мелькур же думал только о том, как бы ему почаще видеть Гортензию. Приехав к госпоже де Тевиль, Мелькур заговорил с девушкой и был готов поверить в её расположение к нему, но тут пришёл маркиз де Жермейль, и Мелькуру стало казаться, что Гортензия влюблена в маркиза. Мелькура охватила такая тоска, что он побледнел и изменился в лице. Маркиза приписала грустную мину Мелькура мыслям о госпоже де Сенанж и беспрестанными разговорами о ней вызвала раздражение юноши. Сухо распрощавшись с маркизой, Мелькур вышел от госпожи де Тевиль и отправился к госпоже де Сенанж. Было уже довольно поздно, и он не рассчитывал застать её дома, что дало бы ему возможность оставить куплеты и уехать, но госпожа де Сенанж оказалась дома и очень ему обрадовалась. В наказание за поздний визит она приказала ему сопровождать её и её подругу госпожу де Монжен в Тюильри. Мелькур отговаривался, но госпожа де Сенанж была так настойчива, что ему пришлось уступить. Госпожа де Монжен была молода, но казалась такой пожившей и увядшей, что жалко было смотреть. Обе дамы наперебой старались завладеть вниманием Мелькура и, чувствуя себя соперницами, осыпали друг друга колкостями. В Тюильри все взоры были обращены на Мелькура и его спутниц. Госпожа де Сенанж во что бы то ни стало хотела доказать всем, что Мелькур принадлежит ей, а не госпоже де Монжен. В довершение всех бед на повороте аллеи Мелькур увидел маркизу де Люрсе, госпожу де Тевиль и Гортензию, идущих им навстречу. Ему было неприятно, что девушка видит его в обществе госпожи де Сенанж. Маркиза, хорошо владевшая собой, ответила на неловкий поклон Мелькура с милой и непринуждённой улыбкой. После ухода госпожи де Сенанж Мелькур разыскал госпожу де Люрсе и её спутниц. Маркиза стала насмехаться над Мелькуром и описывать причуды и пороки госпожи де Сенанж. Мелькур пришёл в ярость, он принялся защищать госпожу де Сенанж и превозносить её достоинства, забыв, что его слушает не только маркиза, но и Гортензия. Убедив и ту и другую в своей любви к госпоже де Сенанж, Мелькур впал в уныние, ибо понял, что сам закрыл себе дорогу к сердцу девушки. Вернувшись домой, он всю ночь предавался мрачным и бесплодным размышлениям. Наутро ему принесли письмо от госпожи де Люрсе. Она уведомляла его, что уезжает на два дня в деревню и приглашала сопровождать её. Мелькур, твёрдо решивший порвать с ней, ответил отказом: он написал, что уже связал себя обещанием, которое не может нарушить. Но оказалось, что маркиза собиралась в деревню вместе с Гортензией и её матерью, так что Мелькур пожалел о своём отказе. Во время их отсутствия он не находил себе места и очень обрадовался, когда к нему пришёл Версак. Видя меланхолическое расположение духа Мелькура, Версак приписал его разлуке с госпожой де Сенанж, которая на два дня уехала в Версаль. Версак решил просветить Мелькура и показать ему свет таким, каким его следует видеть. Он раскрыл юноше глаза на фальшь и пустоту светского общества и объяснил, что преступление против чести и разума считается более простительным, чем нарушение светских приличий, а недостаток ума — более простительным, чем его избыток. Версак считал, что не надо бояться переоценить себя и недооценить других. Напрасно полагать, что блистать в свете может лишь человек, обладающий особенными талантами. «Посмотрите, как я себя веду, когда хочу блеснуть: как я манерничаю, как рисуюсь, какой вздор несу!» — говорил Версак. Мелькур спросил его, что такое хороший тон. Версак затруднился дать чёткое определение, ибо это выражение было у всех на устах, но никто толком не понимал, что оно означает. По мнению Версака, хороший тон — не что иное, как благородное происхождение и непринуждённость в светских дурачествах. Версак поучал Мелькура: «Как женщине стыдно быть добродетельной, так мужчине неприлично быть учёным». Величайшее достижение хорошего тона — светская беседа, начисто лишённая мыслей. В заключение Версак посоветовал Мелькуру обратить внимание на госпожу де Сенанж, считая её наиболее подходящей для неопытного юноши. Расставшись с ним, юноша погрузился в мысли о Гортензии. С трудом дождавшись её возвращения из деревни, он поспешил к ней и узнал, что она и госпожа де Тевиль в Париже, но куда-то отлучились. Нетерпение его было так велико, что он помчался к маркизе де Люрсе, решив, что Гортензия, вероятно, у неё. У маркизы было много гостей, но Гортензии среди них не оказалось.Маркиза встретила Мелькура без тени смущения и досады и заговорила с ним как: ни в чем не бывало. Ее спокойная благожелательность взбесила Мелькура, мысль о том, что маркиза его разлюбила, больно задела его самолюбие. Он заметил, что госпожа де Люрсе часто смотрит на маркиза де ***, и решил, что она уже нашла ему замену в лице маркиза. Мелькур остался после разъезда гостей и попросил маркизу уделить ему час-другой. Юноша высказал ей все свои обиды, но она так умно повела себя, что он сам почувствовал, как он смешон. Маркиза сказала, что искренне любила Мелькура и прощала ему недостатки неопытной молодости, веря, что он обладает присущими молодости чистотой и искренностью, но ошиблась в нем и теперь жестоко наказана, Мелькур почувствовал прилив любви и нежности к маркизе. Маркиза предлагала ему удовольствоваться дружбой, но Мелькур не желал останавливаться на полпути. Его былое уважение к маркизе воскресло, и победа над её добродетелью казалась невероятно трудной и почётной. Самообман длился долго, и Мелькур не помышлял о неверности. Но в один прекрасный день он ощутил душевную пустоту и возвратился к мыслям о Гортензии. Он ничего не обещал Гортензии, да она его и не любила — и все же он чувствовал перед ней вину. В то же время он не мог бросить маркизу. «Укоры совести портили мне удовольствие, удовольствия заглушали моё раскаяние — я уже не принадлежал себе». Обуреваемый противоречивыми чувствами, он продолжал посещать маркизу и мечтать о Гортензии.'"
      ]
     },
     "execution_count": 40,
     "metadata": {},
     "output_type": "execute_result"
    }
   ],
   "source": [
    "test_data.iloc()[56]['text']"
   ]
  },
  {
   "cell_type": "code",
   "execution_count": 41,
   "metadata": {
    "slideshow": {
     "slide_type": "fragment"
    }
   },
   "outputs": [
    {
     "data": {
      "text/plain": [
       "[('опростоволоситься', 0.7897706627845764),\n",
       " ('симоронить', 0.7883868217468262),\n",
       " ('гленарывать', 0.7708706259727478),\n",
       " ('разоткровенничаться', 0.7665129899978638),\n",
       " ('растрогаться', 0.760732889175415),\n",
       " ('даринька', 0.7581226825714111),\n",
       " ('думать', 0.7577769756317139),\n",
       " ('кажется', 0.7547581791877747),\n",
       " ('примолкать', 0.7545772790908813),\n",
       " ('вернее', 0.7522390484809875),\n",
       " ('порассказать', 0.7449817657470703),\n",
       " ('затосковать', 0.7414664030075073),\n",
       " ('присоветовать', 0.7414649724960327),\n",
       " ('заспорить', 0.7407478094100952),\n",
       " ('уговариваться', 0.7404695749282837),\n",
       " ('нездоровиться', 0.7393044233322144),\n",
       " ('расстараться', 0.7383365035057068),\n",
       " ('застесняться', 0.7381041049957275),\n",
       " ('обратиться', 0.7377612590789795),\n",
       " ('смериться', 0.7364529371261597)]"
      ]
     },
     "execution_count": 41,
     "metadata": {},
     "output_type": "execute_result"
    }
   ],
   "source": [
    "model.wv.most_similar(positive=[X_test_word_average[56]], restrict_vocab=100000, topn=30)[0:20]"
   ]
  },
  {
   "cell_type": "markdown",
   "metadata": {
    "slideshow": {
     "slide_type": "slide"
    }
   },
   "source": [
    "# Doc2Vec"
   ]
  },
  {
   "cell_type": "markdown",
   "metadata": {},
   "source": [
    "A [paper](https://cs.stanford.edu/~quocle/paragraph_vector.pdf) by Google suggests a model for document classification called Paragraph Vectors Doc2Vec or Doc2vec in short. It is very similar to word2vec. \n",
    "\n",
    "It introduces 'a tag' - a word that is in every context in the document.\n",
    "\n",
    "For our first try we tag every plot with its genre. This makes it 'semi-supervised' learning - the genre labels is just one objective among many."
   ]
  },
  {
   "cell_type": "code",
   "execution_count": 42,
   "metadata": {
    "slideshow": {
     "slide_type": "slide"
    }
   },
   "outputs": [],
   "source": [
    "from gensim.models import Doc2Vec\n",
    "from gensim.models.doc2vec import TaggedDocument"
   ]
  },
  {
   "cell_type": "code",
   "execution_count": 43,
   "metadata": {},
   "outputs": [],
   "source": [
    "train_tagged = train_data.apply(\n",
    "    lambda r: TaggedDocument(words=r['text_pymystem_list'], tags=[r.tradition]), axis=1)"
   ]
  },
  {
   "cell_type": "code",
   "execution_count": 44,
   "metadata": {},
   "outputs": [],
   "source": [
    "test_tagged = test_data.apply(\n",
    "    lambda r: TaggedDocument(words=r['text_pymystem_list'], tags=[r.tradition]), axis=1)"
   ]
  },
  {
   "cell_type": "markdown",
   "metadata": {},
   "source": [
    "This is what a training entry looks like - an example plot tagged by 'sci-fi'."
   ]
  },
  {
   "cell_type": "code",
   "execution_count": 45,
   "metadata": {},
   "outputs": [
    {
     "data": {
      "text/plain": [
       "TaggedDocument(words=['жизнь', 'необыкновенный', 'удивительный', 'приключение', 'робинзон', 'крузо', 'моряк', 'йорк', 'проживать', 'год', 'полный', 'одиночество', 'необитаемый', 'остров', 'берег', 'америка', 'близ', 'устье', 'река', 'ориноко', 'выбрасывать', 'кораблекрушение', 'время', 'который', 'весь', 'экипаж', 'корабль', 'кроме', 'погибать', 'изложение', 'неожиданный', 'освобождение', 'пират', 'написать', 'робинзон', 'третий', 'сын', 'семья', 'баловень', 'готовить', 'ремесло', 'детский', 'год', 'голова', 'набивать', 'всякий', 'бредень', 'главный', 'образ', 'мечта', 'морской', 'путешествие', 'старший', 'брат', 'погибать', 'фландрия', 'сражаться', 'испанец', 'весть', 'пропадать', 'средний', 'поэтому', 'дома', 'слышать', 'хотеть', 'отпускать', 'последний', 'сын', 'море', 'отец', 'человек', 'степенный', 'умный', 'слезный', 'умолять', 'стремиться', 'скромный', 'существование', 'весь', 'лад', 'превозносить', 'средний', 'состояние', 'уберегать', 'человек', 'здравомыслящий', 'злой', 'превратность', 'судьба', 'увещевание', 'отец', 'лишь', 'время', 'урезонивать', 'летний', 'недоросль', 'попытка', 'несговорчивый', 'сын', 'заручаться', 'поддержка', 'мать', 'увенчиваться', 'успех', 'малое', 'год', 'надрывать', 'родительский', 'сердце', 'пока', 'сентябрь', 'г', 'отплывать', 'гулль', 'лондон', 'соблазняться', 'бесплатный', 'проезд', 'капитан', 'отец', 'приятель', 'продолжение', 'текст', 'рекламыуже', 'первый', 'день', 'море', 'становиться', 'предвестие', 'грядущий', 'испытание', 'разыгрываться', 'шторм', 'пробуждать', 'душа', 'ослушник', 'раскаяние', 'улечься', 'непогода', 'окончательно', 'развеивать', 'попойка', 'обыкновенно', 'моряк', 'неделя', 'ярмутский', 'рейд', 'налетать', 'новый', 'свирепый', 'шторм', 'опытность', 'команда', 'самоотверженный', 'спасать', 'корабль', 'помогать', 'судно', 'тонуть', 'моряк', 'подбирать', 'шлюпка', 'соседний', 'суденышко', 'берег', 'робинзон', 'снова', 'испытывать', 'мимолетный', 'искушение', 'внимать', 'суровый', 'урок', 'вернуться', 'родительский', 'дом', 'злой', 'судьба', 'удерживать', 'избранный', 'гибельный', 'путь', 'лондон', 'знакомиться', 'капитан', 'корабль', 'готовиться', 'идти', 'гвинея', 'решать', 'плыть', 'благо', 'это', 'обходиться', 'сотрапезник', 'капитан', 'корить', 'поздний', 'умудрять', 'испытание', 'робинзон', 'свой', 'расчетливый', 'беспечность', 'наниматься', 'простой', 'матрос', 'научаться', 'обязанность', 'работа', 'моряк', 'навсего', 'купец', 'делать', 'удачный', 'оборот', 'свой', 'сорока', 'фунт', 'мореходный', 'знание', 'приобретать', 'капитан', 'охотно', 'заниматься', 'коротать', 'время', 'возвращение', 'англия', 'капитан', 'вскоре', 'умирать', 'робинзон', 'самостоятельно', 'отправляться', 'гвинея', 'неудачный', 'экспедиция', 'судно', 'захватывать', 'турецкий', 'корсар', 'юный', 'робинзон', 'словно', 'исполнение', 'мрачный', 'пророчество', 'отец', 'проходить', 'тяжелый', 'полоса', 'испытание', 'превращаться', 'купец', 'жалкий', 'раб', 'капитан', 'разбойничий', 'судно', 'использовать', 'домашний', 'работа', 'море', 'брать', 'протяжение', 'год', 'робинзон', 'никакой', 'надежда', 'вырываться', 'свобода', 'хозяин', 'ослаблять', 'надзор', 'посылать', 'пленник', 'мавр', 'мальчик', 'ксури', 'ловить', 'рыба', 'стол', 'однажды', 'далеко', 'отплывать', 'берег', 'робинзон', 'выбрасывать', 'борт', 'мавра', 'склонять', 'побег', 'ксури', 'подготавливаться', 'лодка', 'запас', 'сухарь', 'пресный', 'вода', 'инструмент', 'ружье', 'порох', 'путь', 'беглец', 'постреливать', 'берег', 'живность', 'убивать', 'лев', 'леопард', 'миролюбивый', 'туземец', 'снабжать', 'вода', 'пища', 'подбирать', 'встречный', 'португальский', 'корабль', 'снисходить', 'бедственный', 'положение', 'спасать', 'капитан', 'браться', 'бесплатно', 'довезти', 'робинзон', 'бразилия', 'туда', 'плыть', 'покупать', 'баркас', 'верный', 'ксури', 'обещать', 'десять', 'год', 'принимать', 'христианство', 'вернуть', 'мальчик', 'свобода', 'это', 'менять', 'дело', 'благодушно', 'заключать', 'робинзон', 'покончить', 'угрызение', 'совесть', 'благодаря', 'реклама', 'брифли', 'бесплатенва', 'бразилия', 'устраиваться', 'основательно', 'похожий', 'надолго', 'получать', 'бразильский', 'подданство', 'покупать', 'земля', 'плантация', 'табак', 'сахарный', 'тростник', 'пот', 'лицо', 'трудиться', 'запаздывать', 'жалеть', 'рядом', 'ксури', 'помогать', 'лишний', 'пара', 'рука', 'парадоксально', 'приходить', 'именно', 'золотой', 'середина', 'который', 'соблазнять', 'отец', 'сокрушаться', 'покидать', 'родительский', 'дом', 'забираться', 'край', 'свет', 'сосед', 'плантатор', 'располагать', 'охотно', 'помогать', 'удаваться', 'получать', 'англия', 'оставлять', 'деньги', 'вдова', 'свой', 'первый', 'капитан', 'необходимый', 'товар', 'земледельческий', 'орудие', 'хозяйственный', 'утварь', 'успокаиваться', 'продолжать', 'свой', 'прибыльный', 'дело', 'страсть', 'скитание', 'главное', 'желание', 'обогащаться', 'скоро', 'допускать', 'обстоятельство', 'побуждать', 'робинзон', 'резко', 'сломать', 'складываться', 'образ', 'жизнь', 'начинаться', 'плантация', 'требоваться', 'рабочий', 'рука', 'невольничий', 'труд', 'обходиться', 'дорого', 'поскольку', 'доставка', 'негр', 'африка', 'сопрягать', 'опасность', 'морской', 'переход', 'затруднять', 'юридический', 'препона', 'например', 'английский', 'парламент', 'разрешать', 'торговля', 'раб', 'частный', 'лицо', 'г', 'наслушаться', 'рассказ', 'робинзон', 'поездка', 'берег', 'гвинея', 'сосед', 'плантатор', 'решать', 'снаряжать', 'корабль', 'тайно', 'привозить', 'бразилия', 'невольник', 'поделить', 'робинзон', 'предлагаться', 'участвовать', 'качество', 'судовой', 'приказчик', 'ответственный', 'покупка', 'негр', 'гвинея', 'причем', 'вкладывать', 'экспедиция', 'никакой', 'деньги', 'невольник', 'получать', 'наравне', 'отсутствие', 'компаньон', 'надзирать', 'плантация', 'блюсти', 'интерес', 'соблазняться', 'выгодный', 'условие', 'привычно', 'очень', 'убедительно', 'клясть', 'бродяжнический', 'наклонность', 'наклонность', 'обстоятельно', 'толково', 'соблюдать', 'весь', 'канительный', 'формальность', 'распоряжаться', 'оставлять', 'имущество', 'прежде', 'судьба', 'предостерегать', 'столь', 'внятно', 'отплывать', 'первый', 'сентябрь', 'г', 'день', 'день', 'спустя', 'восемь', 'год', 'побег', 'родительский', 'дом', 'второй', 'неделя', 'плавание', 'налетать', 'жестокий', 'шквал', 'двенадцать', 'день', 'трепать', 'ярость', 'стихия', 'корабль', 'давать', 'течь', 'нуждаться', 'починка', 'команда', 'потерять', 'трое', 'матрос', 'судно', 'семнадцать', 'человек', 'африка', 'скоро', 'добираться', 'суша', 'разыгрываться', 'второй', 'шторм', 'относить', 'далеко', 'торговый', 'путь', 'вид', 'земля', 'корабль', 'садиться', 'мель', 'единственный', 'оставаться', 'шлюпка', 'команда', 'отдаваться', 'воля', 'бушевать', 'волна', 'перетонуть', 'грести', 'берег', 'суша', 'прибой', 'разнести', 'лодка', 'кусок', 'приближаться', 'земля', 'кажется', 'страшный', 'самый', 'море', 'огромный', 'вал', 'величина', 'гора', 'опрокидывать', 'лодка', 'обессилевший', 'чудо', 'добивать', 'настигать', 'волна', 'робинзон', 'выбираться', 'суша', 'увы', 'спасаться', 'свидетельство', 'выбрасывать', 'берег', 'шляпа', 'фуражка', 'непарный', 'башмак', 'смена', 'исступленный', 'радость', 'приходить', 'скорбь', 'погибать', 'товарищ', 'мука', 'голод', 'холод', 'страх', 'дикий', 'зверь', 'первый', 'ночь', 'проводить', 'дерево', 'утро', 'прилив', 'пригонять', 'корабль', 'близко', 'берег', 'робинзон', 'вплавь', 'добираться', 'запасный', 'мачта', 'сооружать', 'плот', 'грузить', 'необходимый', 'жизнь', 'съестной', 'припасы', 'одежда', 'плотницкий', 'инструмент', 'ружье', 'пистолет', 'дробь', 'порох', 'сабля', 'пила', 'топор', 'молоток', 'неимоверный', 'труд', 'каждый', 'минута', 'рисковать', 'опрокидываться', 'приводить', 'плот', 'спокойный', 'заливчик', 'отправляться', 'подыскивать', 'жилье', 'вершина', 'холм', 'робинзон', 'уясняться', 'горький', 'участь', 'это', 'остров', 'весь', 'признак', 'необитаемый', 'ограждаться', 'весь', 'сторона', 'сундук', 'ящик', 'проводить', 'остров', 'второй', 'ночь', 'утро', 'снова', 'вплавь', 'отправляться', 'корабль', 'торопиться', 'взять', 'пока', 'первый', 'буря', 'разбивать', 'щепка', 'поездка', 'робинзон', 'забирать', 'корабль', 'множество', 'полезный', 'вещь', 'ружье', 'порох', 'одежда', 'парус', 'тюфяк', 'подушка', 'железный', 'лом', 'гвоздь', 'отвертка', 'точить', 'берег', 'сооружать', 'палатка', 'переносить', 'солнце', 'дождь', 'съестной', 'припасы', 'порох', 'устраивать', 'постель', 'двенадцать', 'наведываться', 'корабль', 'разживаться', 'ценный', 'парусина', 'снасть', 'сухарь', 'ром', 'мука', 'железный', 'часть', 'великий', 'огорчение', 'целиком', 'утапливать', 'свой', 'последний', 'заезд', 'набредать', 'шифоньерка', 'деньги', 'это', 'знаменитый', 'эпизод', 'роман', 'философски', 'рассудить', 'положение', 'весь', 'куча', 'золото', 'стоить', 'любой', 'нож', 'лежать', 'соседний', 'ящик', 'однако', 'поразмыслить', 'решать', 'взять', 'ночь', 'разыгрываться', 'буря', 'наутро', 'корабль', 'ничто', 'оставаться', 'первейший', 'забота', 'робинзон', 'становиться', 'устройство', 'надежный', 'безопасный', 'жилье', 'главное', 'вид', 'море', 'откуда', 'ожидать', 'спасение', 'скат', 'холм', 'находить', 'ровный', 'полянка', 'против', 'небольшой', 'углубление', 'скала', 'решать', 'разбивать', 'палатка', 'ограждать', 'частокол', 'вбивать', 'земля', 'крепкий', 'ствол', 'входить', 'крепость', 'приставной', 'лестница', 'углубление', 'скала', 'расширять', 'получаться', 'пещера', 'использовать', 'погреб', 'работа', 'уходить', 'день', 'быстро', 'набираться', 'опыт', 'самый', 'разгар', 'строительный', 'работа', 'хлынуть', 'дождь', 'сверкнуть', 'молния', 'первый', 'мысль', 'робинзон', 'порох', 'страх', 'смерть', 'напугать', 'возможность', 'потерять', 'порох', 'неделя', 'пересыпать', 'мешочек', 'ящичек', 'прятать', 'разный', 'место', 'мало', 'сотня', 'заодно', 'знать', 'сколько', 'порох', 'двести', 'сорок', 'фунт', 'цифра', 'деньги', 'товар', 'груз', 'робинзон', 'робинзон', 'очень', 'важно', 'это', 'заодно', 'осваиваться', 'новый', 'жизнь', 'робинзон', 'делать', 'примечать', 'идти', 'польза', 'третье', 'знаменитый', 'герой', 'дефо', 'роксана', 'молль', 'флендерс', 'стоять', 'задача', 'выживать', 'это', 'требоваться', 'осваивать', 'пусть', 'нелегкий', 'профессия', 'куртизанка', 'соответственно', 'воровка', 'жить', 'человек', 'умело', 'пользоваться', 'сочувствие', 'паразитировать', 'слабость', 'помогать', 'толковый', 'наставник', 'робинзон', 'одинокий', 'противостоять', 'мир', 'глубоко', 'безразличный', 'просто', 'ведать', 'существование', 'море', 'ветер', 'дождь', 'остров', 'дикий', 'флора', 'фауна', 'выживать', 'предстоять', 'осваивать', 'профессия', 'множество', 'сделать', 'закон', 'нрав', 'окружать', 'мир', 'взаимодействовать', 'считаться', 'случай', 'жить', 'значит', 'весь', 'примечать', 'учиться', 'сразу', 'догадываться', 'коза', 'уметь', 'смотреть', 'вверх', 'зато', 'легко', 'добывать', 'мясо', 'стрелять', 'скала', 'холм', 'выручать', 'природный', 'смекалка', 'цивилизованный', 'мир', 'приносить', 'представление', 'навык', 'позволять', 'полный', 'безмолвие', 'печальный', 'жизнь', 'ускоренно', 'проходить', 'основной', 'этап', 'становление', 'общественный', 'человек', 'иначе', 'говорить', 'сохраняться', 'качество', 'одичать', 'подобно', 'многие', 'прототип', 'коза', 'научаться', 'одомашнивать', 'добавлять', 'мясной', 'стол', 'молочный', 'лакомиться', 'сыр', 'сэкономить', 'порох', 'пригождаться', 'помимо', 'скотоводство', 'робинзон', 'налаживать', 'земледелие', 'прорастать', 'вытряхивать', 'труха', 'мешок', 'зерно', 'ячмень', 'рис', 'поначалу', 'увидеть', 'это', 'чудо', 'сотворить', 'милостивый', 'провидение', 'вскоре', 'вспомнить', 'мешок', 'полагаться', 'свой', 'срок', 'засевать', 'немалый', 'поле', 'успешно', 'бороться', 'пернатый', 'четвероногий', 'грабитель', 'приобщать', 'исторический', 'память', 'возрастать', 'опыт', 'поколение', 'уповать', 'будущее', 'робинзон', 'одинокий', 'затеривать', 'время', 'отчего', 'первейший', 'забота', 'жизнестроитель', 'становиться', 'сооружение', 'календарь', 'это', 'большой', 'столб', 'который', 'каждый', 'день', 'делать', 'зарубка', 'первый', 'дата', 'тридцатый', 'сентябрь', 'г', 'отныне', 'каждый', 'день', 'называть', 'учитывать', 'читатель', 'прежде', 'тогдашний', 'труд', 'день', 'робинзон', 'падать', 'отсвет', 'большой', 'история', 'время', 'отсутствие', 'англия', 'восстанавливать', 'монархия', 'возвращение', 'робинзон', 'подгадывать', 'славный', 'революция', 'г', 'приводить', 'трон', 'вильгельм', 'оранский', 'доброжеть', '\\xad', 'тельный', 'патрон', 'дефо', 'год', 'лондон', 'случаться', 'великий', 'пожар', 'г', 'воспрянуть', 'градострой', '\\xad', 'тельство', 'неузнаваемый', 'изменять', 'облик', 'столица', 'время', 'умирать', 'мильтон', 'спиноза', 'карл', 'II', 'издавать', 'хабеас', 'корпус', 'акт', 'закон', 'неприкосный', '\\xad', 'венность', 'личность', 'россия', 'который', 'выясняться', 'небезразличный', 'судьба', 'робинзон', 'время', 'сжигать', 'аввакум', 'казнить', 'разин', 'софья', 'становиться', 'регентша', 'иван', 'V', 'петр', 'I', 'дальний', 'зарница', 'мерцать', 'человек', 'обжигать', 'глиняный', 'горшок', 'среди', 'особо', 'ценный', 'вещь', 'прихватывать', 'корабль', 'вспомнить', 'куча', 'золото', 'чернила', 'перо', 'бумага', 'очень', 'хороший', 'библия', 'астрономический', 'прибор', 'подзорный', 'труба', 'быт', 'налаживаться', 'кстати', 'жить', 'кошка', 'собака', 'корабельный', 'прибавляться', 'мера', 'разговорчивый', 'попугай', 'самый', 'время', 'осмысливать', 'происходить', 'покуда', 'кончаться', 'чернила', 'бумага', 'робинзон', 'вести', 'дневник', 'сколько', 'облегчать', 'свой', 'душа', 'это', 'своеобразный', 'гроссбух', 'зло', 'добро', 'левый', 'колонка', 'выбрасывать', 'необитаемый', 'остров', 'надежда', 'избавление', 'правый', 'живой', 'весь', 'товарищ', 'утопать', 'дневник', 'подробно', 'описывать', 'свой', 'занятие', 'производить', 'наблюдение', 'примечательный', 'относительно', 'росток', 'ячмень', 'рис', 'повседневный', 'идти', 'дождь', 'весь', 'день', 'дождь', 'случаться', 'землетрясение', 'вынуждать', 'робинзон', 'задумываться', 'новый', 'место', 'жилье', 'гора', 'небезопасный', 'остров', 'прибивать', 'потерпеть', 'крушение', 'корабль', 'робинзон', 'брать', 'строительный', 'материал', 'инструмент', 'день', 'сваливать', 'лихорадка', 'горячечный', 'сон', 'являться', 'объять', 'пламень', 'человек', 'грозить', 'смерть', 'раскаиваться', 'сокрушаться', 'свой', 'роковой', 'заблуждение', 'робинзон', 'впервые', 'год', 'творить', 'покаянный', 'молитва', 'читать', 'библия', 'мера', 'сила', 'лечиться', 'нога', 'подымать', 'ром', 'настоять', 'табак', 'который', 'просыпать', 'ночь', 'соответственно', 'календарь', 'выпадать', 'день', 'поправляться', 'робинзон', 'обследовать', 'остров', 'проживать', 'десять', 'месяц', 'равнинный', 'часть', 'среди', 'неведомый', 'растение', 'встречать', 'знакомец', 'дыня', 'виноград', 'последний', 'особенно', 'радовать', 'сушить', 'солнце', 'межсезонье', 'изюм', 'подкреплять', 'сила', 'живность', 'богатый', 'остров', 'заяц', 'очень', 'невкусный', 'лисица', 'черепаха', 'наоборот', 'приятно', 'разнообразить', 'стол', 'вызывать', 'недоумение', 'широта', 'пингвин', 'райский', 'красота', 'смотреть', 'хозяйский', 'глаз', 'делить', 'решать', 'поставлять', 'шалаш', 'укреплять', 'жить', 'несколько', 'день', 'дача', 'это', 'слово', 'основной', 'время', 'проводить', 'старый', 'пепелище', 'вблизи', 'море', 'откуда', 'мочь', 'приходить', 'освобождение', 'непрерывно', 'трудиться', 'робинзон', 'второй', 'третий', 'год', 'давать', 'послабление', 'день', 'первый', 'план', 'религиозный', 'обязанность', 'чтение', 'священный', 'писание', ' ‹ › ', 'второй', 'ежедневный', 'дело', 'охота', ' ‹ › ', 'третий', 'сортировка', 'сушка', 'приготовление', 'убивать', 'поймать', 'дичь', 'прибавлять', 'это', 'уход', 'посев', 'сбор', 'урожай', 'прибавлять', 'уход', 'скот', 'прибавлять', 'работа', 'хозяйство', 'сделать', 'лопата', 'повесить', 'погреб', 'полк', 'забирать', 'время', 'сила', 'недостаток', 'инструмент', 'неопытность', 'робинзон', 'иметь', 'право', 'погордиться', 'терпение', 'труд', 'доводить', 'конец', 'весь', 'работа', 'который', 'вынуждать', 'обстоятельство', 'шутка', 'сказать', 'испекать', 'хлеб', 'обходиться', 'соль', 'дрожжи', 'подходящий', 'печь', 'заветный', 'мечта', 'оставаться', 'построить', 'лодка', 'добираться', 'материк', 'задумываться', 'встречать', 'главное', 'вырываться', 'неволя', 'подгонять', 'нетерпение', 'обдумывать', 'доставлять', 'лодка', 'лес', 'вода', 'робинзон', 'валить', 'огромный', 'дерево', 'несколько', 'месяц', 'вытесывать', 'пирог', 'готовый', 'удаваться', 'спускать', 'вода', 'стоически', 'переносить', 'неудача', 'робинзон', 'становиться', 'мудрый', 'выдержанный', 'научаться', 'уравновешивать', 'зло', 'добро', 'образовываться', 'досуг', 'благоразумно', 'употреблять', 'обновление', 'изнашиваться', 'гардероб', 'строить', 'меховой', 'костюм', 'брюки', 'куртка', 'шить', 'шапка', 'мастерить', 'зонтик', 'каждодневный', 'труд', 'проходить', 'пять', 'год', 'отмечать', 'таки', 'построить', 'лодка', 'спускать', 'вода', 'оснащать', 'парус', 'далекий', 'земля', 'добираться', 'зато', 'объехать', 'вокруг', 'остров', 'течение', 'уносить', 'открытый', 'море', 'огромный', 'труд', 'возвращаться', 'берег', 'недалеко', 'дача', 'натерпеться', 'страх', 'надолго', 'утрачивать', 'охота', 'морской', 'прогулка', 'год', 'робинзон', 'совершенствоваться', 'гончарный', 'дело', 'плетение', 'корзина', 'расти', 'запас', 'главное', 'делать', 'царский', 'подарок', 'трубка', 'остров', 'пропадать', 'табак', 'размеренный', 'существование', 'наполнять', 'труд', 'полезный', 'досуг', 'лопаться', 'мыльный', 'пузырь', 'свой', 'прогулка', 'робинзон', 'видеть', 'песок', 'след', 'босой', 'нога', 'напугать', 'смерть', 'возвращаться', 'крепость', 'день', 'отсиживаться', 'ломать', 'голова', 'непостижимый', 'загадка', 'чей', 'след', 'вероятный', 'это', 'дикарь', 'материк', 'душа', 'поселяться', 'страх', 'обнаруживать', 'дикарь', 'мочь', 'съедать', 'слышать', 'мочь', 'разорять', 'посев', 'разгонять', 'стадо', 'начинать', 'понемногу', 'выходить', 'принимать', 'мера', 'безопасность', 'укреплять', 'крепость', 'устраивать', 'новый', 'дальний', 'загон', 'коза', 'среди', 'хлопоты', 'набредать', 'человеческий', 'след', 'затем', 'видеть', 'остаток', 'каннибальский', 'пир', 'похоже', 'остров', 'побывать', 'гость', 'ужас', 'владеть', 'весь', 'год', 'безвылазный', 'оставаться', 'свой', 'часть', 'остров', 'крепость', 'дача', 'жить', 'настороже', 'постепенно', 'жизнь', 'возвращаться', 'прежний', 'покойный', 'русло', 'хотя', 'продолжать', 'строить', 'кровожадный', 'план', 'отваживать', 'дикарь', 'остров', 'пыл', 'охлаждать', 'соображение', 'это', 'племенной', 'распря', 'лично', 'дикарь', 'сделать', 'ничто', 'плохой', 'плохой', 'испанец', 'заливать', 'кровь', 'южный', 'америка', 'примирительный', 'мысль', 'давать', 'укрепляться', 'новый', 'посещение', 'дикарь', 'идти', 'двадцать', 'третий', 'годовщина', 'пребывание', 'остров', 'высаживаться', 'сей', 'сторона', 'остров', 'справлять', 'свой', 'страшный', 'тризна', 'дикарь', 'уплывать', 'робинзон', 'долго', 'бояться', 'смотреть', 'сторона', 'море', 'море', 'манить', 'надежда', 'освобождение', 'грозовой', 'ночь', 'слышать', 'пушечный', 'выстрел', 'корабль', 'подавать', 'сигнал', 'бедствие', 'весь', 'ночь', 'палить', 'огромный', 'костер', 'утро', 'видеть', 'вдалеке', 'остов', 'разбиваться', 'риф', 'корабль', 'истосковаться', 'одиночество', 'робинзон', 'молить', 'небо', 'команда', 'спасаться', 'злой', 'рок', 'словно', 'издевка', 'выбрасывать', 'берег', 'труп', 'юнга', 'корабль', 'находить', 'единый', 'живой', 'душа', 'примечательно', 'небогатый', 'добыча', 'корабль', 'очень', 'огорчать', 'крепко', 'стоять', 'нога', 'вполне', 'обеспечивать', 'радовать', 'порох', 'рубаха', 'полотно', 'старый', 'память', 'деньги', 'неотвязно', 'владеть', 'мысль', 'бегство', 'материк', 'поскольку', 'одиночка', 'это', 'неисполнимый', 'подмога', 'робинзон', 'мечтать', 'спасать', 'предназначать', 'убой', 'дикарь', 'рассуждать', 'привычный', 'категория', 'приобретать', 'слуга', 'мочь', 'товарищ', 'помощник', 'полтора', 'год', 'строить', 'хитроумный', 'план', 'жизнь', 'водиться', 'выходить', 'просто', 'приезжать', 'каннибал', 'пленник', 'сбегать', 'преследователь', 'робинзон', 'сваливать', 'приклад', 'ружье', 'застреливать', 'насмерть', 'жизнь', 'робинзон', 'наполняться', 'новый', 'приятный', 'забота', 'пятница', 'называть', 'спасать', 'оказываться', 'способный', 'ученик', 'верный', 'добрый', 'товарищ', 'основа', 'образование', 'робинзон', 'закладывать', 'слово', 'господин', 'иметь', 'вид', 'искоренять', 'скверный', 'дикарский', 'привычка', 'приучать', 'пятница', 'бульон', 'носить', 'одежда', 'также', 'познавать', 'истинный', 'бог', 'пятница', 'поклоняться', 'старик', 'имя', 'бунамука', 'который', 'жить', 'высоко', 'овладевать', 'английский', 'язык', 'пятница', 'рассказывать', 'материк', 'соплеменник', 'жить', 'семнадцать', 'спасаться', 'погибший', 'корабль', 'испанец', 'робинзон', 'решать', 'построить', 'новый', 'пирог', 'вместе', 'пятница', 'вызволять', 'пленник', 'новый', 'приезд', 'дикарь', 'нарушать', 'план', 'каннибал', 'привозить', 'испанец', 'старик', 'оказываться', 'отец', 'пятница', 'робинзон', 'пятница', 'плохо', 'свой', 'господин', 'управляться', 'ружье', 'освобождать', 'мысль', 'собираться', 'остров', 'построить', 'надежный', 'судно', 'попытать', 'счастие', 'море', 'приходиться', 'душа', 'испанец', 'пока', 'засеваться', 'новый', 'делянка', 'отлавливаться', 'коза', 'пополнение', 'ожидаться', 'немалый', 'взять', 'испанец', 'клятвенный', 'обещание', 'сдавать', 'инквизиция', 'робинзон', 'отправлять', 'отец', 'пятница', 'материк', 'восьмой', 'день', 'остров', 'жаловать', 'новый', 'гость', 'взбунтоваться', 'команда', 'английский', 'корабль', 'привозить', 'расправа', 'капитан', 'помощник', 'пассажир', 'робинзон', 'мочь', 'упускать', 'шанс', 'пользоваться', 'знать', 'каждый', 'тропка', 'освобождать', 'капитан', 'товарищ', 'несчастие', 'впятером', 'разделываться', 'негодяй', 'единственный', 'условие', 'который', 'ставить', 'робинзон', 'доставлять', 'пятница', 'англия', 'бунт', 'усмирять', 'двое', 'отъявленный', 'негодяй', 'висеть', 'рей', 'трое', 'оставлять', 'остров', 'гуманно', 'снабжать', 'необходимый', 'ценный', 'провизия', 'инструмент', 'оружие', 'опыт', 'выживание', 'который', 'робинзон', 'делиться', 'новый', 'поселенец', 'весь', 'пятеро', 'двое', 'сбегать', 'корабль', 'очень', 'доверять', 'прощение', 'капитан', 'двадцативось', '\\xad', 'милетний', 'одиссея', 'робинзон', 'завершаться', 'июнь', 'год', 'вернуться', 'англия', 'родитель', 'давно', 'умирать', 'живой', 'добрый', 'приятельница', 'вдова', 'первый', 'капитан', 'лисабон', 'узнавать', 'весь', 'год', 'бразильский', 'плантация', 'управлять', 'чиновник', 'казна', 'поскольку', 'выясняться', 'живой', 'возвращаться', 'весь', 'доход', 'срок', 'состоятельный', 'человек', 'брать', 'свой', 'попечение', 'племянник', 'причем', 'второй', 'готовить', 'моряк', 'робинзон', 'жениться', 'шестьдесят', 'год', 'небезвыгодный', 'вполне', 'удачно', 'весь', 'отношение', 'сын', 'дочь'], tags=['Европейская литература'])"
      ]
     },
     "execution_count": 45,
     "metadata": {},
     "output_type": "execute_result"
    }
   ],
   "source": [
    "test_tagged.values[50]"
   ]
  },
  {
   "cell_type": "code",
   "execution_count": 46,
   "metadata": {
    "slideshow": {
     "slide_type": "slide"
    }
   },
   "outputs": [
    {
     "name": "stderr",
     "output_type": "stream",
     "text": [
      "/home/zu_ann/.local/lib/python3.5/site-packages/gensim/models/doc2vec.py:362: UserWarning: The parameter `iter` is deprecated, will be removed in 4.0.0, use `epochs` instead.\n",
      "  warnings.warn(\"The parameter `iter` is deprecated, will be removed in 4.0.0, use `epochs` instead.\")\n",
      "/home/zu_ann/.local/lib/python3.5/site-packages/gensim/models/doc2vec.py:366: UserWarning: The parameter `size` is deprecated, will be removed in 4.0.0, use `vector_size` instead.\n",
      "  warnings.warn(\"The parameter `size` is deprecated, will be removed in 4.0.0, use `vector_size` instead.\")\n",
      "2018-09-29 02:31:08,426 : WARNING : consider setting layer size to a multiple of 4 for greater performance\n",
      "2018-09-29 02:31:08,428 : INFO : collecting all words and their counts\n",
      "2018-09-29 02:31:08,428 : INFO : PROGRESS: at example #0, processed 0 words (0/s), 0 word types, 0 tags\n",
      "2018-09-29 02:31:08,896 : INFO : collected 52366 word types and 10 unique tags from a corpus of 1208 examples and 1012106 words\n",
      "2018-09-29 02:31:08,897 : INFO : Loading a fresh vocabulary\n",
      "2018-09-29 02:31:09,030 : INFO : min_count=5 retains 19880 unique words (37% of original 52366, drops 32486)\n",
      "2018-09-29 02:31:09,031 : INFO : min_count=5 leaves 955843 word corpus (94% of original 1012106, drops 56263)\n",
      "2018-09-29 02:31:09,172 : INFO : deleting the raw counts dictionary of 52366 items\n",
      "2018-09-29 02:31:09,177 : INFO : sample=0.001 downsamples 14 most-common words\n",
      "2018-09-29 02:31:09,178 : INFO : downsampling leaves estimated 930800 word corpus (97.4% of prior 955843)\n",
      "2018-09-29 02:31:09,325 : INFO : estimated required memory for 19880 words and 5 dimensions: 10737400 bytes\n",
      "2018-09-29 02:31:09,326 : INFO : resetting layer weights\n",
      "2018-09-29 02:31:09,741 : INFO : training model with -1 workers on 19880 vocabulary and 5 features, using sg=0 hs=0 sample=0.001 negative=5 window=5\n",
      "2018-09-29 02:31:09,748 : INFO : EPOCH - 1 : training on 0 raw words (0 effective words) took 0.0s, 0 effective words/s\n",
      "2018-09-29 02:31:09,755 : WARNING : EPOCH - 1 : supplied example count (0) did not equal expected count (1208)\n",
      "2018-09-29 02:31:09,762 : INFO : EPOCH - 2 : training on 0 raw words (0 effective words) took 0.0s, 0 effective words/s\n",
      "2018-09-29 02:31:09,763 : WARNING : EPOCH - 2 : supplied example count (0) did not equal expected count (1208)\n",
      "2018-09-29 02:31:09,773 : INFO : EPOCH - 3 : training on 0 raw words (0 effective words) took 0.0s, 0 effective words/s\n",
      "2018-09-29 02:31:09,775 : WARNING : EPOCH - 3 : supplied example count (0) did not equal expected count (1208)\n",
      "2018-09-29 02:31:09,780 : INFO : EPOCH - 4 : training on 0 raw words (0 effective words) took 0.0s, 0 effective words/s\n",
      "2018-09-29 02:31:09,781 : WARNING : EPOCH - 4 : supplied example count (0) did not equal expected count (1208)\n",
      "2018-09-29 02:31:09,795 : INFO : EPOCH - 5 : training on 0 raw words (0 effective words) took 0.0s, 0 effective words/s\n",
      "2018-09-29 02:31:09,796 : WARNING : EPOCH - 5 : supplied example count (0) did not equal expected count (1208)\n",
      "2018-09-29 02:31:09,807 : INFO : EPOCH - 6 : training on 0 raw words (0 effective words) took 0.0s, 0 effective words/s\n",
      "2018-09-29 02:31:09,809 : WARNING : EPOCH - 6 : supplied example count (0) did not equal expected count (1208)\n",
      "2018-09-29 02:31:09,813 : INFO : EPOCH - 7 : training on 0 raw words (0 effective words) took 0.0s, 0 effective words/s\n",
      "2018-09-29 02:31:09,818 : WARNING : EPOCH - 7 : supplied example count (0) did not equal expected count (1208)\n",
      "2018-09-29 02:31:09,824 : INFO : EPOCH - 8 : training on 0 raw words (0 effective words) took 0.0s, 0 effective words/s\n",
      "2018-09-29 02:31:09,828 : WARNING : EPOCH - 8 : supplied example count (0) did not equal expected count (1208)\n",
      "2018-09-29 02:31:09,834 : INFO : EPOCH - 9 : training on 0 raw words (0 effective words) took 0.0s, 0 effective words/s\n",
      "2018-09-29 02:31:09,842 : WARNING : EPOCH - 9 : supplied example count (0) did not equal expected count (1208)\n",
      "2018-09-29 02:31:09,849 : INFO : EPOCH - 10 : training on 0 raw words (0 effective words) took 0.0s, 0 effective words/s\n",
      "2018-09-29 02:31:09,851 : WARNING : EPOCH - 10 : supplied example count (0) did not equal expected count (1208)\n",
      "2018-09-29 02:31:09,859 : INFO : EPOCH - 11 : training on 0 raw words (0 effective words) took 0.0s, 0 effective words/s\n",
      "2018-09-29 02:31:09,860 : WARNING : EPOCH - 11 : supplied example count (0) did not equal expected count (1208)\n",
      "2018-09-29 02:31:09,869 : INFO : EPOCH - 12 : training on 0 raw words (0 effective words) took 0.0s, 0 effective words/s\n",
      "2018-09-29 02:31:09,873 : WARNING : EPOCH - 12 : supplied example count (0) did not equal expected count (1208)\n",
      "2018-09-29 02:31:09,882 : INFO : EPOCH - 13 : training on 0 raw words (0 effective words) took 0.0s, 0 effective words/s\n",
      "2018-09-29 02:31:09,883 : WARNING : EPOCH - 13 : supplied example count (0) did not equal expected count (1208)\n",
      "2018-09-29 02:31:09,890 : INFO : EPOCH - 14 : training on 0 raw words (0 effective words) took 0.0s, 0 effective words/s\n",
      "2018-09-29 02:31:09,892 : WARNING : EPOCH - 14 : supplied example count (0) did not equal expected count (1208)\n",
      "2018-09-29 02:31:09,899 : INFO : EPOCH - 15 : training on 0 raw words (0 effective words) took 0.0s, 0 effective words/s\n",
      "2018-09-29 02:31:09,901 : WARNING : EPOCH - 15 : supplied example count (0) did not equal expected count (1208)\n",
      "2018-09-29 02:31:09,910 : INFO : EPOCH - 16 : training on 0 raw words (0 effective words) took 0.0s, 0 effective words/s\n",
      "2018-09-29 02:31:09,911 : WARNING : EPOCH - 16 : supplied example count (0) did not equal expected count (1208)\n",
      "2018-09-29 02:31:09,917 : INFO : EPOCH - 17 : training on 0 raw words (0 effective words) took 0.0s, 0 effective words/s\n",
      "2018-09-29 02:31:09,919 : WARNING : EPOCH - 17 : supplied example count (0) did not equal expected count (1208)\n",
      "2018-09-29 02:31:09,925 : INFO : EPOCH - 18 : training on 0 raw words (0 effective words) took 0.0s, 0 effective words/s\n",
      "2018-09-29 02:31:09,926 : WARNING : EPOCH - 18 : supplied example count (0) did not equal expected count (1208)\n",
      "2018-09-29 02:31:09,932 : INFO : EPOCH - 19 : training on 0 raw words (0 effective words) took 0.0s, 0 effective words/s\n",
      "2018-09-29 02:31:09,934 : WARNING : EPOCH - 19 : supplied example count (0) did not equal expected count (1208)\n",
      "2018-09-29 02:31:09,943 : INFO : EPOCH - 20 : training on 0 raw words (0 effective words) took 0.0s, 0 effective words/s\n",
      "2018-09-29 02:31:09,945 : WARNING : EPOCH - 20 : supplied example count (0) did not equal expected count (1208)\n",
      "2018-09-29 02:31:09,946 : INFO : training on a 0 raw words (0 effective words) took 0.2s, 0 effective words/s\n"
     ]
    },
    {
     "name": "stdout",
     "output_type": "stream",
     "text": [
      "CPU times: user 48.7 s, sys: 77.1 ms, total: 48.7 s\n",
      "Wall time: 48.9 s\n"
     ]
    }
   ],
   "source": [
    "%%time\n",
    "trainsent = train_tagged.values\n",
    "testsent = test_tagged.values\n",
    "\n",
    "# simple gensim doc2vec api\n",
    "doc2vec_model = Doc2Vec(trainsent, workers=-1, size=5, iter=20, dm=1)\n",
    "\n",
    "train_targets, train_regressors = zip(\n",
    "    *[(doc.tags[0], doc2vec_model.infer_vector(doc.words, steps=20)) for doc in trainsent])"
   ]
  },
  {
   "cell_type": "markdown",
   "metadata": {
    "slideshow": {
     "slide_type": "slide"
    }
   },
   "source": [
    "Interesting thing about doc2vec is that we need to run gradient descent during prediction to infer the vector for an unseen document. An unseen document is initially assigned a random vector and then this vector fit by gradient descent. Because of this randomness we get different vectors on re-runs of the next cell.\n",
    "\n",
    "Consequently, the accuracy of logistic regression changes when the test set vectors change."
   ]
  },
  {
   "cell_type": "code",
   "execution_count": 47,
   "metadata": {},
   "outputs": [
    {
     "name": "stdout",
     "output_type": "stream",
     "text": [
      "CPU times: user 10.1 s, sys: 10.6 ms, total: 10.1 s\n",
      "Wall time: 10.1 s\n"
     ]
    }
   ],
   "source": [
    "%%time\n",
    "test_targets, test_regressors = zip(\n",
    "    *[(doc.tags[0], doc2vec_model.infer_vector(doc.words, steps=20)) for doc in testsent])"
   ]
  },
  {
   "cell_type": "code",
   "execution_count": 48,
   "metadata": {
    "slideshow": {
     "slide_type": "slide"
    }
   },
   "outputs": [
    {
     "name": "stdout",
     "output_type": "stream",
     "text": [
      "accuracy 0.33774834437086093\n",
      "confusion matrix\n",
      " [[ 0  0  0 36  0  0  0  0  8  0]\n",
      " [ 0  0  0 14  0  0  0  0  1  0]\n",
      " [ 0  0  0  2  0  0  0  0  0  0]\n",
      " [ 0  0  0 85  0  0  0  0 14  0]\n",
      " [ 0  0  0  3  0  0  0  0  0  0]\n",
      " [ 0  0  0  2  0  0  0  0  1  0]\n",
      " [ 0  0  0  4  0  0  0  0  3  0]\n",
      " [ 0  0  0 14  0  0  0  0  5  0]\n",
      " [ 0  0  0 85  0  0  0  0 17  0]\n",
      " [ 0  0  0  8  0  0  0  0  0  0]]\n",
      "(row=expected, col=predicted)\n"
     ]
    },
    {
     "data": {
      "image/png": "[encoded data removed]",
      "text/plain": [
       "<matplotlib.figure.Figure at 0x7f1ae93f89b0>"
      ]
     },
     "metadata": {},
     "output_type": "display_data"
    }
   ],
   "source": [
    "logreg = linear_model.LogisticRegression(n_jobs=1, C=1e5)\n",
    "logreg = logreg.fit(train_regressors, train_targets)\n",
    "evaluate_prediction(logreg.predict(test_regressors), test_targets, traditions, title=str(doc2vec_model))"
   ]
  },
  {
   "cell_type": "markdown",
   "metadata": {
    "slideshow": {
     "slide_type": "slide"
    }
   },
   "source": [
    "KNN gives a lower accuracy than logistic regression."
   ]
  },
  {
   "cell_type": "code",
   "execution_count": 49,
   "metadata": {},
   "outputs": [
    {
     "name": "stderr",
     "output_type": "stream",
     "text": [
      "2018-09-29 02:32:08,198 : INFO : precomputing L2-norms of doc weight vectors\n"
     ]
    },
    {
     "name": "stdout",
     "output_type": "stream",
     "text": [
      "accuracy 0.10927152317880795\n",
      "confusion matrix\n",
      " [[11  2  6  4  7  2  1  1  8  2]\n",
      " [ 1  0  2  1  3  1  1  1  1  4]\n",
      " [ 1  0  1  0  0  0  0  0  0  0]\n",
      " [11 11 14 14 12  6  7 10  6  8]\n",
      " [ 1  0  1  0  0  0  1  0  0  0]\n",
      " [ 1  0  0  0  0  0  1  0  0  1]\n",
      " [ 1  0  1  0  1  0  1  1  0  2]\n",
      " [ 4  3  1  1  2  1  0  3  2  2]\n",
      " [11  7  8  7 10 14 13 16  3 13]\n",
      " [ 0  3  1  0  1  0  2  1  0  0]]\n",
      "(row=expected, col=predicted)\n",
      "CPU times: user 337 ms, sys: 417 ms, total: 754 ms\n",
      "Wall time: 300 ms\n"
     ]
    },
    {
     "data": {
      "image/png": "[encoded data removed]",
      "text/plain": [
       "<matplotlib.figure.Figure at 0x7f1ae9534b70>"
      ]
     },
     "metadata": {},
     "output_type": "display_data"
    }
   ],
   "source": [
    "%%time \n",
    "knn_test_predictions = [\n",
    "    doc2vec_model.docvecs.most_similar([pred_vec], topn=1)[0][0]\n",
    "    for pred_vec in test_regressors\n",
    "]\n",
    "evaluate_prediction(knn_test_predictions, test_targets, traditions, str(doc2vec_model))"
   ]
  },
  {
   "cell_type": "markdown",
   "metadata": {
    "slideshow": {
     "slide_type": "slide"
    }
   },
   "source": [
    "Doc2vec gives us a vector for each genre so we can see which genres are close together."
   ]
  },
  {
   "cell_type": "code",
   "execution_count": 50,
   "metadata": {},
   "outputs": [
    {
     "data": {
      "text/plain": [
       "[('Прочая восточная литература', 0.7542995810508728),\n",
       " ('Прочая литература', 0.5574924349784851),\n",
       " ('Латиноамериканская литература', 0.5107288360595703),\n",
       " ('Американская литература', 0.3840237855911255),\n",
       " ('Скандинавская литература', 0.21243754029273987),\n",
       " ('Античная литература', -0.1272784173488617),\n",
       " ('Европейская литература', -0.6975723505020142),\n",
       " ('Прочая европейская литература', -0.7290286421775818),\n",
       " ('Британская литература', -0.7735009789466858)]"
      ]
     },
     "execution_count": 50,
     "metadata": {},
     "output_type": "execute_result"
    }
   ],
   "source": [
    "doc2vec_model.docvecs.most_similar('Русская литература')"
   ]
  },
  {
   "cell_type": "markdown",
   "metadata": {
    "slideshow": {
     "slide_type": "slide"
    }
   },
   "source": [
    "Words surrounding the 'sci-fi' tag describe it pretty accurately!"
   ]
  },
  {
   "cell_type": "code",
   "execution_count": 51,
   "metadata": {
    "scrolled": true
   },
   "outputs": [
    {
     "data": {
      "text/plain": [
       "[('восточнопрусский', 0.7164652347564697),\n",
       " ('сочинительский', 0.7103330492973328),\n",
       " ('старобелорусский', 0.7035158276557922),\n",
       " ('залесская', 0.7008966207504272),\n",
       " ('вокульский', 0.6994539499282837),\n",
       " ('старосельская', 0.6962095499038696),\n",
       " ('антропонимический', 0.6920877695083618),\n",
       " ('золотусский', 0.6917855739593506),\n",
       " ('миропольский', 0.6910200715065002),\n",
       " ('староства', 0.6906902194023132)]"
      ]
     },
     "execution_count": 51,
     "metadata": {},
     "output_type": "execute_result"
    }
   ],
   "source": [
    "model.wv.most_similar('Русская литература')"
   ]
  },
  {
   "cell_type": "markdown",
   "metadata": {
    "slideshow": {
     "slide_type": "slide"
    }
   },
   "source": [
    "### Doc2vec exercise\n",
    "\n",
    "10 mins\n",
    "\n",
    "Find the random seed that gives the best prediction. :)\n",
    "\n"
   ]
  },
  {
   "cell_type": "code",
   "execution_count": 52,
   "metadata": {
    "scrolled": true,
    "slideshow": {
     "slide_type": "fragment"
    }
   },
   "outputs": [
    {
     "name": "stdout",
     "output_type": "stream",
     "text": [
      "accuracy 0.33774834437086093\n",
      "confusion matrix\n",
      " [[ 0  0  0 36  0  0  0  0  8  0]\n",
      " [ 0  0  0 14  0  0  0  0  1  0]\n",
      " [ 0  0  0  2  0  0  0  0  0  0]\n",
      " [ 0  0  0 85  0  0  0  0 14  0]\n",
      " [ 0  0  0  3  0  0  0  0  0  0]\n",
      " [ 0  0  0  2  0  0  0  0  1  0]\n",
      " [ 0  0  0  4  0  0  0  0  3  0]\n",
      " [ 0  0  0 14  0  0  0  0  5  0]\n",
      " [ 0  0  0 85  0  0  0  0 17  0]\n",
      " [ 0  0  0  8  0  0  0  0  0  0]]\n",
      "(row=expected, col=predicted)\n"
     ]
    },
    {
     "data": {
      "image/png": "[encoded data removed]",
      "text/plain": [
       "<matplotlib.figure.Figure at 0x7f1ae8f66da0>"
      ]
     },
     "metadata": {},
     "output_type": "display_data"
    }
   ],
   "source": [
    "seed = 100\n",
    "\n",
    "doc2vec_model.seed = seed\n",
    "doc2vec_model.random = random.RandomState(seed)\n",
    "\n",
    "\n",
    "test_targets, test_regressors = zip(\n",
    "    *[(doc.tags[0], doc2vec_model.infer_vector(doc.words, steps=20)) for doc in testsent])\n",
    "\n",
    "\n",
    "logreg = linear_model.LogisticRegression(n_jobs=1, C=1e5, random_state=42)\n",
    "logreg = logreg.fit(train_regressors, train_targets)\n",
    "evaluate_prediction(logreg.predict(test_regressors), test_targets, traditions, title=str(doc2vec_model))"
   ]
  },
  {
   "cell_type": "markdown",
   "metadata": {
    "slideshow": {
     "slide_type": "slide"
    }
   },
   "source": [
    "# Deep IR"
   ]
  },
  {
   "cell_type": "markdown",
   "metadata": {},
   "source": [
    "'Deep IR' is a technique developed by  [“Document Classification by Inversion of Distributed Language Representations”, Matt Taddy](http://arxiv.org/pdf/1504.07295v3.pdf). Matt has contributed a gensim [tutorial](https://github.com/piskvorky/gensim/blob/develop/docs/notebooks/deepir.ipynb) - great source of more in depth information.\n",
    "\n",
    "In short the algorithm is:\n",
    "\n",
    "1. Train a word2vec model only on comedy plots.\n",
    "\n",
    "2. Trian another model only on sci-fi, another on romance etc. Get 6 models - one for each genre.\n",
    "\n",
    "3. Take a plot and see which model fits it best using Bayes' Theorem\n",
    "\n"
   ]
  },
  {
   "cell_type": "markdown",
   "metadata": {
    "slideshow": {
     "slide_type": "slide"
    }
   },
   "source": [
    "The tokenization is different from other methods. The reason for this is that we are following an original approach in the paper. The purpose of this tutorial is to see how the models behave out of the box.\n",
    "\n",
    "We just clean non-alphanumeric characters and split by sentences."
   ]
  },
  {
   "cell_type": "code",
   "execution_count": 53,
   "metadata": {},
   "outputs": [],
   "source": [
    "import re\n",
    "contractions = re.compile(r\"'|-|\\\"\")\n",
    "# all non alphanumeric\n",
    "symbols = re.compile(r'(\\W+)', re.U)\n",
    "# single character removal\n",
    "singles = re.compile(r'(\\s\\S\\s)', re.I|re.U)\n",
    "# separators (any whitespace)\n",
    "seps = re.compile(r'\\s+')\n",
    "\n",
    "# cleaner (order matters)\n",
    "def clean(text): \n",
    "    text = text.lower()\n",
    "    text = contractions.sub('', text)\n",
    "    text = symbols.sub(r' \\1 ', text)\n",
    "    text = singles.sub(' ', text)\n",
    "    text = seps.sub(' ', text)\n",
    "    return text\n",
    "\n",
    "# sentence splitter\n",
    "alteos = re.compile(r'([!\\?])')\n",
    "def sentences(l):\n",
    "    l = alteos.sub(r' \\1 .', l).rstrip(\"(\\.)*\\n\")\n",
    "    return l.split(\".\")\n"
   ]
  },
  {
   "cell_type": "code",
   "execution_count": 54,
   "metadata": {
    "slideshow": {
     "slide_type": "slide"
    }
   },
   "outputs": [],
   "source": [
    "def plots(label):\n",
    "    my_df = None\n",
    "    if label=='training':\n",
    "        my_df = train_data\n",
    "    else:\n",
    "        my_df = test_data\n",
    "    for i, row in my_df.iterrows():\n",
    "        yield {'y':row['tradition'],\\\n",
    "        'x':[clean(s).split() for s in sentences(row['text'])]}\n"
   ]
  },
  {
   "cell_type": "code",
   "execution_count": 55,
   "metadata": {},
   "outputs": [
    {
     "name": "stdout",
     "output_type": "stream",
     "text": [
      "CPU times: user 13.3 s, sys: 593 ms, total: 13.9 s\n",
      "Wall time: 15.4 s\n"
     ]
    }
   ],
   "source": [
    "%%time\n",
    "# The corpus is small so can be read into memory\n",
    "revtrain = list(plots(\"training\"))\n",
    "revtest = list(plots(\"test\"))"
   ]
  },
  {
   "cell_type": "code",
   "execution_count": 56,
   "metadata": {},
   "outputs": [],
   "source": [
    "# shuffle training set for unbiased word2vec training\n",
    "np.random.shuffle(revtrain)"
   ]
  },
  {
   "cell_type": "code",
   "execution_count": 57,
   "metadata": {
    "slideshow": {
     "slide_type": "slide"
    }
   },
   "outputs": [],
   "source": [
    "def tag_sentences(reviews, stars=traditions):  \n",
    "    for r in reviews:\n",
    "        if r['y'] in stars:\n",
    "            for s in r['x']:\n",
    "                yield s"
   ]
  },
  {
   "cell_type": "markdown",
   "metadata": {},
   "source": [
    "An example `sci-fi` sentence:"
   ]
  },
  {
   "cell_type": "code",
   "execution_count": 58,
   "metadata": {},
   "outputs": [
    {
     "data": {
      "text/plain": [
       "['семнадцатилетний',\n",
       " 'холден',\n",
       " 'колфилд',\n",
       " 'находящийся',\n",
       " 'санатории',\n",
       " 'вспоминает',\n",
       " 'ту',\n",
       " 'сумасшедшую',\n",
       " 'историю',\n",
       " 'которая',\n",
       " 'случилась',\n",
       " 'прошлым',\n",
       " 'рождеством',\n",
       " '»,',\n",
       " 'после',\n",
       " 'чего',\n",
       " 'он',\n",
       " 'чуть',\n",
       " 'не',\n",
       " 'отдал',\n",
       " 'концы',\n",
       " '»,',\n",
       " 'долго',\n",
       " 'болел',\n",
       " 'теперь',\n",
       " 'вот',\n",
       " 'проходит',\n",
       " 'курс',\n",
       " 'лечения',\n",
       " 'вскоре',\n",
       " 'надеется',\n",
       " 'вернуться',\n",
       " 'домой']"
      ]
     },
     "execution_count": 58,
     "metadata": {},
     "output_type": "execute_result"
    }
   ],
   "source": [
    "next(tag_sentences(revtrain, traditions[0]))"
   ]
  },
  {
   "cell_type": "markdown",
   "metadata": {
    "slideshow": {
     "slide_type": "slide"
    }
   },
   "source": [
    "We train our own 6 word2vec models from scratch. "
   ]
  },
  {
   "cell_type": "code",
   "execution_count": 59,
   "metadata": {},
   "outputs": [
    {
     "name": "stderr",
     "output_type": "stream",
     "text": [
      "2018-09-29 02:32:37,542 : INFO : collecting all words and their counts\n",
      "2018-09-29 02:32:37,543 : INFO : PROGRESS: at sentence #0, processed 0 words, keeping 0 word types\n",
      "2018-09-29 02:32:37,612 : INFO : PROGRESS: at sentence #10000, processed 118868 words, keeping 32763 word types\n"
     ]
    },
    {
     "name": "stdout",
     "output_type": "stream",
     "text": [
      "Word2Vec(vocab=0, size=100, alpha=0.025)\n"
     ]
    },
    {
     "name": "stderr",
     "output_type": "stream",
     "text": [
      "2018-09-29 02:32:37,678 : INFO : PROGRESS: at sentence #20000, processed 239297 words, keeping 53138 word types\n",
      "2018-09-29 02:32:37,741 : INFO : PROGRESS: at sentence #30000, processed 354493 words, keeping 68929 word types\n",
      "2018-09-29 02:32:37,803 : INFO : PROGRESS: at sentence #40000, processed 474592 words, keeping 83245 word types\n",
      "2018-09-29 02:32:37,874 : INFO : PROGRESS: at sentence #50000, processed 591810 words, keeping 94774 word types\n",
      "2018-09-29 02:32:37,941 : INFO : PROGRESS: at sentence #60000, processed 705161 words, keeping 105458 word types\n",
      "2018-09-29 02:32:38,003 : INFO : PROGRESS: at sentence #70000, processed 818073 words, keeping 114838 word types\n",
      "2018-09-29 02:32:38,071 : INFO : PROGRESS: at sentence #80000, processed 937099 words, keeping 124199 word types\n",
      "2018-09-29 02:32:38,137 : INFO : PROGRESS: at sentence #90000, processed 1056395 words, keeping 132932 word types\n",
      "2018-09-29 02:32:38,203 : INFO : PROGRESS: at sentence #100000, processed 1176912 words, keeping 140846 word types\n",
      "2018-09-29 02:32:38,266 : INFO : PROGRESS: at sentence #110000, processed 1292434 words, keeping 148679 word types\n",
      "2018-09-29 02:32:38,305 : INFO : collected 153314 word types from a corpus of 1366024 raw words and 116102 sentences\n",
      "2018-09-29 02:32:38,307 : INFO : Loading a fresh vocabulary\n",
      "2018-09-29 02:32:38,518 : INFO : min_count=5 retains 33704 unique words (21% of original 153314, drops 119610)\n",
      "2018-09-29 02:32:38,519 : INFO : min_count=5 leaves 1175070 word corpus (86% of original 1366024, drops 190954)\n",
      "2018-09-29 02:32:38,689 : INFO : deleting the raw counts dictionary of 153314 items\n",
      "2018-09-29 02:32:38,697 : INFO : sample=0.001 downsamples 25 most-common words\n",
      "2018-09-29 02:32:38,699 : INFO : downsampling leaves estimated 1068731 word corpus (91.0% of prior 1175070)\n",
      "2018-09-29 02:32:38,779 : INFO : constructing a huffman tree from 33704 words\n",
      "2018-09-29 02:32:40,444 : INFO : built huffman tree with maximum node depth 18\n",
      "2018-09-29 02:32:40,465 : INFO : estimated required memory for 33704 words and 100 dimensions: 50556000 bytes\n",
      "2018-09-29 02:32:40,467 : INFO : resetting layer weights\n",
      "2018-09-29 02:32:55,994 : INFO : training model with 4 workers on 33704 vocabulary and 100 features, using sg=0 hs=1 sample=0.001 negative=0 window=5\n"
     ]
    },
    {
     "name": "stdout",
     "output_type": "stream",
     "text": [
      "Американская литература genre ( 17899 )\n"
     ]
    },
    {
     "name": "stderr",
     "output_type": "stream",
     "text": [
      "2018-09-29 02:32:56,445 : INFO : worker thread finished; awaiting finish of 3 more threads\n",
      "2018-09-29 02:32:56,450 : INFO : worker thread finished; awaiting finish of 2 more threads\n",
      "2018-09-29 02:32:56,456 : INFO : worker thread finished; awaiting finish of 1 more threads\n",
      "2018-09-29 02:32:56,476 : INFO : worker thread finished; awaiting finish of 0 more threads\n",
      "2018-09-29 02:32:56,478 : INFO : EPOCH - 1 : training on 203712 raw words (159192 effective words) took 0.5s, 342788 effective words/s\n",
      "2018-09-29 02:32:56,479 : INFO : training on a 203712 raw words (159192 effective words) took 0.5s, 328442 effective words/s\n",
      "2018-09-29 02:32:56,481 : WARNING : under 10 jobs per worker: consider setting a smaller `batch_words' for smoother alpha decay\n",
      "2018-09-29 02:32:56,487 : INFO : training model with 4 workers on 33704 vocabulary and 100 features, using sg=0 hs=1 sample=0.001 negative=0 window=5\n",
      "2018-09-29 02:32:56,580 : INFO : worker thread finished; awaiting finish of 3 more threads\n",
      "2018-09-29 02:32:56,590 : INFO : worker thread finished; awaiting finish of 2 more threads\n",
      "2018-09-29 02:32:56,600 : INFO : worker thread finished; awaiting finish of 1 more threads\n",
      "2018-09-29 02:32:56,605 : INFO : worker thread finished; awaiting finish of 0 more threads\n",
      "2018-09-29 02:32:56,606 : INFO : EPOCH - 1 : training on 43110 raw words (33641 effective words) took 0.1s, 354632 effective words/s\n",
      "2018-09-29 02:32:56,607 : INFO : training on a 43110 raw words (33641 effective words) took 0.1s, 280570 effective words/s\n",
      "2018-09-29 02:32:56,608 : WARNING : under 10 jobs per worker: consider setting a smaller `batch_words' for smoother alpha decay\n",
      "2018-09-29 02:32:56,611 : INFO : training model with 4 workers on 33704 vocabulary and 100 features, using sg=0 hs=1 sample=0.001 negative=0 window=5\n",
      "2018-09-29 02:32:56,645 : INFO : worker thread finished; awaiting finish of 3 more threads\n",
      "2018-09-29 02:32:56,661 : INFO : worker thread finished; awaiting finish of 2 more threads\n",
      "2018-09-29 02:32:56,677 : INFO : worker thread finished; awaiting finish of 1 more threads\n",
      "2018-09-29 02:32:56,682 : INFO : worker thread finished; awaiting finish of 0 more threads\n",
      "2018-09-29 02:32:56,684 : INFO : EPOCH - 1 : training on 25779 raw words (20225 effective words) took 0.1s, 334537 effective words/s\n"
     ]
    },
    {
     "name": "stdout",
     "output_type": "stream",
     "text": [
      "Античная литература genre ( 3727 )\n",
      "Британская литература genre ( 2015 )\n"
     ]
    },
    {
     "name": "stderr",
     "output_type": "stream",
     "text": [
      "2018-09-29 02:32:56,687 : INFO : training on a 25779 raw words (20225 effective words) took 0.1s, 268170 effective words/s\n",
      "2018-09-29 02:32:56,688 : WARNING : under 10 jobs per worker: consider setting a smaller `batch_words' for smoother alpha decay\n",
      "2018-09-29 02:32:56,696 : INFO : training model with 4 workers on 33704 vocabulary and 100 features, using sg=0 hs=1 sample=0.001 negative=0 window=5\n"
     ]
    },
    {
     "name": "stdout",
     "output_type": "stream",
     "text": [
      "Европейская литература genre ( 43800 )\n"
     ]
    },
    {
     "name": "stderr",
     "output_type": "stream",
     "text": [
      "2018-09-29 02:32:57,727 : INFO : EPOCH 1 - PROGRESS: at 85.94% examples, 364354 words/s, in_qsize 7, out_qsize 0\n",
      "2018-09-29 02:32:57,847 : INFO : worker thread finished; awaiting finish of 3 more threads\n",
      "2018-09-29 02:32:57,858 : INFO : worker thread finished; awaiting finish of 2 more threads\n",
      "2018-09-29 02:32:57,862 : INFO : worker thread finished; awaiting finish of 1 more threads\n",
      "2018-09-29 02:32:57,877 : INFO : worker thread finished; awaiting finish of 0 more threads\n",
      "2018-09-29 02:32:57,878 : INFO : EPOCH - 1 : training on 550566 raw words (435271 effective words) took 1.2s, 372167 effective words/s\n",
      "2018-09-29 02:32:57,879 : INFO : training on a 550566 raw words (435271 effective words) took 1.2s, 368471 effective words/s\n",
      "2018-09-29 02:32:57,882 : INFO : training model with 4 workers on 33704 vocabulary and 100 features, using sg=0 hs=1 sample=0.001 negative=0 window=5\n",
      "2018-09-29 02:32:57,905 : INFO : worker thread finished; awaiting finish of 3 more threads\n",
      "2018-09-29 02:32:57,910 : INFO : worker thread finished; awaiting finish of 2 more threads\n",
      "2018-09-29 02:32:57,913 : INFO : worker thread finished; awaiting finish of 1 more threads\n",
      "2018-09-29 02:32:57,934 : INFO : worker thread finished; awaiting finish of 0 more threads\n",
      "2018-09-29 02:32:57,936 : INFO : EPOCH - 1 : training on 11538 raw words (8865 effective words) took 0.0s, 202292 effective words/s\n",
      "2018-09-29 02:32:57,937 : INFO : training on a 11538 raw words (8865 effective words) took 0.1s, 164033 effective words/s\n",
      "2018-09-29 02:32:57,938 : WARNING : under 10 jobs per worker: consider setting a smaller `batch_words' for smoother alpha decay\n",
      "2018-09-29 02:32:57,941 : INFO : training model with 4 workers on 33704 vocabulary and 100 features, using sg=0 hs=1 sample=0.001 negative=0 window=5\n",
      "2018-09-29 02:32:57,958 : INFO : worker thread finished; awaiting finish of 3 more threads\n",
      "2018-09-29 02:32:57,960 : INFO : worker thread finished; awaiting finish of 2 more threads\n",
      "2018-09-29 02:32:57,962 : INFO : worker thread finished; awaiting finish of 1 more threads\n",
      "2018-09-29 02:32:57,984 : INFO : worker thread finished; awaiting finish of 0 more threads\n",
      "2018-09-29 02:32:57,986 : INFO : EPOCH - 1 : training on 8781 raw words (6845 effective words) took 0.0s, 242529 effective words/s\n",
      "2018-09-29 02:32:57,989 : INFO : training on a 8781 raw words (6845 effective words) took 0.0s, 145097 effective words/s\n",
      "2018-09-29 02:32:57,990 : WARNING : under 10 jobs per worker: consider setting a smaller `batch_words' for smoother alpha decay\n",
      "2018-09-29 02:32:57,993 : INFO : training model with 4 workers on 33704 vocabulary and 100 features, using sg=0 hs=1 sample=0.001 negative=0 window=5\n",
      "2018-09-29 02:32:58,022 : INFO : worker thread finished; awaiting finish of 3 more threads\n",
      "2018-09-29 02:32:58,038 : INFO : worker thread finished; awaiting finish of 2 more threads\n",
      "2018-09-29 02:32:58,058 : INFO : worker thread finished; awaiting finish of 1 more threads\n",
      "2018-09-29 02:32:58,062 : INFO : worker thread finished; awaiting finish of 0 more threads\n",
      "2018-09-29 02:32:58,063 : INFO : EPOCH - 1 : training on 17813 raw words (14090 effective words) took 0.1s, 260686 effective words/s\n",
      "2018-09-29 02:32:58,064 : INFO : training on a 17813 raw words (14090 effective words) took 0.1s, 200862 effective words/s\n",
      "2018-09-29 02:32:58,065 : WARNING : under 10 jobs per worker: consider setting a smaller `batch_words' for smoother alpha decay\n",
      "2018-09-29 02:32:58,069 : INFO : training model with 4 workers on 33704 vocabulary and 100 features, using sg=0 hs=1 sample=0.001 negative=0 window=5\n"
     ]
    },
    {
     "name": "stdout",
     "output_type": "stream",
     "text": [
      "Латиноамериканская литература genre ( 879 )\n",
      "Прочая восточная литература genre ( 736 )\n",
      "Прочая европейская литература genre ( 1498 )\n",
      "Прочая литература genre ( 8077 )\n"
     ]
    },
    {
     "name": "stderr",
     "output_type": "stream",
     "text": [
      "2018-09-29 02:32:58,261 : INFO : worker thread finished; awaiting finish of 3 more threads\n",
      "2018-09-29 02:32:58,267 : INFO : worker thread finished; awaiting finish of 2 more threads\n",
      "2018-09-29 02:32:58,275 : INFO : worker thread finished; awaiting finish of 1 more threads\n",
      "2018-09-29 02:32:58,291 : INFO : worker thread finished; awaiting finish of 0 more threads\n",
      "2018-09-29 02:32:58,292 : INFO : EPOCH - 1 : training on 88450 raw words (69524 effective words) took 0.2s, 325235 effective words/s\n",
      "2018-09-29 02:32:58,293 : INFO : training on a 88450 raw words (69524 effective words) took 0.2s, 310911 effective words/s\n",
      "2018-09-29 02:32:58,294 : WARNING : under 10 jobs per worker: consider setting a smaller `batch_words' for smoother alpha decay\n",
      "2018-09-29 02:32:58,299 : INFO : training model with 4 workers on 33704 vocabulary and 100 features, using sg=0 hs=1 sample=0.001 negative=0 window=5\n"
     ]
    },
    {
     "name": "stdout",
     "output_type": "stream",
     "text": [
      "Русская литература genre ( 34602 )\n"
     ]
    },
    {
     "name": "stderr",
     "output_type": "stream",
     "text": [
      "2018-09-29 02:32:59,066 : INFO : worker thread finished; awaiting finish of 3 more threads\n",
      "2018-09-29 02:32:59,074 : INFO : worker thread finished; awaiting finish of 2 more threads\n",
      "2018-09-29 02:32:59,096 : INFO : worker thread finished; awaiting finish of 1 more threads\n",
      "2018-09-29 02:32:59,097 : INFO : worker thread finished; awaiting finish of 0 more threads\n",
      "2018-09-29 02:32:59,099 : INFO : EPOCH - 1 : training on 379919 raw words (292243 effective words) took 0.8s, 369633 effective words/s\n",
      "2018-09-29 02:32:59,100 : INFO : training on a 379919 raw words (292243 effective words) took 0.8s, 366134 effective words/s\n",
      "2018-09-29 02:32:59,104 : WARNING : under 10 jobs per worker: consider setting a smaller `batch_words' for smoother alpha decay\n",
      "2018-09-29 02:32:59,109 : INFO : training model with 4 workers on 33704 vocabulary and 100 features, using sg=0 hs=1 sample=0.001 negative=0 window=5\n",
      "2018-09-29 02:32:59,164 : INFO : worker thread finished; awaiting finish of 3 more threads\n",
      "2018-09-29 02:32:59,197 : INFO : worker thread finished; awaiting finish of 2 more threads\n",
      "2018-09-29 02:32:59,199 : INFO : worker thread finished; awaiting finish of 1 more threads\n",
      "2018-09-29 02:32:59,221 : INFO : worker thread finished; awaiting finish of 0 more threads\n",
      "2018-09-29 02:32:59,222 : INFO : EPOCH - 1 : training on 36356 raw words (28594 effective words) took 0.1s, 276101 effective words/s\n",
      "2018-09-29 02:32:59,223 : INFO : training on a 36356 raw words (28594 effective words) took 0.1s, 256018 effective words/s\n",
      "2018-09-29 02:32:59,224 : WARNING : under 10 jobs per worker: consider setting a smaller `batch_words' for smoother alpha decay\n"
     ]
    },
    {
     "name": "stdout",
     "output_type": "stream",
     "text": [
      "Скандинавская литература genre ( 2869 )\n",
      "CPU times: user 24.9 s, sys: 438 ms, total: 25.3 s\n",
      "Wall time: 21.7 s\n"
     ]
    }
   ],
   "source": [
    "%%time \n",
    "## training\n",
    "from gensim.models import Word2Vec\n",
    "import multiprocessing\n",
    "\n",
    "## create a w2v learner \n",
    "basemodel = Word2Vec(\n",
    "    workers=multiprocessing.cpu_count(), # use your cores\n",
    "    iter=100, # iter = sweeps of SGD through the data; more is better\n",
    "    hs=1, negative=0, # we only have scoring for the hierarchical softmax setup\n",
    "    )\n",
    "print(basemodel)\n",
    "basemodel.build_vocab(tag_sentences(revtrain)) \n",
    "from copy import deepcopy\n",
    "genremodels = [deepcopy(basemodel) for i in range(len(traditions))]\n",
    "for i in range(len(traditions)):\n",
    "    slist = list(tag_sentences(revtrain, traditions[i]))\n",
    "    print(traditions[i], \"genre (\", len(slist), \")\")\n",
    "    genremodels[i].train(  slist, total_examples=len(slist), epochs=1 )\n",
    "# get the probs (note we give docprob a list of lists of words, plus the models)\n"
   ]
  },
  {
   "cell_type": "markdown",
   "metadata": {
    "slideshow": {
     "slide_type": "slide"
    }
   },
   "source": [
    "Now we will compute most likely class for a plot using Bayes' Theorem formula."
   ]
  },
  {
   "cell_type": "markdown",
   "metadata": {},
   "source": [
    "<img src='images/deep_ir_bayes.png' width=600>"
   ]
  },
  {
   "cell_type": "markdown",
   "metadata": {
    "slideshow": {
     "slide_type": "slide"
    }
   },
   "source": [
    "For any new sentence we can obtain its _likelihood_ (lhd; actually, the composite likelihood approximation; see the paper) using the [score](https://radimrehurek.com/gensim/models/word2vec.html#gensim.models.word2vec.Word2Vec.score) function in the `word2vec` class.  We get the likelihood for each sentence in the first test review, then convert to a probability over star ratings. Every sentence in the review is evaluated separately and the final star rating of the review is an average vote of all the sentences. This is all in the following handy wrapper. (from the original [tutorial](https://github.com/piskvorky/gensim/blob/develop/docs/notebooks/deepir.ipynb) by Matt Taddy."
   ]
  },
  {
   "cell_type": "code",
   "execution_count": 60,
   "metadata": {},
   "outputs": [],
   "source": [
    "\"\"\"\n",
    "docprob takes two lists\n",
    "* docs: a list of documents, each of which is a list of sentences\n",
    "* models: the candidate word2vec models (each potential class)\n",
    "\n",
    "it returns the array of class probabilities.  Everything is done in-memory.\n",
    "\"\"\"\n",
    "\n",
    "\n",
    "def docprob(docs, mods):\n",
    "    # score() takes a list [s] of sentences here; could also be a sentence generator\n",
    "    sentlist = [s for d in docs for s in d]\n",
    "    # the log likelihood of each sentence in this review under each w2v representation\n",
    "    llhd = np.array( [ m.score(sentlist, len(sentlist)) for m in mods ] )\n",
    "    # now exponentiate to get likelihoods, \n",
    "    lhd = np.exp(llhd - llhd.max(axis=0)) # subtract row max to avoid numeric overload\n",
    "    # normalize across models (stars) to get sentence-star probabilities\n",
    "    prob = pd.DataFrame( (lhd/lhd.sum(axis=0)).transpose() )\n",
    "    # and finally average the sentence probabilities to get the review probability\n",
    "    prob[\"doc\"] = [i for i,d in enumerate(docs) for s in d]\n",
    "    prob = prob.groupby(\"doc\").mean()\n",
    "    return prob"
   ]
  },
  {
   "cell_type": "code",
   "execution_count": 61,
   "metadata": {
    "slideshow": {
     "slide_type": "slide"
    }
   },
   "outputs": [
    {
     "name": "stderr",
     "output_type": "stream",
     "text": [
      "2018-09-29 02:32:59,297 : INFO : scoring sentences with 4 workers on 33704 vocabulary and 100 features, using sg=0 hs=1 sample=0.001 and negative=0\n",
      "2018-09-29 02:33:00,310 : INFO : PROGRESS: at 2870000.00% sentences, 28658 sentences/s\n",
      "2018-09-29 02:33:00,317 : INFO : reached end of input; waiting to finish 12 outstanding jobs\n",
      "2018-09-29 02:33:00,352 : INFO : scoring 29991 sentences took 1.0s, 28736 sentences/s\n",
      "2018-09-29 02:33:00,353 : INFO : scoring sentences with 4 workers on 33704 vocabulary and 100 features, using sg=0 hs=1 sample=0.001 and negative=0\n",
      "2018-09-29 02:33:01,342 : INFO : reached end of input; waiting to finish 12 outstanding jobs\n",
      "2018-09-29 02:33:01,359 : INFO : PROGRESS: at 2890000.00% sentences, 28753 sentences/s\n",
      "2018-09-29 02:33:01,379 : INFO : scoring 29991 sentences took 1.0s, 29250 sentences/s\n",
      "2018-09-29 02:33:01,381 : INFO : scoring sentences with 4 workers on 33704 vocabulary and 100 features, using sg=0 hs=1 sample=0.001 and negative=0\n",
      "2018-09-29 02:33:02,350 : INFO : reached end of input; waiting to finish 12 outstanding jobs\n",
      "2018-09-29 02:33:02,386 : INFO : scoring 29991 sentences took 1.0s, 30057 sentences/s\n",
      "2018-09-29 02:33:02,392 : INFO : scoring sentences with 4 workers on 33704 vocabulary and 100 features, using sg=0 hs=1 sample=0.001 and negative=0\n",
      "2018-09-29 02:33:03,323 : INFO : reached end of input; waiting to finish 12 outstanding jobs\n",
      "2018-09-29 02:33:03,359 : INFO : scoring 29991 sentences took 1.0s, 31031 sentences/s\n",
      "2018-09-29 02:33:03,361 : INFO : scoring sentences with 4 workers on 33704 vocabulary and 100 features, using sg=0 hs=1 sample=0.001 and negative=0\n",
      "2018-09-29 02:33:04,305 : INFO : reached end of input; waiting to finish 12 outstanding jobs\n",
      "2018-09-29 02:33:04,354 : INFO : scoring 29991 sentences took 1.0s, 30229 sentences/s\n",
      "2018-09-29 02:33:04,355 : INFO : scoring sentences with 4 workers on 33704 vocabulary and 100 features, using sg=0 hs=1 sample=0.001 and negative=0\n",
      "2018-09-29 02:33:05,293 : INFO : reached end of input; waiting to finish 12 outstanding jobs\n",
      "2018-09-29 02:33:05,328 : INFO : scoring 29991 sentences took 1.0s, 30838 sentences/s\n",
      "2018-09-29 02:33:05,329 : INFO : scoring sentences with 4 workers on 33704 vocabulary and 100 features, using sg=0 hs=1 sample=0.001 and negative=0\n",
      "2018-09-29 02:33:06,294 : INFO : reached end of input; waiting to finish 12 outstanding jobs\n",
      "2018-09-29 02:33:06,333 : INFO : PROGRESS: at 2970000.00% sentences, 29599 sentences/s\n",
      "2018-09-29 02:33:06,337 : INFO : scoring 29991 sentences took 1.0s, 29779 sentences/s\n",
      "2018-09-29 02:33:06,338 : INFO : scoring sentences with 4 workers on 33704 vocabulary and 100 features, using sg=0 hs=1 sample=0.001 and negative=0\n",
      "2018-09-29 02:33:07,343 : INFO : PROGRESS: at 2620000.00% sentences, 26117 sentences/s\n",
      "2018-09-29 02:33:07,427 : INFO : reached end of input; waiting to finish 12 outstanding jobs\n",
      "2018-09-29 02:33:07,462 : INFO : scoring 29991 sentences took 1.1s, 26734 sentences/s\n",
      "2018-09-29 02:33:07,462 : INFO : scoring sentences with 4 workers on 33704 vocabulary and 100 features, using sg=0 hs=1 sample=0.001 and negative=0\n",
      "2018-09-29 02:33:08,456 : INFO : reached end of input; waiting to finish 12 outstanding jobs\n",
      "2018-09-29 02:33:08,473 : INFO : PROGRESS: at 2890000.00% sentences, 28626 sentences/s\n",
      "2018-09-29 02:33:08,492 : INFO : scoring 29991 sentences took 1.0s, 29142 sentences/s\n",
      "2018-09-29 02:33:08,494 : INFO : scoring sentences with 4 workers on 33704 vocabulary and 100 features, using sg=0 hs=1 sample=0.001 and negative=0\n",
      "2018-09-29 02:33:09,497 : INFO : PROGRESS: at 2870000.00% sentences, 28642 sentences/s\n",
      "2018-09-29 02:33:09,499 : INFO : reached end of input; waiting to finish 12 outstanding jobs\n",
      "2018-09-29 02:33:09,536 : INFO : scoring 29991 sentences took 1.0s, 28810 sentences/s\n"
     ]
    },
    {
     "name": "stdout",
     "output_type": "stream",
     "text": [
      "CPU times: user 14.8 s, sys: 2.36 s, total: 17.1 s\n",
      "Wall time: 10.3 s\n"
     ]
    }
   ],
   "source": [
    "%%time\n",
    "## predict\n",
    "probs = docprob( [r['x'] for r in revtest], genremodels )  \n",
    "predictions = probs.idxmax(axis=1).apply(lambda x: traditions[x])"
   ]
  },
  {
   "cell_type": "code",
   "execution_count": 62,
   "metadata": {
    "slideshow": {
     "slide_type": "slide"
    }
   },
   "outputs": [
    {
     "data": {
      "text/plain": [
       "<matplotlib.axes._subplots.AxesSubplot at 0x7f1ade826278>"
      ]
     },
     "execution_count": 62,
     "metadata": {},
     "output_type": "execute_result"
    },
    {
     "data": {
      "image/png": "[encoded data removed]",
      "text/plain": [
       "<matplotlib.figure.Figure at 0x7f1ade826400>"
      ]
     },
     "metadata": {},
     "output_type": "display_data"
    }
   ],
   "source": [
    "tag_index = 1\n",
    "col_name = \"out-of-sample prob positive for \" + traditions[tag_index]\n",
    "probpos = pd.DataFrame({col_name:probs[[tag_index]].sum(axis=1), \n",
    "                        \"true genres\": [r['y'] for r in revtest]})\n",
    "probpos.boxplot(col_name,by=\"true genres\", figsize=(12,5), rot=90)"
   ]
  },
  {
   "cell_type": "code",
   "execution_count": 63,
   "metadata": {
    "slideshow": {
     "slide_type": "slide"
    }
   },
   "outputs": [],
   "source": [
    "target = [r['y'] for r in revtest]"
   ]
  },
  {
   "cell_type": "code",
   "execution_count": 64,
   "metadata": {},
   "outputs": [
    {
     "name": "stdout",
     "output_type": "stream",
     "text": [
      "accuracy 0.4205298013245033\n",
      "confusion matrix\n",
      " [[15  0  0 20  0  0  0  9  0  0]\n",
      " [ 1  0  0 12  0  0  0  0  2  0]\n",
      " [ 0  0  0  2  0  0  0  0  0  0]\n",
      " [ 0  0  0 85  0  0  0 12  2  0]\n",
      " [ 0  0  0  3  0  0  0  0  0  0]\n",
      " [ 0  0  0  3  0  0  0  0  0  0]\n",
      " [ 0  0  0  6  0  0  0  1  0  0]\n",
      " [ 0  0  0 13  0  0  0  3  3  0]\n",
      " [ 5  0  0 59  0  1  0 13 24  0]\n",
      " [ 0  0  0  4  0  0  0  4  0  0]]\n",
      "(row=expected, col=predicted)\n"
     ]
    },
    {
     "data": {
      "image/png": "[encoded data removed]",
      "text/plain": [
       "<matplotlib.figure.Figure at 0x7f1aca07a2b0>"
      ]
     },
     "metadata": {},
     "output_type": "display_data"
    }
   ],
   "source": [
    "evaluate_prediction(predictions, target, traditions, \"Deep IR with word2vec\")"
   ]
  },
  {
   "cell_type": "markdown",
   "metadata": {
    "slideshow": {
     "slide_type": "slide"
    }
   },
   "source": [
    "Performance is worse than for a naive predictor that says that everything is `comedy`.\n",
    "\n",
    "### Why?"
   ]
  },
  {
   "cell_type": "markdown",
   "metadata": {
    "slideshow": {
     "slide_type": "fragment"
    }
   },
   "source": [
    "\n",
    "\n",
    "It is because we train each word2vec model from scratch on a very small sample of about 30k words.\n",
    "\n",
    "This model needs more data."
   ]
  },
  {
   "cell_type": "markdown",
   "metadata": {
    "slideshow": {
     "slide_type": "slide"
    }
   },
   "source": [
    "# Word Mover's Distance"
   ]
  },
  {
   "cell_type": "markdown",
   "metadata": {},
   "source": [
    "<img src='images/wmd_gelato.png'>\n",
    "\n",
    "Image from \n",
    "http://tech.opentable.com/2015/08/11/navigating-themes-in-restaurant-reviews-with-word-movers-distance/"
   ]
  },
  {
   "cell_type": "markdown",
   "metadata": {
    "collapsed": true
   },
   "source": [
    "Word Mover's Distance is a new algorithm developed in by [Matt Kusner](http://jmlr.org/proceedings/papers/v37/kusnerb15.pdf). There is Matt's code on [github](https://github.com/mkusner/wmd) and also Gensim can compute WMD similarity in this [PR](https://github.com/piskvorky/gensim/pull/659)."
   ]
  },
  {
   "cell_type": "markdown",
   "metadata": {
    "slideshow": {
     "slide_type": "slide"
    }
   },
   "source": [
    "For KNN the best code is from [Vlad Niculae's blog](http://vene.ro/blog/word-movers-distance-in-python.html). He is a contributor to sklearn and did great integration of WMD with sklearn KNN."
   ]
  },
  {
   "cell_type": "markdown",
   "metadata": {},
   "source": [
    "__Warning__: Write 7 GB file on disk to use memory mapping."
   ]
  },
  {
   "cell_type": "markdown",
   "metadata": {},
   "source": [
    "## __This part requires Python 3__"
   ]
  },
  {
   "cell_type": "code",
   "execution_count": 65,
   "metadata": {
    "slideshow": {
     "slide_type": "slide"
    }
   },
   "outputs": [
    {
     "name": "stdout",
     "output_type": "stream",
     "text": [
      "CPU times: user 3.26 s, sys: 3.92 s, total: 7.18 s\n",
      "Wall time: 28min 20s\n"
     ]
    }
   ],
   "source": [
    "%%time\n",
    "\n",
    "data_folder = '/media/zu_ann/OS/Users/zu_ann/Yandex.Disk/HSE/DH/dh/data/'\n",
    "\n",
    "fp = np.memmap(data_folder + \"embed.dat\", dtype=np.double, mode='w+', shape=model.wv.vectors_norm.shape)\n",
    "fp[:] = model.wv.vectors_norm[:]\n",
    "\n",
    "with smart_open(data_folder + \"embed.vocab\", \"w\") as f: \n",
    "    for _, w in sorted((voc.index, word) for word, voc in model.wv.vocab.items()):\n",
    "        print(w.encode('utf8'), file=f)\n",
    "# del fp, model.wv"
   ]
  },
  {
   "cell_type": "code",
   "execution_count": 66,
   "metadata": {},
   "outputs": [
    {
     "data": {
      "text/plain": [
       "{'славдом': <gensim.models.deprecated.keyedvectors.Vocab at 0x7f1a90c66d68>,\n",
       " 'лучок': <gensim.models.deprecated.keyedvectors.Vocab at 0x7f1a848cf780>,\n",
       " 'ронц': <gensim.models.deprecated.keyedvectors.Vocab at 0x7f1a857e7ef0>,\n",
       " 'никитин': <gensim.models.deprecated.keyedvectors.Vocab at 0x7f1a90b5b630>,\n",
       " 'flashpoint': <gensim.models.deprecated.keyedvectors.Vocab at 0x7f1a855d2160>,\n",
       " 'балинезийский': <gensim.models.deprecated.keyedvectors.Vocab at 0x7f1a84130cf8>,\n",
       " 'дитенок': <gensim.models.deprecated.keyedvectors.Vocab at 0x7f1a8505ebe0>,\n",
       " 'облезать': <gensim.models.deprecated.keyedvectors.Vocab at 0x7f1a85fd8748>,\n",
       " 'аплодировать': <gensim.models.deprecated.keyedvectors.Vocab at 0x7f1a8474b048>,\n",
       " 'эксгумация': <gensim.models.deprecated.keyedvectors.Vocab at 0x7f1a91051a90>,\n",
       " 'ssangyong': <gensim.models.deprecated.keyedvectors.Vocab at 0x7f1a910b7160>,\n",
       " 'буонаротти': <gensim.models.deprecated.keyedvectors.Vocab at 0x7f1a8507ae48>,\n",
       " 'лобко': <gensim.models.deprecated.keyedvectors.Vocab at 0x7f1a86021400>,\n",
       " 'куха': <gensim.models.deprecated.keyedvectors.Vocab at 0x7f1a84298be0>,\n",
       " 'теплякова': <gensim.models.deprecated.keyedvectors.Vocab at 0x7f1a85c96b70>,\n",
       " 'аs': <gensim.models.deprecated.keyedvectors.Vocab at 0x7f1a85f3c7f0>,\n",
       " 'лесбос': <gensim.models.deprecated.keyedvectors.Vocab at 0x7f1a907bc668>,\n",
       " 'аблация': <gensim.models.deprecated.keyedvectors.Vocab at 0x7f1a85ee99b0>,\n",
       " 'имущество': <gensim.models.deprecated.keyedvectors.Vocab at 0x7f1a86288ba8>,\n",
       " 'шипр': <gensim.models.deprecated.keyedvectors.Vocab at 0x7f1a90c23278>,\n",
       " 'фант': <gensim.models.deprecated.keyedvectors.Vocab at 0x7f1a85e0fa58>,\n",
       " 'такоев': <gensim.models.deprecated.keyedvectors.Vocab at 0x7f1a858c7d30>,\n",
       " 'белоусов': <gensim.models.deprecated.keyedvectors.Vocab at 0x7f1a841fd8d0>,\n",
       " 'иоан': <gensim.models.deprecated.keyedvectors.Vocab at 0x7f1a853259e8>,\n",
       " 'етому': <gensim.models.deprecated.keyedvectors.Vocab at 0x7f1a85430d30>,\n",
       " 'стритлайн': <gensim.models.deprecated.keyedvectors.Vocab at 0x7f1a8568af98>,\n",
       " 'поп-звезда': <gensim.models.deprecated.keyedvectors.Vocab at 0x7f1a910bbd68>,\n",
       " 'переверзеть': <gensim.models.deprecated.keyedvectors.Vocab at 0x7f1a91731940>,\n",
       " 'buderus': <gensim.models.deprecated.keyedvectors.Vocab at 0x7f1a84cb5400>,\n",
       " 'ffmpeg': <gensim.models.deprecated.keyedvectors.Vocab at 0x7f1a85fe5128>,\n",
       " 'flipper': <gensim.models.deprecated.keyedvectors.Vocab at 0x7f1a856b1898>,\n",
       " 'voltex': <gensim.models.deprecated.keyedvectors.Vocab at 0x7f1a851dd978>,\n",
       " 'scottish': <gensim.models.deprecated.keyedvectors.Vocab at 0x7f1a911a08d0>,\n",
       " 'гиперинсулинемия': <gensim.models.deprecated.keyedvectors.Vocab at 0x7f1a90d3aeb8>,\n",
       " 'неонка': <gensim.models.deprecated.keyedvectors.Vocab at 0x7f1a90a995f8>,\n",
       " 'нмтп': <gensim.models.deprecated.keyedvectors.Vocab at 0x7f1a90ea27f0>,\n",
       " 'фсс': <gensim.models.deprecated.keyedvectors.Vocab at 0x7f1a858c75c0>,\n",
       " 'bay': <gensim.models.deprecated.keyedvectors.Vocab at 0x7f1a9165cc50>,\n",
       " 'неблагой': <gensim.models.deprecated.keyedvectors.Vocab at 0x7f1a85d442e8>,\n",
       " 'полазать': <gensim.models.deprecated.keyedvectors.Vocab at 0x7f1a85686940>,\n",
       " 'вырабатывать': <gensim.models.deprecated.keyedvectors.Vocab at 0x7f1a915f6898>,\n",
       " 'турко': <gensim.models.deprecated.keyedvectors.Vocab at 0x7f1a90ccb518>,\n",
       " 'обносок': <gensim.models.deprecated.keyedvectors.Vocab at 0x7f1a908679e8>,\n",
       " 'семко': <gensim.models.deprecated.keyedvectors.Vocab at 0x7f1a861e45f8>,\n",
       " 'develop': <gensim.models.deprecated.keyedvectors.Vocab at 0x7f1a90968828>,\n",
       " 'циент': <gensim.models.deprecated.keyedvectors.Vocab at 0x7f1a85040518>,\n",
       " 'драить': <gensim.models.deprecated.keyedvectors.Vocab at 0x7f1a9155c390>,\n",
       " 'самосовершенствоваться': <gensim.models.deprecated.keyedvectors.Vocab at 0x7f1a84be1780>,\n",
       " 'жора': <gensim.models.deprecated.keyedvectors.Vocab at 0x7f1a85f28208>,\n",
       " 'питти': <gensim.models.deprecated.keyedvectors.Vocab at 0x7f1a85aaff60>,\n",
       " 'сария': <gensim.models.deprecated.keyedvectors.Vocab at 0x7f1a860c02e8>,\n",
       " 'митрофорный': <gensim.models.deprecated.keyedvectors.Vocab at 0x7f1a91758668>,\n",
       " 'енпф': <gensim.models.deprecated.keyedvectors.Vocab at 0x7f1a85d3ecc0>,\n",
       " 'аккуант': <gensim.models.deprecated.keyedvectors.Vocab at 0x7f1a859afd68>,\n",
       " 'предполетный': <gensim.models.deprecated.keyedvectors.Vocab at 0x7f1a915e8518>,\n",
       " 'волнообразность': <gensim.models.deprecated.keyedvectors.Vocab at 0x7f1a861fb978>,\n",
       " 'magician': <gensim.models.deprecated.keyedvectors.Vocab at 0x7f1a842079b0>,\n",
       " 'ахутин': <gensim.models.deprecated.keyedvectors.Vocab at 0x7f1a8424b390>,\n",
       " 'фридланд': <gensim.models.deprecated.keyedvectors.Vocab at 0x7f1a84dc08d0>,\n",
       " 'предуктал': <gensim.models.deprecated.keyedvectors.Vocab at 0x7f1a84e8c358>,\n",
       " 'выигрышно': <gensim.models.deprecated.keyedvectors.Vocab at 0x7f1a84d72160>,\n",
       " 'katalog': <gensim.models.deprecated.keyedvectors.Vocab at 0x7f1a85fbf2b0>,\n",
       " 'претория': <gensim.models.deprecated.keyedvectors.Vocab at 0x7f1a8427b080>,\n",
       " 'фрейдистский': <gensim.models.deprecated.keyedvectors.Vocab at 0x7f1a84702f28>,\n",
       " 'медиумический': <gensim.models.deprecated.keyedvectors.Vocab at 0x7f1a86021a20>,\n",
       " 'биопоражение': <gensim.models.deprecated.keyedvectors.Vocab at 0x7f1a90e9ebe0>,\n",
       " 'навешиваться': <gensim.models.deprecated.keyedvectors.Vocab at 0x7f1a851f43c8>,\n",
       " 'pc': <gensim.models.deprecated.keyedvectors.Vocab at 0x7f1a90da21d0>,\n",
       " 'подпивать': <gensim.models.deprecated.keyedvectors.Vocab at 0x7f1a854cd6d8>,\n",
       " 'вселять': <gensim.models.deprecated.keyedvectors.Vocab at 0x7f1a86033668>,\n",
       " 'антинорманизм': <gensim.models.deprecated.keyedvectors.Vocab at 0x7f1a851cfbe0>,\n",
       " 'колобов': <gensim.models.deprecated.keyedvectors.Vocab at 0x7f1a85102438>,\n",
       " 'термоносок': <gensim.models.deprecated.keyedvectors.Vocab at 0x7f1a85cfb470>,\n",
       " 'вундт': <gensim.models.deprecated.keyedvectors.Vocab at 0x7f1a90aadbe0>,\n",
       " 'даа': <gensim.models.deprecated.keyedvectors.Vocab at 0x7f1a917eb048>,\n",
       " 'рубилово': <gensim.models.deprecated.keyedvectors.Vocab at 0x7f1a907b2da0>,\n",
       " 'давидянин': <gensim.models.deprecated.keyedvectors.Vocab at 0x7f1a85f85358>,\n",
       " 'гауд': <gensim.models.deprecated.keyedvectors.Vocab at 0x7f1a862140b8>,\n",
       " 'серебриться': <gensim.models.deprecated.keyedvectors.Vocab at 0x7f1a85fd8cc0>,\n",
       " 'имплантироваться': <gensim.models.deprecated.keyedvectors.Vocab at 0x7f1a84c20860>,\n",
       " 'юмореска': <gensim.models.deprecated.keyedvectors.Vocab at 0x7f1a918202e8>,\n",
       " 'риолит': <gensim.models.deprecated.keyedvectors.Vocab at 0x7f1a860fa048>,\n",
       " 'замасливание': <gensim.models.deprecated.keyedvectors.Vocab at 0x7f1a90e24b38>,\n",
       " 'инт': <gensim.models.deprecated.keyedvectors.Vocab at 0x7f1a84dfacc0>,\n",
       " 'фазлыев': <gensim.models.deprecated.keyedvectors.Vocab at 0x7f1a9097a438>,\n",
       " 'доказуемый': <gensim.models.deprecated.keyedvectors.Vocab at 0x7f1a90e70ba8>,\n",
       " 'jonnesway': <gensim.models.deprecated.keyedvectors.Vocab at 0x7f1a914b6fd0>,\n",
       " 'бледность': <gensim.models.deprecated.keyedvectors.Vocab at 0x7f1a907bcb38>,\n",
       " 'сокровище': <gensim.models.deprecated.keyedvectors.Vocab at 0x7f1a85cf6588>,\n",
       " 'докачивать': <gensim.models.deprecated.keyedvectors.Vocab at 0x7f1a84856828>,\n",
       " 'гами': <gensim.models.deprecated.keyedvectors.Vocab at 0x7f1a84dc6c18>,\n",
       " 'тритон': <gensim.models.deprecated.keyedvectors.Vocab at 0x7f1a90c04f28>,\n",
       " 'покерист': <gensim.models.deprecated.keyedvectors.Vocab at 0x7f1a90f417f0>,\n",
       " 'гибдд': <gensim.models.deprecated.keyedvectors.Vocab at 0x7f1a85782f28>,\n",
       " 'малошумный': <gensim.models.deprecated.keyedvectors.Vocab at 0x7f1a84ea8b38>,\n",
       " 'аяк': <gensim.models.deprecated.keyedvectors.Vocab at 0x7f1a85054d68>,\n",
       " 'молчановка': <gensim.models.deprecated.keyedvectors.Vocab at 0x7f1a862a9da0>,\n",
       " 'шаса': <gensim.models.deprecated.keyedvectors.Vocab at 0x7f1a862b86a0>,\n",
       " 'зверок': <gensim.models.deprecated.keyedvectors.Vocab at 0x7f1a84a536d8>,\n",
       " 'членовредительство': <gensim.models.deprecated.keyedvectors.Vocab at 0x7f1a861cb7b8>,\n",
       " 'батун': <gensim.models.deprecated.keyedvectors.Vocab at 0x7f1a84439da0>,\n",
       " 'зинэтула': <gensim.models.deprecated.keyedvectors.Vocab at 0x7f1a916c7d30>,\n",
       " 'здавать': <gensim.models.deprecated.keyedvectors.Vocab at 0x7f1a84a49400>,\n",
       " 'саралиев': <gensim.models.deprecated.keyedvectors.Vocab at 0x7f1a85c96a20>,\n",
       " 'диявол': <gensim.models.deprecated.keyedvectors.Vocab at 0x7f1a90e50588>,\n",
       " 'суна': <gensim.models.deprecated.keyedvectors.Vocab at 0x7f1a85bce710>,\n",
       " 'центристский': <gensim.models.deprecated.keyedvectors.Vocab at 0x7f1a90883358>,\n",
       " 'елогорье': <gensim.models.deprecated.keyedvectors.Vocab at 0x7f1a90a76358>,\n",
       " 'пингование': <gensim.models.deprecated.keyedvectors.Vocab at 0x7f1a90dab0f0>,\n",
       " 'посасывание': <gensim.models.deprecated.keyedvectors.Vocab at 0x7f1a91811780>,\n",
       " 'crow': <gensim.models.deprecated.keyedvectors.Vocab at 0x7f1a85664c88>,\n",
       " 'сдержка': <gensim.models.deprecated.keyedvectors.Vocab at 0x7f1a85f8abe0>,\n",
       " 'ферритный': <gensim.models.deprecated.keyedvectors.Vocab at 0x7f1a85cad208>,\n",
       " 'чердачок': <gensim.models.deprecated.keyedvectors.Vocab at 0x7f1a844c60f0>,\n",
       " 'calm': <gensim.models.deprecated.keyedvectors.Vocab at 0x7f1a90d23470>,\n",
       " 'мелкогабаритный': <gensim.models.deprecated.keyedvectors.Vocab at 0x7f1a910864e0>,\n",
       " 'богдан': <gensim.models.deprecated.keyedvectors.Vocab at 0x7f1a9091ff98>,\n",
       " 'гермомешка': <gensim.models.deprecated.keyedvectors.Vocab at 0x7f1a85180160>,\n",
       " 'балтия': <gensim.models.deprecated.keyedvectors.Vocab at 0x7f1a840c2208>,\n",
       " 'oilru': <gensim.models.deprecated.keyedvectors.Vocab at 0x7f1a85cd55f8>,\n",
       " 'вероломный': <gensim.models.deprecated.keyedvectors.Vocab at 0x7f1a84baf908>,\n",
       " 'среднетоннажный': <gensim.models.deprecated.keyedvectors.Vocab at 0x7f1a85dd1208>,\n",
       " 'монотонность': <gensim.models.deprecated.keyedvectors.Vocab at 0x7f1a85203e80>,\n",
       " 'плита': <gensim.models.deprecated.keyedvectors.Vocab at 0x7f1a914ba7b8>,\n",
       " 'надрыв': <gensim.models.deprecated.keyedvectors.Vocab at 0x7f1a912db898>,\n",
       " 'пластинчатый': <gensim.models.deprecated.keyedvectors.Vocab at 0x7f1a85ce4828>,\n",
       " 'загреков': <gensim.models.deprecated.keyedvectors.Vocab at 0x7f1a916f77f0>,\n",
       " 'винокур': <gensim.models.deprecated.keyedvectors.Vocab at 0x7f1a8623f2e8>,\n",
       " 'миттельшпиль': <gensim.models.deprecated.keyedvectors.Vocab at 0x7f1a851acef0>,\n",
       " 'дисциплинарный': <gensim.models.deprecated.keyedvectors.Vocab at 0x7f1a90959c88>,\n",
       " 'metabolism': <gensim.models.deprecated.keyedvectors.Vocab at 0x7f1a85d3e780>,\n",
       " 'абдо': <gensim.models.deprecated.keyedvectors.Vocab at 0x7f1a90a713c8>,\n",
       " 'засос': <gensim.models.deprecated.keyedvectors.Vocab at 0x7f1a9181b828>,\n",
       " 'barnes': <gensim.models.deprecated.keyedvectors.Vocab at 0x7f1a852f1320>,\n",
       " 'амза': <gensim.models.deprecated.keyedvectors.Vocab at 0x7f1a90e54f60>,\n",
       " 'блект': <gensim.models.deprecated.keyedvectors.Vocab at 0x7f1a90f8f828>,\n",
       " 'достигать': <gensim.models.deprecated.keyedvectors.Vocab at 0x7f1a8527db38>,\n",
       " 'камелин': <gensim.models.deprecated.keyedvectors.Vocab at 0x7f1a915179e8>,\n",
       " 'помириться': <gensim.models.deprecated.keyedvectors.Vocab at 0x7f1a918115f8>,\n",
       " 'сзн': <gensim.models.deprecated.keyedvectors.Vocab at 0x7f1a908c2ba8>,\n",
       " 'пунктирно': <gensim.models.deprecated.keyedvectors.Vocab at 0x7f1a914dde48>,\n",
       " 'исследовый': <gensim.models.deprecated.keyedvectors.Vocab at 0x7f1a85fcebe0>,\n",
       " 'аз': <gensim.models.deprecated.keyedvectors.Vocab at 0x7f1a917d7ac8>,\n",
       " 'гумусный': <gensim.models.deprecated.keyedvectors.Vocab at 0x7f1a8484cc50>,\n",
       " 'сивцева': <gensim.models.deprecated.keyedvectors.Vocab at 0x7f1a90fec6d8>,\n",
       " 'вкатиться': <gensim.models.deprecated.keyedvectors.Vocab at 0x7f1a858cbdd8>,\n",
       " 'чудской': <gensim.models.deprecated.keyedvectors.Vocab at 0x7f1a90a25be0>,\n",
       " 'госгарантия': <gensim.models.deprecated.keyedvectors.Vocab at 0x7f1a90d88be0>,\n",
       " 'шкас': <gensim.models.deprecated.keyedvectors.Vocab at 0x7f1a9149ffd0>,\n",
       " 'kormoran': <gensim.models.deprecated.keyedvectors.Vocab at 0x7f1a849e4dd8>,\n",
       " 'dinosaur': <gensim.models.deprecated.keyedvectors.Vocab at 0x7f1a91173e80>,\n",
       " 'internship': <gensim.models.deprecated.keyedvectors.Vocab at 0x7f1a90edc908>,\n",
       " 'мусаниф': <gensim.models.deprecated.keyedvectors.Vocab at 0x7f1a8467f0f0>,\n",
       " 'ланская': <gensim.models.deprecated.keyedvectors.Vocab at 0x7f1a84255cc0>,\n",
       " 'соснова': <gensim.models.deprecated.keyedvectors.Vocab at 0x7f1a85209a90>,\n",
       " 'ноцицептивный': <gensim.models.deprecated.keyedvectors.Vocab at 0x7f1a8620a780>,\n",
       " 'ассиметричность': <gensim.models.deprecated.keyedvectors.Vocab at 0x7f1a9091f3c8>,\n",
       " 'неперечисление': <gensim.models.deprecated.keyedvectors.Vocab at 0x7f1a90a81908>,\n",
       " 'дипломатика': <gensim.models.deprecated.keyedvectors.Vocab at 0x7f1a8538cd30>,\n",
       " 'соковнин': <gensim.models.deprecated.keyedvectors.Vocab at 0x7f1a915086d8>,\n",
       " 'поболтаться': <gensim.models.deprecated.keyedvectors.Vocab at 0x7f1a90b5bef0>,\n",
       " 'disks': <gensim.models.deprecated.keyedvectors.Vocab at 0x7f1a84737da0>,\n",
       " 'литосфера': <gensim.models.deprecated.keyedvectors.Vocab at 0x7f1a844bc048>,\n",
       " 'аэронавигация': <gensim.models.deprecated.keyedvectors.Vocab at 0x7f1a848f57f0>,\n",
       " 'снукер': <gensim.models.deprecated.keyedvectors.Vocab at 0x7f1a90e8ef98>,\n",
       " 'sita': <gensim.models.deprecated.keyedvectors.Vocab at 0x7f1a8532b4e0>,\n",
       " 'бмпт': <gensim.models.deprecated.keyedvectors.Vocab at 0x7f1a84592128>,\n",
       " 'restorator': <gensim.models.deprecated.keyedvectors.Vocab at 0x7f1a8492fdd8>,\n",
       " 'босх': <gensim.models.deprecated.keyedvectors.Vocab at 0x7f1a91077710>,\n",
       " 'решетка': <gensim.models.deprecated.keyedvectors.Vocab at 0x7f1a91832ac8>,\n",
       " 'военно-полицейский': <gensim.models.deprecated.keyedvectors.Vocab at 0x7f1a916f2b70>,\n",
       " 'вается': <gensim.models.deprecated.keyedvectors.Vocab at 0x7f1a917676a0>,\n",
       " 'чарковский': <gensim.models.deprecated.keyedvectors.Vocab at 0x7f1a8490e240>,\n",
       " 'инглиизм': <gensim.models.deprecated.keyedvectors.Vocab at 0x7f1a90c09128>,\n",
       " 'полчетвертого': <gensim.models.deprecated.keyedvectors.Vocab at 0x7f1a847fe7f0>,\n",
       " 'романцев': <gensim.models.deprecated.keyedvectors.Vocab at 0x7f1a8407eeb8>,\n",
       " 'бояршинов': <gensim.models.deprecated.keyedvectors.Vocab at 0x7f1a86258358>,\n",
       " 'тестомес': <gensim.models.deprecated.keyedvectors.Vocab at 0x7f1a84ddea90>,\n",
       " 'футболить': <gensim.models.deprecated.keyedvectors.Vocab at 0x7f1a9073e7b8>,\n",
       " 'шмонэ::эсрэ': <gensim.models.deprecated.keyedvectors.Vocab at 0x7f1a8609ff60>,\n",
       " 'билль': <gensim.models.deprecated.keyedvectors.Vocab at 0x7f1a90d05198>,\n",
       " 'устало': <gensim.models.deprecated.keyedvectors.Vocab at 0x7f1a9086c358>,\n",
       " 'токсикодермия': <gensim.models.deprecated.keyedvectors.Vocab at 0x7f1a84237940>,\n",
       " 'vancouver': <gensim.models.deprecated.keyedvectors.Vocab at 0x7f1a85fb5b00>,\n",
       " 'суета': <gensim.models.deprecated.keyedvectors.Vocab at 0x7f1a855932e8>,\n",
       " 'унизывать': <gensim.models.deprecated.keyedvectors.Vocab at 0x7f1a8520d5f8>,\n",
       " 'мийо': <gensim.models.deprecated.keyedvectors.Vocab at 0x7f1a855d2f98>,\n",
       " 'coral': <gensim.models.deprecated.keyedvectors.Vocab at 0x7f1a84833fd0>,\n",
       " 'мужь': <gensim.models.deprecated.keyedvectors.Vocab at 0x7f1a856d8048>,\n",
       " 'скил': <gensim.models.deprecated.keyedvectors.Vocab at 0x7f1a843dec88>,\n",
       " 'посыпание': <gensim.models.deprecated.keyedvectors.Vocab at 0x7f1a8563d390>,\n",
       " 'хопкинс': <gensim.models.deprecated.keyedvectors.Vocab at 0x7f1a8527d2b0>,\n",
       " 'стипуляция': <gensim.models.deprecated.keyedvectors.Vocab at 0x7f1a85db8588>,\n",
       " 'лютик': <gensim.models.deprecated.keyedvectors.Vocab at 0x7f1a91508f28>,\n",
       " 'сооснователь': <gensim.models.deprecated.keyedvectors.Vocab at 0x7f1a910778d0>,\n",
       " 'курортный': <gensim.models.deprecated.keyedvectors.Vocab at 0x7f1a841b4320>,\n",
       " 'винзиль': <gensim.models.deprecated.keyedvectors.Vocab at 0x7f1a84dfa470>,\n",
       " 'извеняться': <gensim.models.deprecated.keyedvectors.Vocab at 0x7f1a914519b0>,\n",
       " 'янси': <gensim.models.deprecated.keyedvectors.Vocab at 0x7f1a914a9390>,\n",
       " 'фотопродукция': <gensim.models.deprecated.keyedvectors.Vocab at 0x7f1a85927588>,\n",
       " 'бесплатник': <gensim.models.deprecated.keyedvectors.Vocab at 0x7f1a85717e80>,\n",
       " 'мешочный': <gensim.models.deprecated.keyedvectors.Vocab at 0x7f1a90d4ecc0>,\n",
       " 'праведно': <gensim.models.deprecated.keyedvectors.Vocab at 0x7f1a90cc6da0>,\n",
       " 'odf': <gensim.models.deprecated.keyedvectors.Vocab at 0x7f1a8449be10>,\n",
       " 'пчелопродукты': <gensim.models.deprecated.keyedvectors.Vocab at 0x7f1a90c3e4e0>,\n",
       " 'баттерс': <gensim.models.deprecated.keyedvectors.Vocab at 0x7f1a84a53da0>,\n",
       " 'металлик': <gensim.models.deprecated.keyedvectors.Vocab at 0x7f1a852e6f98>,\n",
       " 'михневский': <gensim.models.deprecated.keyedvectors.Vocab at 0x7f1a8514b400>,\n",
       " 'круассан': <gensim.models.deprecated.keyedvectors.Vocab at 0x7f1a914c06a0>,\n",
       " 'розамунд': <gensim.models.deprecated.keyedvectors.Vocab at 0x7f1a863c34e0>,\n",
       " 'беков': <gensim.models.deprecated.keyedvectors.Vocab at 0x7f1a84dd9320>,\n",
       " 'функци': <gensim.models.deprecated.keyedvectors.Vocab at 0x7f1a910ae978>,\n",
       " 'горсовет': <gensim.models.deprecated.keyedvectors.Vocab at 0x7f1a90c74c50>,\n",
       " 'майлз': <gensim.models.deprecated.keyedvectors.Vocab at 0x7f1a9087e320>,\n",
       " 'непризнание': <gensim.models.deprecated.keyedvectors.Vocab at 0x7f1a85a805c0>,\n",
       " 'umd': <gensim.models.deprecated.keyedvectors.Vocab at 0x7f1a8507a5f8>,\n",
       " 'peaks': <gensim.models.deprecated.keyedvectors.Vocab at 0x7f1a90819710>,\n",
       " 'эспоо': <gensim.models.deprecated.keyedvectors.Vocab at 0x7f1a915c5ef0>,\n",
       " 'торосян': <gensim.models.deprecated.keyedvectors.Vocab at 0x7f1a90caf898>,\n",
       " 'челлини': <gensim.models.deprecated.keyedvectors.Vocab at 0x7f1a91869978>,\n",
       " 'blahnik': <gensim.models.deprecated.keyedvectors.Vocab at 0x7f1a84c280f0>,\n",
       " 'рыбколхоз': <gensim.models.deprecated.keyedvectors.Vocab at 0x7f1a918e2f98>,\n",
       " 'паяльник': <gensim.models.deprecated.keyedvectors.Vocab at 0x7f1a914176d8>,\n",
       " 'слухать': <gensim.models.deprecated.keyedvectors.Vocab at 0x7f1a90a32860>,\n",
       " 'еаг': <gensim.models.deprecated.keyedvectors.Vocab at 0x7f1a84ac2cc0>,\n",
       " 'свинина': <gensim.models.deprecated.keyedvectors.Vocab at 0x7f1a909aca58>,\n",
       " 'warrior': <gensim.models.deprecated.keyedvectors.Vocab at 0x7f1a84913d30>,\n",
       " 'аккуратненький': <gensim.models.deprecated.keyedvectors.Vocab at 0x7f1a911a5d30>,\n",
       " 'ивасаки': <gensim.models.deprecated.keyedvectors.Vocab at 0x7f1a90844358>,\n",
       " 'кед': <gensim.models.deprecated.keyedvectors.Vocab at 0x7f1a8590ada0>,\n",
       " 'онов': <gensim.models.deprecated.keyedvectors.Vocab at 0x7f1a842af048>,\n",
       " 'овчинников': <gensim.models.deprecated.keyedvectors.Vocab at 0x7f1a918638d0>,\n",
       " 'застирывать': <gensim.models.deprecated.keyedvectors.Vocab at 0x7f1a856baa58>,\n",
       " 'предзакатный': <gensim.models.deprecated.keyedvectors.Vocab at 0x7f1a90d3f320>,\n",
       " 'ниньо': <gensim.models.deprecated.keyedvectors.Vocab at 0x7f1a90862f60>,\n",
       " 'строматолит': <gensim.models.deprecated.keyedvectors.Vocab at 0x7f1a91288828>,\n",
       " 'герик': <gensim.models.deprecated.keyedvectors.Vocab at 0x7f1a85036748>,\n",
       " 'ацца': <gensim.models.deprecated.keyedvectors.Vocab at 0x7f1a85b9a5f8>,\n",
       " 'глутамат': <gensim.models.deprecated.keyedvectors.Vocab at 0x7f1a860d9ac8>,\n",
       " 'payday': <gensim.models.deprecated.keyedvectors.Vocab at 0x7f1a9168da58>,\n",
       " 'sites': <gensim.models.deprecated.keyedvectors.Vocab at 0x7f1a907a5860>,\n",
       " 'взаимоисключающий': <gensim.models.deprecated.keyedvectors.Vocab at 0x7f1a860a4ba8>,\n",
       " 'аноргазмия': <gensim.models.deprecated.keyedvectors.Vocab at 0x7f1a914c9438>,\n",
       " 'стекать': <gensim.models.deprecated.keyedvectors.Vocab at 0x7f1a91191048>,\n",
       " 'паренек': <gensim.models.deprecated.keyedvectors.Vocab at 0x7f1a8609f198>,\n",
       " 'правозащитник': <gensim.models.deprecated.keyedvectors.Vocab at 0x7f1a8619b470>,\n",
       " 'солнечногорск': <gensim.models.deprecated.keyedvectors.Vocab at 0x7f1a84b75ac8>,\n",
       " 'инфляция': <gensim.models.deprecated.keyedvectors.Vocab at 0x7f1a84308a90>,\n",
       " 'обустраивать': <gensim.models.deprecated.keyedvectors.Vocab at 0x7f1a8542b630>,\n",
       " 'зашпаклевывать': <gensim.models.deprecated.keyedvectors.Vocab at 0x7f1a854cd470>,\n",
       " 'облучатель': <gensim.models.deprecated.keyedvectors.Vocab at 0x7f1a851d87b8>,\n",
       " 'ивушкин': <gensim.models.deprecated.keyedvectors.Vocab at 0x7f1a85c56240>,\n",
       " 'заявление': <gensim.models.deprecated.keyedvectors.Vocab at 0x7f1a8605b080>,\n",
       " 'jeep': <gensim.models.deprecated.keyedvectors.Vocab at 0x7f1a90d49da0>,\n",
       " 'пудож': <gensim.models.deprecated.keyedvectors.Vocab at 0x7f1a8450f160>,\n",
       " 'hks': <gensim.models.deprecated.keyedvectors.Vocab at 0x7f1a85c96240>,\n",
       " 'ипг': <gensim.models.deprecated.keyedvectors.Vocab at 0x7f1a84c71208>,\n",
       " 'негош': <gensim.models.deprecated.keyedvectors.Vocab at 0x7f1a909e69e8>,\n",
       " 'папулезный': <gensim.models.deprecated.keyedvectors.Vocab at 0x7f1a8406fa58>,\n",
       " 'кизельгур': <gensim.models.deprecated.keyedvectors.Vocab at 0x7f1a85ae1eb8>,\n",
       " 'проворство': <gensim.models.deprecated.keyedvectors.Vocab at 0x7f1a84e87a90>,\n",
       " 'кампус': <gensim.models.deprecated.keyedvectors.Vocab at 0x7f1a90df7780>,\n",
       " 'рошанин': <gensim.models.deprecated.keyedvectors.Vocab at 0x7f1a90aeca20>,\n",
       " 'крепь': <gensim.models.deprecated.keyedvectors.Vocab at 0x7f1a911ee588>,\n",
       " 'переправа': <gensim.models.deprecated.keyedvectors.Vocab at 0x7f1a9156bb38>,\n",
       " 'хрип': <gensim.models.deprecated.keyedvectors.Vocab at 0x7f1a90a8f7f0>,\n",
       " 'ipa': <gensim.models.deprecated.keyedvectors.Vocab at 0x7f1a845bd2e8>,\n",
       " 'лермонтовка': <gensim.models.deprecated.keyedvectors.Vocab at 0x7f1a85612f98>,\n",
       " 'минтруда': <gensim.models.deprecated.keyedvectors.Vocab at 0x7f1a913ac160>,\n",
       " 'аман': <gensim.models.deprecated.keyedvectors.Vocab at 0x7f1a90796198>,\n",
       " 'websoft': <gensim.models.deprecated.keyedvectors.Vocab at 0x7f1a84dc6c50>,\n",
       " 'лепихин': <gensim.models.deprecated.keyedvectors.Vocab at 0x7f1a841594e0>,\n",
       " 'cyprus': <gensim.models.deprecated.keyedvectors.Vocab at 0x7f1a85ba33c8>,\n",
       " 'браковка': <gensim.models.deprecated.keyedvectors.Vocab at 0x7f1a9099d5f8>,\n",
       " 'заповедность': <gensim.models.deprecated.keyedvectors.Vocab at 0x7f1a90cd17f0>,\n",
       " 'католический': <gensim.models.deprecated.keyedvectors.Vocab at 0x7f1a8449f6a0>,\n",
       " 'сцв': <gensim.models.deprecated.keyedvectors.Vocab at 0x7f1a84b1fbe0>,\n",
       " 'стефенс': <gensim.models.deprecated.keyedvectors.Vocab at 0x7f1a84237518>,\n",
       " 'сверрира': <gensim.models.deprecated.keyedvectors.Vocab at 0x7f1a9173b4e0>,\n",
       " 'шифровка': <gensim.models.deprecated.keyedvectors.Vocab at 0x7f1a84e0ecf8>,\n",
       " 'mack': <gensim.models.deprecated.keyedvectors.Vocab at 0x7f1a85d92a58>,\n",
       " 'щетиниться': <gensim.models.deprecated.keyedvectors.Vocab at 0x7f1a84ebc6d8>,\n",
       " 'преднамеренно': <gensim.models.deprecated.keyedvectors.Vocab at 0x7f1a84b7a7b8>,\n",
       " 'усл': <gensim.models.deprecated.keyedvectors.Vocab at 0x7f1a85d734a8>,\n",
       " 'муколитика': <gensim.models.deprecated.keyedvectors.Vocab at 0x7f1a852cf470>,\n",
       " 'стробирование': <gensim.models.deprecated.keyedvectors.Vocab at 0x7f1a84fd6208>,\n",
       " 'сплинтер': <gensim.models.deprecated.keyedvectors.Vocab at 0x7f1a90ecd5c0>,\n",
       " 'единорос': <gensim.models.deprecated.keyedvectors.Vocab at 0x7f1a85d9bc18>,\n",
       " 'макнамара': <gensim.models.deprecated.keyedvectors.Vocab at 0x7f1a8566c630>,\n",
       " 'зеир': <gensim.models.deprecated.keyedvectors.Vocab at 0x7f1a8540ab70>,\n",
       " 'околичность': <gensim.models.deprecated.keyedvectors.Vocab at 0x7f1a90b47f28>,\n",
       " 'белогорец': <gensim.models.deprecated.keyedvectors.Vocab at 0x7f1a84237fd0>,\n",
       " 'хоккайдо': <gensim.models.deprecated.keyedvectors.Vocab at 0x7f1a856462e8>,\n",
       " 'обезглавливание': <gensim.models.deprecated.keyedvectors.Vocab at 0x7f1a9107d2b0>,\n",
       " 'простодушный': <gensim.models.deprecated.keyedvectors.Vocab at 0x7f1a84241438>,\n",
       " 'сопереживание': <gensim.models.deprecated.keyedvectors.Vocab at 0x7f1a90d62b38>,\n",
       " 'джемба': <gensim.models.deprecated.keyedvectors.Vocab at 0x7f1a8480dc50>,\n",
       " 'оболтус': <gensim.models.deprecated.keyedvectors.Vocab at 0x7f1a91179e48>,\n",
       " 'запищать': <gensim.models.deprecated.keyedvectors.Vocab at 0x7f1a85388c18>,\n",
       " 'икто': <gensim.models.deprecated.keyedvectors.Vocab at 0x7f1a858a1dd8>,\n",
       " 'larissa': <gensim.models.deprecated.keyedvectors.Vocab at 0x7f1a90dc7860>,\n",
       " 'крейцерова': <gensim.models.deprecated.keyedvectors.Vocab at 0x7f1a85825e10>,\n",
       " 'хромченко': <gensim.models.deprecated.keyedvectors.Vocab at 0x7f1a90e54f28>,\n",
       " 'николаит': <gensim.models.deprecated.keyedvectors.Vocab at 0x7f1a9088df98>,\n",
       " 'углекислота': <gensim.models.deprecated.keyedvectors.Vocab at 0x7f1a91613320>,\n",
       " 'осиновый': <gensim.models.deprecated.keyedvectors.Vocab at 0x7f1a913c39b0>,\n",
       " 'киреева': <gensim.models.deprecated.keyedvectors.Vocab at 0x7f1a90fc4dd8>,\n",
       " 'манометрический': <gensim.models.deprecated.keyedvectors.Vocab at 0x7f1a8639d5f8>,\n",
       " 'поличное': <gensim.models.deprecated.keyedvectors.Vocab at 0x7f1a90c43a90>,\n",
       " 'салеп': <gensim.models.deprecated.keyedvectors.Vocab at 0x7f1a856f4898>,\n",
       " 'тихонович': <gensim.models.deprecated.keyedvectors.Vocab at 0x7f1a84140198>,\n",
       " 'пьезоэлектрический': <gensim.models.deprecated.keyedvectors.Vocab at 0x7f1a84d332b0>,\n",
       " 'жозе': <gensim.models.deprecated.keyedvectors.Vocab at 0x7f1a861d5240>,\n",
       " 'репост': <gensim.models.deprecated.keyedvectors.Vocab at 0x7f1a90a37080>,\n",
       " 'тетерук': <gensim.models.deprecated.keyedvectors.Vocab at 0x7f1a85afd6a0>,\n",
       " 'снабжающий': <gensim.models.deprecated.keyedvectors.Vocab at 0x7f1a86205c18>,\n",
       " 'springs': <gensim.models.deprecated.keyedvectors.Vocab at 0x7f1a9095e5f8>,\n",
       " 'заклинательный': <gensim.models.deprecated.keyedvectors.Vocab at 0x7f1a90a5a208>,\n",
       " 'перминовый': <gensim.models.deprecated.keyedvectors.Vocab at 0x7f1a84856c88>,\n",
       " 'ииет': <gensim.models.deprecated.keyedvectors.Vocab at 0x7f1a914fff60>,\n",
       " 'terry': <gensim.models.deprecated.keyedvectors.Vocab at 0x7f1a84ec1b00>,\n",
       " 'торцев': <gensim.models.deprecated.keyedvectors.Vocab at 0x7f1a84961b38>,\n",
       " 'fibre': <gensim.models.deprecated.keyedvectors.Vocab at 0x7f1a85cf07b8>,\n",
       " 'sup': <gensim.models.deprecated.keyedvectors.Vocab at 0x7f1a858d6320>,\n",
       " 'извоз': <gensim.models.deprecated.keyedvectors.Vocab at 0x7f1a916532e8>,\n",
       " 'надуваться': <gensim.models.deprecated.keyedvectors.Vocab at 0x7f1a8551fa58>,\n",
       " 'оксюморон': <gensim.models.deprecated.keyedvectors.Vocab at 0x7f1a90791e80>,\n",
       " 'исар': <gensim.models.deprecated.keyedvectors.Vocab at 0x7f1a85c56f28>,\n",
       " 'барни': <gensim.models.deprecated.keyedvectors.Vocab at 0x7f1a842419b0>,\n",
       " 'пермитин': <gensim.models.deprecated.keyedvectors.Vocab at 0x7f1a84fe8ba8>,\n",
       " 'курень': <gensim.models.deprecated.keyedvectors.Vocab at 0x7f1a90f02b00>,\n",
       " 'ukraine': <gensim.models.deprecated.keyedvectors.Vocab at 0x7f1a85ebd588>,\n",
       " 'хевиз': <gensim.models.deprecated.keyedvectors.Vocab at 0x7f1a84a799e8>,\n",
       " 'юнита': <gensim.models.deprecated.keyedvectors.Vocab at 0x7f1a84ab3c88>,\n",
       " 'препод': <gensim.models.deprecated.keyedvectors.Vocab at 0x7f1a90e1a470>,\n",
       " 'настоль': <gensim.models.deprecated.keyedvectors.Vocab at 0x7f1a918464e0>,\n",
       " 'отпрессовать': <gensim.models.deprecated.keyedvectors.Vocab at 0x7f1a85ffe9e8>,\n",
       " 'теоден': <gensim.models.deprecated.keyedvectors.Vocab at 0x7f1a90f2a5c0>,\n",
       " 'молить': <gensim.models.deprecated.keyedvectors.Vocab at 0x7f1a91460278>,\n",
       " 'gulf': <gensim.models.deprecated.keyedvectors.Vocab at 0x7f1a861dad68>,\n",
       " 'смолистый': <gensim.models.deprecated.keyedvectors.Vocab at 0x7f1a849d5588>,\n",
       " 'образцово-показательный': <gensim.models.deprecated.keyedvectors.Vocab at 0x7f1a918809e8>,\n",
       " 'тихвинский': <gensim.models.deprecated.keyedvectors.Vocab at 0x7f1a85462b00>,\n",
       " 'пучеглазие': <gensim.models.deprecated.keyedvectors.Vocab at 0x7f1a90c1d9e8>,\n",
       " 'попрошайничать': <gensim.models.deprecated.keyedvectors.Vocab at 0x7f1a85a40470>,\n",
       " 'жеманно': <gensim.models.deprecated.keyedvectors.Vocab at 0x7f1a84a0fc88>,\n",
       " 'тзи': <gensim.models.deprecated.keyedvectors.Vocab at 0x7f1a841a10b8>,\n",
       " 'штрихкод': <gensim.models.deprecated.keyedvectors.Vocab at 0x7f1a90906198>,\n",
       " 'ench': <gensim.models.deprecated.keyedvectors.Vocab at 0x7f1a8408d048>,\n",
       " 'letter': <gensim.models.deprecated.keyedvectors.Vocab at 0x7f1a861c1d68>,\n",
       " 'мышьяковый': <gensim.models.deprecated.keyedvectors.Vocab at 0x7f1a85f284a8>,\n",
       " 'азула': <gensim.models.deprecated.keyedvectors.Vocab at 0x7f1a86279748>,\n",
       " 'hac': <gensim.models.deprecated.keyedvectors.Vocab at 0x7f1a90a8f198>,\n",
       " 'отипакс': <gensim.models.deprecated.keyedvectors.Vocab at 0x7f1a85901940>,\n",
       " 'квебекский': <gensim.models.deprecated.keyedvectors.Vocab at 0x7f1a90d2e400>,\n",
       " 'сагр': <gensim.models.deprecated.keyedvectors.Vocab at 0x7f1a84ee4198>,\n",
       " 'ландо': <gensim.models.deprecated.keyedvectors.Vocab at 0x7f1a91047470>,\n",
       " 'мошков': <gensim.models.deprecated.keyedvectors.Vocab at 0x7f1a914dd550>,\n",
       " 'петлеобразный': <gensim.models.deprecated.keyedvectors.Vocab at 0x7f1a9091aa58>,\n",
       " 'толераст': <gensim.models.deprecated.keyedvectors.Vocab at 0x7f1a90c6b278>,\n",
       " 'огаоу': <gensim.models.deprecated.keyedvectors.Vocab at 0x7f1a912b8390>,\n",
       " 'глибенкламид': <gensim.models.deprecated.keyedvectors.Vocab at 0x7f1a9165c780>,\n",
       " 'велопутешествие': <gensim.models.deprecated.keyedvectors.Vocab at 0x7f1a85589208>,\n",
       " 'feedly': <gensim.models.deprecated.keyedvectors.Vocab at 0x7f1a86191278>,\n",
       " 'инара': <gensim.models.deprecated.keyedvectors.Vocab at 0x7f1a911d0470>,\n",
       " 'руины': <gensim.models.deprecated.keyedvectors.Vocab at 0x7f1a84732ba8>,\n",
       " 'корткерос': <gensim.models.deprecated.keyedvectors.Vocab at 0x7f1a90cf67f0>,\n",
       " 'шоппинг': <gensim.models.deprecated.keyedvectors.Vocab at 0x7f1a85bca320>,\n",
       " 'агат': <gensim.models.deprecated.keyedvectors.Vocab at 0x7f1a8495c320>,\n",
       " 'корум': <gensim.models.deprecated.keyedvectors.Vocab at 0x7f1a84821e48>,\n",
       " 'ucl': <gensim.models.deprecated.keyedvectors.Vocab at 0x7f1a9187a518>,\n",
       " 'gbh': <gensim.models.deprecated.keyedvectors.Vocab at 0x7f1a909ac9b0>,\n",
       " 'fau': <gensim.models.deprecated.keyedvectors.Vocab at 0x7f1a861f5c88>,\n",
       " 'ифп': <gensim.models.deprecated.keyedvectors.Vocab at 0x7f1a858d6a20>,\n",
       " 'dct': <gensim.models.deprecated.keyedvectors.Vocab at 0x7f1a913f8320>,\n",
       " 'цыбко': <gensim.models.deprecated.keyedvectors.Vocab at 0x7f1a90a710f0>,\n",
       " 'колон': <gensim.models.deprecated.keyedvectors.Vocab at 0x7f1a85e89630>,\n",
       " 'баллотирование': <gensim.models.deprecated.keyedvectors.Vocab at 0x7f1a844b6278>,\n",
       " 'олефин': <gensim.models.deprecated.keyedvectors.Vocab at 0x7f1a8517b470>,\n",
       " 'растюха': <gensim.models.deprecated.keyedvectors.Vocab at 0x7f1a8476c048>,\n",
       " 'вкусоароматический': <gensim.models.deprecated.keyedvectors.Vocab at 0x7f1a85d7e128>,\n",
       " 'митьковский': <gensim.models.deprecated.keyedvectors.Vocab at 0x7f1a844b6e80>,\n",
       " 'нафаршировать': <gensim.models.deprecated.keyedvectors.Vocab at 0x7f1a8435a0f0>,\n",
       " 'tlr': <gensim.models.deprecated.keyedvectors.Vocab at 0x7f1a84106630>,\n",
       " 'перерыв': <gensim.models.deprecated.keyedvectors.Vocab at 0x7f1a85e3ba90>,\n",
       " 'юкатанский': <gensim.models.deprecated.keyedvectors.Vocab at 0x7f1a8422cac8>,\n",
       " 'расслабленно': <gensim.models.deprecated.keyedvectors.Vocab at 0x7f1a842d8048>,\n",
       " 'сухопарый': <gensim.models.deprecated.keyedvectors.Vocab at 0x7f1a84f14d30>,\n",
       " 'прожирать': <gensim.models.deprecated.keyedvectors.Vocab at 0x7f1a84d9f160>,\n",
       " 'иллюстратор': <gensim.models.deprecated.keyedvectors.Vocab at 0x7f1a85a206a0>,\n",
       " 'mhp': <gensim.models.deprecated.keyedvectors.Vocab at 0x7f1a90b5b6a0>,\n",
       " 'таурен': <gensim.models.deprecated.keyedvectors.Vocab at 0x7f1a845e0e80>,\n",
       " 'просемейный': <gensim.models.deprecated.keyedvectors.Vocab at 0x7f1a858c1320>,\n",
       " 'варгас': <gensim.models.deprecated.keyedvectors.Vocab at 0x7f1a908ead30>,\n",
       " 'eminem': <gensim.models.deprecated.keyedvectors.Vocab at 0x7f1a85a89630>,\n",
       " 'мурзин': <gensim.models.deprecated.keyedvectors.Vocab at 0x7f1a85fe21d0>,\n",
       " 'рукол': <gensim.models.deprecated.keyedvectors.Vocab at 0x7f1a850f36d8>,\n",
       " 'герасимень': <gensim.models.deprecated.keyedvectors.Vocab at 0x7f1a84f83978>,\n",
       " 'псевдопатриот': <gensim.models.deprecated.keyedvectors.Vocab at 0x7f1a844cb6a0>,\n",
       " 'куруш': <gensim.models.deprecated.keyedvectors.Vocab at 0x7f1a90fadb70>,\n",
       " 'называться': <gensim.models.deprecated.keyedvectors.Vocab at 0x7f1a8457e6d8>,\n",
       " 'кинофильм': <gensim.models.deprecated.keyedvectors.Vocab at 0x7f1a84b24438>,\n",
       " 'смз': <gensim.models.deprecated.keyedvectors.Vocab at 0x7f1a91573978>,\n",
       " 'браха': <gensim.models.deprecated.keyedvectors.Vocab at 0x7f1a914a3898>,\n",
       " 'целеустремленность': <gensim.models.deprecated.keyedvectors.Vocab at 0x7f1a85d539e8>,\n",
       " 'удобоваримый': <gensim.models.deprecated.keyedvectors.Vocab at 0x7f1a85e0f400>,\n",
       " 'downloads': <gensim.models.deprecated.keyedvectors.Vocab at 0x7f1a85bb1358>,\n",
       " 'макет': <gensim.models.deprecated.keyedvectors.Vocab at 0x7f1a86187588>,\n",
       " 'непсихотический': <gensim.models.deprecated.keyedvectors.Vocab at 0x7f1a85b5aa20>,\n",
       " 'немолодой': <gensim.models.deprecated.keyedvectors.Vocab at 0x7f1a84dca208>,\n",
       " 'фуса': <gensim.models.deprecated.keyedvectors.Vocab at 0x7f1a85010080>,\n",
       " 'деятельнос': <gensim.models.deprecated.keyedvectors.Vocab at 0x7f1a85cc15f8>,\n",
       " 'bpms': <gensim.models.deprecated.keyedvectors.Vocab at 0x7f1a90ffa630>,\n",
       " 'вымя': <gensim.models.deprecated.keyedvectors.Vocab at 0x7f1a86143550>,\n",
       " 'сгонка': <gensim.models.deprecated.keyedvectors.Vocab at 0x7f1a90901748>,\n",
       " 'апшеронск': <gensim.models.deprecated.keyedvectors.Vocab at 0x7f1a85905470>,\n",
       " 'сверхдоходы': <gensim.models.deprecated.keyedvectors.Vocab at 0x7f1a90b95198>,\n",
       " 'согрешение': <gensim.models.deprecated.keyedvectors.Vocab at 0x7f1a84a0f400>,\n",
       " 'лександровский': <gensim.models.deprecated.keyedvectors.Vocab at 0x7f1a84b84b70>,\n",
       " 'пчеловождение': <gensim.models.deprecated.keyedvectors.Vocab at 0x7f1a91715d68>,\n",
       " 'сраться': <gensim.models.deprecated.keyedvectors.Vocab at 0x7f1a8417a710>,\n",
       " 'канефрон': <gensim.models.deprecated.keyedvectors.Vocab at 0x7f1a9102cd30>,\n",
       " 'левент': <gensim.models.deprecated.keyedvectors.Vocab at 0x7f1a84241c88>,\n",
       " 'льдистый': <gensim.models.deprecated.keyedvectors.Vocab at 0x7f1a9167e828>,\n",
       " 'сечас': <gensim.models.deprecated.keyedvectors.Vocab at 0x7f1a8502d828>,\n",
       " 'варавино': <gensim.models.deprecated.keyedvectors.Vocab at 0x7f1a90fdd748>,\n",
       " 'нервозность': <gensim.models.deprecated.keyedvectors.Vocab at 0x7f1a845db828>,\n",
       " 'priora': <gensim.models.deprecated.keyedvectors.Vocab at 0x7f1a85e9d7b8>,\n",
       " 'футзал': <gensim.models.deprecated.keyedvectors.Vocab at 0x7f1a907911d0>,\n",
       " 'предположительно': <gensim.models.deprecated.keyedvectors.Vocab at 0x7f1a861b25f8>,\n",
       " 'gemius': <gensim.models.deprecated.keyedvectors.Vocab at 0x7f1a861e7400>,\n",
       " 'режиссировать': <gensim.models.deprecated.keyedvectors.Vocab at 0x7f1a914f48d0>,\n",
       " 'valeria': <gensim.models.deprecated.keyedvectors.Vocab at 0x7f1a910c0588>,\n",
       " 'родблок': <gensim.models.deprecated.keyedvectors.Vocab at 0x7f1a8552c160>,\n",
       " 'патрокл': <gensim.models.deprecated.keyedvectors.Vocab at 0x7f1a84c32940>,\n",
       " 'натирка': <gensim.models.deprecated.keyedvectors.Vocab at 0x7f1a84e5d198>,\n",
       " 'наслег': <gensim.models.deprecated.keyedvectors.Vocab at 0x7f1a912c26d8>,\n",
       " 'олийнык': <gensim.models.deprecated.keyedvectors.Vocab at 0x7f1a849b29e8>,\n",
       " 'укрупнительный': <gensim.models.deprecated.keyedvectors.Vocab at 0x7f1a86384780>,\n",
       " 'айдын': <gensim.models.deprecated.keyedvectors.Vocab at 0x7f1a907afa58>,\n",
       " 'опорник': <gensim.models.deprecated.keyedvectors.Vocab at 0x7f1a85c9bd68>,\n",
       " 'надар': <gensim.models.deprecated.keyedvectors.Vocab at 0x7f1a909b9390>,\n",
       " 'безначалие': <gensim.models.deprecated.keyedvectors.Vocab at 0x7f1a8585c3c8>,\n",
       " 'ипподром': <gensim.models.deprecated.keyedvectors.Vocab at 0x7f1a90ed2550>,\n",
       " 'гелиоцентризм': <gensim.models.deprecated.keyedvectors.Vocab at 0x7f1a85cffbe0>,\n",
       " 'помпея': <gensim.models.deprecated.keyedvectors.Vocab at 0x7f1a85c78208>,\n",
       " 'ендова': <gensim.models.deprecated.keyedvectors.Vocab at 0x7f1a90e841d0>,\n",
       " 'тетюхин': <gensim.models.deprecated.keyedvectors.Vocab at 0x7f1a863aae48>,\n",
       " 'гсчс': <gensim.models.deprecated.keyedvectors.Vocab at 0x7f1a845d6080>,\n",
       " 'удовлетворяться': <gensim.models.deprecated.keyedvectors.Vocab at 0x7f1a90a645f8>,\n",
       " 'уэйн': <gensim.models.deprecated.keyedvectors.Vocab at 0x7f1a85070400>,\n",
       " 'lines': <gensim.models.deprecated.keyedvectors.Vocab at 0x7f1a907b2978>,\n",
       " 'предаваться': <gensim.models.deprecated.keyedvectors.Vocab at 0x7f1a85deca90>,\n",
       " 'рассудительный': <gensim.models.deprecated.keyedvectors.Vocab at 0x7f1a90c614e0>,\n",
       " 'федорцов': <gensim.models.deprecated.keyedvectors.Vocab at 0x7f1a8544a9e8>,\n",
       " 'русофобский': <gensim.models.deprecated.keyedvectors.Vocab at 0x7f1a91731668>,\n",
       " 'текстовик': <gensim.models.deprecated.keyedvectors.Vocab at 0x7f1a8603cfd0>,\n",
       " 'чарышский': <gensim.models.deprecated.keyedvectors.Vocab at 0x7f1a84413978>,\n",
       " 'pcd': <gensim.models.deprecated.keyedvectors.Vocab at 0x7f1a8569e518>,\n",
       " 'амадей': <gensim.models.deprecated.keyedvectors.Vocab at 0x7f1a85176f28>,\n",
       " 'вырезать': <gensim.models.deprecated.keyedvectors.Vocab at 0x7f1a84817a20>,\n",
       " 'сплошной': <gensim.models.deprecated.keyedvectors.Vocab at 0x7f1a90cf1710>,\n",
       " 'lp': <gensim.models.deprecated.keyedvectors.Vocab at 0x7f1a858c7400>,\n",
       " 'френдс': <gensim.models.deprecated.keyedvectors.Vocab at 0x7f1a908e0f60>,\n",
       " 'горловский': <gensim.models.deprecated.keyedvectors.Vocab at 0x7f1a85c9f4e0>,\n",
       " 'жилетный': <gensim.models.deprecated.keyedvectors.Vocab at 0x7f1a84c28d30>,\n",
       " 'косвенный': <gensim.models.deprecated.keyedvectors.Vocab at 0x7f1a911d6748>,\n",
       " 'грыжа': <gensim.models.deprecated.keyedvectors.Vocab at 0x7f1a85ed2898>,\n",
       " 'зиновьевич': <gensim.models.deprecated.keyedvectors.Vocab at 0x7f1a84a88400>,\n",
       " 'айвен': <gensim.models.deprecated.keyedvectors.Vocab at 0x7f1a84255908>,\n",
       " 'масляничный': <gensim.models.deprecated.keyedvectors.Vocab at 0x7f1a90a85550>,\n",
       " 'видеш': <gensim.models.deprecated.keyedvectors.Vocab at 0x7f1a859ed240>,\n",
       " 'шумерля': <gensim.models.deprecated.keyedvectors.Vocab at 0x7f1a84b4aa20>,\n",
       " 'штайнер': <gensim.models.deprecated.keyedvectors.Vocab at 0x7f1a910eeb38>,\n",
       " 'придунавий': <gensim.models.deprecated.keyedvectors.Vocab at 0x7f1a90f12d30>,\n",
       " 'дркб': <gensim.models.deprecated.keyedvectors.Vocab at 0x7f1a84d21a20>,\n",
       " 'якобы': <gensim.models.deprecated.keyedvectors.Vocab at 0x7f1a91560198>,\n",
       " 'термостатный': <gensim.models.deprecated.keyedvectors.Vocab at 0x7f1a8624ed68>,\n",
       " 'закхей': <gensim.models.deprecated.keyedvectors.Vocab at 0x7f1a912c7fd0>,\n",
       " 'культивар': <gensim.models.deprecated.keyedvectors.Vocab at 0x7f1a85e49588>,\n",
       " 'ярополк': <gensim.models.deprecated.keyedvectors.Vocab at 0x7f1a84750860>,\n",
       " 'мотивировочный': <gensim.models.deprecated.keyedvectors.Vocab at 0x7f1a85dc7d30>,\n",
       " 'профайл': <gensim.models.deprecated.keyedvectors.Vocab at 0x7f1a91673710>,\n",
       " 'сгружать': <gensim.models.deprecated.keyedvectors.Vocab at 0x7f1a84b4f710>,\n",
       " 'вуалевый': <gensim.models.deprecated.keyedvectors.Vocab at 0x7f1a86398ef0>,\n",
       " 'шешель': <gensim.models.deprecated.keyedvectors.Vocab at 0x7f1a90b5b9e8>,\n",
       " 'некрещеный': <gensim.models.deprecated.keyedvectors.Vocab at 0x7f1a856e5be0>,\n",
       " 'обормот': <gensim.models.deprecated.keyedvectors.Vocab at 0x7f1a8608b748>,\n",
       " 'производст': <gensim.models.deprecated.keyedvectors.Vocab at 0x7f1a850d7860>,\n",
       " 'кожва': <gensim.models.deprecated.keyedvectors.Vocab at 0x7f1a90b95f60>,\n",
       " 'предстательный': <gensim.models.deprecated.keyedvectors.Vocab at 0x7f1a850aa5f8>,\n",
       " 'вытынанка': <gensim.models.deprecated.keyedvectors.Vocab at 0x7f1a843eba20>,\n",
       " 'стоунхенджа': <gensim.models.deprecated.keyedvectors.Vocab at 0x7f1a85f71b38>,\n",
       " 'интрузивный': <gensim.models.deprecated.keyedvectors.Vocab at 0x7f1a853c6be0>,\n",
       " 'писцовый': <gensim.models.deprecated.keyedvectors.Vocab at 0x7f1a90a85b38>,\n",
       " 'дрючить': <gensim.models.deprecated.keyedvectors.Vocab at 0x7f1a86283da0>,\n",
       " 'сабвевать': <gensim.models.deprecated.keyedvectors.Vocab at 0x7f1a90954940>,\n",
       " 'моноколесо': <gensim.models.deprecated.keyedvectors.Vocab at 0x7f1a85b33780>,\n",
       " 'двухголовый': <gensim.models.deprecated.keyedvectors.Vocab at 0x7f1a90b95898>,\n",
       " 'moneygram': <gensim.models.deprecated.keyedvectors.Vocab at 0x7f1a85c96160>,\n",
       " 'рециклинг': <gensim.models.deprecated.keyedvectors.Vocab at 0x7f1a90c34be0>,\n",
       " 'каппа': <gensim.models.deprecated.keyedvectors.Vocab at 0x7f1a86033748>,\n",
       " 'тейяр': <gensim.models.deprecated.keyedvectors.Vocab at 0x7f1a855701d0>,\n",
       " 'ферментативный': <gensim.models.deprecated.keyedvectors.Vocab at 0x7f1a90e9ef98>,\n",
       " 'иссык': <gensim.models.deprecated.keyedvectors.Vocab at 0x7f1a908f2a90>,\n",
       " 'слоненок': <gensim.models.deprecated.keyedvectors.Vocab at 0x7f1a90d8d208>,\n",
       " 'синицин': <gensim.models.deprecated.keyedvectors.Vocab at 0x7f1a90867978>,\n",
       " 'расформирование': <gensim.models.deprecated.keyedvectors.Vocab at 0x7f1a85887198>,\n",
       " 'вассерман': <gensim.models.deprecated.keyedvectors.Vocab at 0x7f1a91548c88>,\n",
       " 'длинноворсовый': <gensim.models.deprecated.keyedvectors.Vocab at 0x7f1a913fda58>,\n",
       " 'подранок': <gensim.models.deprecated.keyedvectors.Vocab at 0x7f1a90dd6ba8>,\n",
       " 'zhizn': <gensim.models.deprecated.keyedvectors.Vocab at 0x7f1a85575208>,\n",
       " 'фентанить': <gensim.models.deprecated.keyedvectors.Vocab at 0x7f1a85bb1390>,\n",
       " 'отъездить': <gensim.models.deprecated.keyedvectors.Vocab at 0x7f1a84553710>,\n",
       " 'припятский': <gensim.models.deprecated.keyedvectors.Vocab at 0x7f1a914607b8>,\n",
       " 'калатея': <gensim.models.deprecated.keyedvectors.Vocab at 0x7f1a84337400>,\n",
       " 'марксистко': <gensim.models.deprecated.keyedvectors.Vocab at 0x7f1a84803dd8>,\n",
       " 'амфибрахий': <gensim.models.deprecated.keyedvectors.Vocab at 0x7f1a9180c390>,\n",
       " 'dmitriy': <gensim.models.deprecated.keyedvectors.Vocab at 0x7f1a85fd8c88>,\n",
       " 'полярис': <gensim.models.deprecated.keyedvectors.Vocab at 0x7f1a860d3908>,\n",
       " 'брейвика': <gensim.models.deprecated.keyedvectors.Vocab at 0x7f1a91355f60>,\n",
       " 'баллок': <gensim.models.deprecated.keyedvectors.Vocab at 0x7f1a90e75ef0>,\n",
       " 'черноземный': <gensim.models.deprecated.keyedvectors.Vocab at 0x7f1a90830c88>,\n",
       " 'хусит': <gensim.models.deprecated.keyedvectors.Vocab at 0x7f1a85e490f0>,\n",
       " 'тактильность': <gensim.models.deprecated.keyedvectors.Vocab at 0x7f1a85185f60>,\n",
       " 'многоэтажка': <gensim.models.deprecated.keyedvectors.Vocab at 0x7f1a90e1a978>,\n",
       " 'догон': <gensim.models.deprecated.keyedvectors.Vocab at 0x7f1a9091ae48>,\n",
       " 'словцова': <gensim.models.deprecated.keyedvectors.Vocab at 0x7f1a84856f60>,\n",
       " 'зпс': <gensim.models.deprecated.keyedvectors.Vocab at 0x7f1a90bf0d30>,\n",
       " 'оп-арт': <gensim.models.deprecated.keyedvectors.Vocab at 0x7f1a91128320>,\n",
       " 'speech': <gensim.models.deprecated.keyedvectors.Vocab at 0x7f1a848f09b0>,\n",
       " 'пережидать': <gensim.models.deprecated.keyedvectors.Vocab at 0x7f1a84b40128>,\n",
       " 'девятимесячный': <gensim.models.deprecated.keyedvectors.Vocab at 0x7f1a91522630>,\n",
       " 'inox': <gensim.models.deprecated.keyedvectors.Vocab at 0x7f1a84215b38>,\n",
       " 'мезенцев': <gensim.models.deprecated.keyedvectors.Vocab at 0x7f1a84c46160>,\n",
       " 'тарон': <gensim.models.deprecated.keyedvectors.Vocab at 0x7f1a90c27400>,\n",
       " 'небанально': <gensim.models.deprecated.keyedvectors.Vocab at 0x7f1a863595c0>,\n",
       " 'трехпроводной': <gensim.models.deprecated.keyedvectors.Vocab at 0x7f1a912a1f28>,\n",
       " 'theoretical': <gensim.models.deprecated.keyedvectors.Vocab at 0x7f1a9148fdd8>,\n",
       " 'непродуманный': <gensim.models.deprecated.keyedvectors.Vocab at 0x7f1a90d00e48>,\n",
       " 'долбать': <gensim.models.deprecated.keyedvectors.Vocab at 0x7f1a90e1f748>,\n",
       " 'декоративнолиственный': <gensim.models.deprecated.keyedvectors.Vocab at 0x7f1a851ac908>,\n",
       " 'уэмбль': <gensim.models.deprecated.keyedvectors.Vocab at 0x7f1a916e0f60>,\n",
       " 'capatect': <gensim.models.deprecated.keyedvectors.Vocab at 0x7f1a91355be0>,\n",
       " 'неподвижность': <gensim.models.deprecated.keyedvectors.Vocab at 0x7f1a84615780>,\n",
       " 'перикардит': <gensim.models.deprecated.keyedvectors.Vocab at 0x7f1a85fa3400>,\n",
       " 'кукморский': <gensim.models.deprecated.keyedvectors.Vocab at 0x7f1a8421be48>,\n",
       " 'панек': <gensim.models.deprecated.keyedvectors.Vocab at 0x7f1a908b32b0>,\n",
       " 'праці': <gensim.models.deprecated.keyedvectors.Vocab at 0x7f1a855d85c0>,\n",
       " 'вощение': <gensim.models.deprecated.keyedvectors.Vocab at 0x7f1a84351d30>,\n",
       " 'apartments': <gensim.models.deprecated.keyedvectors.Vocab at 0x7f1a84ee8278>,\n",
       " 'картотечный': <gensim.models.deprecated.keyedvectors.Vocab at 0x7f1a85af9320>,\n",
       " 'разморозка': <gensim.models.deprecated.keyedvectors.Vocab at 0x7f1a84ec6048>,\n",
       " 'фифа': <gensim.models.deprecated.keyedvectors.Vocab at 0x7f1a8574c8d0>,\n",
       " 'валах': <gensim.models.deprecated.keyedvectors.Vocab at 0x7f1a85e3b390>,\n",
       " 'робертс': <gensim.models.deprecated.keyedvectors.Vocab at 0x7f1a91735c88>,\n",
       " 'медистый': <gensim.models.deprecated.keyedvectors.Vocab at 0x7f1a909cdcf8>,\n",
       " 'format': <gensim.models.deprecated.keyedvectors.Vocab at 0x7f1a851e35f8>,\n",
       " 'инглише': <gensim.models.deprecated.keyedvectors.Vocab at 0x7f1a84e915f8>,\n",
       " 'пробубнить': <gensim.models.deprecated.keyedvectors.Vocab at 0x7f1a9116b160>,\n",
       " 'наплетать': <gensim.models.deprecated.keyedvectors.Vocab at 0x7f1a862659e8>,\n",
       " 'увлекательность': <gensim.models.deprecated.keyedvectors.Vocab at 0x7f1a90d0b3c8>,\n",
       " 'шуруп': <gensim.models.deprecated.keyedvectors.Vocab at 0x7f1a85f28c88>,\n",
       " 'коннектор': <gensim.models.deprecated.keyedvectors.Vocab at 0x7f1a90d49940>,\n",
       " 'ву': <gensim.models.deprecated.keyedvectors.Vocab at 0x7f1a90c57898>,\n",
       " 'сду': <gensim.models.deprecated.keyedvectors.Vocab at 0x7f1a90c97c18>,\n",
       " 'блядский': <gensim.models.deprecated.keyedvectors.Vocab at 0x7f1a91026128>,\n",
       " 'світі': <gensim.models.deprecated.keyedvectors.Vocab at 0x7f1a85660400>,\n",
       " 'заглавие': <gensim.models.deprecated.keyedvectors.Vocab at 0x7f1a90e8a4e0>,\n",
       " 'sweb': <gensim.models.deprecated.keyedvectors.Vocab at 0x7f1a858e43c8>,\n",
       " 'окоп': <gensim.models.deprecated.keyedvectors.Vocab at 0x7f1a916e46d8>,\n",
       " 'дадаев': <gensim.models.deprecated.keyedvectors.Vocab at 0x7f1a91784d68>,\n",
       " 'кольер': <gensim.models.deprecated.keyedvectors.Vocab at 0x7f1a842710b8>,\n",
       " 'синтезаторный': <gensim.models.deprecated.keyedvectors.Vocab at 0x7f1a84808668>,\n",
       " 'matras': <gensim.models.deprecated.keyedvectors.Vocab at 0x7f1a85b11cc0>,\n",
       " 'бьютя': <gensim.models.deprecated.keyedvectors.Vocab at 0x7f1a84558dd8>,\n",
       " 'ведьмин': <gensim.models.deprecated.keyedvectors.Vocab at 0x7f1a855d2ef0>,\n",
       " 'sib': <gensim.models.deprecated.keyedvectors.Vocab at 0x7f1a8442a4a8>,\n",
       " 'этномира': <gensim.models.deprecated.keyedvectors.Vocab at 0x7f1a85e1a320>,\n",
       " 'балыхин': <gensim.models.deprecated.keyedvectors.Vocab at 0x7f1a84fd6be0>,\n",
       " 'malwarebytes': <gensim.models.deprecated.keyedvectors.Vocab at 0x7f1a85d73978>,\n",
       " 'махачев': <gensim.models.deprecated.keyedvectors.Vocab at 0x7f1a9103dac8>,\n",
       " 'сверхприбыль': <gensim.models.deprecated.keyedvectors.Vocab at 0x7f1a90e1a860>,\n",
       " 'фицо': <gensim.models.deprecated.keyedvectors.Vocab at 0x7f1a914c5748>,\n",
       " 'оварный': <gensim.models.deprecated.keyedvectors.Vocab at 0x7f1a84f83588>,\n",
       " 'сквирт': <gensim.models.deprecated.keyedvectors.Vocab at 0x7f1a84c4ba58>,\n",
       " 'широкополосный': <gensim.models.deprecated.keyedvectors.Vocab at 0x7f1a91582278>,\n",
       " 'отечески': <gensim.models.deprecated.keyedvectors.Vocab at 0x7f1a85ab4ba8>,\n",
       " 'прокопчук': <gensim.models.deprecated.keyedvectors.Vocab at 0x7f1a85966a90>,\n",
       " 'норс': <gensim.models.deprecated.keyedvectors.Vocab at 0x7f1a85221320>,\n",
       " 'фрунзенский': <gensim.models.deprecated.keyedvectors.Vocab at 0x7f1a858d0940>,\n",
       " 'микроблоггинг': <gensim.models.deprecated.keyedvectors.Vocab at 0x7f1a907734a8>,\n",
       " 'реперфузия': <gensim.models.deprecated.keyedvectors.Vocab at 0x7f1a90e84b00>,\n",
       " 'алрос': <gensim.models.deprecated.keyedvectors.Vocab at 0x7f1a918e6828>,\n",
       " 'распахнуть': <gensim.models.deprecated.keyedvectors.Vocab at 0x7f1a915d9c18>,\n",
       " 'биомолекулярный': <gensim.models.deprecated.keyedvectors.Vocab at 0x7f1a91081518>,\n",
       " 'искоренять': <gensim.models.deprecated.keyedvectors.Vocab at 0x7f1a854d6b38>,\n",
       " 'слей': <gensim.models.deprecated.keyedvectors.Vocab at 0x7f1a85ae1240>,\n",
       " 'сачко': <gensim.models.deprecated.keyedvectors.Vocab at 0x7f1a90de5b70>,\n",
       " 'aluminum': <gensim.models.deprecated.keyedvectors.Vocab at 0x7f1a90ac9240>,\n",
       " 'эфирный': <gensim.models.deprecated.keyedvectors.Vocab at 0x7f1a908b33c8>,\n",
       " 'сигнификатор': <gensim.models.deprecated.keyedvectors.Vocab at 0x7f1a90a4bfd0>,\n",
       " 'жумагулов': <gensim.models.deprecated.keyedvectors.Vocab at 0x7f1a84776828>,\n",
       " 'мурлыка': <gensim.models.deprecated.keyedvectors.Vocab at 0x7f1a90afe320>,\n",
       " 'москвоведение': <gensim.models.deprecated.keyedvectors.Vocab at 0x7f1a8624e160>,\n",
       " 'биокефир': <gensim.models.deprecated.keyedvectors.Vocab at 0x7f1a91173080>,\n",
       " 'multipower': <gensim.models.deprecated.keyedvectors.Vocab at 0x7f1a85bbfc18>,\n",
       " 'scotch': <gensim.models.deprecated.keyedvectors.Vocab at 0x7f1a85b2e438>,\n",
       " 'луна': <gensim.models.deprecated.keyedvectors.Vocab at 0x7f1a84baa438>,\n",
       " 'чкаловский': <gensim.models.deprecated.keyedvectors.Vocab at 0x7f1a84c94438>,\n",
       " 'безосколочный': <gensim.models.deprecated.keyedvectors.Vocab at 0x7f1a91021630>,\n",
       " 'бойный': <gensim.models.deprecated.keyedvectors.Vocab at 0x7f1a85510f98>,\n",
       " 'телефонистка': <gensim.models.deprecated.keyedvectors.Vocab at 0x7f1a841700f0>,\n",
       " 'кузмин': <gensim.models.deprecated.keyedvectors.Vocab at 0x7f1a84de3c50>,\n",
       " 'понадобиться': <gensim.models.deprecated.keyedvectors.Vocab at 0x7f1a917f8668>,\n",
       " 'gutenberg': <gensim.models.deprecated.keyedvectors.Vocab at 0x7f1a85e63400>,\n",
       " 'жилин': <gensim.models.deprecated.keyedvectors.Vocab at 0x7f1a90a46be0>,\n",
       " 'floors': <gensim.models.deprecated.keyedvectors.Vocab at 0x7f1a854e8c50>,\n",
       " 'частый': <gensim.models.deprecated.keyedvectors.Vocab at 0x7f1a908c7748>,\n",
       " 'геотаргетинг': <gensim.models.deprecated.keyedvectors.Vocab at 0x7f1a85796048>,\n",
       " 'кожзавод': <gensim.models.deprecated.keyedvectors.Vocab at 0x7f1a84a6f630>,\n",
       " 'вайвейшн': <gensim.models.deprecated.keyedvectors.Vocab at 0x7f1a84635208>,\n",
       " 'любка': <gensim.models.deprecated.keyedvectors.Vocab at 0x7f1a85031f60>,\n",
       " 'дсц': <gensim.models.deprecated.keyedvectors.Vocab at 0x7f1a844e4860>,\n",
       " 'фпн': <gensim.models.deprecated.keyedvectors.Vocab at 0x7f1a847eedd8>,\n",
       " 'обручение': <gensim.models.deprecated.keyedvectors.Vocab at 0x7f1a86283ef0>,\n",
       " 'соверен': <gensim.models.deprecated.keyedvectors.Vocab at 0x7f1a84ebc1d0>,\n",
       " 'изопреновый': <gensim.models.deprecated.keyedvectors.Vocab at 0x7f1a863e1160>,\n",
       " 'амбиентный': <gensim.models.deprecated.keyedvectors.Vocab at 0x7f1a90bb6240>,\n",
       " 'rescue': <gensim.models.deprecated.keyedvectors.Vocab at 0x7f1a845db588>,\n",
       " 'эбер': <gensim.models.deprecated.keyedvectors.Vocab at 0x7f1a91336160>,\n",
       " 'beastie': <gensim.models.deprecated.keyedvectors.Vocab at 0x7f1a84351780>,\n",
       " 'ачитский': <gensim.models.deprecated.keyedvectors.Vocab at 0x7f1a90e98b70>,\n",
       " 'отрешенно': <gensim.models.deprecated.keyedvectors.Vocab at 0x7f1a862d1780>,\n",
       " 'трусовый': <gensim.models.deprecated.keyedvectors.Vocab at 0x7f1a85813c18>,\n",
       " 'преемница': <gensim.models.deprecated.keyedvectors.Vocab at 0x7f1a9109a780>,\n",
       " 'мтбэ': <gensim.models.deprecated.keyedvectors.Vocab at 0x7f1a908eacf8>,\n",
       " 'агроновость': <gensim.models.deprecated.keyedvectors.Vocab at 0x7f1a91166e10>,\n",
       " 'brooklyn': <gensim.models.deprecated.keyedvectors.Vocab at 0x7f1a9164d208>,\n",
       " 'тартарий': <gensim.models.deprecated.keyedvectors.Vocab at 0x7f1a85cdffd0>,\n",
       " 'ампульный': <gensim.models.deprecated.keyedvectors.Vocab at 0x7f1a85bddbe0>,\n",
       " 'agree': <gensim.models.deprecated.keyedvectors.Vocab at 0x7f1a85862898>,\n",
       " 'веко': <gensim.models.deprecated.keyedvectors.Vocab at 0x7f1a84d77ac8>,\n",
       " 'ускользать': <gensim.models.deprecated.keyedvectors.Vocab at 0x7f1a84a4ed68>,\n",
       " 'припевка': <gensim.models.deprecated.keyedvectors.Vocab at 0x7f1a853527f0>,\n",
       " 'clover': <gensim.models.deprecated.keyedvectors.Vocab at 0x7f1a853c69b0>,\n",
       " 'diving': <gensim.models.deprecated.keyedvectors.Vocab at 0x7f1a8499b5c0>,\n",
       " 'басурманин': <gensim.models.deprecated.keyedvectors.Vocab at 0x7f1a90fe3630>,\n",
       " 'эномай': <gensim.models.deprecated.keyedvectors.Vocab at 0x7f1a9107de10>,\n",
       " 'сворачивать': <gensim.models.deprecated.keyedvectors.Vocab at 0x7f1a861c16a0>,\n",
       " 'выкручивание': <gensim.models.deprecated.keyedvectors.Vocab at 0x7f1a9111d390>,\n",
       " 'рор': <gensim.models.deprecated.keyedvectors.Vocab at 0x7f1a910e8f60>,\n",
       " 'гараж': <gensim.models.deprecated.keyedvectors.Vocab at 0x7f1a852da668>,\n",
       " 'ляется': <gensim.models.deprecated.keyedvectors.Vocab at 0x7f1a85e017b8>,\n",
       " 'прекращаться': <gensim.models.deprecated.keyedvectors.Vocab at 0x7f1a91288128>,\n",
       " 'ямагуч': <gensim.models.deprecated.keyedvectors.Vocab at 0x7f1a84615b00>,\n",
       " 'каротин': <gensim.models.deprecated.keyedvectors.Vocab at 0x7f1a86033240>,\n",
       " 'суперсредний': <gensim.models.deprecated.keyedvectors.Vocab at 0x7f1a85128da0>,\n",
       " 'clubman': <gensim.models.deprecated.keyedvectors.Vocab at 0x7f1a84ef1ba8>,\n",
       " 'суперпластификатор': <gensim.models.deprecated.keyedvectors.Vocab at 0x7f1a90e1fb70>,\n",
       " 'разорение': <gensim.models.deprecated.keyedvectors.Vocab at 0x7f1a916e4668>,\n",
       " 'стратегически': <gensim.models.deprecated.keyedvectors.Vocab at 0x7f1a84371c88>,\n",
       " 'кукис': <gensim.models.deprecated.keyedvectors.Vocab at 0x7f1a854e1c50>,\n",
       " 'порыв': <gensim.models.deprecated.keyedvectors.Vocab at 0x7f1a85382198>,\n",
       " 'хантайский': <gensim.models.deprecated.keyedvectors.Vocab at 0x7f1a85cc5630>,\n",
       " 'topsy': <gensim.models.deprecated.keyedvectors.Vocab at 0x7f1a853b3198>,\n",
       " 'керамзит': <gensim.models.deprecated.keyedvectors.Vocab at 0x7f1a84fe0908>,\n",
       " 'бюджет': <gensim.models.deprecated.keyedvectors.Vocab at 0x7f1a9123b0f0>,\n",
       " 'упрямый': <gensim.models.deprecated.keyedvectors.Vocab at 0x7f1a914c9e48>,\n",
       " 'сердоба': <gensim.models.deprecated.keyedvectors.Vocab at 0x7f1a9084ebe0>,\n",
       " 'покатость': <gensim.models.deprecated.keyedvectors.Vocab at 0x7f1a858e7ba8>,\n",
       " 'ямик': <gensim.models.deprecated.keyedvectors.Vocab at 0x7f1a85ec3cc0>,\n",
       " 'лиар': <gensim.models.deprecated.keyedvectors.Vocab at 0x7f1a84ca31d0>,\n",
       " 'рескин': <gensim.models.deprecated.keyedvectors.Vocab at 0x7f1a84da77b8>,\n",
       " 'жалиться': <gensim.models.deprecated.keyedvectors.Vocab at 0x7f1a907aab38>,\n",
       " 'ммквя': <gensim.models.deprecated.keyedvectors.Vocab at 0x7f1a84c9eb70>,\n",
       " 'надрамник': <gensim.models.deprecated.keyedvectors.Vocab at 0x7f1a90931f28>,\n",
       " 'клишаса': <gensim.models.deprecated.keyedvectors.Vocab at 0x7f1a9178ea20>,\n",
       " 'назаренко': <gensim.models.deprecated.keyedvectors.Vocab at 0x7f1a852a45c0>,\n",
       " 'донышко': <gensim.models.deprecated.keyedvectors.Vocab at 0x7f1a913b5b38>,\n",
       " 'надобно': <gensim.models.deprecated.keyedvectors.Vocab at 0x7f1a91086e80>,\n",
       " 'утверж': <gensim.models.deprecated.keyedvectors.Vocab at 0x7f1a84346c88>,\n",
       " 'вытянутый': <gensim.models.deprecated.keyedvectors.Vocab at 0x7f1a84ee42e8>,\n",
       " 'boiler': <gensim.models.deprecated.keyedvectors.Vocab at 0x7f1a90ba4c50>,\n",
       " 'пировать': <gensim.models.deprecated.keyedvectors.Vocab at 0x7f1a9124ab70>,\n",
       " 'белые': <gensim.models.deprecated.keyedvectors.Vocab at 0x7f1a915a5358>,\n",
       " 'махмутов': <gensim.models.deprecated.keyedvectors.Vocab at 0x7f1a90a1bd68>,\n",
       " 'звуковой': <gensim.models.deprecated.keyedvectors.Vocab at 0x7f1a90867c18>,\n",
       " 'шестикилометровый': <gensim.models.deprecated.keyedvectors.Vocab at 0x7f1a8423bcf8>,\n",
       " 'новоявленный': <gensim.models.deprecated.keyedvectors.Vocab at 0x7f1a90ba95f8>,\n",
       " 'саво': <gensim.models.deprecated.keyedvectors.Vocab at 0x7f1a90a02f98>,\n",
       " 'прострелять': <gensim.models.deprecated.keyedvectors.Vocab at 0x7f1a91012b38>,\n",
       " 'джорджина': <gensim.models.deprecated.keyedvectors.Vocab at 0x7f1a85b5ac50>,\n",
       " 'мамонтенк': <gensim.models.deprecated.keyedvectors.Vocab at 0x7f1a90fc9c50>,\n",
       " 'сокамерница': <gensim.models.deprecated.keyedvectors.Vocab at 0x7f1a85cff240>,\n",
       " 'валентина': <gensim.models.deprecated.keyedvectors.Vocab at 0x7f1a9088d1d0>,\n",
       " 'автосити': <gensim.models.deprecated.keyedvectors.Vocab at 0x7f1a9147cbe0>,\n",
       " 'экзон': <gensim.models.deprecated.keyedvectors.Vocab at 0x7f1a85c481d0>,\n",
       " 'шудра': <gensim.models.deprecated.keyedvectors.Vocab at 0x7f1a84ec1668>,\n",
       " 'чехонт': <gensim.models.deprecated.keyedvectors.Vocab at 0x7f1a8439ae48>,\n",
       " 'засвидетельствовать': <gensim.models.deprecated.keyedvectors.Vocab at 0x7f1a907f16d8>,\n",
       " 'ассимилировать': <gensim.models.deprecated.keyedvectors.Vocab at 0x7f1a90f25978>,\n",
       " 'усц': <gensim.models.deprecated.keyedvectors.Vocab at 0x7f1a84aa94a8>,\n",
       " 'эбс': <gensim.models.deprecated.keyedvectors.Vocab at 0x7f1a84f88710>,\n",
       " 'мишина': <gensim.models.deprecated.keyedvectors.Vocab at 0x7f1a912c7e48>,\n",
       " 'джатака': <gensim.models.deprecated.keyedvectors.Vocab at 0x7f1a860817b8>,\n",
       " 'tst': <gensim.models.deprecated.keyedvectors.Vocab at 0x7f1a84351eb8>,\n",
       " 'кнг': <gensim.models.deprecated.keyedvectors.Vocab at 0x7f1a840c7ac8>,\n",
       " 'brut': <gensim.models.deprecated.keyedvectors.Vocab at 0x7f1a850dccc0>,\n",
       " 'вышеприведенный': <gensim.models.deprecated.keyedvectors.Vocab at 0x7f1a9176de48>,\n",
       " 'зохар': <gensim.models.deprecated.keyedvectors.Vocab at 0x7f1a90b95400>,\n",
       " 'лемурия': <gensim.models.deprecated.keyedvectors.Vocab at 0x7f1a9170ab00>,\n",
       " 'уловитель': <gensim.models.deprecated.keyedvectors.Vocab at 0x7f1a90a16438>,\n",
       " 'шамсутдин': <gensim.models.deprecated.keyedvectors.Vocab at 0x7f1a84f0b208>,\n",
       " 'дезире': <gensim.models.deprecated.keyedvectors.Vocab at 0x7f1a8606d630>,\n",
       " 'пакетировочный': <gensim.models.deprecated.keyedvectors.Vocab at 0x7f1a85314940>,\n",
       " 'чморить': <gensim.models.deprecated.keyedvectors.Vocab at 0x7f1a84574908>,\n",
       " 'adlabs': <gensim.models.deprecated.keyedvectors.Vocab at 0x7f1a853fc2e8>,\n",
       " 'алиментный': <gensim.models.deprecated.keyedvectors.Vocab at 0x7f1a845dbef0>,\n",
       " 'sym': <gensim.models.deprecated.keyedvectors.Vocab at 0x7f1a8520d4a8>,\n",
       " 'натяжитель': <gensim.models.deprecated.keyedvectors.Vocab at 0x7f1a853b70b8>,\n",
       " 'lmt': <gensim.models.deprecated.keyedvectors.Vocab at 0x7f1a849f6320>,\n",
       " 'амариэ': <gensim.models.deprecated.keyedvectors.Vocab at 0x7f1a859a19b0>,\n",
       " 'hn': <gensim.models.deprecated.keyedvectors.Vocab at 0x7f1a8524c6a0>,\n",
       " 'аскар': <gensim.models.deprecated.keyedvectors.Vocab at 0x7f1a909d7908>,\n",
       " 'внутриушной': <gensim.models.deprecated.keyedvectors.Vocab at 0x7f1a9161e400>,\n",
       " 'генерал-аншеф': <gensim.models.deprecated.keyedvectors.Vocab at 0x7f1a91692dd8>,\n",
       " 'крайне': <gensim.models.deprecated.keyedvectors.Vocab at 0x7f1a84fd1400>,\n",
       " 'drain': <gensim.models.deprecated.keyedvectors.Vocab at 0x7f1a9184b4a8>,\n",
       " 'мирон': <gensim.models.deprecated.keyedvectors.Vocab at 0x7f1a90b8c710>,\n",
       " 'древоточец': <gensim.models.deprecated.keyedvectors.Vocab at 0x7f1a917c8080>,\n",
       " 'гарантия': <gensim.models.deprecated.keyedvectors.Vocab at 0x7f1a859e9160>,\n",
       " 'симмонс': <gensim.models.deprecated.keyedvectors.Vocab at 0x7f1a917acf28>,\n",
       " 'цыганов': <gensim.models.deprecated.keyedvectors.Vocab at 0x7f1a84771780>,\n",
       " 'зготовление': <gensim.models.deprecated.keyedvectors.Vocab at 0x7f1a85b80668>,\n",
       " 'миконос': <gensim.models.deprecated.keyedvectors.Vocab at 0x7f1a84079b00>,\n",
       " 'kms': <gensim.models.deprecated.keyedvectors.Vocab at 0x7f1a915bca58>,\n",
       " 'сенсуализм': <gensim.models.deprecated.keyedvectors.Vocab at 0x7f1a861690f0>,\n",
       " 'творог': <gensim.models.deprecated.keyedvectors.Vocab at 0x7f1a908bda90>,\n",
       " 'сумза': <gensim.models.deprecated.keyedvectors.Vocab at 0x7f1a850eeb00>,\n",
       " 'бабосик': <gensim.models.deprecated.keyedvectors.Vocab at 0x7f1a85aa6ef0>,\n",
       " 'краюшка': <gensim.models.deprecated.keyedvectors.Vocab at 0x7f1a8630b4e0>,\n",
       " 'условленный': <gensim.models.deprecated.keyedvectors.Vocab at 0x7f1a91130160>,\n",
       " 'переселение': <gensim.models.deprecated.keyedvectors.Vocab at 0x7f1a9135e6d8>,\n",
       " 'полусинтетический': <gensim.models.deprecated.keyedvectors.Vocab at 0x7f1a84debe10>,\n",
       " 'аквадиск': <gensim.models.deprecated.keyedvectors.Vocab at 0x7f1a840ccac8>,\n",
       " 'чурчхела': <gensim.models.deprecated.keyedvectors.Vocab at 0x7f1a84baa668>,\n",
       " 'центрировать': <gensim.models.deprecated.keyedvectors.Vocab at 0x7f1a90c82be0>,\n",
       " 'picaso': <gensim.models.deprecated.keyedvectors.Vocab at 0x7f1a90ffe0f0>,\n",
       " 'страгивать': <gensim.models.deprecated.keyedvectors.Vocab at 0x7f1a85aeec88>,\n",
       " 'хост': <gensim.models.deprecated.keyedvectors.Vocab at 0x7f1a85c734e0>,\n",
       " 'придержать': <gensim.models.deprecated.keyedvectors.Vocab at 0x7f1a85fa3710>,\n",
       " 'привет': <gensim.models.deprecated.keyedvectors.Vocab at 0x7f1a9166cf28>,\n",
       " 'cis': <gensim.models.deprecated.keyedvectors.Vocab at 0x7f1a91899e10>,\n",
       " 'биоцинк': <gensim.models.deprecated.keyedvectors.Vocab at 0x7f1a84f6ab00>,\n",
       " 'бомбить': <gensim.models.deprecated.keyedvectors.Vocab at 0x7f1a909ac5c0>,\n",
       " 'заправский': <gensim.models.deprecated.keyedvectors.Vocab at 0x7f1a91806908>,\n",
       " 'ффккр': <gensim.models.deprecated.keyedvectors.Vocab at 0x7f1a861229b0>,\n",
       " 'патоморфология': <gensim.models.deprecated.keyedvectors.Vocab at 0x7f1a85e7f7f0>,\n",
       " 'суок': <gensim.models.deprecated.keyedvectors.Vocab at 0x7f1a8568a128>,\n",
       " 'страж': <gensim.models.deprecated.keyedvectors.Vocab at 0x7f1a84edf358>,\n",
       " 'крамаров': <gensim.models.deprecated.keyedvectors.Vocab at 0x7f1a9137b780>,\n",
       " 'дебетный': <gensim.models.deprecated.keyedvectors.Vocab at 0x7f1a863665f8>,\n",
       " 'техсервис': <gensim.models.deprecated.keyedvectors.Vocab at 0x7f1a84201be0>,\n",
       " 'баходир': <gensim.models.deprecated.keyedvectors.Vocab at 0x7f1a91513978>,\n",
       " 'непрошедший': <gensim.models.deprecated.keyedvectors.Vocab at 0x7f1a8513c9b0>,\n",
       " 'шуний': <gensim.models.deprecated.keyedvectors.Vocab at 0x7f1a9185a358>,\n",
       " 'biblioteka': <gensim.models.deprecated.keyedvectors.Vocab at 0x7f1a862aed30>,\n",
       " 'мву': <gensim.models.deprecated.keyedvectors.Vocab at 0x7f1a84da7ef0>,\n",
       " 'hainan': <gensim.models.deprecated.keyedvectors.Vocab at 0x7f1a9112c9e8>,\n",
       " 'communis': <gensim.models.deprecated.keyedvectors.Vocab at 0x7f1a852216a0>,\n",
       " 'рыбоводство': <gensim.models.deprecated.keyedvectors.Vocab at 0x7f1a84a49a20>,\n",
       " 'хайян': <gensim.models.deprecated.keyedvectors.Vocab at 0x7f1a848384e0>,\n",
       " 'рушиться': <gensim.models.deprecated.keyedvectors.Vocab at 0x7f1a9079b0f0>,\n",
       " 'самоконтроль': <gensim.models.deprecated.keyedvectors.Vocab at 0x7f1a8610d128>,\n",
       " 'phonak': <gensim.models.deprecated.keyedvectors.Vocab at 0x7f1a85c8ba58>,\n",
       " 'треугольник': <gensim.models.deprecated.keyedvectors.Vocab at 0x7f1a85cdfcc0>,\n",
       " 'казарновская': <gensim.models.deprecated.keyedvectors.Vocab at 0x7f1a84ab8438>,\n",
       " 'йти': <gensim.models.deprecated.keyedvectors.Vocab at 0x7f1a846a2f28>,\n",
       " 'ппкоп': <gensim.models.deprecated.keyedvectors.Vocab at 0x7f1a90c18c50>,\n",
       " 'энергомашиностроение': <gensim.models.deprecated.keyedvectors.Vocab at 0x7f1a84de6b70>,\n",
       " 'дура': <gensim.models.deprecated.keyedvectors.Vocab at 0x7f1a8431c400>,\n",
       " 'неслучайно': <gensim.models.deprecated.keyedvectors.Vocab at 0x7f1a8610d7b8>,\n",
       " 'нашому': <gensim.models.deprecated.keyedvectors.Vocab at 0x7f1a850b44a8>,\n",
       " 'revive': <gensim.models.deprecated.keyedvectors.Vocab at 0x7f1a8442aa58>,\n",
       " 'мастхэв': <gensim.models.deprecated.keyedvectors.Vocab at 0x7f1a90b60fd0>,\n",
       " 'навик': <gensim.models.deprecated.keyedvectors.Vocab at 0x7f1a847506d8>,\n",
       " 'aimpoint': <gensim.models.deprecated.keyedvectors.Vocab at 0x7f1a8525ba58>,\n",
       " 'толково': <gensim.models.deprecated.keyedvectors.Vocab at 0x7f1a91899278>,\n",
       " 'заспамленность': <gensim.models.deprecated.keyedvectors.Vocab at 0x7f1a90c82860>,\n",
       " 'synthesis': <gensim.models.deprecated.keyedvectors.Vocab at 0x7f1a85c1c208>,\n",
       " 'конфликтолог': <gensim.models.deprecated.keyedvectors.Vocab at 0x7f1a91792e10>,\n",
       " 'благодушно': <gensim.models.deprecated.keyedvectors.Vocab at 0x7f1a84e34a58>,\n",
       " 'двенадцатицилиндровый': <gensim.models.deprecated.keyedvectors.Vocab at 0x7f1a91784da0>,\n",
       " 'изыдет': <gensim.models.deprecated.keyedvectors.Vocab at 0x7f1a84dcf240>,\n",
       " 'dsc': <gensim.models.deprecated.keyedvectors.Vocab at 0x7f1a90d8de10>,\n",
       " 'откуп': <gensim.models.deprecated.keyedvectors.Vocab at 0x7f1a916aa278>,\n",
       " 'fairline': <gensim.models.deprecated.keyedvectors.Vocab at 0x7f1a90835ef0>,\n",
       " 'гаррет': <gensim.models.deprecated.keyedvectors.Vocab at 0x7f1a84780470>,\n",
       " 'киноканал': <gensim.models.deprecated.keyedvectors.Vocab at 0x7f1a85423b70>,\n",
       " 'failed': <gensim.models.deprecated.keyedvectors.Vocab at 0x7f1a912e1710>,\n",
       " 'старомодность': <gensim.models.deprecated.keyedvectors.Vocab at 0x7f1a91577320>,\n",
       " 'всплеск': <gensim.models.deprecated.keyedvectors.Vocab at 0x7f1a845440f0>,\n",
       " 'радик': <gensim.models.deprecated.keyedvectors.Vocab at 0x7f1a849b7a58>,\n",
       " 'покойницкая': <gensim.models.deprecated.keyedvectors.Vocab at 0x7f1a841b8b00>,\n",
       " 'евросибэнерго': <gensim.models.deprecated.keyedvectors.Vocab at 0x7f1a9160f240>,\n",
       " 'клинник': <gensim.models.deprecated.keyedvectors.Vocab at 0x7f1a84e78b38>,\n",
       " 'арутюнян': <gensim.models.deprecated.keyedvectors.Vocab at 0x7f1a90d0b518>,\n",
       " 'подворачивать': <gensim.models.deprecated.keyedvectors.Vocab at 0x7f1a912ea668>,\n",
       " 'oko': <gensim.models.deprecated.keyedvectors.Vocab at 0x7f1a848f59e8>,\n",
       " 'случайность': <gensim.models.deprecated.keyedvectors.Vocab at 0x7f1a916963c8>,\n",
       " 'мигрантка': <gensim.models.deprecated.keyedvectors.Vocab at 0x7f1a86205400>,\n",
       " 'бэк': <gensim.models.deprecated.keyedvectors.Vocab at 0x7f1a862cc860>,\n",
       " 'мокиенко': <gensim.models.deprecated.keyedvectors.Vocab at 0x7f1a908eaf28>,\n",
       " 'dubstep': <gensim.models.deprecated.keyedvectors.Vocab at 0x7f1a85a24470>,\n",
       " 'квадрат': <gensim.models.deprecated.keyedvectors.Vocab at 0x7f1a84333198>,\n",
       " 'yl': <gensim.models.deprecated.keyedvectors.Vocab at 0x7f1a843b16d8>,\n",
       " 'всеохватный': <gensim.models.deprecated.keyedvectors.Vocab at 0x7f1a85570208>,\n",
       " 'слобожанщин': <gensim.models.deprecated.keyedvectors.Vocab at 0x7f1a85f710f0>,\n",
       " 'накрывка': <gensim.models.deprecated.keyedvectors.Vocab at 0x7f1a84a5de48>,\n",
       " 'чусовской': <gensim.models.deprecated.keyedvectors.Vocab at 0x7f1a8552c400>,\n",
       " 'берман': <gensim.models.deprecated.keyedvectors.Vocab at 0x7f1a841b8e80>,\n",
       " 'дисульфирам': <gensim.models.deprecated.keyedvectors.Vocab at 0x7f1a845a9cc0>,\n",
       " 'хурайр': <gensim.models.deprecated.keyedvectors.Vocab at 0x7f1a84692390>,\n",
       " 'amie': <gensim.models.deprecated.keyedvectors.Vocab at 0x7f1a84cc94e0>,\n",
       " 'экспозиционер': <gensim.models.deprecated.keyedvectors.Vocab at 0x7f1a844d92e8>,\n",
       " 'doggy': <gensim.models.deprecated.keyedvectors.Vocab at 0x7f1a9090bf98>,\n",
       " 'землеведение': <gensim.models.deprecated.keyedvectors.Vocab at 0x7f1a84e2fc88>,\n",
       " 'теплотворность': <gensim.models.deprecated.keyedvectors.Vocab at 0x7f1a85be27f0>,\n",
       " 'testament': <gensim.models.deprecated.keyedvectors.Vocab at 0x7f1a84c942b0>,\n",
       " 'ftl': <gensim.models.deprecated.keyedvectors.Vocab at 0x7f1a84bb93c8>,\n",
       " 'орматека': <gensim.models.deprecated.keyedvectors.Vocab at 0x7f1a84b06588>,\n",
       " 'громоздкость': <gensim.models.deprecated.keyedvectors.Vocab at 0x7f1a85f7bb38>,\n",
       " 'ледостав': <gensim.models.deprecated.keyedvectors.Vocab at 0x7f1a84189748>,\n",
       " 'противогельминтный': <gensim.models.deprecated.keyedvectors.Vocab at 0x7f1a85de8550>,\n",
       " 'уотс': <gensim.models.deprecated.keyedvectors.Vocab at 0x7f1a90e68c88>,\n",
       " 'голодный': <gensim.models.deprecated.keyedvectors.Vocab at 0x7f1a84851f28>,\n",
       " 'здраво': <gensim.models.deprecated.keyedvectors.Vocab at 0x7f1a84cc4630>,\n",
       " 'красноусольский': <gensim.models.deprecated.keyedvectors.Vocab at 0x7f1a84ad6f60>,\n",
       " 'ливерный': <gensim.models.deprecated.keyedvectors.Vocab at 0x7f1a85e7fef0>,\n",
       " 'ингибина': <gensim.models.deprecated.keyedvectors.Vocab at 0x7f1a91587a20>,\n",
       " 'енин': <gensim.models.deprecated.keyedvectors.Vocab at 0x7f1a9174a080>,\n",
       " 'мамонтовский': <gensim.models.deprecated.keyedvectors.Vocab at 0x7f1a857eb470>,\n",
       " 'готовенький': <gensim.models.deprecated.keyedvectors.Vocab at 0x7f1a847064a8>,\n",
       " 'предоплата': <gensim.models.deprecated.keyedvectors.Vocab at 0x7f1a86205588>,\n",
       " 'originals': <gensim.models.deprecated.keyedvectors.Vocab at 0x7f1a85e5e908>,\n",
       " 'дианетический': <gensim.models.deprecated.keyedvectors.Vocab at 0x7f1a907df5f8>,\n",
       " 'критично': <gensim.models.deprecated.keyedvectors.Vocab at 0x7f1a91375da0>,\n",
       " 'петровка': <gensim.models.deprecated.keyedvectors.Vocab at 0x7f1a90e24160>,\n",
       " 'eurocopter': <gensim.models.deprecated.keyedvectors.Vocab at 0x7f1a857c0780>,\n",
       " 'гидрометаллургический': <gensim.models.deprecated.keyedvectors.Vocab at 0x7f1a8512d3c8>,\n",
       " 'шсс': <gensim.models.deprecated.keyedvectors.Vocab at 0x7f1a909241d0>,\n",
       " 'андорра': <gensim.models.deprecated.keyedvectors.Vocab at 0x7f1a84adbc88>,\n",
       " 'обсолютно': <gensim.models.deprecated.keyedvectors.Vocab at 0x7f1a84c5a160>,\n",
       " 'ненасытно': <gensim.models.deprecated.keyedvectors.Vocab at 0x7f1a8436d128>,\n",
       " 'харф': <gensim.models.deprecated.keyedvectors.Vocab at 0x7f1a843ce9b0>,\n",
       " 'смоленсктеплосеть': <gensim.models.deprecated.keyedvectors.Vocab at 0x7f1a849737b8>,\n",
       " 'суинтон': <gensim.models.deprecated.keyedvectors.Vocab at 0x7f1a91789320>,\n",
       " 'внутрисердечный': <gensim.models.deprecated.keyedvectors.Vocab at 0x7f1a90aa8e10>,\n",
       " 'бруно': <gensim.models.deprecated.keyedvectors.Vocab at 0x7f1a863be898>,\n",
       " 'lutens': <gensim.models.deprecated.keyedvectors.Vocab at 0x7f1a9174a160>,\n",
       " 'алкарский': <gensim.models.deprecated.keyedvectors.Vocab at 0x7f1a86359160>,\n",
       " 'ливинг': <gensim.models.deprecated.keyedvectors.Vocab at 0x7f1a91270da0>,\n",
       " 'quo': <gensim.models.deprecated.keyedvectors.Vocab at 0x7f1a90d4edd8>,\n",
       " 'яшик': <gensim.models.deprecated.keyedvectors.Vocab at 0x7f1a844b6eb8>,\n",
       " 'заглядение': <gensim.models.deprecated.keyedvectors.Vocab at 0x7f1a848334e0>,\n",
       " 'зуд': <gensim.models.deprecated.keyedvectors.Vocab at 0x7f1a84808908>,\n",
       " 'vsn': <gensim.models.deprecated.keyedvectors.Vocab at 0x7f1a90e16940>,\n",
       " 'самовыражение': <gensim.models.deprecated.keyedvectors.Vocab at 0x7f1a85f6b438>,\n",
       " 'наемный': <gensim.models.deprecated.keyedvectors.Vocab at 0x7f1a911abc18>,\n",
       " 'охотиться': <gensim.models.deprecated.keyedvectors.Vocab at 0x7f1a863c8160>,\n",
       " 'властолюбец': <gensim.models.deprecated.keyedvectors.Vocab at 0x7f1a917e1710>,\n",
       " 'astro': <gensim.models.deprecated.keyedvectors.Vocab at 0x7f1a90d705c0>,\n",
       " 'фурагин': <gensim.models.deprecated.keyedvectors.Vocab at 0x7f1a9105b940>,\n",
       " 'опоить': <gensim.models.deprecated.keyedvectors.Vocab at 0x7f1a9143d198>,\n",
       " 'лвс': <gensim.models.deprecated.keyedvectors.Vocab at 0x7f1a90a2aa20>,\n",
       " 'ефремовна': <gensim.models.deprecated.keyedvectors.Vocab at 0x7f1a85070828>,\n",
       " 'kimberly': <gensim.models.deprecated.keyedvectors.Vocab at 0x7f1a84e9b588>,\n",
       " 'менстр': <gensim.models.deprecated.keyedvectors.Vocab at 0x7f1a84706240>,\n",
       " 'fmf': <gensim.models.deprecated.keyedvectors.Vocab at 0x7f1a854aeef0>,\n",
       " 'протекать': <gensim.models.deprecated.keyedvectors.Vocab at 0x7f1a85e83f98>,\n",
       " 'пресняков': <gensim.models.deprecated.keyedvectors.Vocab at 0x7f1a8414a630>,\n",
       " 'еделя': <gensim.models.deprecated.keyedvectors.Vocab at 0x7f1a9116b2e8>,\n",
       " 'многозначительно': <gensim.models.deprecated.keyedvectors.Vocab at 0x7f1a90ad3860>,\n",
       " 'ривкин': <gensim.models.deprecated.keyedvectors.Vocab at 0x7f1a90ecd898>,\n",
       " 'рамбуйе': <gensim.models.deprecated.keyedvectors.Vocab at 0x7f1a85199358>,\n",
       " 'подкручивание': <gensim.models.deprecated.keyedvectors.Vocab at 0x7f1a91017390>,\n",
       " 'миколка': <gensim.models.deprecated.keyedvectors.Vocab at 0x7f1a914651d0>,\n",
       " 'экспирация': <gensim.models.deprecated.keyedvectors.Vocab at 0x7f1a916875c0>,\n",
       " 'patek': <gensim.models.deprecated.keyedvectors.Vocab at 0x7f1a90993160>,\n",
       " 'памятозлобие': <gensim.models.deprecated.keyedvectors.Vocab at 0x7f1a84308c18>,\n",
       " 'интвей': <gensim.models.deprecated.keyedvectors.Vocab at 0x7f1a8629cb70>,\n",
       " 'бердникова': <gensim.models.deprecated.keyedvectors.Vocab at 0x7f1a857e7978>,\n",
       " 'искч': <gensim.models.deprecated.keyedvectors.Vocab at 0x7f1a9138fac8>,\n",
       " 'опаковый': <gensim.models.deprecated.keyedvectors.Vocab at 0x7f1a85ed75f8>,\n",
       " 'демура': <gensim.models.deprecated.keyedvectors.Vocab at 0x7f1a90d2ee48>,\n",
       " 'наклонясь': <gensim.models.deprecated.keyedvectors.Vocab at 0x7f1a9090b780>,\n",
       " 'деграда': <gensim.models.deprecated.keyedvectors.Vocab at 0x7f1a857c5208>,\n",
       " 'фитцжеральд': <gensim.models.deprecated.keyedvectors.Vocab at 0x7f1a85f4b780>,\n",
       " 'рефират': <gensim.models.deprecated.keyedvectors.Vocab at 0x7f1a91105780>,\n",
       " 'криотерапия': <gensim.models.deprecated.keyedvectors.Vocab at 0x7f1a84881748>,\n",
       " 'бойфренд': <gensim.models.deprecated.keyedvectors.Vocab at 0x7f1a85b71f60>,\n",
       " 'нижневолжский': <gensim.models.deprecated.keyedvectors.Vocab at 0x7f1a911fc6a0>,\n",
       " 'чашник': <gensim.models.deprecated.keyedvectors.Vocab at 0x7f1a85c734a8>,\n",
       " 'разновекторный': <gensim.models.deprecated.keyedvectors.Vocab at 0x7f1a8603c668>,\n",
       " 'шестиугольник': <gensim.models.deprecated.keyedvectors.Vocab at 0x7f1a912bea90>,\n",
       " 'бета-частица': <gensim.models.deprecated.keyedvectors.Vocab at 0x7f1a853cb7b8>,\n",
       " 'морозо': <gensim.models.deprecated.keyedvectors.Vocab at 0x7f1a85eee3c8>,\n",
       " 'лоис': <gensim.models.deprecated.keyedvectors.Vocab at 0x7f1a848eb080>,\n",
       " 'гро': <gensim.models.deprecated.keyedvectors.Vocab at 0x7f1a90bcfcf8>,\n",
       " 'перхлорат': <gensim.models.deprecated.keyedvectors.Vocab at 0x7f1a843bbf60>,\n",
       " 'еволюционный': <gensim.models.deprecated.keyedvectors.Vocab at 0x7f1a84df5ba8>,\n",
       " 'dae': <gensim.models.deprecated.keyedvectors.Vocab at 0x7f1a85b9aac8>,\n",
       " 'лодчонка': <gensim.models.deprecated.keyedvectors.Vocab at 0x7f1a90c9b320>,\n",
       " 'ann': <gensim.models.deprecated.keyedvectors.Vocab at 0x7f1a915cb550>,\n",
       " 'немедленно': <gensim.models.deprecated.keyedvectors.Vocab at 0x7f1a9091a4a8>,\n",
       " 'тикки': <gensim.models.deprecated.keyedvectors.Vocab at 0x7f1a9179da20>,\n",
       " 'восходить': <gensim.models.deprecated.keyedvectors.Vocab at 0x7f1a85fe5748>,\n",
       " 'уормолд': <gensim.models.deprecated.keyedvectors.Vocab at 0x7f1a84e3ee80>,\n",
       " 'просуществовать': <gensim.models.deprecated.keyedvectors.Vocab at 0x7f1a85b4b320>,\n",
       " 'attacks': <gensim.models.deprecated.keyedvectors.Vocab at 0x7f1a9094a518>,\n",
       " 'леонардович': <gensim.models.deprecated.keyedvectors.Vocab at 0x7f1a91551240>,\n",
       " 'кенгурушка': <gensim.models.deprecated.keyedvectors.Vocab at 0x7f1a85a1bdd8>,\n",
       " 'typhoon': <gensim.models.deprecated.keyedvectors.Vocab at 0x7f1a85d192e8>,\n",
       " 'самосогревание': <gensim.models.deprecated.keyedvectors.Vocab at 0x7f1a8406ad30>,\n",
       " 'сдобровать': <gensim.models.deprecated.keyedvectors.Vocab at 0x7f1a862e0710>,\n",
       " 'камил': <gensim.models.deprecated.keyedvectors.Vocab at 0x7f1a91130a20>,\n",
       " 'андреевич': <gensim.models.deprecated.keyedvectors.Vocab at 0x7f1a85c0e780>,\n",
       " 'трол': <gensim.models.deprecated.keyedvectors.Vocab at 0x7f1a84de39e8>,\n",
       " 'цоп': <gensim.models.deprecated.keyedvectors.Vocab at 0x7f1a915bcd30>,\n",
       " 'sato': <gensim.models.deprecated.keyedvectors.Vocab at 0x7f1a84fbd860>,\n",
       " 'baskin': <gensim.models.deprecated.keyedvectors.Vocab at 0x7f1a90e8a7f0>,\n",
       " 'журчать': <gensim.models.deprecated.keyedvectors.Vocab at 0x7f1a863d7eb8>,\n",
       " 'opt': <gensim.models.deprecated.keyedvectors.Vocab at 0x7f1a86196ba8>,\n",
       " 'небный': <gensim.models.deprecated.keyedvectors.Vocab at 0x7f1a91522550>,\n",
       " 'численник': <gensim.models.deprecated.keyedvectors.Vocab at 0x7f1a84170a58>,\n",
       " 'infolife': <gensim.models.deprecated.keyedvectors.Vocab at 0x7f1a8417ec18>,\n",
       " 'кочубеевский': <gensim.models.deprecated.keyedvectors.Vocab at 0x7f1a85e0fc50>,\n",
       " 'бетон': <gensim.models.deprecated.keyedvectors.Vocab at 0x7f1a859354e0>,\n",
       " 'выливание': <gensim.models.deprecated.keyedvectors.Vocab at 0x7f1a911f6080>,\n",
       " 'румия': <gensim.models.deprecated.keyedvectors.Vocab at 0x7f1a84b9d9e8>,\n",
       " 'димитриевич': <gensim.models.deprecated.keyedvectors.Vocab at 0x7f1a909c85f8>,\n",
       " 'гиперпространство': <gensim.models.deprecated.keyedvectors.Vocab at 0x7f1a917b8780>,\n",
       " 'белогвардейщина': <gensim.models.deprecated.keyedvectors.Vocab at 0x7f1a842ddbe0>,\n",
       " 'эрхпг': <gensim.models.deprecated.keyedvectors.Vocab at 0x7f1a90e752b0>,\n",
       " 'жемчужно-белый': <gensim.models.deprecated.keyedvectors.Vocab at 0x7f1a842070b8>,\n",
       " 'зарница': <gensim.models.deprecated.keyedvectors.Vocab at 0x7f1a841273c8>,\n",
       " 'ланкашир': <gensim.models.deprecated.keyedvectors.Vocab at 0x7f1a86051780>,\n",
       " 'скот': <gensim.models.deprecated.keyedvectors.Vocab at 0x7f1a845302b0>,\n",
       " 'росат': <gensim.models.deprecated.keyedvectors.Vocab at 0x7f1a911bce10>,\n",
       " 'околоземный': <gensim.models.deprecated.keyedvectors.Vocab at 0x7f1a843ebb38>,\n",
       " 'clash': <gensim.models.deprecated.keyedvectors.Vocab at 0x7f1a90858780>,\n",
       " 'однороторный': <gensim.models.deprecated.keyedvectors.Vocab at 0x7f1a85a46e48>,\n",
       " 'магелланов': <gensim.models.deprecated.keyedvectors.Vocab at 0x7f1a90b3d5f8>,\n",
       " 'прокаин': <gensim.models.deprecated.keyedvectors.Vocab at 0x7f1a843c0828>,\n",
       " 'странствие': <gensim.models.deprecated.keyedvectors.Vocab at 0x7f1a90f503c8>,\n",
       " 'спонжик': <gensim.models.deprecated.keyedvectors.Vocab at 0x7f1a84c0cf60>,\n",
       " 'хлястик': <gensim.models.deprecated.keyedvectors.Vocab at 0x7f1a90db3208>,\n",
       " 'сюжетка': <gensim.models.deprecated.keyedvectors.Vocab at 0x7f1a90a163c8>,\n",
       " 'кардашьян': <gensim.models.deprecated.keyedvectors.Vocab at 0x7f1a840eda20>,\n",
       " 'первы': <gensim.models.deprecated.keyedvectors.Vocab at 0x7f1a90959470>,\n",
       " 'оттачивание': <gensim.models.deprecated.keyedvectors.Vocab at 0x7f1a917ef588>,\n",
       " 'пернатый': <gensim.models.deprecated.keyedvectors.Vocab at 0x7f1a91667160>,\n",
       " 'бонский': <gensim.models.deprecated.keyedvectors.Vocab at 0x7f1a84a142e8>,\n",
       " 'сэйв': <gensim.models.deprecated.keyedvectors.Vocab at 0x7f1a914c0f60>,\n",
       " 'eltex': <gensim.models.deprecated.keyedvectors.Vocab at 0x7f1a85d35160>,\n",
       " 'авиатура': <gensim.models.deprecated.keyedvectors.Vocab at 0x7f1a90aad400>,\n",
       " 'gems': <gensim.models.deprecated.keyedvectors.Vocab at 0x7f1a84ccee48>,\n",
       " 'даценко': <gensim.models.deprecated.keyedvectors.Vocab at 0x7f1a90ba9048>,\n",
       " 'тактар': <gensim.models.deprecated.keyedvectors.Vocab at 0x7f1a84e23e10>,\n",
       " 'дерматовенерологический': <gensim.models.deprecated.keyedvectors.Vocab at 0x7f1a857915c0>,\n",
       " 'stevenson': <gensim.models.deprecated.keyedvectors.Vocab at 0x7f1a84d95748>,\n",
       " 'открепительный': <gensim.models.deprecated.keyedvectors.Vocab at 0x7f1a859af2e8>,\n",
       " 'пьянов': <gensim.models.deprecated.keyedvectors.Vocab at 0x7f1a84e3e2e8>,\n",
       " 'grin': <gensim.models.deprecated.keyedvectors.Vocab at 0x7f1a8528b320>,\n",
       " 'виллис': <gensim.models.deprecated.keyedvectors.Vocab at 0x7f1a844ecc88>,\n",
       " 'ista': <gensim.models.deprecated.keyedvectors.Vocab at 0x7f1a91673be0>,\n",
       " 'идзуми': <gensim.models.deprecated.keyedvectors.Vocab at 0x7f1a9127eba8>,\n",
       " 'gloria': <gensim.models.deprecated.keyedvectors.Vocab at 0x7f1a85fea6d8>,\n",
       " 'кукумбер': <gensim.models.deprecated.keyedvectors.Vocab at 0x7f1a91639f28>,\n",
       " 'баянаульский': <gensim.models.deprecated.keyedvectors.Vocab at 0x7f1a84065668>,\n",
       " 'bbb': <gensim.models.deprecated.keyedvectors.Vocab at 0x7f1a9178e7b8>,\n",
       " 'кратенько': <gensim.models.deprecated.keyedvectors.Vocab at 0x7f1a85070780>,\n",
       " 'mfa': <gensim.models.deprecated.keyedvectors.Vocab at 0x7f1a84838748>,\n",
       " 'отпарировать': <gensim.models.deprecated.keyedvectors.Vocab at 0x7f1a90f5f668>,\n",
       " 'рогозин': <gensim.models.deprecated.keyedvectors.Vocab at 0x7f1a8472ddd8>,\n",
       " 'дрын': <gensim.models.deprecated.keyedvectors.Vocab at 0x7f1a8497d0f0>,\n",
       " 'страно': <gensim.models.deprecated.keyedvectors.Vocab at 0x7f1a91043d68>,\n",
       " 'закрепа': <gensim.models.deprecated.keyedvectors.Vocab at 0x7f1a84a3fc88>,\n",
       " 'молокопровод': <gensim.models.deprecated.keyedvectors.Vocab at 0x7f1a85f67710>,\n",
       " 'юрлицо': <gensim.models.deprecated.keyedvectors.Vocab at 0x7f1a84413668>,\n",
       " 'четвероугольный': <gensim.models.deprecated.keyedvectors.Vocab at 0x7f1a90ac9940>,\n",
       " 'рядная': <gensim.models.deprecated.keyedvectors.Vocab at 0x7f1a841c3b70>,\n",
       " 'зазубренный': <gensim.models.deprecated.keyedvectors.Vocab at 0x7f1a85cdf208>,\n",
       " 'гришкин': <gensim.models.deprecated.keyedvectors.Vocab at 0x7f1a858d0e10>,\n",
       " 'лепель': <gensim.models.deprecated.keyedvectors.Vocab at 0x7f1a846356d8>,\n",
       " 'paladin': <gensim.models.deprecated.keyedvectors.Vocab at 0x7f1a8584df28>,\n",
       " 'жидкостный': <gensim.models.deprecated.keyedvectors.Vocab at 0x7f1a85de8940>,\n",
       " 'улк': <gensim.models.deprecated.keyedvectors.Vocab at 0x7f1a91072588>,\n",
       " 'phps': <gensim.models.deprecated.keyedvectors.Vocab at 0x7f1a843e3208>,\n",
       " ...}"
      ]
     },
     "execution_count": 66,
     "metadata": {},
     "output_type": "execute_result"
    }
   ],
   "source": [
    "model.wv.vocab"
   ]
  },
  {
   "cell_type": "code",
   "execution_count": 67,
   "metadata": {},
   "outputs": [
    {
     "name": "stdout",
     "output_type": "stream",
     "text": [
      "CPU times: user 120 ms, sys: 36 ms, total: 156 ms\n",
      "Wall time: 230 ms\n"
     ]
    }
   ],
   "source": [
    "%%time\n",
    "\n",
    "# я уменьшила размер на порядок (минус один 0), иначе memory error\n",
    "W = np.memmap(data_folder + \"embed.dat\", dtype=np.double, mode=\"r\", shape=(30000, 300))\n",
    "with smart_open(data_folder + \"embed.vocab\", mode=\"rb\") as f:\n",
    "    vocab_list = [line.strip() for line in f]"
   ]
  },
  {
   "cell_type": "code",
   "execution_count": 68,
   "metadata": {},
   "outputs": [],
   "source": [
    "vocab_dict = {w: k for k, w in enumerate(vocab_list)}"
   ]
  },
  {
   "cell_type": "code",
   "execution_count": 69,
   "metadata": {},
   "outputs": [],
   "source": [
    "# проблема с переводом в байты (должно получаться в одном виде):"
   ]
  },
  {
   "cell_type": "code",
   "execution_count": 70,
   "metadata": {},
   "outputs": [
    {
     "data": {
      "text/plain": [
       "{b\"b'\\\\xd0\\\\xbe\\\\xd1\\\\x81\\\\xd1\\\\x8f\\\\xd0\\\\xb7\\\\xd0\\\\xb0\\\\xd1\\\\x82\\\\xd1\\\\x8c'\": 42514,\n",
       " b\"b'\\\\xd0\\\\xba\\\\xd1\\\\x8e\\\\xd1\\\\x80\\\\xd0\\\\xb5\\\\xd1\\\\x82\\\\xd0\\\\xb0\\\\xd0\\\\xb6'\": 64457,\n",
       " b\"b'gva'\": 84543,\n",
       " b\"b'\\\\xd0\\\\xb4\\\\xd0\\\\xbe\\\\xd0\\\\xbc\\\\xd0\\\\xbe\\\\xd0\\\\xbb\\\\xd0\\\\xb8\\\\xd0\\\\xbd\\\\xd0\\\\xba'\": 162603,\n",
       " b\"b'\\\\xd0\\\\xba\\\\xd0\\\\xbe\\\\xd0\\\\xbd\\\\xd1\\\\x81\\\\xd1\\\\x8c\\\\xd0\\\\xb5\\\\xd1\\\\x80\\\\xd0\\\\xb6'\": 25262,\n",
       " b\"b'\\\\xd1\\\\x86\\\\xd0\\\\xba\\\\xd0\\\\xb8'\": 101453,\n",
       " b\"b'\\\\xd0\\\\xb4\\\\xd0\\\\xb5\\\\xd1\\\\x86\\\\xd0\\\\xbb'\": 129607,\n",
       " b\"b'\\\\xd0\\\\xbe\\\\xd0\\\\xb1\\\\xd1\\\\x89\\\\xd0\\\\xb5\\\\xd0\\\\xbd\\\\xd0\\\\xb0\\\\xd1\\\\x80\\\\xd0\\\\xbe\\\\xd0\\\\xb4\\\\xd0\\\\xbd\\\\xd1\\\\x8b\\\\xd0\\\\xb9'\": 28196,\n",
       " b\"b'\\\\xd0\\\\xb3\\\\xd0\\\\xb0\\\\xd1\\\\x81\\\\xd0\\\\xba\\\\xd0\\\\xb0\\\\xd1\\\\x80'\": 126900,\n",
       " b\"b'\\\\xd0\\\\xba\\\\xd0\\\\xbe\\\\xd0\\\\xbc\\\\xd0\\\\xba\\\\xd0\\\\xb0\\\\xd1\\\\x82\\\\xd1\\\\x8c\\\\xd1\\\\x81\\\\xd1\\\\x8f'\": 165506,\n",
       " b\"b'\\\\xd1\\\\x82\\\\xd0\\\\xb5\\\\xd1\\\\x85\\\\xd0\\\\xb4\\\\xd0\\\\xbe\\\\xd0\\\\xba\\\\xd1\\\\x83\\\\xd0\\\\xbc\\\\xd0\\\\xb5\\\\xd0\\\\xbd\\\\xd1\\\\x82\\\\xd0\\\\xb0\\\\xd1\\\\x86\\\\xd0\\\\xb8\\\\xd1\\\\x8f'\": 88270,\n",
       " b\"b'\\\\xd0\\\\xb8\\\\xd0\\\\xbd\\\\xd1\\\\x82\\\\xd0\\\\xb5\\\\xd0\\\\xbd\\\\xd1\\\\x81\\\\xd0\\\\xb8\\\\xd1\\\\x84\\\\xd0\\\\xb8\\\\xd1\\\\x86\\\\xd0\\\\xb8\\\\xd1\\\\x80\\\\xd0\\\\xbe\\\\xd0\\\\xb2\\\\xd0\\\\xb0\\\\xd1\\\\x82\\\\xd1\\\\x8c\\\\xd1\\\\x81\\\\xd1\\\\x8f'\": 101706,\n",
       " b\"b'\\\\xd0\\\\xb7\\\\xd0\\\\xb0\\\\xd1\\\\x85\\\\xd0\\\\xb0\\\\xd0\\\\xb6\\\\xd0\\\\xb8\\\\xd0\\\\xb2\\\\xd0\\\\xb0\\\\xd1\\\\x82\\\\xd1\\\\x8c'\": 50769,\n",
       " b\"b'\\\\xd0\\\\xb2\\\\xd1\\\\x8b\\\\xd0\\\\xbb\\\\xd0\\\\xb0\\\\xd0\\\\xbc\\\\xd1\\\\x8b\\\\xd0\\\\xb2\\\\xd0\\\\xb0\\\\xd1\\\\x82\\\\xd1\\\\x8c\\\\xd1\\\\x81\\\\xd1\\\\x8f'\": 105778,\n",
       " b\"b'\\\\xd1\\\\x81\\\\xd0\\\\xb0\\\\xd0\\\\xbb\\\\xd1\\\\x8c'\": 186170,\n",
       " b\"b'endless'\": 90097,\n",
       " b\"b'\\\\xd0\\\\xbe\\\\xd1\\\\x82\\\\xd1\\\\x8a\\\\xd1\\\\x8f\\\\xd0\\\\xb2\\\\xd0\\\\xbb\\\\xd0\\\\xb5\\\\xd0\\\\xbd\\\\xd0\\\\xbd\\\\xd1\\\\x8b\\\\xd0\\\\xb9'\": 35056,\n",
       " b\"b'\\\\xd1\\\\x84\\\\xd1\\\\x80\\\\xd1\\\\x83\\\\xd0\\\\xba\\\\xd1\\\\x82\\\\xd0\\\\xbe\\\\xd0\\\\xb7\\\\xd0\\\\xbd\\\\xd1\\\\x8b\\\\xd0\\\\xb9'\": 170659,\n",
       " b\"b'\\\\xd0\\\\xbf\\\\xd1\\\\x80\\\\xd0\\\\xbe\\\\xd0\\\\xbf\\\\xd0\\\\xb0\\\\xd0\\\\xb3\\\\xd0\\\\xb0\\\\xd0\\\\xbd\\\\xd0\\\\xb4\\\\xd0\\\\xb8\\\\xd1\\\\x81\\\\xd1\\\\x82\\\\xd1\\\\x81\\\\xd0\\\\xba\\\\xd0\\\\xb8\\\\xd0\\\\xb9'\": 13540,\n",
       " b\"b'when'\": 36797,\n",
       " b\"b'instance'\": 105800,\n",
       " b\"b'\\\\xd1\\\\x80\\\\xd0\\\\xb5\\\\xd0\\\\xb7\\\\xd0\\\\xb8\\\\xd0\\\\xbd\\\\xd0\\\\xbe\\\\xd0\\\\xbf\\\\xd0\\\\xbe\\\\xd0\\\\xb4\\\\xd0\\\\xbe\\\\xd0\\\\xb1\\\\xd0\\\\xbd\\\\xd1\\\\x8b\\\\xd0\\\\xb9'\": 114743,\n",
       " b\"b'\\\\xd1\\\\x83\\\\xd1\\\\x81\\\\xd1\\\\x82\\\\xd1\\\\x8c-\\\\xd0\\\\xba\\\\xd0\\\\xb0\\\\xd1\\\\x82\\\\xd0\\\\xb0\\\\xd0\\\\xb2'\": 186978,\n",
       " b\"b'\\\\xd1\\\\x80\\\\xd0\\\\xb0\\\\xd0\\\\xbd\\\\xd0\\\\xbd\\\\xd0\\\\xb5\\\\xd1\\\\x80'\": 73351,\n",
       " b\"b'halt'\": 123596,\n",
       " b\"b'\\\\xd0\\\\xbb\\\\xd0\\\\xb5\\\\xd0\\\\xb3\\\\xd0\\\\xba\\\\xd0\\\\xbe\\\\xd1\\\\x81\\\\xd1\\\\x8a\\\\xd0\\\\xb5\\\\xd0\\\\xbc\\\\xd0\\\\xbd\\\\xd1\\\\x8b\\\\xd0\\\\xb9'\": 80993,\n",
       " b\"b'\\\\xd0\\\\xbf\\\\xd0\\\\xbe\\\\xd0\\\\xba\\\\xd0\\\\xb0\\\\xd0\\\\xb4\\\\xd1\\\\x80\\\\xd0\\\\xbe\\\\xd0\\\\xb2\\\\xd1\\\\x8b\\\\xd0\\\\xb9'\": 59383,\n",
       " b\"b'\\\\xd0\\\\xbf\\\\xd0\\\\xbe\\\\xd0\\\\xb4\\\\xd0\\\\xba\\\\xd0\\\\xb0\\\\xd0\\\\xbb\\\\xd0\\\\xb8\\\\xd0\\\\xb1\\\\xd0\\\\xb5\\\\xd1\\\\x80\\\\xd0\\\\xbd\\\\xd1\\\\x8b\\\\xd0\\\\xb9'\": 79437,\n",
       " b\"b'\\\\xd1\\\\x81\\\\xd0\\\\xb5\\\\xd1\\\\x80\\\\xd1\\\\x8c\\\\xd0\\\\xb5\\\\xd0\\\\xb7\\\\xd0\\\\xbd\\\\xd0\\\\xbe'\": 2842,\n",
       " b\"b'\\\\xd0\\\\xbc\\\\xd0\\\\xb3\\\\xd1\\\\x83\\\\xd0\\\\xbb'\": 76713,\n",
       " b\"b'\\\\xd0\\\\xb3\\\\xd0\\\\xb8\\\\xd0\\\\xb4\\\\xd1\\\\x80\\\\xd0\\\\xbe\\\\xd1\\\\x86\\\\xd0\\\\xb8\\\\xd0\\\\xba\\\\xd0\\\\xbb\\\\xd0\\\\xbe\\\\xd0\\\\xbd'\": 95117,\n",
       " b\"b'\\\\xd0\\\\xbf\\\\xd1\\\\x80\\\\xd0\\\\xbe\\\\xd1\\\\x80\\\\xd0\\\\xb0\\\\xd0\\\\xb1\\\\xd0\\\\xb0\\\\xd1\\\\x82\\\\xd1\\\\x8b\\\\xd0\\\\xb2\\\\xd0\\\\xb0\\\\xd1\\\\x82\\\\xd1\\\\x8c'\": 4350,\n",
       " b\"b'ats'\": 57354,\n",
       " b\"b'\\\\xd1\\\\x83\\\\xd0\\\\xb3\\\\xd1\\\\x81'\": 114247,\n",
       " b\"b'marwin'\": 160301,\n",
       " b\"b'\\\\xd0\\\\xb0\\\\xd0\\\\xb7\\\\xd1\\\\x80\\\\xd0\\\\xb0\\\\xd0\\\\xb1\\\\xd0\\\\xbe\\\\xd1\\\\x82\\\\xd0\\\\xba\\\\xd0\\\\xb0'\": 111799,\n",
       " b\"b'gwh'\": 192061,\n",
       " b\"b'\\\\xd0\\\\xb3\\\\xd0\\\\xbe\\\\xd1\\\\x84\\\\xd1\\\\x80\\\\xd0\\\\xbe'\": 130864,\n",
       " b\"b'\\\\xd1\\\\x87\\\\xd0\\\\xb5\\\\xd0\\\\xbd\\\\xd0\\\\xba\\\\xd0\\\\xb0'\": 132402,\n",
       " b\"b'\\\\xd0\\\\xbb\\\\xd0\\\\xb8\\\\xd1\\\\x88\\\\xd0\\\\xb5\\\\xd0\\\\xbd\\\\xd0\\\\xbd\\\\xd1\\\\x8b\\\\xd0\\\\xb9'\": 6706,\n",
       " b\"b'furla'\": 96055,\n",
       " b\"b'\\\\xd1\\\\x8d\\\\xd0\\\\xbb\\\\xd0\\\\xb8\\\\xd1\\\\x82\\\\xd0\\\\xb0'\": 4030,\n",
       " b\"b'\\\\xd1\\\\x88\\\\xd0\\\\xb5\\\\xd0\\\\xbd\\\\xd0\\\\xba\\\\xd0\\\\xb5\\\\xd1\\\\x80'\": 128909,\n",
       " b\"b'\\\\xd0\\\\xbc\\\\xd0\\\\xbe\\\\xd0\\\\xbb\\\\xd0\\\\xbe'\": 82260,\n",
       " b\"b'\\\\xd1\\\\x81\\\\xd0\\\\xb0\\\\xd0\\\\xbd\\\\xd0\\\\xb0\\\\xd1\\\\x82\\\\xd0\\\\xbe\\\\xd1\\\\x80'\": 96354,\n",
       " b\"b'\\\\xd0\\\\xb5\\\\xd0\\\\xb2\\\\xd1\\\\x80\\\\xd0\\\\xbe\\\\xd0\\\\xba\\\\xd0\\\\xbe\\\\xd0\\\\xbc\\\\xd0\\\\xb8\\\\xd1\\\\x81\\\\xd1\\\\x81\\\\xd0\\\\xb8\\\\xd1\\\\x8f'\": 18857,\n",
       " b\"b'\\\\xd0\\\\xb5\\\\xd0\\\\xba\\\\xd0\\\\xb0\\\\xd1\\\\x82\\\\xd0\\\\xb5\\\\xd1\\\\x80\\\\xd0\\\\xb8\\\\xd0\\\\xbd\\\\xd0\\\\xb1\\\\xd1\\\\x83\\\\xd1\\\\x80\\\\xd0\\\\xb3'\": 2827,\n",
       " b\"b'arx'\": 126487,\n",
       " b\"b'mashable'\": 87651,\n",
       " b\"b'\\\\xd0\\\\xb4\\\\xd0\\\\xb5\\\\xd1\\\\x82\\\\xd0\\\\xb8\\\\xd1\\\\x88\\\\xd0\\\\xba\\\\xd0\\\\xb8'\": 8053,\n",
       " b\"b'prevent'\": 164386,\n",
       " b\"b'\\\\xd0\\\\xb0\\\\xd0\\\\xbd\\\\xd1\\\\x82\\\\xd0\\\\xb8\\\\xd1\\\\x84\\\\xd0\\\\xb0\\\\xd1\\\\x88\\\\xd0\\\\xb8\\\\xd1\\\\x81\\\\xd1\\\\x82'\": 34802,\n",
       " b\"b'hormann'\": 60796,\n",
       " b\"b'\\\\xd0\\\\xbc\\\\xd0\\\\xb8\\\\xd0\\\\xba\\\\xd0\\\\xb5\\\\xd0\\\\xbb\\\\xd0\\\\xb0\\\\xd0\\\\xb4\\\\xd0\\\\xb7\\\\xd0\\\\xb5'\": 179442,\n",
       " b\"b'\\\\xd1\\\\x81\\\\xd0\\\\xbe\\\\xd1\\\\x80\\\\xd1\\\\x82\\\\xd0\\\\xb8\\\\xd1\\\\x80\\\\xd0\\\\xbe\\\\xd0\\\\xb2\\\\xd0\\\\xbe\\\\xd1\\\\x87\\\\xd0\\\\xbd\\\\xd1\\\\x8b\\\\xd0\\\\xb9'\": 28221,\n",
       " b\"b'\\\\xd1\\\\x80\\\\xd0\\\\xb8\\\\xd0\\\\xb5\\\\xd0\\\\xbb\\\\xd1\\\\x8c'\": 191615,\n",
       " b\"b'\\\\xd0\\\\xbf\\\\xd0\\\\xbe\\\\xd0\\\\xb7\\\\xd0\\\\xb2\\\\xd0\\\\xb0\\\\xd0\\\\xbd\\\\xd0\\\\xb8\\\\xd0\\\\xb2\\\\xd0\\\\xb0\\\\xd1\\\\x82\\\\xd1\\\\x8c'\": 93744,\n",
       " b\"b'\\\\xd0\\\\xb1\\\\xd0\\\\xb0\\\\xd0\\\\xb1\\\\xd1\\\\x83\\\\xd1\\\\x81\\\\xd1\\\\x8c\\\\xd0\\\\xba\\\\xd0\\\\xb0'\": 164498,\n",
       " b\"b'\\\\xd1\\\\x80\\\\xd0\\\\xbe\\\\xd0\\\\xba\\\\xd0\\\\xb0\\\\xd0\\\\xbc\\\\xd0\\\\xb1\\\\xd0\\\\xbe\\\\xd0\\\\xbb\\\\xd1\\\\x8c'\": 159425,\n",
       " b\"b'\\\\xd0\\\\xbd\\\\xd0\\\\xb8\\\\xd1\\\\x80\\\\xd0\\\\xbe'\": 34496,\n",
       " b\"b'\\\\xd0\\\\xbd\\\\xd0\\\\xb0\\\\xd0\\\\xb2\\\\xd0\\\\xbe\\\\xd1\\\\x80\\\\xd0\\\\xb0\\\\xd1\\\\x87\\\\xd0\\\\xb8\\\\xd0\\\\xb2\\\\xd0\\\\xb0\\\\xd1\\\\x82\\\\xd1\\\\x8c'\": 76056,\n",
       " b\"b'\\\\xd1\\\\x8f\\\\xd0\\\\xb4\\\\xd0\\\\xbe\\\\xd0\\\\xb2\\\\xd0\\\\xb8\\\\xd1\\\\x82\\\\xd0\\\\xbe-\\\\xd0\\\\xb7\\\\xd0\\\\xb5\\\\xd0\\\\xbb\\\\xd0\\\\xb5\\\\xd0\\\\xbd\\\\xd1\\\\x8b\\\\xd0\\\\xb9'\": 114911,\n",
       " b\"b'\\\\xd1\\\\x81\\\\xd0\\\\xb2\\\\xd0\\\\xb5\\\\xd0\\\\xb6\\\\xd0\\\\xb5\\\\xd0\\\\xbc\\\\xd0\\\\xbe\\\\xd1\\\\x80\\\\xd0\\\\xbe\\\\xd0\\\\xb6\\\\xd0\\\\xb5\\\\xd0\\\\xbd\\\\xd0\\\\xbd\\\\xd1\\\\x8b\\\\xd0\\\\xb9'\": 165863,\n",
       " b\"b'\\\\xd1\\\\x80\\\\xd0\\\\xb5\\\\xd0\\\\xbe\\\\xd0\\\\xb1\\\\xd0\\\\xb0\\\\xd1\\\\x81'\": 181622,\n",
       " b\"b'\\\\xd0\\\\xbf\\\\xd0\\\\xb0\\\\xd1\\\\x80\\\\xd0\\\\xba\\\\xd0\\\\xbe\\\\xd0\\\\xbc\\\\xd0\\\\xb5\\\\xd1\\\\x81\\\\xd1\\\\x82\\\\xd0\\\\xbe'\": 147150,\n",
       " b\"b'\\\\xd1\\\\x82\\\\xd0\\\\xb8\\\\xd1\\\\x85\\\\xd0\\\\xbe\\\\xd1\\\\x85\\\\xd0\\\\xbe\\\\xd0\\\\xb4'\": 86167,\n",
       " b\"b'\\\\xd0\\\\xb2\\\\xd0\\\\xba\\\\xd1\\\\x80\\\\xd1\\\\x83\\\\xd1\\\\x87\\\\xd0\\\\xb8\\\\xd0\\\\xb2\\\\xd0\\\\xb0\\\\xd0\\\\xbd\\\\xd0\\\\xb8\\\\xd0\\\\xb5'\": 64203,\n",
       " b\"b'\\\\xd0\\\\xb9\\\\xd0\\\\xbe\\\\xd1\\\\x80\\\\xd1\\\\x83\\\\xd0\\\\xb1\\\\xd0\\\\xb0'\": 110330,\n",
       " b\"b'\\\\xd1\\\\x85\\\\xd0\\\\xbe\\\\xd1\\\\x80\\\\xd1\\\\x83\\\\xd0\\\\xb6\\\\xd1\\\\x8c\\\\xd0\\\\xb5'\": 121039,\n",
       " b\"b'\\\\xd0\\\\xbf\\\\xd1\\\\x80\\\\xd0\\\\xbe\\\\xd0\\\\xb3\\\\xd0\\\\xbb\\\\xd0\\\\xb8\\\\xd1\\\\x81\\\\xd1\\\\x82\\\\xd0\\\\xbe\\\\xd0\\\\xb3\\\\xd0\\\\xbe\\\\xd0\\\\xbd\\\\xd0\\\\xb8\\\\xd1\\\\x82\\\\xd1\\\\x8c'\": 192368,\n",
       " b\"b'\\\\xd1\\\\x80\\\\xd0\\\\xb3\\\\xd1\\\\x81'\": 30279,\n",
       " b\"b'\\\\xd0\\\\xb3\\\\xd0\\\\xb8\\\\xd0\\\\xbf\\\\xd0\\\\xb5\\\\xd1\\\\x80\\\\xd0\\\\xbf\\\\xd1\\\\x80\\\\xd0\\\\xb5\\\\xd1\\\\x81\\\\xd1\\\\x81\\\\xd0\\\\xbe\\\\xd0\\\\xb2\\\\xd0\\\\xb0\\\\xd0\\\\xbd\\\\xd0\\\\xb8\\\\xd0\\\\xb5'\": 192234,\n",
       " b\"b'\\\\xd0\\\\xb2\\\\xd0\\\\xb0\\\\xd0\\\\xbd\\\\xd0\\\\xb3\\\\xd0\\\\xb0\\\\xd1\\\\x80\\\\xd0\\\\xb4'\": 92865,\n",
       " b\"b'pla'\": 58860,\n",
       " b\"b'ael'\": 132985,\n",
       " b\"b'\\\\xd0\\\\xba\\\\xd0\\\\xbe\\\\xd1\\\\x84\\\\xd0\\\\xb5\\\\xd0\\\\xb8\\\\xd0\\\\xbd\\\\xd1\\\\x81\\\\xd0\\\\xbe\\\\xd0\\\\xb4\\\\xd0\\\\xb5\\\\xd1\\\\x80\\\\xd0\\\\xb6\\\\xd0\\\\xb0\\\\xd1\\\\x89\\\\xd0\\\\xb8\\\\xd0\\\\xb9'\": 170726,\n",
       " b\"b'\\\\xd1\\\\x81\\\\xd0\\\\xb5\\\\xd0\\\\xbd\\\\xd1\\\\x82-\\\\xd0\\\\xbb\\\\xd1\\\\x83\\\\xd0\\\\xb8\\\\xd1\\\\x81'\": 76597,\n",
       " b\"b'\\\\xd0\\\\xbf\\\\xd0\\\\xb5\\\\xd0\\\\xb4\\\\xd1\\\\x81\\\\xd1\\\\x82\\\\xd0\\\\xb0\\\\xd0\\\\xb6'\": 130610,\n",
       " b\"b'influence'\": 91106,\n",
       " b\"b'\\\\xd1\\\\x81\\\\xd0\\\\xb0\\\\xd1\\\\x82\\\\xd0\\\\xba\\\\xd0\\\\xbb\\\\xd0\\\\xb8\\\\xd1\\\\x84\\\\xd1\\\\x84'\": 147761,\n",
       " b\"b'\\\\xd1\\\\x80\\\\xd0\\\\xbe\\\\xd1\\\\x83\\\\xd0\\\\xb3\\\\xd0\\\\xb0'\": 136686,\n",
       " b\"b'\\\\xd1\\\\x81\\\\xd0\\\\xb5\\\\xd0\\\\xb2\\\\xd0\\\\xb0\\\\xd1\\\\x81\\\\xd1\\\\x82\\\\xd1\\\\x8c\\\\xd1\\\\x8f\\\\xd0\\\\xbd\\\\xd0\\\\xbe\\\\xd0\\\\xb2\\\\xd0\\\\xb0'\": 164663,\n",
       " b\"b'\\\\xd1\\\\x80\\\\xd0\\\\xb5\\\\xd1\\\\x81\\\\xd1\\\\x82\\\\xd0\\\\xb0\\\\xd1\\\\x80\\\\xd1\\\\x82'\": 55879,\n",
       " b\"b'\\\\xd1\\\\x81\\\\xd0\\\\xbc\\\\xd0\\\\xb5\\\\xd1\\\\x80\\\\xd1\\\\x82\\\\xd0\\\\xbd\\\\xd0\\\\xb8\\\\xd1\\\\x86\\\\xd0\\\\xb0'\": 67702,\n",
       " b\"b'\\\\xd0\\\\xb4\\\\xd0\\\\xbe\\\\xd0\\\\xb2\\\\xd0\\\\xbe\\\\xd0\\\\xbb\\\\xd1\\\\x8c\\\\xd0\\\\xbd\\\\xd1\\\\x8b\\\\xd0\\\\xb9'\": 1954,\n",
       " b\"b'place'\": 30136,\n",
       " b\"b'\\\\xd0\\\\xb2\\\\xd0\\\\xb0\\\\xd0\\\\xb9\\\\xd0\\\\xb4\\\\xd0\\\\xbc\\\\xd0\\\\xb0\\\\xd0\\\\xbd'\": 142207,\n",
       " b\"b'\\\\xd0\\\\xbe\\\\xd1\\\\x82\\\\xd1\\\\x81\\\\xd1\\\\x82\\\\xd1\\\\x80\\\\xd0\\\\xb5\\\\xd0\\\\xbb\\\\xd0\\\\xb8\\\\xd1\\\\x82\\\\xd1\\\\x8c'\": 71212,\n",
       " b\"b'\\\\xd0\\\\xbd\\\\xd0\\\\xb0\\\\xd0\\\\xbf\\\\xd0\\\\xbb\\\\xd0\\\\xb5\\\\xd0\\\\xb2\\\\xd0\\\\xb0\\\\xd1\\\\x82\\\\xd0\\\\xb5\\\\xd0\\\\xbb\\\\xd1\\\\x8c\\\\xd1\\\\x81\\\\xd1\\\\x82\\\\xd0\\\\xb2\\\\xd0\\\\xbe'\": 114402,\n",
       " b\"b'\\\\xd0\\\\xb4\\\\xd0\\\\xb8\\\\xd0\\\\xb0\\\\xd0\\\\xb3\\\\xd0\\\\xbd\\\\xd0\\\\xbe\\\\xd1\\\\x81'\": 173741,\n",
       " b\"b'\\\\xd1\\\\x80\\\\xd1\\\\x8b\\\\xd0\\\\xba\\\\xd0\\\\xbe\\\\xd0\\\\xb2'\": 34654,\n",
       " b\"b'\\\\xd0\\\\xb3\\\\xd0\\\\xbe\\\\xd0\\\\xb4\\\\xd0\\\\xb2\\\\xd0\\\\xb8\\\\xd0\\\\xbd'\": 114605,\n",
       " b\"b'\\\\xd0\\\\xb2\\\\xd1\\\\x81\\\\xd0\\\\xb4'\": 30678,\n",
       " b\"b'\\\\xd0\\\\xbf\\\\xd1\\\\x81\\\\xd0\\\\xb8\\\\xd1\\\\x85\\\\xd0\\\\xbe\\\\xd0\\\\xba\\\\xd0\\\\xbe\\\\xd1\\\\x80\\\\xd1\\\\x80\\\\xd0\\\\xb5\\\\xd0\\\\xba\\\\xd1\\\\x86\\\\xd0\\\\xb8\\\\xd1\\\\x8f'\": 50671,\n",
       " b\"b'\\\\xd0\\\\xbf\\\\xd0\\\\xb8\\\\xd0\\\\xbd\\\\xd0\\\\xb4\\\\xd0\\\\xb0\\\\xd1\\\\x80'\": 95207,\n",
       " b\"b'\\\\xd0\\\\xb8\\\\xd0\\\\xbd\\\\xd1\\\\x82\\\\xd1\\\\x80\\\\xd0\\\\xbe\\\\xd1\\\\x81\\\\xd0\\\\xbf\\\\xd0\\\\xb5\\\\xd0\\\\xba\\\\xd1\\\\x82\\\\xd0\\\\xb8\\\\xd0\\\\xb2\\\\xd0\\\\xbd\\\\xd1\\\\x8b\\\\xd0\\\\xb9'\": 102086,\n",
       " b\"b'\\\\xd0\\\\xbe\\\\xd0\\\\xb1\\\\xd0\\\\xbe\\\\xd0\\\\xbb\\\\xd0\\\\xb3\\\\xd0\\\\xb0\\\\xd1\\\\x82\\\\xd1\\\\x8c'\": 52577,\n",
       " b\"b'\\\\xd0\\\\xb2\\\\xd0\\\\xb8\\\\xd0\\\\xba\\\\xd0\\\\xba\\\\xd0\\\\xb5\\\\xd1\\\\x80\\\\xd1\\\\x81'\": 70911,\n",
       " b\"b'\\\\xd0\\\\xbe\\\\xd0\\\\xba\\\\xd0\\\\xbb\\\\xd0\\\\xb0\\\\xd0\\\\xb4\\\\xd0\\\\xbd\\\\xd0\\\\xb8\\\\xd0\\\\xba\\\\xd0\\\\xbe\\\\xd0\\\\xb2'\": 85567,\n",
       " b\"b'\\\\xd0\\\\xbc\\\\xd0\\\\xb8\\\\xd0\\\\xb8\\\\xd0\\\\xb3'\": 88928,\n",
       " b\"b'\\\\xd1\\\\x8f\\\\xd0\\\\xb3\\\\xd0\\\\xb5\\\\xd0\\\\xbb\\\\xd0\\\\xbb\\\\xd0\\\\xbe\\\\xd0\\\\xbd'\": 125984,\n",
       " b\"b'\\\\xd1\\\\x83\\\\xd1\\\\x80\\\\xd0\\\\xbe\\\\xd0\\\\xb6\\\\xd0\\\\xb4\\\\xd0\\\\xb0\\\\xd1\\\\x82\\\\xd1\\\\x8c\\\\xd1\\\\x81\\\\xd1\\\\x8f'\": 49094,\n",
       " b\"b'\\\\xd0\\\\xbe\\\\xd1\\\\x84\\\\xd1\\\\x84\\\\xd0\\\\xb8\\\\xd1\\\\x86\\\\xd0\\\\xb8\\\\xd0\\\\xb0\\\\xd0\\\\xbb\\\\xd1\\\\x8c\\\\xd0\\\\xbd\\\\xd0\\\\xbe'\": 171713,\n",
       " b\"b'\\\\xd1\\\\x81\\\\xd1\\\\x82\\\\xd0\\\\xb5\\\\xd0\\\\xba\\\\xd0\\\\xbb\\\\xd0\\\\xbe\\\\xd0\\\\xb8\\\\xd0\\\\xb7\\\\xd0\\\\xb4\\\\xd0\\\\xb5\\\\xd0\\\\xbb\\\\xd0\\\\xb8\\\\xd0\\\\xb5'\": 107829,\n",
       " b\"b'\\\\xd0\\\\xbf\\\\xd0\\\\xb0\\\\xd0\\\\xbb\\\\xd1\\\\x8c\\\\xd0\\\\xbf\\\\xd0\\\\xb0\\\\xd1\\\\x86\\\\xd0\\\\xb8\\\\xd1\\\\x8f'\": 25384,\n",
       " b\"b'\\\\xd0\\\\xba\\\\xd1\\\\x80\\\\xd0\\\\xb8\\\\xd1\\\\x82\\\\xd0\\\\xb5\\\\xd1\\\\x80\\\\xd0\\\\xb8\\\\xd1\\\\x83\\\\xd0\\\\xbc'\": 155603,\n",
       " b\"b'boy'\": 32185,\n",
       " b\"b'\\\\xd0\\\\xba\\\\xd0\\\\xb5\\\\xd1\\\\x80\\\\xd0\\\\xb0\\\\xd0\\\\xbc\\\\xd0\\\\xb8\\\\xd0\\\\xb4\\\\xd0\\\\xb0'\": 72715,\n",
       " b\"b'\\\\xd0\\\\xb3\\\\xd1\\\\x80\\\\xd0\\\\xbf\\\\xd0\\\\xb1'\": 174275,\n",
       " b\"b'\\\\xd1\\\\x82\\\\xd0\\\\xb0\\\\xd1\\\\x80\\\\xd0\\\\xb0\\\\xd0\\\\xbd\\\\xd1\\\\x82\\\\xd0\\\\xb0\\\\xd1\\\\x81'\": 66873,\n",
       " b\"b'\\\\xd0\\\\xba\\\\xd0\\\\xb8\\\\xd0\\\\xbb\\\\xd0\\\\xb5\\\\xd0\\\\xb2\\\\xd0\\\\xbe\\\\xd0\\\\xb9'\": 97534,\n",
       " b\"b'macon'\": 134629,\n",
       " b\"b'\\\\xd0\\\\xbf\\\\xd1\\\\x80\\\\xd0\\\\xbe\\\\xd0\\\\xb2\\\\xd0\\\\xb5\\\\xd1\\\\x81'\": 109475,\n",
       " b\"b'\\\\xd1\\\\x80\\\\xd0\\\\xb0\\\\xd0\\\\xb4\\\\xd0\\\\xb8\\\\xd1\\\\x89\\\\xd0\\\\xb5\\\\xd0\\\\xb2'\": 28106,\n",
       " b\"b'\\\\xd0\\\\xbd\\\\xd0\\\\xb5\\\\xd0\\\\xbf\\\\xd0\\\\xb0\\\\xd1\\\\x80\\\\xd1\\\\x82\\\\xd0\\\\xb8\\\\xd0\\\\xb9\\\\xd0\\\\xbd\\\\xd1\\\\x8b\\\\xd0\\\\xb9'\": 111355,\n",
       " b\"b'\\\\xd0\\\\xbb\\\\xd0\\\\xb5\\\\xd1\\\\x84\\\\xd0\\\\xba\\\\xd0\\\\xb0\\\\xd0\\\\xb4\\\\xd0\\\\xb8\\\\xd0\\\\xb9'\": 90332,\n",
       " b\"b'\\\\xd1\\\\x84\\\\xd0\\\\xb5\\\\xd1\\\\x80'\": 44808,\n",
       " b\"b'\\\\xd0\\\\xb8\\\\xd1\\\\x88\\\\xd0\\\\xb8\\\\xd0\\\\xbc\\\\xd0\\\\xb1\\\\xd0\\\\xb0\\\\xd0\\\\xb9'\": 62238,\n",
       " b\"b'\\\\xd1\\\\x81\\\\xd1\\\\x83\\\\xd0\\\\xbc\\\\xd0\\\\xbc\\\\xd0\\\\xb8\\\\xd1\\\\x80\\\\xd0\\\\xbe\\\\xd0\\\\xb2\\\\xd0\\\\xb0\\\\xd1\\\\x82\\\\xd1\\\\x8c\\\\xd1\\\\x81\\\\xd1\\\\x8f'\": 20849,\n",
       " b\"b'\\\\xd0\\\\xb3\\\\xd0\\\\xbe\\\\xd1\\\\x80\\\\xd0\\\\xbd\\\\xd0\\\\xbe\\\\xd0\\\\xbc\\\\xd0\\\\xb5\\\\xd1\\\\x82\\\\xd0\\\\xb0\\\\xd0\\\\xbb\\\\xd0\\\\xbb\\\\xd1\\\\x83\\\\xd1\\\\x80\\\\xd0\\\\xb3\\\\xd0\\\\xb8\\\\xd1\\\\x87\\\\xd0\\\\xb5\\\\xd1\\\\x81\\\\xd0\\\\xba\\\\xd0\\\\xb8\\\\xd0\\\\xb9'\": 160248,\n",
       " b\"b'\\\\xd0\\\\xb4\\\\xd0\\\\xb0\\\\xd0\\\\xbb\\\\xd1\\\\x8c\\\\xd1\\\\x80\\\\xd1\\\\x8b\\\\xd0\\\\xb1\\\\xd0\\\\xb2\\\\xd1\\\\x82\\\\xd1\\\\x83\\\\xd0\\\\xb7'\": 116219,\n",
       " b\"b'\\\\xd0\\\\xbe\\\\xd1\\\\x82\\\\xd1\\\\x87\\\\xd1\\\\x83\\\\xd0\\\\xb6\\\\xd0\\\\xb4\\\\xd0\\\\xb0\\\\xd1\\\\x82\\\\xd1\\\\x8c'\": 28208,\n",
       " b\"b'\\\\xd0\\\\xbd\\\\xd0\\\\xb5\\\\xd0\\\\xbf\\\\xd0\\\\xbb\\\\xd0\\\\xb0\\\\xd1\\\\x82\\\\xd0\\\\xb5\\\\xd0\\\\xb6\\\\xd0\\\\xb5\\\\xd1\\\\x81\\\\xd0\\\\xbf\\\\xd0\\\\xbe\\\\xd1\\\\x81\\\\xd0\\\\xbe\\\\xd0\\\\xb1\\\\xd0\\\\xbd\\\\xd1\\\\x8b\\\\xd0\\\\xb9'\": 41635,\n",
       " b\"b'torx'\": 124196,\n",
       " b\"b'\\\\xd0\\\\xbf\\\\xd0\\\\xb5\\\\xd0\\\\xba\\\\xd0\\\\xb8\\\\xd0\\\\xbd'\": 8502,\n",
       " b\"b'\\\\xd0\\\\xb0\\\\xd0\\\\xba\\\\xd1\\\\x81'\": 35924,\n",
       " b\"b'\\\\xd0\\\\xbf\\\\xd0\\\\xb8\\\\xd1\\\\x82\\\\xd0\\\\xbe\\\\xd0\\\\xbc\\\\xd0\\\\xb8\\\\xd1\\\\x86\\\\xd0\\\\xb0'\": 65001,\n",
       " b\"b'\\\\xd0\\\\xbd\\\\xd0\\\\xb5\\\\xd0\\\\xb5\\\\xd0\\\\xbc\\\\xd0\\\\xb8\\\\xd1\\\\x8f'\": 79427,\n",
       " b\"b'\\\\xd0\\\\xbf\\\\xd0\\\\xb0\\\\xd1\\\\x80\\\\xd0\\\\xb0\\\\xd0\\\\xbc\\\\xd0\\\\xb5\\\\xd1\\\\x82\\\\xd1\\\\x80\\\\xd0\\\\xb8\\\\xd0\\\\xb7\\\\xd0\\\\xbe\\\\xd0\\\\xb2\\\\xd0\\\\xb0\\\\xd1\\\\x82\\\\xd1\\\\x8c'\": 140878,\n",
       " b\"b'\\\\xd1\\\\x8d\\\\xd0\\\\xbb\\\\xd0\\\\xb8\\\\xd0\\\\xb4\\\\xd0\\\\xb0'\": 117780,\n",
       " b\"b'\\\\xd1\\\\x85\\\\xd1\\\\x87'\": 135475,\n",
       " b\"b'\\\\xd0\\\\xba\\\\xd0\\\\xbe\\\\xd0\\\\xb2\\\\xd1\\\\x8b\\\\xd0\\\\xbb\\\\xd1\\\\x8c\\\\xd0\\\\xbd\\\\xd1\\\\x8b\\\\xd0\\\\xb9'\": 93130,\n",
       " b\"b'\\\\xd0\\\\xb2\\\\xd0\\\\xba\\\\xd0\\\\xbb'\": 19389,\n",
       " b\"b'kombi'\": 123961,\n",
       " b\"b'\\\\xd0\\\\xb8\\\\xd0\\\\xb7\\\\xd0\\\\xb4\\\\xd0\\\\xb0\\\\xd1\\\\x82\\\\xd0\\\\xb5\\\\xd0\\\\xbb\\\\xd1\\\\x8c\\\\xd1\\\\x81\\\\xd0\\\\xba\\\\xd0\\\\xb8\\\\xd0\\\\xb9'\": 7620,\n",
       " b\"b'\\\\xd0\\\\xbb\\\\xd0\\\\xb0\\\\xd1\\\\x83\\\\xd1\\\\x80\\\\xd0\\\\xb8\\\\xd0\\\\xbb'\": 98838,\n",
       " b\"b'\\\\xd0\\\\xbc\\\\xd0\\\\xb1\\\\xd0\\\\xbe\\\\xd1\\\\x83\\\\xd1\\\\x81\\\\xd0\\\\xbe\\\\xd1\\\\x88'\": 174276,\n",
       " b\"b'\\\\xd0\\\\xb1\\\\xd0\\\\xb0\\\\xd0\\\\xb3\\\\xd0\\\\xb4\\\\xd0\\\\xb0\\\\xd0\\\\xb4\\\\xd1\\\\x81\\\\xd0\\\\xba\\\\xd0\\\\xb8\\\\xd0\\\\xb9'\": 64555,\n",
       " b\"b'\\\\xd0\\\\xb2\\\\xd0\\\\xbe\\\\xd0\\\\xb7\\\\xd0\\\\xb2\\\\xd0\\\\xb5\\\\xd1\\\\x81\\\\xd0\\\\xb5\\\\xd0\\\\xbb\\\\xd1\\\\x8f\\\\xd1\\\\x82\\\\xd1\\\\x8c'\": 157422,\n",
       " b\"b'\\\\xd0\\\\xbe\\\\xd0\\\\xb3\\\\xd0\\\\xbb\\\\xd0\\\\xb0\\\\xd1\\\\x81\\\\xd0\\\\xbd\\\\xd0\\\\xbe'\": 138440,\n",
       " b\"b'\\\\xd0\\\\xbc\\\\xd0\\\\xb8\\\\xd0\\\\xbd\\\\xd1\\\\x83\\\\xd1\\\\x81'\": 2281,\n",
       " b\"b'\\\\xd0\\\\xba\\\\xd1\\\\x80\\\\xd0\\\\xb0\\\\xd0\\\\xb9\\\\xd0\\\\xbd\\\\xd1\\\\x8f\\\\xd0\\\\xba'\": 64104,\n",
       " b\"b'\\\\xd1\\\\x85\\\\xd0\\\\xb8\\\\xd0\\\\xbc\\\\xd1\\\\x81\\\\xd1\\\\x82\\\\xd0\\\\xbe\\\\xd0\\\\xb9\\\\xd0\\\\xba\\\\xd0\\\\xbe\\\\xd1\\\\x81\\\\xd1\\\\x82\\\\xd1\\\\x8c'\": 160766,\n",
       " b\"b'\\\\xd0\\\\xb1\\\\xd0\\\\xb0\\\\xd0\\\\xbb\\\\xd0\\\\xb0\\\\xd1\\\\x88\\\\xd0\\\\xb0'\": 191917,\n",
       " b\"b'\\\\xd1\\\\x8d\\\\xd0\\\\xb3\\\\xd0\\\\xbb\\\\xd0\\\\xb8\\\\xd1\\\\x82\\\\xd1\\\\x8c'\": 190408,\n",
       " b\"b'\\\\xd0\\\\xb0\\\\xd0\\\\xb9\\\\xd1\\\\x80\\\\xd0\\\\xbe\\\\xd0\\\\xbd\\\\xd1\\\\x81'\": 117315,\n",
       " b\"b'\\\\xd0\\\\xb0\\\\xd0\\\\xb5\\\\xd0\\\\xbd'\": 130471,\n",
       " b\"b'\\\\xd0\\\\xbb\\\\xd0\\\\xb0\\\\xd0\\\\xb2\\\\xd1\\\\x80\\\\xd0\\\\xb8\\\\xd0\\\\xbd\\\\xd0\\\\xbe\\\\xd0\\\\xb2\\\\xd0\\\\xb8\\\\xd1\\\\x87'\": 68717,\n",
       " b\"b'\\\\xd0\\\\xba\\\\xd0\\\\xb8\\\\xd0\\\\xbb\\\\xd0\\\\xbe\\\\xd0\\\\xbe\\\\xd0\\\\xbc'\": 183655,\n",
       " b\"b'\\\\xd1\\\\x83\\\\xd1\\\\x80\\\\xd1\\\\x8c\\\\xd0\\\\xb5'\": 129189,\n",
       " b\"b'professor'\": 66933,\n",
       " b\"b'\\\\xd0\\\\xb2\\\\xd0\\\\xbe\\\\xd1\\\\x80\\\\xd0\\\\xbe\\\\xd0\\\\xbd\\\\xd1\\\\x86\\\\xd0\\\\xbe\\\\xd0\\\\xb2\\\\xd1\\\\x8b\\\\xd0\\\\xb9'\": 90197,\n",
       " b\"b'ridgid'\": 77252,\n",
       " b\"b'\\\\xd0\\\\xbb\\\\xd0\\\\xb8\\\\xd0\\\\xb1\\\\xd1\\\\x85\\\\xd0\\\\xb5\\\\xd1\\\\x80\\\\xd1\\\\x80'\": 139327,\n",
       " b\"b'\\\\xd0\\\\xb5\\\\xd0\\\\xb3\\\\xd0\\\\xb0'\": 114370,\n",
       " b\"b'\\\\xd0\\\\xb0\\\\xd0\\\\xbd\\\\xd1\\\\x82\\\\xd0\\\\xb8\\\\xd0\\\\xbe\\\\xd0\\\\xb1\\\\xd0\\\\xbb\\\\xd0\\\\xb5\\\\xd0\\\\xb4\\\\xd0\\\\xb5\\\\xd0\\\\xbd\\\\xd0\\\\xb8\\\\xd1\\\\x82\\\\xd0\\\\xb5\\\\xd0\\\\xbb\\\\xd1\\\\x8c\\\\xd0\\\\xbd\\\\xd1\\\\x8b\\\\xd0\\\\xb9'\": 83015,\n",
       " b\"b'osu'\": 154225,\n",
       " b\"b'\\\\xd0\\\\xba\\\\xd1\\\\x80\\\\xd1\\\\x83\\\\xd0\\\\xb3\\\\xd0\\\\xbb\\\\xd0\\\\xb8\\\\xd0\\\\xba\\\\xd0\\\\xbe\\\\xd0\\\\xb2'\": 81155,\n",
       " b\"b'\\\\xd1\\\\x84\\\\xd0\\\\xbf\\\\xd1\\\\x81'\": 32892,\n",
       " b\"b'\\\\xd0\\\\xba\\\\xd0\\\\xb0\\\\xd0\\\\xbd\\\\xd0\\\\xb0\\\\xd0\\\\xb2\\\\xd0\\\\xb5\\\\xd1\\\\x80\\\\xd0\\\\xb0\\\\xd0\\\\xbb'\": 76779,\n",
       " b\"b'\\\\xd1\\\\x81\\\\xd0\\\\xb2\\\\xd0\\\\xb5\\\\xd1\\\\x82\\\\xd0\\\\xbe\\\\xd0\\\\xbe\\\\xd1\\\\x89\\\\xd1\\\\x83\\\\xd1\\\\x89\\\\xd0\\\\xb5\\\\xd0\\\\xbd\\\\xd0\\\\xb8\\\\xd0\\\\xb5'\": 194466,\n",
       " b\"b'\\\\xd0\\\\xb1\\\\xd0\\\\xb0\\\\xd0\\\\xb1\\\\xd0\\\\xbe\\\\xd1\\\\x81'\": 78140,\n",
       " b\"b'\\\\xd0\\\\xb2\\\\xd1\\\\x81\\\\xd0\\\\xb5\\\\xd0\\\\xb0'\": 87300,\n",
       " b\"b'\\\\xd0\\\\xbe\\\\xd0\\\\xba\\\\xd1\\\\x83\\\\xd0\\\\xbd\\\\xd0\\\\xb0\\\\xd1\\\\x82\\\\xd1\\\\x8c\\\\xd1\\\\x81\\\\xd1\\\\x8f'\": 6403,\n",
       " b\"b'\\\\xd0\\\\xb8\\\\xd0\\\\xbd\\\\xd0\\\\xba\\\\xd0\\\\xb0\\\\xd1\\\\x80\\\\xd0\\\\xbd\\\\xd0\\\\xb0\\\\xd1\\\\x86\\\\xd0\\\\xb8\\\\xd1\\\\x8f'\": 46277,\n",
       " b\"b'\\\\xd0\\\\xb6\\\\xd0\\\\xbe\\\\xd0\\\\xbb'\": 39312,\n",
       " b\"b'\\\\xd1\\\\x80\\\\xd0\\\\xb0\\\\xd1\\\\x81\\\\xd1\\\\x85\\\\xd0\\\\xbb\\\\xd1\\\\x8f\\\\xd0\\\\xb1\\\\xd0\\\\xb0\\\\xd0\\\\xbd\\\\xd0\\\\xbd\\\\xd1\\\\x8b\\\\xd0\\\\xb9'\": 118925,\n",
       " b\"b'\\\\xd0\\\\xbb\\\\xd0\\\\xb0\\\\xd1\\\\x82\\\\xd0\\\\xb3\\\\xd0\\\\xb0\\\\xd0\\\\xbb\\\\xd1\\\\x8c'\": 182022,\n",
       " b\"b'\\\\xd1\\\\x88\\\\xd0\\\\xb0\\\\xd1\\\\x88\\\\xd0\\\\xb5\\\\xd1\\\\x87\\\\xd0\\\\xba\\\\xd0\\\\xb0'\": 53730,\n",
       " b\"b'iranian'\": 195641,\n",
       " b\"b'\\\\xd1\\\\x81\\\\xd0\\\\xb0\\\\xd1\\\\x84\\\\xd1\\\\x80\\\\xd0\\\\xb0\\\\xd0\\\\xbd'\": 174810,\n",
       " b\"b'\\\\xd0\\\\xbf\\\\xd0\\\\xbe\\\\xd0\\\\xbb\\\\xd0\\\\xb8\\\\xd0\\\\xbd\\\\xd0\\\\xbe\\\\xd0\\\\xbc\\\\xd0\\\\xb8\\\\xd0\\\\xb0\\\\xd0\\\\xbb\\\\xd1\\\\x8c\\\\xd0\\\\xbd\\\\xd1\\\\x8b\\\\xd0\\\\xb9'\": 105303,\n",
       " b\"b'\\\\xd0\\\\xba\\\\xd0\\\\xb8\\\\xd1\\\\x80\\\\xd0\\\\xb8\\\\xd0\\\\xbb\\\\xd0\\\\xbb\\\\xd0\\\\xbe-\\\\xd0\\\\xb1\\\\xd0\\\\xb5\\\\xd0\\\\xbb\\\\xd0\\\\xbe\\\\xd0\\\\xb7\\\\xd0\\\\xb5\\\\xd1\\\\x80\\\\xd1\\\\x81\\\\xd0\\\\xba\\\\xd0\\\\xb8\\\\xd0\\\\xb9'\": 102219,\n",
       " b\"b'dimension'\": 77027,\n",
       " b\"b'gfs'\": 184133,\n",
       " b\"b'kyron'\": 76950,\n",
       " b\"b'\\\\xd0\\\\xbf\\\\xd1\\\\x80\\\\xd0\\\\xbe\\\\xd0\\\\xb2'\": 40980,\n",
       " b\"b'\\\\xd0\\\\xbe\\\\xd0\\\\xb2\\\\xd0\\\\xbe\\\\xd0\\\\xba\\\\xd1\\\\x83\\\\xd0\\\\xb7\\\\xd0\\\\xbd\\\\xd0\\\\xb5\\\\xd1\\\\x86\\\\xd0\\\\xba'\": 195085,\n",
       " b\"b'\\\\xd0\\\\xb0\\\\xd0\\\\xb3\\\\xd1\\\\x80\\\\xd0\\\\xbe'\": 21328,\n",
       " b\"b'vero'\": 95299,\n",
       " b\"b'\\\\xd0\\\\xb7\\\\xd0\\\\xb0\\\\xd0\\\\xb3\\\\xd1\\\\x80\\\\xd0\\\\xb8\\\\xd0\\\\xbc\\\\xd0\\\\xb8\\\\xd1\\\\x80\\\\xd0\\\\xbe\\\\xd0\\\\xb2\\\\xd1\\\\x8b\\\\xd0\\\\xb2\\\\xd0\\\\xb0\\\\xd1\\\\x82\\\\xd1\\\\x8c'\": 70130,\n",
       " b\"b'\\\\xd0\\\\xb1\\\\xd1\\\\x8b\\\\xd0\\\\xb2\\\\xd0\\\\xb0\\\\xd0\\\\xbb\\\\xd1\\\\x8c\\\\xd1\\\\x89\\\\xd0\\\\xb8\\\\xd0\\\\xbd\\\\xd0\\\\xb0'\": 164676,\n",
       " b\"b'dani'\": 139519,\n",
       " b\"b'\\\\xd0\\\\xba\\\\xd0\\\\xb8\\\\xd0\\\\xbd\\\\xd0\\\\xb3\\\\xd0\\\\xb7'\": 105738,\n",
       " b\"b'\\\\xd0\\\\xbc\\\\xd0\\\\xbd\\\\xd0\\\\xb5\\\\xd1\\\\x81\\\\xd1\\\\x82\\\\xd0\\\\xb8\\\\xd1\\\\x87\\\\xd0\\\\xb5\\\\xd1\\\\x81\\\\xd0\\\\xba\\\\xd0\\\\xb8\\\\xd0\\\\xb9'\": 97717,\n",
       " b\"b'\\\\xd0\\\\xb1\\\\xd1\\\\x8e\\\\xd1\\\\x80\\\\xd0\\\\xbd\\\\xd1\\\\x8b\\\\xd0\\\\xb9'\": 156304,\n",
       " b\"b'\\\\xd0\\\\xb7\\\\xd0\\\\xb0\\\\xd0\\\\xbc\\\\xd0\\\\xbe\\\\xd0\\\\xb2\\\\xd0\\\\xbb\\\\xd0\\\\xb5\\\\xd0\\\\xbd\\\\xd0\\\\xbd\\\\xd0\\\\xb8\\\\xd0\\\\xb9'\": 195712,\n",
       " b\"b'\\\\xd1\\\\x80\\\\xd0\\\\xb5\\\\xd0\\\\xb4\\\\xd0\\\\xb0\\\\xd0\\\\xba\\\\xd1\\\\x82\\\\xd0\\\\xb8\\\\xd1\\\\x80\\\\xd0\\\\xbe\\\\xd0\\\\xb2\\\\xd0\\\\xb0\\\\xd0\\\\xbd\\\\xd0\\\\xb8\\\\xd0\\\\xb5'\": 6232,\n",
       " b\"b'\\\\xd0\\\\xb3\\\\xd1\\\\x80\\\\xd0\\\\xb5\\\\xd0\\\\xb9\\\\xd1\\\\x85\\\\xd0\\\\xb0\\\\xd1\\\\x83\\\\xd0\\\\xbd\\\\xd0\\\\xb4'\": 105561,\n",
       " b\"b'\\\\xd0\\\\xbb\\\\xd0\\\\xb5\\\\xd0\\\\xbc\\\\xd1\\\\x83\\\\xd0\\\\xb0\\\\xd0\\\\xbd'\": 143088,\n",
       " b\"b'\\\\xd0\\\\xb5\\\\xd1\\\\x81\\\\xd1\\\\x82\\\\xd0\\\\xb5\\\\xd1\\\\x81\\\\xd1\\\\x82\\\\xd0\\\\xb2\\\\xd0\\\\xb5\\\\xd0\\\\xbd\\\\xd0\\\\xbd\\\\xd0\\\\xbe\\\\xd0\\\\xb8\\\\xd1\\\\x81\\\\xd1\\\\x82\\\\xd0\\\\xbe\\\\xd1\\\\x80\\\\xd0\\\\xb8\\\\xd1\\\\x87\\\\xd0\\\\xb5\\\\xd1\\\\x81\\\\xd0\\\\xba\\\\xd0\\\\xb8\\\\xd0\\\\xb9'\": 118200,\n",
       " b\"b'\\\\xd1\\\\x83\\\\xd0\\\\xbd\\\\xd0\\\\xb8\\\\xd0\\\\xba\\\\xd0\\\\xb0\\\\xd0\\\\xbb\\\\xd1\\\\x8c\\\\xd0\\\\xbd\\\\xd0\\\\xbe\\\\xd1\\\\x81\\\\xd1\\\\x82\\\\xd1\\\\x8c'\": 5670,\n",
       " b\"b'\\\\xd0\\\\xb2\\\\xd0\\\\xbe\\\\xd0\\\\xb7\\\\xd1\\\\x80\\\\xd0\\\\xbe\\\\xd1\\\\x81\\\\xd1\\\\x82\\\\xd0\\\\xb0'\": 97011,\n",
       " b\"b'iptc'\": 187036,\n",
       " b\"b'\\\\xd1\\\\x80\\\\xd0\\\\xb0\\\\xd0\\\\xb7\\\\xd0\\\\xb4\\\\xd0\\\\xb0\\\\xd0\\\\xbd'\": 126332,\n",
       " b\"b'adaptec'\": 136039,\n",
       " b\"b'fan'\": 42003,\n",
       " b\"b'\\\\xd0\\\\xb4\\\\xd0\\\\xb5\\\\xd0\\\\xb7\\\\xd0\\\\xb1\\\\xd0\\\\xb0\\\\xd1\\\\x80\\\\xd1\\\\x8c\\\\xd0\\\\xb5\\\\xd1\\\\x80'\": 184129,\n",
       " b\"b'\\\\xd0\\\\xbf\\\\xd1\\\\x80\\\\xd0\\\\xbe\\\\xd1\\\\x85\\\\xd0\\\\xb2\\\\xd0\\\\xb0\\\\xd1\\\\x82\\\\xd1\\\\x8b\\\\xd0\\\\xb2\\\\xd0\\\\xb0\\\\xd1\\\\x82\\\\xd1\\\\x8c'\": 108270,\n",
       " b\"b'\\\\xd0\\\\xbe\\\\xd1\\\\x8e\\\\xd0\\\\xbd'\": 118997,\n",
       " b\"b'\\\\xd0\\\\xbe\\\\xd1\\\\x81\\\\xd1\\\\x82\\\\xd1\\\\x80\\\\xd0\\\\xb0\\\\xd0\\\\xba\\\\xd0\\\\xb8\\\\xd0\\\\xb7\\\\xd0\\\\xbc'\": 64192,\n",
       " b\"b'\\\\xd0\\\\xb8\\\\xd1\\\\x81\\\\xd1\\\\x81\\\\xd1\\\\x82\\\\xd0\\\\xb0\\\\xd1\\\\x80\\\\xd0\\\\xb8'\": 57721,\n",
       " b\"b'\\\\xd0\\\\xb3\\\\xd0\\\\xb8\\\\xd0\\\\xb7\\\\xd0\\\\xb0\\\\xd1\\\\x82\\\\xd1\\\\x83\\\\xd0\\\\xbb\\\\xd0\\\\xb8\\\\xd0\\\\xbd'\": 112879,\n",
       " b\"b'\\\\xd1\\\\x87\\\\xd0\\\\xb0\\\\xd1\\\\x83\\\\xd1\\\\x81\\\\xd1\\\\x81\\\\xd0\\\\xba\\\\xd0\\\\xb8\\\\xd0\\\\xb9'\": 90515,\n",
       " b\"b'\\\\xd0\\\\xb2\\\\xd0\\\\xb5\\\\xd0\\\\xbb\\\\xd0\\\\xb8\\\\xd1\\\\x87\\\\xd0\\\\xb0\\\\xd1\\\\x82\\\\xd1\\\\x8c'\": 27571,\n",
       " b\"b'ask'\": 40619,\n",
       " b\"b'\\\\xd0\\\\xb1\\\\xd0\\\\xb5\\\\xd1\\\\x80\\\\xd0\\\\xb1\\\\xd0\\\\xb5\\\\xd1\\\\x80\\\\xd0\\\\xb8\\\\xd0\\\\xbd'\": 167581,\n",
       " b\"b'\\\\xd1\\\\x82\\\\xd0\\\\xb8\\\\xd0\\\\xbf\\\\xd0\\\\xbe\\\\xd1\\\\x80\\\\xd0\\\\xb0\\\\xd0\\\\xb7\\\\xd0\\\\xbc\\\\xd0\\\\xb5\\\\xd1\\\\x80'\": 14951,\n",
       " b\"b'\\\\xd0\\\\xbe\\\\xd0\\\\xbf\\\\xd0\\\\xbb\\\\xd0\\\\xb0\\\\xd1\\\\x87\\\\xd0\\\\xb8\\\\xd0\\\\xb2\\\\xd0\\\\xb0\\\\xd1\\\\x82\\\\xd1\\\\x8c'\": 1687,\n",
       " b\"b'\\\\xd0\\\\xbd\\\\xd0\\\\xb8\\\\xd0\\\\xbc\\\\xd0\\\\xb1\\\\xd1\\\\x83\\\\xd1\\\\x81'\": 182198,\n",
       " b\"b'\\\\xd0\\\\xbd\\\\xd0\\\\xb5\\\\xd0\\\\xb1\\\\xd1\\\\x80\\\\xd0\\\\xb5\\\\xd0\\\\xb6\\\\xd0\\\\xbd\\\\xd0\\\\xbe'\": 18290,\n",
       " b\"b'\\\\xd0\\\\xbc\\\\xd0\\\\xb0\\\\xd0\\\\xbd\\\\xd1\\\\x81\\\\xd1\\\\x83\\\\xd1\\\\x80\\\\xd0\\\\xbe\\\\xd0\\\\xb2\\\\xd0\\\\xbd\\\\xd0\\\\xb0'\": 178198,\n",
       " b\"b'\\\\xd1\\\\x81\\\\xd0\\\\xbe\\\\xd0\\\\xb8\\\\xd0\\\\xbd\\\\xd0\\\\xb2\\\\xd0\\\\xb5\\\\xd1\\\\x81\\\\xd1\\\\x82\\\\xd0\\\\xb8\\\\xd1\\\\x80\\\\xd0\\\\xbe\\\\xd0\\\\xb2\\\\xd0\\\\xb0\\\\xd0\\\\xbd\\\\xd0\\\\xb8\\\\xd0\\\\xb5'\": 100699,\n",
       " b\"b'\\\\xd1\\\\x8d\\\\xd0\\\\xbf\\\\xd0\\\\xb8\\\\xd1\\\\x80\\\\xd1\\\\x81\\\\xd0\\\\xba\\\\xd0\\\\xb8\\\\xd0\\\\xb9'\": 161924,\n",
       " b\"b'\\\\xd0\\\\xbf\\\\xd0\\\\xbe\\\\xd1\\\\x81\\\\xd0\\\\xb5\\\\xd0\\\\xbb\\\\xd1\\\\x8f\\\\xd1\\\\x82\\\\xd1\\\\x8c'\": 16650,\n",
       " b\"b'\\\\xd0\\\\xbf\\\\xd0\\\\xb5\\\\xd1\\\\x80\\\\xd0\\\\xb5\\\\xd0\\\\xb4\\\\xd0\\\\xbe\\\\xd0\\\\xba'\": 38462,\n",
       " b\"b'map'\": 25547,\n",
       " b\"b'\\\\xd1\\\\x81\\\\xd0\\\\xbb\\\\xd0\\\\xb5\\\\xd0\\\\xbf\\\\xd0\\\\xbe\\\\xd0\\\\xb2'\": 138343,\n",
       " b\"b'\\\\xd0\\\\xba\\\\xd0\\\\xbe\\\\xd0\\\\xbd\\\\xd0\\\\xbe\\\\xd0\\\\xb1\\\\xd0\\\\xb5\\\\xd0\\\\xb5\\\\xd0\\\\xb2\\\\xd0\\\\xbe'\": 188431,\n",
       " b\"b'cmv'\": 118807,\n",
       " b\"b'\\\\xd1\\\\x80\\\\xd0\\\\xbe\\\\xd1\\\\x81\\\\xd1\\\\x81\\\\xd0\\\\xb8\\\\xd1\\\\x8f\\\\xd0\\\\xbd\\\\xd0\\\\xba\\\\xd0\\\\xb0'\": 19879,\n",
       " b\"b'\\\\xd0\\\\xbc\\\\xd0\\\\xb5\\\\xd1\\\\x82\\\\xd0\\\\xb0\\\\xd1\\\\x82\\\\xd0\\\\xb5\\\\xd0\\\\xb3'\": 50134,\n",
       " b\"b'\\\\xd0\\\\xbf\\\\xd1\\\\x80\\\\xd0\\\\xb5\\\\xd0\\\\xb4\\\\xd0\\\\xb2\\\\xd0\\\\xb0\\\\xd1\\\\x80\\\\xd0\\\\xb8\\\\xd1\\\\x82\\\\xd0\\\\xb5\\\\xd0\\\\xbb\\\\xd1\\\\x8c\\\\xd0\\\\xbd\\\\xd1\\\\x8b\\\\xd0\\\\xb9'\": 1739,\n",
       " b\"b'\\\\xd0\\\\xb0\\\\xd0\\\\xb4\\\\xd0\\\\xb5\\\\xd0\\\\xbd\\\\xd0\\\\xbe\\\\xd0\\\\xbc\\\\xd0\\\\xb0\\\\xd1\\\\x82\\\\xd0\\\\xbe\\\\xd0\\\\xb7\\\\xd0\\\\xbd\\\\xd1\\\\x8b\\\\xd0\\\\xb9'\": 112985,\n",
       " b\"b'\\\\xd1\\\\x82\\\\xd1\\\\x80\\\\xd0\\\\xb5\\\\xd1\\\\x85\\\\xd1\\\\x87\\\\xd0\\\\xbb\\\\xd0\\\\xb5\\\\xd0\\\\xbd'\": 136947,\n",
       " b\"b'\\\\xd1\\\\x80\\\\xd0\\\\xb0\\\\xd1\\\\x81\\\\xd0\\\\xba\\\\xd1\\\\x80\\\\xd1\\\\x8b\\\\xd0\\\\xb2\\\\xd0\\\\xb0\\\\xd0\\\\xbd\\\\xd0\\\\xb8\\\\xd0\\\\xb5'\": 112048,\n",
       " b\"b'\\\\xd1\\\\x8d\\\\xd0\\\\xba\\\\xd0\\\\xbe\\\\xd0\\\\xbd\\\\xd0\\\\xbe\\\\xd0\\\\xbc'\": 6410,\n",
       " b\"b'\\\\xd0\\\\xb3\\\\xd0\\\\xbd\\\\xd0\\\\xb8\\\\xd0\\\\xbb\\\\xd1\\\\x83\\\\xd1\\\\x88\\\\xd0\\\\xba\\\\xd0\\\\xb0'\": 104083,\n",
       " b\"b'teuco'\": 152468,\n",
       " b\"b'\\\\xd0\\\\xbf\\\\xd0\\\\xb0\\\\xd1\\\\x82\\\\xd0\\\\xb0\\\\xd0\\\\xbf'\": 75219,\n",
       " b\"b'\\\\xd0\\\\xbf\\\\xd0\\\\xbd\\\\xd0\\\\xb5\\\\xd0\\\\xb2\\\\xd0\\\\xbc\\\\xd0\\\\xb0\\\\xd1\\\\x82\\\\xd0\\\\xb8\\\\xd0\\\\xba\\\\xd0\\\\xb0'\": 26840,\n",
       " b\"b'spiegel'\": 51105,\n",
       " b\"b'\\\\xd0\\\\xbb\\\\xd1\\\\x8c\\\\xd0\\\\xb3\\\\xd0\\\\xbe\\\\xd1\\\\x82\\\\xd0\\\\xb0'\": 4315,\n",
       " b\"b'felipe'\": 179965,\n",
       " b\"b'\\\\xd0\\\\xb1\\\\xd0\\\\xb5\\\\xd1\\\\x80\\\\xd0\\\\xb8\\\\xd0\\\\xbd\\\\xd0\\\\xb3\\\\xd0\\\\xbe\\\\xd0\\\\xb2'\": 44620,\n",
       " b\"b'\\\\xd0\\\\xbf\\\\xd0\\\\xb8\\\\xd1\\\\x81\\\\xd1\\\\x8c\\\\xd0\\\\xbc\\\\xd0\\\\xb5\\\\xd0\\\\xbd\\\\xd0\\\\xbd\\\\xd0\\\\xbe'\": 14703,\n",
       " b\"b'\\\\xd1\\\\x85\\\\xd0\\\\xb0\\\\xd0\\\\xbd\\\\xd0\\\\xbe\\\\xd0\\\\xb2'\": 157871,\n",
       " b\"b'\\\\xd1\\\\x81\\\\xd0\\\\xbc\\\\xd0\\\\xb5\\\\xd0\\\\xbd\\\\xd1\\\\x89\\\\xd0\\\\xb8\\\\xd1\\\\x86\\\\xd0\\\\xb0'\": 157228,\n",
       " b\"b'\\\\xd1\\\\x82\\\\xd0\\\\xbe\\\\xd1\\\\x80\\\\xd0\\\\xb1\\\\xd0\\\\xb8\\\\xd0\\\\xbd\\\\xd0\\\\xb0'\": 188815,\n",
       " b\"b'\\\\xd0\\\\xbf\\\\xd1\\\\x80\\\\xd0\\\\xbe\\\\xd0\\\\xb0\\\\xd0\\\\xbd\\\\xd1\\\\x82\\\\xd0\\\\xbe\\\\xd1\\\\x86\\\\xd0\\\\xb8\\\\xd0\\\\xb0\\\\xd0\\\\xbd\\\\xd0\\\\xb8\\\\xd0\\\\xb4\\\\xd0\\\\xb8\\\\xd0\\\\xbd'\": 158629,\n",
       " b\"b'\\\\xd1\\\\x8d\\\\xd0\\\\xbb\\\\xd0\\\\xb5\\\\xd0\\\\xba\\\\xd1\\\\x82\\\\xd1\\\\x80\\\\xd0\\\\xbe\\\\xd1\\\\x81\\\\xd0\\\\xbe\\\\xd0\\\\xbd'\": 121692,\n",
       " b\"b'\\\\xd0\\\\xb4\\\\xd0\\\\xbd\\\\xd0\\\\xb5\\\\xd0\\\\xbf\\\\xd1\\\\x80\\\\xd0\\\\xbe\\\\xd0\\\\xbf\\\\xd0\\\\xb5\\\\xd1\\\\x82\\\\xd1\\\\x80\\\\xd0\\\\xbe\\\\xd0\\\\xb2\\\\xd1\\\\x89\\\\xd0\\\\xb8\\\\xd0\\\\xbd\\\\xd0\\\\xb0'\": 52620,\n",
       " b\"b'\\\\xd0\\\\xbf\\\\xd0\\\\xb5\\\\xd1\\\\x80\\\\xd0\\\\xb5\\\\xd0\\\\xb8\\\\xd0\\\\xbd\\\\xd0\\\\xb4\\\\xd0\\\\xb5\\\\xd0\\\\xba\\\\xd1\\\\x81\\\\xd0\\\\xb0\\\\xd1\\\\x86\\\\xd0\\\\xb8\\\\xd1\\\\x8f'\": 78543,\n",
       " b\"b'\\\\xd0\\\\xba\\\\xd1\\\\x80\\\\xd0\\\\xb8\\\\xd1\\\\x81\\\\xd1\\\\x82\\\\xd0\\\\xb0\\\\xd0\\\\xbd\\\\xd0\\\\xbd\\\\xd1\\\\x8b\\\\xd0\\\\xb9'\": 191118,\n",
       " b\"b'\\\\xd0\\\\xbf\\\\xd1\\\\x80\\\\xd0\\\\xbe\\\\xd0\\\\xbc\\\\xd0\\\\xba\\\\xd0\\\\xbe\\\\xd0\\\\xbe\\\\xd0\\\\xbf\\\\xd0\\\\xb5\\\\xd1\\\\x80\\\\xd0\\\\xb0\\\\xd1\\\\x86\\\\xd0\\\\xb8\\\\xd1\\\\x8f'\": 152434,\n",
       " b\"b'\\\\xd0\\\\xb3\\\\xd0\\\\xbe\\\\xd1\\\\x8f\\\\xd0\\\\xbc\\\\xd0\\\\xb8'\": 86601,\n",
       " b\"b'\\\\xd1\\\\x81\\\\xd0\\\\xb0\\\\xd0\\\\xb5\\\\xd0\\\\xbd\\\\xd1\\\\x82\\\\xd0\\\\xbe\\\\xd0\\\\xbb\\\\xd0\\\\xbe\\\\xd0\\\\xb3\\\\xd0\\\\xb8\\\\xd1\\\\x8f'\": 36867,\n",
       " b\"b'\\\\xd0\\\\xba\\\\xd0\\\\xbe\\\\xd0\\\\xb2\\\\xd0\\\\xb0\\\\xd0\\\\xbb\\\\xd0\\\\xb0\\\\xd0\\\\xb9\\\\xd0\\\\xbd\\\\xd0\\\\xb5\\\\xd0\\\\xbd'\": 103353,\n",
       " b\"b'\\\\xd0\\\\xba\\\\xd1\\\\x80\\\\xd0\\\\xbe\\\\xd0\\\\xba\\\\xd0\\\\xbe\\\\xd0\\\\xb4\\\\xd0\\\\xb8\\\\xd0\\\\xbb'\": 10489,\n",
       " b\"b'\\\\xd0\\\\xb2\\\\xd0\\\\xb8\\\\xd0\\\\xbb\\\\xd1\\\\x83\\\\xd1\\\\x85\\\\xd0\\\\xb8\\\\xd0\\\\xbd\\\\xd0\\\\xb0'\": 139790,\n",
       " b\"b'electra'\": 79339,\n",
       " b\"b'\\\\xd1\\\\x83\\\\xd0\\\\xbb\\\\xd0\\\\xb5\\\\xd1\\\\x82\\\\xd0\\\\xb0\\\\xd1\\\\x82\\\\xd1\\\\x8c'\": 7378,\n",
       " b\"b'none'\": 38353,\n",
       " b\"b'\\\\xd0\\\\xb7\\\\xd0\\\\xbb\\\\xd0\\\\xb0\\\\xd1\\\\x82\\\\xd0\\\\xba\\\\xd0\\\\xb8\\\\xd1\\\\x81'\": 167147,\n",
       " b\"b'\\\\xd0\\\\xb2\\\\xd0\\\\xb0\\\\xd1\\\\x82\\\\xd0\\\\xb5\\\\xd0\\\\xbb\\\\xd1\\\\x8c'\": 101723,\n",
       " b\"b'\\\\xd0\\\\xb1\\\\xd1\\\\x83\\\\xd0\\\\xba\\\\xd0\\\\xb0\\\\xd0\\\\xb5\\\\xd0\\\\xb2'\": 158887,\n",
       " b\"b'\\\\xd0\\\\xb1\\\\xd0\\\\xb5\\\\xd1\\\\x80\\\\xd0\\\\xb5\\\\xd0\\\\xbd\\\\xd0\\\\xb4\\\\xd0\\\\xb5\\\\xd0\\\\xb9'\": 55615,\n",
       " b\"b'\\\\xd0\\\\xbb\\\\xd0\\\\xbe\\\\xd1\\\\x81\\\\xd1\\\\x8c\\\\xd0\\\\xbe\\\\xd0\\\\xbd'\": 10574,\n",
       " b\"b'\\\\xd0\\\\xbf\\\\xd0\\\\xbe\\\\xd0\\\\xbb\\\\xd0\\\\xbc\\\\xd0\\\\xb8\\\\xd0\\\\xbb\\\\xd0\\\\xbb\\\\xd0\\\\xb8\\\\xd0\\\\xbc\\\\xd0\\\\xb5\\\\xd1\\\\x82\\\\xd1\\\\x80'\": 135399,\n",
       " b\"b'\\\\xd1\\\\x84\\\\xd0\\\\xb0\\\\xd1\\\\x82\\\\xd0\\\\xb5\\\\xd0\\\\xb9'\": 185615,\n",
       " b\"b'ctm'\": 178728,\n",
       " b\"b'\\\\xd0\\\\xbc\\\\xd1\\\\x83\\\\xd1\\\\x81\\\\xd0\\\\xbe\\\\xd1\\\\x80\\\\xd0\\\\xbe\\\\xd1\\\\x83\\\\xd0\\\\xb1\\\\xd0\\\\xbe\\\\xd1\\\\x80\\\\xd0\\\\xbe\\\\xd1\\\\x87\\\\xd0\\\\xbd\\\\xd1\\\\x8b\\\\xd0\\\\xb9'\": 109075,\n",
       " b\"b'\\\\xd0\\\\xba\\\\xd0\\\\xbe\\\\xd0\\\\xb7\\\\xd0\\\\xb8\\\\xd0\\\\xbd\\\\xd1\\\\x86\\\\xd0\\\\xb5\\\\xd0\\\\xb2'\": 72100,\n",
       " b\"b'\\\\xd1\\\\x81\\\\xd0\\\\xb0\\\\xd1\\\\x84\\\\xd1\\\\x8c\\\\xd1\\\\x8f\\\\xd0\\\\xbd\\\\xd0\\\\xbe\\\\xd0\\\\xb2\\\\xd1\\\\x8b\\\\xd0\\\\xb9'\": 110103,\n",
       " b\"b'\\\\xd0\\\\xb8\\\\xd1\\\\x81\\\\xd0\\\\xbf\\\\xd0\\\\xbe\\\\xd0\\\\xbb\\\\xd1\\\\x8c\\\\xd0\\\\xb7\\\\xd0\\\\xbe\\\\xd0\\\\xb2\\\\xd0\\\\xb0\\\\xd1\\\\x82\\\\xd1\\\\x8c'\": 61,\n",
       " b\"b'\\\\xd0\\\\xb0\\\\xd1\\\\x80\\\\xd0\\\\xb5\\\\xd1\\\\x81\\\\xd1\\\\x82\\\\xd0\\\\xbe\\\\xd0\\\\xb2\\\\xd1\\\\x8b\\\\xd0\\\\xb2\\\\xd0\\\\xb0\\\\xd1\\\\x82\\\\xd1\\\\x8c'\": 5255,\n",
       " b\"b'\\\\xd0\\\\xbf\\\\xd1\\\\x80\\\\xd0\\\\xb8\\\\xd1\\\\x80\\\\xd0\\\\xbe\\\\xd0\\\\xb4\\\\xd0\\\\xbd\\\\xd1\\\\x8b\\\\xd0\\\\xb9'\": 1149,\n",
       " b\"b'\\\\xd0\\\\xbd\\\\xd1\\\\x83\\\\xd1\\\\x80\\\\xd0\\\\xb5\\\\xd0\\\\xb5\\\\xd0\\\\xb2'\": 85735,\n",
       " b\"b'\\\\xd0\\\\xbc\\\\xd0\\\\xbe\\\\xd1\\\\x82\\\\xd0\\\\xbe\\\\xd1\\\\x80'\": 3072,\n",
       " b\"b'\\\\xd0\\\\xb4\\\\xd0\\\\xb8\\\\xd1\\\\x81\\\\xd0\\\\xb3\\\\xd0\\\\xb0\\\\xd1\\\\x80\\\\xd0\\\\xbc\\\\xd0\\\\xbe\\\\xd0\\\\xbd\\\\xd0\\\\xb8\\\\xd1\\\\x80\\\\xd0\\\\xbe\\\\xd0\\\\xb2\\\\xd0\\\\xb0\\\\xd1\\\\x82\\\\xd1\\\\x8c'\": 151801,\n",
       " b\"b'\\\\xd1\\\\x88\\\\xd0\\\\xb5\\\\xd1\\\\x80\\\\xd0\\\\xb5\\\\xd0\\\\xbc\\\\xd0\\\\xb5\\\\xd1\\\\x82\\\\xd1\\\\x8c\\\\xd0\\\\xb5\\\\xd0\\\\xb2\\\\xd0\\\\xbe'\": 16331,\n",
       " b\"b'\\\\xd1\\\\x81\\\\xd1\\\\x82\\\\xd0\\\\xb0\\\\xd1\\\\x80\\\\xd1\\\\x85\\\\xd0\\\\xb8\\\\xd1\\\\x82'\": 106167,\n",
       " b\"b'\\\\xd0\\\\xba\\\\xd1\\\\x83\\\\xd1\\\\x80\\\\xd1\\\\x8f\\\\xd1\\\\x82\\\\xd0\\\\xbd\\\\xd0\\\\xb8\\\\xd0\\\\xba'\": 31684,\n",
       " b\"b'booster'\": 54857,\n",
       " b\"b'\\\\xd0\\\\xbf\\\\xd0\\\\xb0\\\\xd0\\\\xb2\\\\xd0\\\\xb8\\\\xd0\\\\xbd\\\\xd1\\\\x81\\\\xd0\\\\xba\\\\xd0\\\\xb8\\\\xd0\\\\xb9'\": 161756,\n",
       " b\"b'\\\\xd0\\\\xb2\\\\xd0\\\\xb8\\\\xd0\\\\xb6\\\\xd0\\\\xb8\\\\xd1\\\\x82\\\\xd1\\\\x8c'\": 180540,\n",
       " b\"b'\\\\xd0\\\\xb0\\\\xd0\\\\xbb\\\\xd1\\\\x82\\\\xd1\\\\x83\\\\xd1\\\\x84\\\\xd1\\\\x8c\\\\xd0\\\\xb5\\\\xd0\\\\xb2\\\\xd0\\\\xbe'\": 41599,\n",
       " b\"b'\\\\xd1\\\\x81\\\\xd1\\\\x83\\\\xd0\\\\xbc\\\\xd1\\\\x87\\\\xd0\\\\xb0\\\\xd0\\\\xbd\\\\xd0\\\\xb8\\\\xd0\\\\xbd'\": 94317,\n",
       " b\"b'\\\\xd0\\\\xbd\\\\xd0\\\\xb5\\\\xd1\\\\x83\\\\xd1\\\\x81\\\\xd1\\\\x8b\\\\xd0\\\\xbf\\\\xd0\\\\xb0\\\\xd1\\\\x8e\\\\xd1\\\\x89\\\\xd0\\\\xb8\\\\xd0\\\\xb9'\": 160212,\n",
       " b\"b'\\\\xd0\\\\xb2\\\\xd0\\\\xb8\\\\xd0\\\\xb4\\\\xd0\\\\xb5\\\\xd0\\\\xbe\\\\xd0\\\\xba\\\\xd0\\\\xbe\\\\xd0\\\\xbd\\\\xd1\\\\x84\\\\xd0\\\\xb5\\\\xd1\\\\x80\\\\xd0\\\\xb5\\\\xd0\\\\xbd\\\\xd1\\\\x86'\": 77905,\n",
       " b\"b'blackberry'\": 20120,\n",
       " b\"b'\\\\xd0\\\\xb4\\\\xd0\\\\xbe\\\\xd1\\\\x85\\\\xd0\\\\xbe\\\\xd0\\\\xb4\\\\xd1\\\\x87\\\\xd0\\\\xb8\\\\xd0\\\\xb2\\\\xd0\\\\xbe\\\\xd1\\\\x81\\\\xd1\\\\x82\\\\xd1\\\\x8c'\": 92707,\n",
       " b\"b'\\\\xd1\\\\x81\\\\xd0\\\\xb2\\\\xd0\\\\xb5\\\\xd0\\\\xb6\\\\xd0\\\\xb5\\\\xd0\\\\xb2\\\\xd1\\\\x8b\\\\xd0\\\\xb6\\\\xd0\\\\xb0\\\\xd1\\\\x82\\\\xd1\\\\x8b\\\\xd0\\\\xb9'\": 21560,\n",
       " b\"b'\\\\xd0\\\\xba\\\\xd1\\\\x80\\\\xd0\\\\xb8\\\\xd0\\\\xb2\\\\xd0\\\\xbe\\\\xd0\\\\xba\\\\xd0\\\\xbe\\\\xd0\\\\xbb\\\\xd0\\\\xb5\\\\xd0\\\\xbd\\\\xd0\\\\xbd\\\\xd1\\\\x8b\\\\xd0\\\\xb9'\": 164186,\n",
       " b\"b'\\\\xd0\\\\xbf\\\\xd1\\\\x80\\\\xd0\\\\xbe\\\\xd0\\\\xbf\\\\xd0\\\\xb0\\\\xd0\\\\xbd\\\\xd0\\\\xbe\\\\xd0\\\\xbb'\": 178543,\n",
       " b\"b'\\\\xd0\\\\xbb\\\\xd1\\\\x8e\\\\xd0\\\\xb1\\\\xd0\\\\xbe\\\\xd1\\\\x87\\\\xd0\\\\xba\\\\xd0\\\\xb0'\": 67787,\n",
       " b\"b'\\\\xd1\\\\x83\\\\xd1\\\\x82\\\\xd0\\\\xba\\\\xd0\\\\xb8\\\\xd0\\\\xbd\\\\xd0\\\\xb0'\": 113323,\n",
       " b\"b'ingress'\": 151221,\n",
       " b\"b'\\\\xd0\\\\xbe\\\\xd1\\\\x81\\\\xd0\\\\xb5\\\\xd0\\\\xb5\\\\xd0\\\\xb2\\\\xd1\\\\x81\\\\xd0\\\\xba\\\\xd0\\\\xb8\\\\xd0\\\\xb9'\": 125788,\n",
       " b\"b'\\\\xd0\\\\xb7\\\\xd0\\\\xb2\\\\xd0\\\\xb5\\\\xd1\\\\x80\\\\xd0\\\\xbe\\\\xd0\\\\xbf\\\\xd0\\\\xbe\\\\xd0\\\\xbb\\\\xd0\\\\xb8\\\\xd1\\\\x81'\": 160071,\n",
       " b\"b'\\\\xd1\\\\x81\\\\xd0\\\\xb5\\\\xd1\\\\x80\\\\xd0\\\\xb3\\\\xd0\\\\xb5\\\\xd0\\\\xb5\\\\xd0\\\\xb2\\\\xd0\\\\xb0'\": 66350,\n",
       " b\"b'hundred'\": 119316,\n",
       " b\"b'\\\\xd1\\\\x81\\\\xd0\\\\xba\\\\xd0\\\\xbe\\\\xd0\\\\xb2\\\\xd1\\\\x8b\\\\xd0\\\\xb2\\\\xd0\\\\xb0\\\\xd1\\\\x82\\\\xd1\\\\x8c'\": 13279,\n",
       " b\"b'\\\\xd0\\\\xb2\\\\xd1\\\\x83\\\\xd1\\\\x81\\\\xd1\\\\x82\\\\xd0\\\\xb5\\\\xd1\\\\x80'\": 80474,\n",
       " b\"b'\\\\xd0\\\\xb3\\\\xd0\\\\xbe\\\\xd1\\\\x81\\\\xd1\\\\x81\\\\xd0\\\\xb5\\\\xd0\\\\xba\\\\xd1\\\\x80\\\\xd0\\\\xb5\\\\xd1\\\\x82\\\\xd0\\\\xb0\\\\xd1\\\\x80\\\\xd1\\\\x8c'\": 19303,\n",
       " b\"b'\\\\xd0\\\\xbf\\\\xd0\\\\xbe\\\\xd0\\\\xbb\\\\xd1\\\\x8f\\\\xd1\\\\x80\\\\xd0\\\\xbd\\\\xd1\\\\x8b\\\\xd0\\\\xb9'\": 7771,\n",
       " b\"b'\\\\xd0\\\\xbf\\\\xd0\\\\xbe\\\\xd1\\\\x82\\\\xd0\\\\xbe\\\\xd0\\\\xba'\": 1288,\n",
       " b\"b'\\\\xd1\\\\x83\\\\xd1\\\\x80\\\\xd0\\\\xb0\\\\xd0\\\\xbb\\\\xd0\\\\xbf\\\\xd0\\\\xbe\\\\xd0\\\\xbb\\\\xd0\\\\xb8\\\\xd1\\\\x82'\": 64329,\n",
       " b\"b'\\\\xd1\\\\x8d\\\\xd0\\\\xbb\\\\xd0\\\\xb5\\\\xd0\\\\xba\\\\xd1\\\\x82\\\\xd1\\\\x80\\\\xd0\\\\xbe\\\\xd1\\\\x81\\\\xd0\\\\xb5\\\\xd1\\\\x82\\\\xd0\\\\xb5\\\\xd0\\\\xb2\\\\xd0\\\\xbe\\\\xd0\\\\xb9'\": 23293,\n",
       " b\"b'opium'\": 108673,\n",
       " b\"b'\\\\xd0\\\\xb3\\\\xd0\\\\xb5\\\\xd1\\\\x80\\\\xd0\\\\xb0\\\\xd0\\\\xbb\\\\xd1\\\\x8c\\\\xd0\\\\xb4'\": 81724,\n",
       " b\"b'\\\\xd0\\\\xbc\\\\xd0\\\\xbb\\\\xd0\\\\xbc'\": 15925,\n",
       " b\"b'\\\\xd0\\\\xb1\\\\xd0\\\\xbe\\\\xd0\\\\xbb\\\\xd1\\\\x8c\\\\xd1\\\\x88\\\\xd0\\\\xb5\\\\xd0\\\\xb3\\\\xd0\\\\xbe\\\\xd0\\\\xbb\\\\xd0\\\\xbe\\\\xd0\\\\xb2\\\\xd1\\\\x8b\\\\xd0\\\\xb9'\": 111271,\n",
       " b\"b'\\\\xd0\\\\xba\\\\xd0\\\\xbe\\\\xd1\\\\x80\\\\xd1\\\\x8b\\\\xd1\\\\x81\\\\xd1\\\\x82\\\\xd0\\\\xbe\\\\xd0\\\\xbb\\\\xd1\\\\x8e\\\\xd0\\\\xb1\\\\xd0\\\\xb5\\\\xd1\\\\x86'\": 150091,\n",
       " b\"b'veber'\": 184733,\n",
       " b\"b'\\\\xd0\\\\xb7\\\\xd0\\\\xb0\\\\xd1\\\\x84\\\\xd0\\\\xb8\\\\xd0\\\\xb3\\\\xd0\\\\xb0\\\\xd1\\\\x87\\\\xd0\\\\xb8\\\\xd1\\\\x82\\\\xd1\\\\x8c'\": 125685,\n",
       " b\"b'\\\\xd0\\\\xbe\\\\xd0\\\\xb1\\\\xd0\\\\xb5\\\\xd1\\\\x80\\\\xd1\\\\x82\\\\xd0\\\\xbe\\\\xd0\\\\xbd'\": 51907,\n",
       " b\"b'\\\\xd0\\\\xbe\\\\xd0\\\\xb1\\\\xd0\\\\xbb\\\\xd0\\\\xbe\\\\xd0\\\\xbd\\\\xd1\\\\x81\\\\xd0\\\\xba\\\\xd0\\\\xbe\\\\xd0\\\\xb9'\": 156809,\n",
       " b\"b'\\\\xd0\\\\xbf\\\\xd1\\\\x80\\\\xd0\\\\xbe\\\\xd0\\\\xbb\\\\xd0\\\\xbe\\\\xd0\\\\xb3'\": 23083,\n",
       " b\"b'\\\\xd0\\\\xb0\\\\xd0\\\\xb3\\\\xd0\\\\xb0\\\\xd0\\\\xbc\\\\xd0\\\\xb5\\\\xd0\\\\xbc\\\\xd0\\\\xbd\\\\xd0\\\\xbe\\\\xd0\\\\xbd'\": 53932,\n",
       " b\"b'\\\\xd0\\\\xb8\\\\xd1\\\\x8d\\\\xd0\\\\xb0'\": 141608,\n",
       " b\"b'\\\\xd0\\\\xba\\\\xd0\\\\xbe\\\\xd0\\\\xb9\\\\xd0\\\\xba\\\\xd0\\\\xbe\\\\xd0\\\\xbc\\\\xd0\\\\xb5\\\\xd1\\\\x81\\\\xd1\\\\x82'\": 194211,\n",
       " b\"b'\\\\xd1\\\\x84\\\\xd0\\\\xb0\\\\xd1\\\\x82\\\\xd0\\\\xb8\\\\xd1\\\\x85'\": 85980,\n",
       " b\"b'\\\\xd1\\\\x80\\\\xd1\\\\x83\\\\xd0\\\\xb5\\\\xd0\\\\xb2\\\\xd0\\\\xb8\\\\xd1\\\\x87'\": 70824,\n",
       " b\"b'\\\\xd0\\\\xbe\\\\xd0\\\\xbd\\\\xd1\\\\x83\\\\xd1\\\\x81'\": 150736,\n",
       " b\"b'\\\\xd0\\\\xbd\\\\xd0\\\\xbe\\\\xd0\\\\xb2\\\\xd0\\\\xbe\\\\xd0\\\\xb7\\\\xd0\\\\xb0\\\\xd0\\\\xb2\\\\xd0\\\\xb5\\\\xd1\\\\x82\\\\xd0\\\\xbd\\\\xd1\\\\x8b\\\\xd0\\\\xb9'\": 31253,\n",
       " b\"b'\\\\xd0\\\\xb4\\\\xd0\\\\xb5\\\\xd0\\\\xba\\\\xd0\\\\xbe\\\\xd0\\\\xbd\\\\xd1\\\\x86\\\\xd0\\\\xb5\\\\xd0\\\\xbd\\\\xd1\\\\x82\\\\xd1\\\\x80\\\\xd0\\\\xb0\\\\xd1\\\\x86\\\\xd0\\\\xb8\\\\xd1\\\\x8f'\": 124600,\n",
       " b\"b'\\\\xd1\\\\x88\\\\xd1\\\\x82\\\\xd0\\\\xbe\\\\xd0\\\\xbf\\\\xd0\\\\xba\\\\xd0\\\\xb0'\": 86825,\n",
       " b\"b'\\\\xd0\\\\xb2\\\\xd0\\\\xb0\\\\xd0\\\\xb9\\\\xd1\\\\x82\\\\xd1\\\\x80\\\\xd0\\\\xb0\\\\xd0\\\\xbd'\": 143001,\n",
       " b\"b'\\\\xd0\\\\xbf\\\\xd1\\\\x80\\\\xd0\\\\xb8\\\\xd0\\\\xb2\\\\xd0\\\\xb5\\\\xd1\\\\x81'\": 44239,\n",
       " b\"b'\\\\xd0\\\\xb0\\\\xd0\\\\xbb\\\\xd0\\\\xb0\\\\xd0\\\\xb3\\\\xd0\\\\xb8\\\\xd1\\\\x80'\": 111641,\n",
       " b\"b'\\\\xd0\\\\xbc\\\\xd0\\\\xbe\\\\xd1\\\\x82\\\\xd0\\\\xb8\\\\xd0\\\\xbd'\": 178168,\n",
       " b\"b'\\\\xd0\\\\xbf\\\\xd0\\\\xbe\\\\xd0\\\\xb4\\\\xd1\\\\x88\\\\xd0\\\\xb5\\\\xd1\\\\x84\\\\xd0\\\\xbd\\\\xd1\\\\x8b\\\\xd0\\\\xb9'\": 33982,\n",
       " b\"b'vsat'\": 59302,\n",
       " b\"b'\\\\xd0\\\\xbf\\\\xd1\\\\x80\\\\xd0\\\\xb5\\\\xd0\\\\xb8\\\\xd1\\\\x81\\\\xd0\\\\xbf\\\\xd0\\\\xbe\\\\xd0\\\\xb4\\\\xd0\\\\xbd\\\\xd1\\\\x8f\\\\xd1\\\\x8f'\": 26390,\n",
       " b\"b'\\\\xd1\\\\x81\\\\xd0\\\\xbf\\\\xd1\\\\x80\\\\xd0\\\\xb8\\\\xd0\\\\xbd\\\\xd1\\\\x86\\\\xd0\\\\xb5\\\\xd0\\\\xb2\\\\xd0\\\\xb0\\\\xd0\\\\xbd\\\\xd0\\\\xb8\\\\xd0\\\\xb5'\": 38515,\n",
       " b\"b'\\\\xd1\\\\x82\\\\xd0\\\\xb5\\\\xd1\\\\x80\\\\xd0\\\\xbc\\\\xd0\\\\xbe\\\\xd1\\\\x8d\\\\xd1\\\\x84\\\\xd1\\\\x84\\\\xd0\\\\xb5\\\\xd0\\\\xba\\\\xd1\\\\x82'\": 160024,\n",
       " b\"b'\\\\xd0\\\\xbf\\\\xd1\\\\x80\\\\xd0\\\\xb8\\\\xd1\\\\x82\\\\xd0\\\\xbe\\\\xd0\\\\xbd'\": 27958,\n",
       " b\"b'\\\\xd0\\\\xba\\\\xd0\\\\xbe\\\\xd0\\\\xb1\\\\xd0\\\\xb0\\\\xd0\\\\xbb\\\\xd1\\\\x8c\\\\xd1\\\\x82'\": 23421,\n",
       " b\"b'\\\\xd0\\\\xb7\\\\xd0\\\\xbd\\\\xd0\\\\xb0\\\\xd0\\\\xba\\\\xd0\\\\xbe\\\\xd0\\\\xb2\\\\xd1\\\\x8b\\\\xd0\\\\xb9'\": 8885,\n",
       " b\"b'\\\\xd0\\\\xbc\\\\xd0\\\\xb0\\\\xd0\\\\xbd\\\\xd0\\\\xb4\\\\xd0\\\\xb8\\\\xd0\\\\xbd\\\\xd0\\\\xbe'\": 191873,\n",
       " b\"b'\\\\xd0\\\\xb2\\\\xd0\\\\xb0\\\\xd0\\\\xbb\\\\xd0\\\\xbb'\": 76544,\n",
       " b\"b'\\\\xd0\\\\xb8\\\\xd0\\\\xbd\\\\xd0\\\\xb3\\\\xd0\\\\xb0'\": 19970,\n",
       " b\"b'\\\\xd1\\\\x80\\\\xd0\\\\xbe\\\\xd0\\\\xbc\\\\xd0\\\\xb5\\\\xd1\\\\x8f'\": 100281,\n",
       " b\"b'\\\\xd0\\\\xba\\\\xd0\\\\xb8\\\\xd0\\\\xbd\\\\xd0\\\\xbe\\\\xd0\\\\xba\\\\xd0\\\\xb0\\\\xd0\\\\xbc\\\\xd0\\\\xb5\\\\xd1\\\\x80\\\\xd0\\\\xb0'\": 47990,\n",
       " b\"b'lain'\": 175274,\n",
       " b\"b'\\\\xd0\\\\xb3\\\\xd0\\\\xb0\\\\xd0\\\\xbb\\\\xd0\\\\xb8\\\\xd0\\\\xbb\\\\xd0\\\\xb5\\\\xd0\\\\xb5\\\\xd0\\\\xb2'\": 180551,\n",
       " b\"b'\\\\xd0\\\\xb2\\\\xd1\\\\x82\\\\xd1\\\\x8b\\\\xd0\\\\xba'\": 114424,\n",
       " b\"b'\\\\xd1\\\\x8d\\\\xd0\\\\xba\\\\xd1\\\\x81\\\\xd0\\\\xbf\\\\xd0\\\\xb0\\\\xd0\\\\xbd\\\\xd1\\\\x81\\\\xd0\\\\xb8\\\\xd0\\\\xbe\\\\xd0\\\\xbd\\\\xd0\\\\xb8\\\\xd1\\\\x81\\\\xd1\\\\x82\\\\xd1\\\\x81\\\\xd0\\\\xba\\\\xd0\\\\xb8\\\\xd0\\\\xb9'\": 69210,\n",
       " b\"b'\\\\xd1\\\\x80\\\\xd0\\\\xbe\\\\xd0\\\\xb6\\\\xd0\\\\xb4\\\\xd1\\\\x8c'\": 186658,\n",
       " b\"b'\\\\xd0\\\\xba\\\\xd0\\\\xbe\\\\xd0\\\\xb4\\\\xd0\\\\xb8\\\\xd1\\\\x80\\\\xd0\\\\xbe\\\\xd0\\\\xb2\\\\xd0\\\\xba\\\\xd0\\\\xb0'\": 14635,\n",
       " b\"b'\\\\xd1\\\\x8d\\\\xd0\\\\xbd\\\\xd1\\\\x82\\\\xd0\\\\xb5\\\\xd1\\\\x80\\\\xd0\\\\xbe\\\\xd0\\\\xb1\\\\xd0\\\\xb8\\\\xd0\\\\xbe\\\\xd0\\\\xb7'\": 58884,\n",
       " b\"b'\\\\xd0\\\\xbd\\\\xd0\\\\xb5\\\\xd0\\\\xba\\\\xd0\\\\xbe\\\\xd1\\\\x80\\\\xd1\\\\x80\\\\xd0\\\\xb5\\\\xd0\\\\xba\\\\xd1\\\\x82\\\\xd0\\\\xb8\\\\xd1\\\\x80\\\\xd1\\\\x83\\\\xd0\\\\xb5\\\\xd0\\\\xbc\\\\xd1\\\\x8b\\\\xd0\\\\xb9'\": 179907,\n",
       " b\"b'\\\\xd1\\\\x87\\\\xd0\\\\xb5\\\\xd1\\\\x80\\\\xd1\\\\x82\\\\xd0\\\\xb5\\\\xd0\\\\xb6\\\\xd0\\\\xbd\\\\xd0\\\\xb8\\\\xd0\\\\xba'\": 70395,\n",
       " b\"b'\\\\xd0\\\\xbf\\\\xd0\\\\xbe\\\\xd0\\\\xb4\\\\xd1\\\\x8a\\\\xd1\\\\x8f\\\\xd0\\\\xb7\\\\xd1\\\\x8b\\\\xd0\\\\xba'\": 185362,\n",
       " b\"b'\\\\xd0\\\\xbd\\\\xd0\\\\xb5\\\\xd0\\\\xb7\\\\xd0\\\\xb0\\\\xd0\\\\xba\\\\xd1\\\\x80\\\\xd0\\\\xb0\\\\xd1\\\\x88\\\\xd0\\\\xb5\\\\xd0\\\\xbd\\\\xd0\\\\xbd\\\\xd1\\\\x8b\\\\xd0\\\\xb9'\": 157240,\n",
       " b\"b'becker'\": 87168,\n",
       " b\"b'\\\\xd0\\\\xba\\\\xd0\\\\xb5\\\\xd0\\\\xbd\\\\xd0\\\\xbe\\\\xd0\\\\xb7\\\\xd0\\\\xb8\\\\xd1\\\\x81'\": 191521,\n",
       " b\"b'\\\\xd1\\\\x82\\\\xd0\\\\xb5\\\\xd1\\\\x80\\\\xd0\\\\xbc\\\\xd0\\\\xbe\\\\xd1\\\\x84\\\\xd0\\\\xbe\\\\xd1\\\\x80\\\\xd0\\\\xbc\\\\xd0\\\\xbe\\\\xd0\\\\xb2\\\\xd0\\\\xba\\\\xd0\\\\xb0'\": 143249,\n",
       " b\"b'\\\\xd0\\\\xbc\\\\xd1\\\\x83\\\\xd1\\\\x80\\\\xd0\\\\xb0\\\\xd1\\\\x88\\\\xd0\\\\xba\\\\xd0\\\\xb8'\": 20327,\n",
       " b\"b'\\\\xd0\\\\xba\\\\xd0\\\\xbb\\\\xd1\\\\x83\\\\xd0\\\\xb0\\\\xd1\\\\x82\\\\xd1\\\\x80'\": 156379,\n",
       " b\"b'\\\\xd0\\\\xbd\\\\xd0\\\\xb8\\\\xd0\\\\xb2\\\\xd1\\\\x8e\\\\xd1\\\\x81'\": 102240,\n",
       " b\"b'how'\": 25938,\n",
       " b\"b'\\\\xd0\\\\xba\\\\xd0\\\\xb8\\\\xd0\\\\xb0\\\\xd1\\\\x80\\\\xd0\\\\xb0'\": 107100,\n",
       " b\"b'\\\\xd0\\\\xbe\\\\xd1\\\\x82\\\\xd0\\\\xbe\\\\xd0\\\\xb4\\\\xd0\\\\xb2\\\\xd0\\\\xb8\\\\xd0\\\\xb3\\\\xd0\\\\xb0\\\\xd0\\\\xbd\\\\xd0\\\\xb8\\\\xd0\\\\xb5'\": 104950,\n",
       " b\"b'\\\\xd0\\\\xb2\\\\xd0\\\\xb8\\\\xd1\\\\x82\\\\xd0\\\\xb5\\\\xd0\\\\xba'\": 51884,\n",
       " b\"b'tokina'\": 133322,\n",
       " b\"b'\\\\xd0\\\\xb1\\\\xd0\\\\xb5\\\\xd0\\\\xb7\\\\xd1\\\\x8c\\\\xd0\\\\xb5'\": 94875,\n",
       " b\"b'\\\\xd0\\\\xbe\\\\xd1\\\\x84\\\\xd0\\\\xb5'\": 169132,\n",
       " b\"b'\\\\xd1\\\\x81\\\\xd0\\\\xb5\\\\xd1\\\\x80\\\\xd0\\\\xbe-\\\\xd0\\\\xb7\\\\xd0\\\\xb5\\\\xd0\\\\xbb\\\\xd0\\\\xb5\\\\xd0\\\\xbd\\\\xd1\\\\x8b\\\\xd0\\\\xb9'\": 39960,\n",
       " b\"b'\\\\xd0\\\\xba\\\\xd0\\\\xb0\\\\xd1\\\\x80\\\\xd1\\\\x82\\\\xd1\\\\x83\\\\xd0\\\\xb7'\": 57332,\n",
       " b\"b'\\\\xd0\\\\xb2\\\\xd0\\\\xbf\\\\xd0\\\\xb5\\\\xd1\\\\x80\\\\xd0\\\\xb5\\\\xd0\\\\xb4\\\\xd1\\\\x81\\\\xd0\\\\xbc\\\\xd0\\\\xbe\\\\xd1\\\\x82\\\\xd1\\\\x80\\\\xd1\\\\x8f\\\\xd1\\\\x89\\\\xd0\\\\xb8\\\\xd0\\\\xb9'\": 123987,\n",
       " b\"b'\\\\xd0\\\\xba\\\\xd1\\\\x83\\\\xd0\\\\xb4\\\\xd1\\\\x80\\\\xd0\\\\xb8\\\\xd1\\\\x82\\\\xd1\\\\x8c'\": 149240,\n",
       " b\"b'\\\\xd1\\\\x83\\\\xd1\\\\x87\\\\xd0\\\\xb0\\\\xd1\\\\x82\\\\xd0\\\\xb8\\\\xd0\\\\xb5'\": 175599,\n",
       " b\"b'\\\\xd1\\\\x83\\\\xd0\\\\xb4\\\\xd0\\\\xb5\\\\xd0\\\\xbb'\": 12379,\n",
       " b\"b'checking'\": 151043,\n",
       " b\"b'\\\\xd0\\\\xb0\\\\xd0\\\\xbb\\\\xd1\\\\x8c\\\\xd0\\\\xbf\\\\xd0\\\\xbb\\\\xd0\\\\xb0\\\\xd0\\\\xb3\\\\xd0\\\\xb5\\\\xd1\\\\x80\\\\xd1\\\\x8c'\": 69223,\n",
       " b\"b'\\\\xd1\\\\x81\\\\xd0\\\\xb2\\\\xd0\\\\xb8\\\\xd1\\\\x80\\\\xd0\\\\xb8\\\\xd0\\\\xb4\\\\xd0\\\\xbe\\\\xd0\\\\xb2'\": 26384,\n",
       " b\"b'\\\\xd1\\\\x81\\\\xd1\\\\x82\\\\xd1\\\\x83\\\\xd0\\\\xbf\\\\xd0\\\\xb0'\": 24122,\n",
       " b\"b'\\\\xd0\\\\xb2\\\\xd0\\\\xb0\\\\xd0\\\\xbb\\\\xd0\\\\xb5\\\\xd0\\\\xbd\\\\xd0\\\\xbe\\\\xd1\\\\x87\\\\xd0\\\\xb5\\\\xd0\\\\xba'\": 127746,\n",
       " b\"b'\\\\xd0\\\\xb7\\\\xd0\\\\xb0\\\\xd1\\\\x88\\\\xd0\\\\xb8\\\\xd0\\\\xb2\\\\xd0\\\\xb0\\\\xd0\\\\xbd\\\\xd0\\\\xb8\\\\xd0\\\\xb5'\": 90891,\n",
       " b\"b'\\\\xd0\\\\xbe\\\\xd1\\\\x82\\\\xd1\\\\x87\\\\xd0\\\\xb8\\\\xd1\\\\x81\\\\xd0\\\\xbb\\\\xd1\\\\x8f\\\\xd1\\\\x82\\\\xd1\\\\x8c'\": 20210,\n",
       " b\"b'shinko'\": 192149,\n",
       " b\"b'\\\\xd1\\\\x81\\\\xd0\\\\xb0\\\\xd0\\\\xbb\\\\xd1\\\\x8f\\\\xd0\\\\xbc\\\\xd0\\\\xb8'\": 56627,\n",
       " b\"b'\\\\xd0\\\\xbe\\\\xd0\\\\xb4\\\\xd0\\\\xbd\\\\xd0\\\\xb0\\\\xd0\\\\xb7\\\\xd0\\\\xbd\\\\xd0\\\\xb0\\\\xd1\\\\x87\\\\xd0\\\\xbd\\\\xd0\\\\xbe'\": 140882,\n",
       " b\"b'\\\\xd0\\\\xba\\\\xd1\\\\x80\\\\xd0\\\\xb8\\\\xd1\\\\x81\\\\xd1\\\\x82\\\\xd0\\\\xb0\\\\xd0\\\\xbb\\\\xd0\\\\xbb'\": 5165,\n",
       " b\"b'\\\\xd1\\\\x88\\\\xd0\\\\xbe\\\\xd0\\\\xba\\\\xd0\\\\xbb\\\\xd1\\\\x8c'\": 179122,\n",
       " b\"b'\\\\xd0\\\\xb0\\\\xd1\\\\x86\\\\xd0\\\\xb5\\\\xd1\\\\x82\\\\xd0\\\\xbe\\\\xd0\\\\xbd\\\\xd0\\\\xb8\\\\xd1\\\\x82\\\\xd1\\\\x80\\\\xd0\\\\xb8\\\\xd0\\\\xbb'\": 171109,\n",
       " b\"b'\\\\xd1\\\\x87\\\\xd0\\\\xb8\\\\xd1\\\\x80\\\\xd0\\\\xb8\\\\xd0\\\\xba\\\\xd0\\\\xb1\\\\xd0\\\\xb0'\": 131199,\n",
       " b\"b'\\\\xd0\\\\xb1\\\\xd1\\\\x80\\\\xd0\\\\xbe\\\\xd0\\\\xba\\\\xd0\\\\xb5\\\\xd1\\\\x80\\\\xd1\\\\x81\\\\xd0\\\\xba\\\\xd0\\\\xb8\\\\xd0\\\\xb9'\": 14415,\n",
       " b\"b'\\\\xd0\\\\xba\\\\xd0\\\\xbe\\\\xd1\\\\x80\\\\xd1\\\\x8b\\\\xd1\\\\x82\\\\xd0\\\\xbd\\\\xd1\\\\x8b\\\\xd0\\\\xb9'\": 145399,\n",
       " b\"b'\\\\xd0\\\\xba\\\\xd0\\\\xb0\\\\xd0\\\\xb2\\\\xd0\\\\xb0\\\\xd0\\\\xb9'\": 113071,\n",
       " b\"b'\\\\xd0\\\\xbf\\\\xd0\\\\xbe\\\\xd0\\\\xb2\\\\xd1\\\\x81\\\\xd0\\\\xb5\\\\xd0\\\\xbc'\": 194213,\n",
       " b\"b'\\\\xd0\\\\xb3\\\\xd0\\\\xb0\\\\xd0\\\\xb9\\\\xd1\\\\x81'\": 163312,\n",
       " b\"b'\\\\xd0\\\\xbc\\\\xd0\\\\xbe\\\\xd1\\\\x81\\\\xd0\\\\xba\\\\xd0\\\\xb0\\\\xd0\\\\xbb\\\\xd0\\\\xb5\\\\xd0\\\\xb2'\": 56818,\n",
       " b\"b'\\\\xd0\\\\xb0\\\\xd0\\\\xbd\\\\xd1\\\\x82\\\\xd0\\\\xb8\\\\xd1\\\\x85\\\\xd0\\\\xbe\\\\xd0\\\\xbb\\\\xd0\\\\xb8\\\\xd0\\\\xbd\\\\xd1\\\\x8d\\\\xd1\\\\x81\\\\xd1\\\\x82\\\\xd0\\\\xb5\\\\xd1\\\\x80\\\\xd0\\\\xb0\\\\xd0\\\\xb7\\\\xd0\\\\xbd\\\\xd1\\\\x8b\\\\xd0\\\\xb9'\": 162934,\n",
       " b\"b'\\\\xd1\\\\x85\\\\xd0\\\\xb0\\\\xd1\\\\x80\\\\xd0\\\\xb1\\\\xd0\\\\xb5\\\\xd1\\\\x80\\\\xd1\\\\x82'\": 139145,\n",
       " b\"b'\\\\xd0\\\\xbf\\\\xd1\\\\x8f\\\\xd1\\\\x82\\\\xd0\\\\xb8\\\\xd0\\\\xbc\\\\xd0\\\\xb8\\\\xd0\\\\xbd\\\\xd1\\\\x83\\\\xd1\\\\x82\\\\xd0\\\\xba\\\\xd0\\\\xb0'\": 55709,\n",
       " b\"b'\\\\xd0\\\\xba\\\\xd1\\\\x80\\\\xd1\\\\x8b\\\\xd1\\\\x88\\\\xd0\\\\xb5\\\\xd0\\\\xb2\\\\xd0\\\\xb0\\\\xd1\\\\x82\\\\xd1\\\\x8c'\": 85585,\n",
       " b\"b'\\\\xd1\\\\x81\\\\xd0\\\\xb5\\\\xd0\\\\xbb\\\\xd0\\\\xb5\\\\xd0\\\\xb7\\\\xd0\\\\xb5\\\\xd0\\\\xbd\\\\xd1\\\\x8c'\": 44084,\n",
       " b\"b'\\\\xd0\\\\xb1\\\\xd1\\\\x80\\\\xd0\\\\xbe\\\\xd0\\\\xbd\\\\xd0\\\\xb5\\\\xd0\\\\xbf\\\\xd0\\\\xb0\\\\xd0\\\\xbd\\\\xd0\\\\xb5\\\\xd0\\\\xbb\\\\xd1\\\\x8c'\": 180698,\n",
       " b\"b'\\\\xd0\\\\xbe\\\\xd1\\\\x81\\\\xd1\\\\x82\\\\xd0\\\\xb0\\\\xd0\\\\xbd'\": 149368,\n",
       " b\"b'\\\\xd0\\\\xb1\\\\xd0\\\\xbe\\\\xd1\\\\x80\\\\xd0\\\\xbd\\\\xd0\\\\xb5\\\\xd0\\\\xbe'\": 47951,\n",
       " b\"b'\\\\xd1\\\\x81\\\\xd0\\\\xb0\\\\xd0\\\\xbc\\\\xd0\\\\xbe\\\\xd1\\\\x81\\\\xd1\\\\x81\\\\xd0\\\\xba\\\\xd0\\\\xb8\\\\xd0\\\\xb9'\": 137555,\n",
       " b\"b'trek'\": 51107,\n",
       " b\"b'\\\\xd0\\\\xbe\\\\xd0\\\\xb3\\\\xd0\\\\xb0\\\\xd0\\\\xb2\\\\xd0\\\\xb0'\": 186064,\n",
       " b\"b'\\\\xd0\\\\xba\\\\xd0\\\\xbb\\\\xd0\\\\xb0\\\\xd1\\\\x81\\\\xd1\\\\x81\\\\xd0\\\\xb8\\\\xd0\\\\xba\\\\xd0\\\\xb8'\": 75625,\n",
       " b\"b'\\\\xd0\\\\xb4\\\\xd0\\\\xbe\\\\xd0\\\\xbc\\\\xd0\\\\xbe\\\\xd0\\\\xb2\\\\xd0\\\\xb5\\\\xd0\\\\xbd\\\\xd0\\\\xbe\\\\xd0\\\\xba'\": 45742,\n",
       " b\"b'marriott'\": 43629,\n",
       " b\"b'\\\\xd1\\\\x8d\\\\xd0\\\\xba\\\\xd1\\\\x81\\\\xd0\\\\xbf\\\\xd0\\\\xb0\\\\xd0\\\\xbd\\\\xd1\\\\x81\\\\xd0\\\\xb8\\\\xd1\\\\x8f'\": 12304,\n",
       " b\"b'benson'\": 121819,\n",
       " b\"b'\\\\xd0\\\\xbc\\\\xd0\\\\xb8\\\\xd0\\\\xbd\\\\xd0\\\\xbe\\\\xd0\\\\xb1\\\\xd0\\\\xbb\\\\xd0\\\\xb8\\\\xd1\\\\x81\\\\xd0\\\\xbf\\\\xd0\\\\xbe\\\\xd0\\\\xbb\\\\xd0\\\\xba\\\\xd0\\\\xbe\\\\xd0\\\\xbc'\": 71297,\n",
       " b\"b'sect'\": 184772,\n",
       " b\"b'\\\\xd0\\\\xb8\\\\xd1\\\\x81\\\\xd0\\\\xbb\\\\xd0\\\\xb5\\\\xd0\\\\xb4\\\\xd0\\\\xbe\\\\xd0\\\\xb2\\\\xd0\\\\xb0\\\\xd0\\\\xbd\\\\xd0\\\\xb8\\\\xd0\\\\xb5'\": 73171,\n",
       " b\"b'\\\\xd0\\\\xb0\\\\xd0\\\\xba\\\\xd1\\\\x82\\\\xd1\\\\x83\\\\xd0\\\\xb0\\\\xd0\\\\xbb\\\\xd0\\\\xb8\\\\xd0\\\\xb7\\\\xd0\\\\xb0\\\\xd1\\\\x86\\\\xd0\\\\xb8\\\\xd1\\\\x8f'\": 16583,\n",
       " b\"b'\\\\xd0\\\\xbf\\\\xd1\\\\x80\\\\xd0\\\\xbe\\\\xd1\\\\x82\\\\xd0\\\\xb8\\\\xd0\\\\xb2\\\\xd0\\\\xbe\\\\xd0\\\\xb0\\\\xd0\\\\xbb\\\\xd0\\\\xba\\\\xd0\\\\xbe\\\\xd0\\\\xb3\\\\xd0\\\\xbe\\\\xd0\\\\xbb\\\\xd1\\\\x8c\\\\xd0\\\\xbd\\\\xd1\\\\x8b\\\\xd0\\\\xb9'\": 104450,\n",
       " b\"b'\\\\xd1\\\\x81\\\\xd1\\\\x82\\\\xd0\\\\xb5\\\\xd1\\\\x80\\\\xd0\\\\xb2\\\\xd0\\\\xb5\\\\xd1\\\\x86'\": 110334,\n",
       " b\"b'\\\\xd1\\\\x89\\\\xd1\\\\x83\\\\xd1\\\\x80\\\\xd0\\\\xbe\\\\xd0\\\\xb2\\\\xd1\\\\x81\\\\xd0\\\\xba\\\\xd0\\\\xb8\\\\xd0\\\\xb9'\": 132770,\n",
       " b\"b'\\\\xd0\\\\xb0\\\\xd1\\\\x80\\\\xd1\\\\x82\\\\xd0\\\\xb8\\\\xd1\\\\x81\\\\xd1\\\\x82\\\\xd0\\\\xb8\\\\xd1\\\\x87\\\\xd0\\\\xbd\\\\xd0\\\\xbe\\\\xd1\\\\x81\\\\xd1\\\\x82\\\\xd1\\\\x8c'\": 61448,\n",
       " b\"b'\\\\xd1\\\\x8d\\\\xd0\\\\xba\\\\xd1\\\\x81\\\\xd1\\\\x82\\\\xd1\\\\x80\\\\xd1\\\\x83\\\\xd0\\\\xb7\\\\xd0\\\\xb8\\\\xd0\\\\xbe\\\\xd0\\\\xbd\\\\xd0\\\\xbd\\\\xd1\\\\x8b\\\\xd0\\\\xb9'\": 31475,\n",
       " b\"b'\\\\xd1\\\\x85\\\\xd0\\\\xb0\\\\xd0\\\\xbb\\\\xd0\\\\xb0\\\\xd0\\\\xbf\\\\xd0\\\\xb5\\\\xd0\\\\xbd\\\\xd1\\\\x8c\\\\xd0\\\\xbe'\": 131119,\n",
       " b\"b'\\\\xd0\\\\xb1\\\\xd0\\\\xb5\\\\xd1\\\\x81\\\\xd0\\\\xbf\\\\xd0\\\\xbe\\\\xd1\\\\x87\\\\xd0\\\\xb2\\\\xd0\\\\xb5\\\\xd0\\\\xbd\\\\xd0\\\\xbd\\\\xd1\\\\x8b\\\\xd0\\\\xb9'\": 30509,\n",
       " b\"b'\\\\xd1\\\\x8e\\\\xd0\\\\xbd\\\\xd0\\\\xb8\\\\xd0\\\\xba\\\\xd1\\\\x81'\": 66320,\n",
       " b\"b'\\\\xd1\\\\x89\\\\xd0\\\\xb5\\\\xd0\\\\xb1\\\\xd0\\\\xb5\\\\xd0\\\\xbd\\\\xd1\\\\x8c'\": 7735,\n",
       " b\"b'\\\\xd0\\\\xbf\\\\xd1\\\\x80\\\\xd0\\\\xbe\\\\xd1\\\\x82\\\\xd0\\\\xb5\\\\xd0\\\\xba\\\\xd0\\\\xb0\\\\xd0\\\\xbd\\\\xd0\\\\xb8\\\\xd0\\\\xb5'\": 13145,\n",
       " b\"b'wahl'\": 162916,\n",
       " b\"b'\\\\xd0\\\\xb5\\\\xd0\\\\xb6\\\\xd0\\\\xb5\\\\xd0\\\\xb4\\\\xd0\\\\xbd\\\\xd0\\\\xb5\\\\xd0\\\\xb2\\\\xd0\\\\xbd\\\\xd0\\\\xbe'\": 2367,\n",
       " b\"b'\\\\xd0\\\\xba\\\\xd0\\\\xbe\\\\xd1\\\\x80\\\\xd1\\\\x80\\\\xd0\\\\xb5\\\\xd0\\\\xba\\\\xd1\\\\x82\\\\xd0\\\\xb8\\\\xd1\\\\x80\\\\xd0\\\\xbe\\\\xd0\\\\xb2\\\\xd0\\\\xb0\\\\xd0\\\\xbd\\\\xd0\\\\xb8\\\\xd0\\\\xb5'\": 55240,\n",
       " b\"b'\\\\xd0\\\\xb3\\\\xd0\\\\xb5\\\\xd1\\\\x81\\\\xd1\\\\x82\\\\xd0\\\\xb0\\\\xd0\\\\xb3\\\\xd0\\\\xb5\\\\xd0\\\\xbd\\\\xd0\\\\xbd\\\\xd1\\\\x8b\\\\xd0\\\\xb9'\": 114077,\n",
       " b\"b'\\\\xd0\\\\xbf\\\\xd0\\\\xb5\\\\xd1\\\\x80\\\\xd0\\\\xb5\\\\xd0\\\\xbb\\\\xd0\\\\xb8\\\\xd0\\\\xb2'\": 19735,\n",
       " b\"b'\\\\xd0\\\\xbc\\\\xd0\\\\xb8\\\\xd1\\\\x88\\\\xd0\\\\xb0\\\\xd1\\\\x80\\\\xd0\\\\xb8\\\\xd0\\\\xbd'\": 53990,\n",
       " b\"b'\\\\xd1\\\\x8d\\\\xd0\\\\xba\\\\xd1\\\\x81\\\\xd0\\\\xbf\\\\xd0\\\\xbe\\\\xd1\\\\x80\\\\xd1\\\\x82'\": 3338,\n",
       " b\"b'\\\\xd0\\\\xbf\\\\xd0\\\\xbe\\\\xd0\\\\xb1\\\\xd0\\\\xb0\\\\xd0\\\\xbb\\\\xd0\\\\xb8\\\\xd0\\\\xb2\\\\xd0\\\\xb0\\\\xd1\\\\x82\\\\xd1\\\\x8c'\": 43286,\n",
       " b\"b'\\\\xd1\\\\x81\\\\xd0\\\\xbc\\\\xd0\\\\xb5\\\\xd1\\\\x80\\\\xd0\\\\xb5\\\\xd0\\\\xba'\": 147987,\n",
       " b\"b'\\\\xd1\\\\x85\\\\xd1\\\\x80\\\\xd0\\\\xbe\\\\xd0\\\\xbc\\\\xd0\\\\xb0\\\\xd1\\\\x82\\\\xd0\\\\xb8\\\\xd0\\\\xbd'\": 82175,\n",
       " b\"b'tvigle'\": 124842,\n",
       " b\"b'\\\\xd0\\\\xbf\\\\xd1\\\\x80\\\\xd0\\\\xb8\\\\xd0\\\\xb4\\\\xd0\\\\xb5\\\\xd0\\\\xbb'\": 17501,\n",
       " b\"b'\\\\xd0\\\\xb0\\\\xd0\\\\xba\\\\xd1\\\\x81\\\\xd1\\\\x8b'\": 183873,\n",
       " b\"b'\\\\xd0\\\\xba\\\\xd1\\\\x83\\\\xd0\\\\xbd\\\\xd1\\\\x86'\": 107404,\n",
       " b\"b'\\\\xd1\\\\x80\\\\xd0\\\\xb0\\\\xd1\\\\x81\\\\xd0\\\\xbf\\\\xd0\\\\xbb\\\\xd0\\\\xb5\\\\xd1\\\\x82\\\\xd0\\\\xb8\\\\xd0\\\\xbd'\": 122799,\n",
       " b\"b'\\\\xd0\\\\xb2\\\\xd0\\\\xb0\\\\xd0\\\\xbb\\\\xd0\\\\xb8\\\\xd0\\\\xb9'\": 176073,\n",
       " b\"b'\\\\xd1\\\\x81\\\\xd0\\\\xb2\\\\xd0\\\\xb5\\\\xd0\\\\xba\\\\xd0\\\\xbb\\\\xd0\\\\xbe\\\\xd0\\\\xb2\\\\xd0\\\\xb8\\\\xd1\\\\x87\\\\xd0\\\\xbd\\\\xd1\\\\x8b\\\\xd0\\\\xb9'\": 64865,\n",
       " b\"b'\\\\xd0\\\\xb1\\\\xd1\\\\x80\\\\xd0\\\\xb8\\\\xd1\\\\x82\\\\xd0\\\\xb0\\\\xd0\\\\xbd\\\\xd0\\\\xb8\\\\xd0\\\\xbd'\": 176747,\n",
       " b\"b'challenger'\": 51727,\n",
       " b\"b'\\\\xd0\\\\xbf\\\\xd0\\\\xbe\\\\xd1\\\\x82\\\\xd1\\\\x8f\\\\xd0\\\\xb3'\": 159184,\n",
       " b\"b'\\\\xd1\\\\x8d\\\\xd0\\\\xbc\\\\xd0\\\\xb8\\\\xd1\\\\x82\\\\xd1\\\\x82\\\\xd0\\\\xb5\\\\xd1\\\\x80\\\\xd0\\\\xbd\\\\xd1\\\\x8b\\\\xd0\\\\xb9'\": 94806,\n",
       " b\"b'\\\\xd0\\\\xba\\\\xd0\\\\xb0\\\\xd1\\\\x80\\\\xd1\\\\x82\\\\xd0\\\\xb5\\\\xd1\\\\x87\\\\xd0\\\\xbd\\\\xd1\\\\x8b\\\\xd0\\\\xb9'\": 134695,\n",
       " b\"b'\\\\xd0\\\\xb3\\\\xd0\\\\xb8\\\\xd0\\\\xbf\\\\xd0\\\\xbe\\\\xd1\\\\x84\\\\xd0\\\\xb8\\\\xd0\\\\xb7'\": 19178,\n",
       " b\"b'lpi'\": 95797,\n",
       " b\"b'\\\\xd0\\\\xbe\\\\xd1\\\\x86\\\\xd0\\\\xb8\\\\xd0\\\\xbd\\\\xd0\\\\xba\\\\xd0\\\\xbe\\\\xd0\\\\xb2\\\\xd1\\\\x8b\\\\xd0\\\\xb2\\\\xd0\\\\xb0\\\\xd1\\\\x82\\\\xd1\\\\x8c'\": 7684,\n",
       " b\"b'pizza'\": 41133,\n",
       " b\"b'\\\\xd0\\\\xbf\\\\xd0\\\\xb0\\\\xd1\\\\x87\\\\xd0\\\\xb0\\\\xd0\\\\xba\\\\xd1\\\\x83\\\\xd1\\\\x82\\\\xd0\\\\xb8\\\\xd1\\\\x82\\\\xd1\\\\x8c'\": 190918,\n",
       " b\"b'\\\\xd0\\\\xbe\\\\xd0\\\\xba\\\\xd1\\\\x81\\\\xd0\\\\xba\\\\xd0\\\\xb8\\\\xd0\\\\xb9'\": 43228,\n",
       " b\"b'\\\\xd1\\\\x81\\\\xd1\\\\x83\\\\xd0\\\\xb4\\\\xd1\\\\x8c\\\\xd0\\\\xb1\\\\xd0\\\\xbe\\\\xd0\\\\xbd\\\\xd0\\\\xbe\\\\xd1\\\\x81\\\\xd0\\\\xbd\\\\xd1\\\\x8b\\\\xd0\\\\xb9'\": 20254,\n",
       " b\"b'\\\\xd1\\\\x81\\\\xd0\\\\xb8\\\\xd0\\\\xbf\\\\xd0\\\\xb5\\\\xd1\\\\x82\\\\xd1\\\\x8c'\": 71640,\n",
       " b\"b'\\\\xd0\\\\xbe\\\\xd0\\\\xb3\\\\xd0\\\\xbd\\\\xd0\\\\xb5\\\\xd0\\\\xb1\\\\xd0\\\\xb8\\\\xd0\\\\xbe\\\\xd0\\\\xb7\\\\xd0\\\\xb0\\\\xd1\\\\x89\\\\xd0\\\\xb8\\\\xd1\\\\x82\\\\xd0\\\\xbd\\\\xd1\\\\x8b\\\\xd0\\\\xb9'\": 86222,\n",
       " b\"b'\\\\xd0\\\\xb4\\\\xd0\\\\xbe\\\\xd1\\\\x87\\\\xd1\\\\x8c'\": 1606,\n",
       " b\"b'\\\\xd0\\\\xb1\\\\xd1\\\\x83\\\\xd1\\\\x85'\": 28100,\n",
       " b\"b'\\\\xd1\\\\x8d\\\\xd0\\\\xb9\\\\xd0\\\\xbb\\\\xd0\\\\xb0\\\\xd1\\\\x83'\": 180835,\n",
       " b\"b'\\\\xd0\\\\xb3\\\\xd0\\\\xbe\\\\xd1\\\\x81\\\\xd0\\\\xb3\\\\xd0\\\\xb0\\\\xd1\\\\x80\\\\xd0\\\\xb0\\\\xd0\\\\xbd\\\\xd1\\\\x82\\\\xd0\\\\xb8\\\\xd1\\\\x8f'\": 42549,\n",
       " b\"b'\\\\xd0\\\\xb0\\\\xd0\\\\xb4\\\\xd0\\\\xb0\\\\xd0\\\\xbf\\\\xd1\\\\x82\\\\xd0\\\\xb5\\\\xd1\\\\x80\\\\xd0\\\\xbd\\\\xd1\\\\x8b\\\\xd0\\\\xb9'\": 180817,\n",
       " b\"b'zr'\": 55847,\n",
       " b\"b'\\\\xd0\\\\xb5\\\\xd0\\\\xb1\\\\xd0\\\\xbd\\\\xd1\\\\x83\\\\xd1\\\\x82\\\\xd1\\\\x8c'\": 86688,\n",
       " b\"b'\\\\xd0\\\\xb3\\\\xd0\\\\xb0\\\\xd0\\\\xbd\\\\xd0\\\\xbd\\\\xd0\\\\xbe\\\\xd0\\\\xb2\\\\xd0\\\\xb5\\\\xd1\\\\x80'\": 28637,\n",
       " b\"b'\\\\xd0\\\\xbd\\\\xd0\\\\xb5\\\\xd0\\\\xbe\\\\xd1\\\\x82\\\\xd0\\\\xb4\\\\xd0\\\\xb5\\\\xd0\\\\xbb\\\\xd0\\\\xb8\\\\xd0\\\\xbc\\\\xd1\\\\x8b\\\\xd0\\\\xb9'\": 20222,\n",
       " b\"b'scott'\": 44307,\n",
       " b\"b'\\\\xd1\\\\x81\\\\xd1\\\\x82\\\\xd1\\\\x80\\\\xd0\\\\xb0\\\\xd1\\\\x82\\\\xd0\\\\xbe\\\\xd0\\\\xbf\\\\xd0\\\\xbb\\\\xd0\\\\xb0\\\\xd0\\\\xbd'\": 170357,\n",
       " b\"b'\\\\xd1\\\\x80\\\\xd0\\\\xb5\\\\xd1\\\\x86\\\\xd0\\\\xb8\\\\xd1\\\\x80\\\\xd0\\\\xba\\\\xd1\\\\x83\\\\xd0\\\\xbb\\\\xd1\\\\x8f\\\\xd1\\\\x82\\\\xd0\\\\xbe\\\\xd1\\\\x80'\": 63472,\n",
       " b\"b'\\\\xd1\\\\x80\\\\xd1\\\\x81\\\\xd1\\\\x81\\\\xd0\\\\xbc'\": 126719,\n",
       " b\"b'\\\\xd0\\\\xb8\\\\xd0\\\\xbd\\\\xd1\\\\x88\\\\xd0\\\\xb0\\\\xd0\\\\xb0\\\\xd1\\\\x82'\": 187650,\n",
       " b\"b'\\\\xd0\\\\xbf\\\\xd0\\\\xbe\\\\xd1\\\\x8d\\\\xd0\\\\xbb\\\\xd0\\\\xb5\\\\xd0\\\\xbc\\\\xd0\\\\xb5\\\\xd0\\\\xbd\\\\xd1\\\\x82\\\\xd0\\\\xbd\\\\xd1\\\\x8b\\\\xd0\\\\xb9'\": 63271,\n",
       " b\"b'\\\\xd0\\\\xba\\\\xd0\\\\xbe\\\\xd0\\\\xbd\\\\xd0\\\\xbe\\\\xd1\\\\x88\\\\xd1\\\\x81\\\\xd0\\\\xba\\\\xd0\\\\xb8\\\\xd0\\\\xb9'\": 99576,\n",
       " b\"b'\\\\xd0\\\\xbf\\\\xd0\\\\xb5\\\\xd1\\\\x80\\\\xd0\\\\xb5\\\\xd0\\\\xb1\\\\xd0\\\\xb4\\\\xd0\\\\xb5\\\\xd1\\\\x82\\\\xd1\\\\x8c'\": 113193,\n",
       " b\"b'\\\\xd0\\\\xb4\\\\xd0\\\\xb5\\\\xd0\\\\xbb\\\\xd0\\\\xb0\\\\xd0\\\\xb5\\\\xd1\\\\x88'\": 181199,\n",
       " b\"b'\\\\xd0\\\\xb3\\\\xd0\\\\xb8\\\\xd0\\\\xbb\\\\xd0\\\\xb5\\\\xd0\\\\xb2'\": 74356,\n",
       " b\"b'\\\\xd0\\\\xb1\\\\xd0\\\\xbb\\\\xd0\\\\xb0'\": 13562,\n",
       " b\"b'\\\\xd1\\\\x84\\\\xd0\\\\xb8\\\\xd0\\\\xbd\\\\xd0\\\\xb0\\\\xd0\\\\xbd\\\\xd1\\\\x81\\\\xd0\\\\xbe'\": 141934,\n",
       " b\"b'\\\\xd1\\\\x85\\\\xd0\\\\xbe\\\\xd0\\\\xb4\\\\xd1\\\\x8c\\\\xd0\\\\xb1\\\\xd0\\\\xb0'\": 5340,\n",
       " b\"b'\\\\xd0\\\\xb2\\\\xd0\\\\xb8\\\\xd0\\\\xb4\\\\xd0\\\\xb5\\\\xd0\\\\xbe\\\\xd0\\\\xb0\\\\xd0\\\\xbb\\\\xd1\\\\x8c\\\\xd0\\\\xb1\\\\xd0\\\\xbe\\\\xd0\\\\xbc'\": 147735,\n",
       " b\"b'\\\\xd1\\\\x82\\\\xd0\\\\xb0\\\\xd0\\\\xbc\\\\xd0\\\\xb8'\": 75241,\n",
       " b\"b'tv'\": 6688,\n",
       " b\"b'sani'\": 116476,\n",
       " b\"b'\\\\xd0\\\\xba\\\\xd0\\\\xbb\\\\xd0\\\\xb8\\\\xd0\\\\xbd\\\\xd1\\\\x87\\\\xd0\\\\xb0\\\\xd1\\\\x82\\\\xd1\\\\x8b\\\\xd0\\\\xb9'\": 170376,\n",
       " b\"b'\\\\xd1\\\\x85\\\\xd0\\\\xbb\\\\xd0\\\\xb0\\\\xd0\\\\xb4\\\\xd0\\\\xbd\\\\xd0\\\\xbe\\\\xd0\\\\xba\\\\xd1\\\\x80\\\\xd0\\\\xbe\\\\xd0\\\\xb2\\\\xd0\\\\xbd\\\\xd1\\\\x8b\\\\xd0\\\\xb9'\": 30832,\n",
       " b\"b'\\\\xd0\\\\xba\\\\xd0\\\\xb8\\\\xd1\\\\x80\\\\xd0\\\\xb6\\\\xd0\\\\xb0\\\\xd1\\\\x87'\": 56433,\n",
       " b\"b'\\\\xd1\\\\x86\\\\xd0\\\\xb8\\\\xd1\\\\x82\\\\xd0\\\\xbe\\\\xd0\\\\xb2\\\\xd0\\\\xb8\\\\xd1\\\\x80'\": 116542,\n",
       " b\"b'\\\\xd0\\\\xb0\\\\xd0\\\\xbd\\\\xd0\\\\xb0\\\\xd0\\\\xbd\\\\xd1\\\\x8c\\\\xd0\\\\xb5\\\\xd0\\\\xb2'\": 41203,\n",
       " b\"b'\\\\xd0\\\\xba\\\\xd0\\\\xb0\\\\xd0\\\\xbc\\\\xd0\\\\xb5\\\\xd0\\\\xbd\\\\xd1\\\\x8b\\\\xd0\\\\xb9'\": 181360,\n",
       " b\"b'cohen'\": 92813,\n",
       " b\"b'\\\\xd0\\\\xb4\\\\xd0\\\\xb5\\\\xd0\\\\xba\\\\xd0\\\\xbe\\\\xd1\\\\x80\\\\xd0\\\\xb8\\\\xd1\\\\x80\\\\xd0\\\\xbe\\\\xd0\\\\xb2\\\\xd0\\\\xb0\\\\xd1\\\\x82\\\\xd1\\\\x8c\\\\xd1\\\\x81\\\\xd1\\\\x8f'\": 47667,\n",
       " b\"b'\\\\xd0\\\\xbc\\\\xd0\\\\xb8\\\\xd0\\\\xba\\\\xd1\\\\x80\\\\xd0\\\\xbe\\\\xd0\\\\xb1\\\\xd0\\\\xb8\\\\xd0\\\\xbe\\\\xd0\\\\xbb\\\\xd0\\\\xbe\\\\xd0\\\\xb3\\\\xd0\\\\xb8\\\\xd1\\\\x8f'\": 27875,\n",
       " b\"b'\\\\xd0\\\\xbc\\\\xd0\\\\xb8\\\\xd0\\\\xbb\\\\xd0\\\\xbb\\\\xd0\\\\xb8\\\\xd0\\\\xbe\\\\xd0\\\\xbd\\\\xd0\\\\xb8\\\\xd0\\\\xba'\": 167421,\n",
       " b\"b'\\\\xd0\\\\xb1\\\\xd0\\\\xb0\\\\xd0\\\\xb9\\\\xd0\\\\xba\\\\xd0\\\\xb5\\\\xd1\\\\x80\\\\xd1\\\\x81\\\\xd0\\\\xba\\\\xd0\\\\xb8\\\\xd0\\\\xb9'\": 45539,\n",
       " b\"b'\\\\xd0\\\\xba\\\\xd0\\\\xb0\\\\xd1\\\\x81\\\\xd1\\\\x8f'\": 80848,\n",
       " b\"b'\\\\xd1\\\\x83\\\\xd0\\\\xb2\\\\xd0\\\\xb5\\\\xd0\\\\xbd\\\\xd1\\\\x87\\\\xd0\\\\xb0\\\\xd0\\\\xbd\\\\xd0\\\\xb8\\\\xd0\\\\xb5'\": 140547,\n",
       " b\"b'\\\\xd0\\\\xb1\\\\xd0\\\\xb0\\\\xd0\\\\xbb\\\\xd1\\\\x87\\\\xd0\\\\xb8\\\\xd0\\\\xba'\": 72077,\n",
       " b\"b'\\\\xd1\\\\x81\\\\xd1\\\\x8e\\\\xd0\\\\xbc\\\\xd0\\\\xb0\\\\xd1\\\\x80'\": 156282,\n",
       " b\"b'\\\\xd0\\\\xb0\\\\xd0\\\\xba\\\\xd1\\\\x82\\\\xd1\\\\x83\\\\xd0\\\\xbb\\\\xd1\\\\x8c\\\\xd0\\\\xbd\\\\xd1\\\\x8b\\\\xd0\\\\xb9'\": 148729,\n",
       " b\"b'\\\\xd1\\\\x80\\\\xd0\\\\xb0\\\\xd1\\\\x81\\\\xd1\\\\x81\\\\xd1\\\\x83\\\\xd0\\\\xb6\\\\xd0\\\\xb4\\\\xd0\\\\xb0\\\\xd1\\\\x82\\\\xd1\\\\x8c'\": 5669,\n",
       " b\"b'\\\\xd0\\\\xba\\\\xd0\\\\xb0\\\\xd0\\\\xbb\\\\xd1\\\\x8c\\\\xd0\\\\xba\\\\xd1\\\\x83\\\\xd0\\\\xbb\\\\xd1\\\\x8f\\\\xd1\\\\x86\\\\xd0\\\\xb8\\\\xd1\\\\x8f'\": 24235,\n",
       " b\"b'\\\\xd0\\\\xbc\\\\xd0\\\\xb5\\\\xd1\\\\x82\\\\xd0\\\\xb5\\\\xd0\\\\xbe\\\\xd1\\\\x81\\\\xd1\\\\x82\\\\xd0\\\\xb0\\\\xd0\\\\xbd\\\\xd1\\\\x86\\\\xd0\\\\xb8\\\\xd1\\\\x8f'\": 27060,\n",
       " b\"b'\\\\xd0\\\\xb3\\\\xd1\\\\x83\\\\xd1\\\\x80\\\\xd0\\\\xb4\\\\xd0\\\\xb6\\\\xd0\\\\xb8\\\\xd0\\\\xb5\\\\xd0\\\\xb2'\": 49977,\n",
       " b\"b'\\\\xd0\\\\xb4\\\\xd0\\\\xbe\\\\xd0\\\\xbd\\\\xd0\\\\xbe\\\\xd1\\\\x81\\\\xd0\\\\xb8\\\\xd1\\\\x82\\\\xd0\\\\xb5\\\\xd0\\\\xbb\\\\xd1\\\\x8c\\\\xd1\\\\x81\\\\xd1\\\\x82\\\\xd0\\\\xb2\\\\xd0\\\\xbe'\": 79221,\n",
       " b\"b'\\\\xd1\\\\x88\\\\xd0\\\\xb5\\\\xd0\\\\xbf\\\\xd0\\\\xb5\\\\xd0\\\\xbb\\\\xd0\\\\xb5\\\\xd0\\\\xb2'\": 37865,\n",
       " b\"b'\\\\xd0\\\\xb2\\\\xd0\\\\xb8\\\\xd0\\\\xb4\\\\xd0\\\\xb5\\\\xd0\\\\xbe\\\\xd1\\\\x84\\\\xd0\\\\xb8\\\\xd0\\\\xba\\\\xd1\\\\x81\\\\xd0\\\\xb0\\\\xd1\\\\x86\\\\xd0\\\\xb8\\\\xd1\\\\x8f'\": 36955,\n",
       " b\"b'\\\\xd1\\\\x88\\\\xd0\\\\xb0\\\\xd1\\\\x80\\\\xd0\\\\xbe\\\\xd0\\\\xb2'\": 53086,\n",
       " b\"b'\\\\xd0\\\\xbd\\\\xd0\\\\xb0\\\\xd1\\\\x82\\\\xd0\\\\xb0\\\\xd0\\\\xbf\\\\xd1\\\\x82\\\\xd1\\\\x8b\\\\xd0\\\\xb2\\\\xd0\\\\xb0\\\\xd1\\\\x82\\\\xd1\\\\x8c'\": 74823,\n",
       " b\"b'\\\\xd1\\\\x82\\\\xd0\\\\xbe\\\\xd0\\\\xbc\\\\xd1\\\\x81\\\\xd0\\\\xba\\\\xd0\\\\xbd\\\\xd0\\\\xb5\\\\xd1\\\\x84\\\\xd1\\\\x82\\\\xd0\\\\xb5\\\\xd1\\\\x85\\\\xd0\\\\xb8\\\\xd0\\\\xbc'\": 136504,\n",
       " b\"b'\\\\xd0\\\\xb2\\\\xd1\\\\x8b\\\\xd0\\\\xb6\\\\xd0\\\\xb8\\\\xd0\\\\xb4\\\\xd0\\\\xb0\\\\xd1\\\\x82\\\\xd1\\\\x8c'\": 17212,\n",
       " b\"b'vivo'\": 38678,\n",
       " b\"b'\\\\xd0\\\\xb4\\\\xd0\\\\xbe\\\\xd0\\\\xba\\\\xd0\\\\xb5\\\\xd0\\\\xbc\\\\xd0\\\\xb1\\\\xd1\\\\x80\\\\xd0\\\\xb8\\\\xd0\\\\xb9'\": 93307,\n",
       " b\"b'zvezda'\": 125280,\n",
       " b\"b'\\\\xd1\\\\x81\\\\xd1\\\\x83\\\\xd0\\\\xb2\\\\xd0\\\\xb0\\\\xd1\\\\x82\\\\xd1\\\\x8c'\": 123798,\n",
       " b\"b'\\\\xd1\\\\x81\\\\xd1\\\\x80\\\\xd0\\\\xb5\\\\xd0\\\\xb4\\\\xd0\\\\xbe\\\\xd0\\\\xbe\\\\xd0\\\\xb1\\\\xd1\\\\x80\\\\xd0\\\\xb0\\\\xd0\\\\xb7\\\\xd1\\\\x83\\\\xd1\\\\x8e\\\\xd1\\\\x89\\\\xd0\\\\xb8\\\\xd0\\\\xb9'\": 138591,\n",
       " b\"b'\\\\xd0\\\\xb2\\\\xd0\\\\xb5\\\\xd0\\\\xbb\\\\xd0\\\\xb8\\\\xd0\\\\xb0\\\\xd0\\\\xbb'\": 150662,\n",
       " b\"b'\\\\xd0\\\\xbf\\\\xd0\\\\xb5\\\\xd1\\\\x87\\\\xd0\\\\xb2\\\\xd0\\\\xbe\\\\xd1\\\\x80\\\\xd0\\\\xba'\": 144663,\n",
       " b\"b'\\\\xd1\\\\x81\\\\xd0\\\\xbb\\\\xd0\\\\xbe\\\\xd0\\\\xb9\\\\xd0\\\\xbd\\\\xd1\\\\x8b\\\\xd0\\\\xb9'\": 44815,\n",
       " b\"b'\\\\xd0\\\\xbc\\\\xd0\\\\xbe\\\\xd1\\\\x85\\\\xd0\\\\xb0\\\\xd0\\\\xb2\\\\xd0\\\\xb0'\": 84058,\n",
       " b\"b'\\\\xd0\\\\xb3\\\\xd0\\\\xb0\\\\xd1\\\\x80\\\\xd0\\\\xbd\\\\xd0\\\\xb8\\\\xd0\\\\xb5'\": 82982,\n",
       " b\"b'\\\\xd0\\\\xb7\\\\xd0\\\\xb0\\\\xd0\\\\xbd\\\\xd0\\\\xb4\\\\xd0\\\\xb5\\\\xd1\\\\x80'\": 103215,\n",
       " b\"b'\\\\xd0\\\\xb1\\\\xd1\\\\x83\\\\xd1\\\\x80\\\\xd0\\\\xbb\\\\xd1\\\\x8f\\\\xd0\\\\xb5\\\\xd0\\\\xb2'\": 75974,\n",
       " b\"b'\\\\xd1\\\\x8f\\\\xd1\\\\x85\\\\xd1\\\\x82-\\\\xd0\\\\xba\\\\xd0\\\\xbb\\\\xd1\\\\x83\\\\xd0\\\\xb1'\": 25235,\n",
       " b\"b'\\\\xd1\\\\x81\\\\xd0\\\\xb5\\\\xd0\\\\xbc\\\\xd0\\\\xb5\\\\xd0\\\\xbd\\\\xd0\\\\xbe\\\\xd0\\\\xb2\\\\xd1\\\\x81\\\\xd0\\\\xba\\\\xd0\\\\xb8\\\\xd0\\\\xb9'\": 26236,\n",
       " b\"b'\\\\xd1\\\\x81\\\\xd0\\\\xb2\\\\xd0\\\\xb5\\\\xd1\\\\x80\\\\xd1\\\\x80\\\\xd0\\\\xb8\\\\xd1\\\\x80'\": 123430,\n",
       " b\"b'\\\\xd0\\\\xbc\\\\xd0\\\\xb0\\\\xd1\\\\x80\\\\xd0\\\\xb8\\\\xd0\\\\xbd\\\\xd0\\\\xbe\\\\xd0\\\\xb2\\\\xd0\\\\xb0\\\\xd0\\\\xbd\\\\xd1\\\\x8b\\\\xd0\\\\xb9'\": 140973,\n",
       " b\"b'\\\\xd0\\\\xbe\\\\xd0\\\\xb1\\\\xd0\\\\xbc\\\\xd0\\\\xbe\\\\xd1\\\\x82\\\\xd0\\\\xba\\\\xd0\\\\xb0'\": 11248,\n",
       " b\"b'\\\\xd0\\\\xbf\\\\xd0\\\\xb5\\\\xd1\\\\x80\\\\xd0\\\\xb5\\\\xd1\\\\x80\\\\xd0\\\\xb0\\\\xd0\\\\xb1'\": 50062,\n",
       " b\"b'\\\\xd0\\\\xbe\\\\xd0\\\\xbd\\\\xd1\\\\x86\\\\xd0\\\\xb8\\\\xd0\\\\xb4\\\\xd0\\\\xb8\\\\xd1\\\\x83\\\\xd0\\\\xbc'\": 170180,\n",
       " b\"b'fundamentals'\": 152087,\n",
       " b\"b'meccano'\": 188740,\n",
       " b\"b'\\\\xd0\\\\xba\\\\xd0\\\\xbe\\\\xd1\\\\x81\\\\xd0\\\\xbc\\\\xd0\\\\xbe\\\\xd0\\\\xb4\\\\xd0\\\\xb5\\\\xd1\\\\x81\\\\xd0\\\\xb0\\\\xd0\\\\xbd\\\\xd1\\\\x82'\": 162246,\n",
       " b\"b'\\\\xd0\\\\xb1\\\\xd0\\\\xb5\\\\xd1\\\\x80\\\\xd0\\\\xbd\\\\xd1\\\\x81\\\\xd0\\\\xba\\\\xd0\\\\xb8\\\\xd0\\\\xb9'\": 45701,\n",
       " b\"b'laude'\": 187351,\n",
       " b\"b'\\\\xd0\\\\xba\\\\xd1\\\\x80\\\\xd0\\\\xb0\\\\xd1\\\\x81\\\\xd0\\\\xbe\\\\xd0\\\\xb2\\\\xd0\\\\xb8\\\\xd1\\\\x86\\\\xd0\\\\xba\\\\xd0\\\\xb8\\\\xd0\\\\xb9'\": 130667,\n",
       " b\"b'\\\\xd1\\\\x84\\\\xd0\\\\xb0'\": 24452,\n",
       " b\"b'\\\\xd0\\\\xbf\\\\xd1\\\\x80\\\\xd0\\\\xb8\\\\xd0\\\\xb9\\\\xd0\\\\xbc\\\\xd0\\\\xb0'\": 162695,\n",
       " b\"b'\\\\xd0\\\\xbc\\\\xd0\\\\xbe\\\\xd1\\\\x80\\\\xd0\\\\xb8\\\\xd1\\\\x81\\\\xd1\\\\x82\\\\xd1\\\\x8b\\\\xd0\\\\xb9'\": 172331,\n",
       " b\"b'\\\\xd1\\\\x80\\\\xd0\\\\xb5\\\\xd0\\\\xb3\\\\xd0\\\\xb5\\\\xd0\\\\xbd\\\\xd0\\\\xb8\\\\xd1\\\\x80\\\\xd0\\\\xb8\\\\xd1\\\\x80\\\\xd0\\\\xbe\\\\xd0\\\\xb2\\\\xd0\\\\xb0\\\\xd1\\\\x82\\\\xd1\\\\x8c'\": 187850,\n",
       " b\"b'\\\\xd0\\\\xbf\\\\xd0\\\\xb5\\\\xd1\\\\x80\\\\xd0\\\\xb2\\\\xd1\\\\x8b'\": 76748,\n",
       " b\"b'trommelberg'\": 133717,\n",
       " b\"b'\\\\xd0\\\\xb0\\\\xd1\\\\x80\\\\xd1\\\\x82\\\\xd1\\\\x8b\\\\xd0\\\\xbd\\\\xd0\\\\xbe\\\\xd0\\\\xb2'\": 167213,\n",
       " b\"b'\\\\xd0\\\\xbf\\\\xd1\\\\x80\\\\xd0\\\\xb5\\\\xd0\\\\xbb\\\\xd0\\\\xb5\\\\xd1\\\\x81\\\\xd1\\\\x82\\\\xd0\\\\xbd\\\\xd0\\\\xbe'\": 69591,\n",
       " b\"b'\\\\xd0\\\\xbc\\\\xd0\\\\xb5\\\\xd1\\\\x84\\\\xd0\\\\xb8\\\\xd1\\\\x81\\\\xd1\\\\x82\\\\xd0\\\\xbe'\": 120720,\n",
       " b\"b'\\\\xd1\\\\x80\\\\xd1\\\\x83\\\\xd1\\\\x8d\\\\xd0\\\\xbb'\": 137294,\n",
       " b\"b'\\\\xd0\\\\xb2\\\\xd0\\\\xb0\\\\xd1\\\\x84\\\\xd0\\\\xb0'\": 119831,\n",
       " b\"b'\\\\xd0\\\\xbd\\\\xd0\\\\xb5\\\\xd0\\\\xb2\\\\xd0\\\\xbe\\\\xd0\\\\xbb\\\\xd1\\\\x8c\\\\xd0\\\\xbd\\\\xd1\\\\x8b\\\\xd0\\\\xb9'\": 20026,\n",
       " b\"b'\\\\xd0\\\\xbc\\\\xd0\\\\xb0\\\\xd1\\\\x81\\\\xd0\\\\xbb\\\\xd0\\\\xbe\\\\xd0\\\\xb4\\\\xd0\\\\xb5\\\\xd0\\\\xbb'\": 184737,\n",
       " b\"b'\\\\xd0\\\\xb0\\\\xd0\\\\xb2\\\\xd1\\\\x82\\\\xd0\\\\xbe\\\\xd0\\\\xb8\\\\xd0\\\\xbd\\\\xd1\\\\x81\\\\xd0\\\\xbf\\\\xd0\\\\xb5\\\\xd0\\\\xba\\\\xd1\\\\x86\\\\xd0\\\\xb8\\\\xd1\\\\x8f'\": 58082,\n",
       " b\"b'arr'\": 94982,\n",
       " b\"b'\\\\xd0\\\\xbb\\\\xd0\\\\xb0\\\\xd0\\\\xbc\\\\xd0\\\\xbf\\\\xd0\\\\xbe\\\\xd0\\\\xb2\\\\xd1\\\\x8b\\\\xd0\\\\xb9'\": 28362,\n",
       " b\"b'\\\\xd0\\\\xb7\\\\xd0\\\\xb0\\\\xd0\\\\xb2\\\\xd0\\\\xb0\\\\xd1\\\\x80\\\\xd0\\\\xb8\\\\xd0\\\\xb2\\\\xd0\\\\xb0\\\\xd0\\\\xbd\\\\xd0\\\\xb8\\\\xd0\\\\xb5'\": 23308,\n",
       " b\"b'\\\\xd0\\\\xb4\\\\xd0\\\\xbe\\\\xd1\\\\x81\\\\xd1\\\\x82\\\\xd0\\\\xbe\\\\xd0\\\\xbf\\\\xd1\\\\x80\\\\xd0\\\\xb8\\\\xd0\\\\xbc\\\\xd0\\\\xb5\\\\xd1\\\\x87\\\\xd0\\\\xb0\\\\xd1\\\\x82\\\\xd0\\\\xb5\\\\xd0\\\\xbb\\\\xd1\\\\x8c\\\\xd0\\\\xbd\\\\xd1\\\\x8b\\\\xd0\\\\xb9'\": 43414,\n",
       " b\"b'\\\\xd1\\\\x80\\\\xd0\\\\xb0\\\\xd0\\\\xb4\\\\xd0\\\\xb8\\\\xd0\\\\xb0\\\\xd0\\\\xba\\\\xd1\\\\x82\\\\xd0\\\\xb8\\\\xd0\\\\xb2\\\\xd0\\\\xbd\\\\xd1\\\\x8b\\\\xd0\\\\xb9'\": 143737,\n",
       " b\"b'\\\\xd1\\\\x85\\\\xd0\\\\xb8\\\\xd1\\\\x80\\\\xd0\\\\xb0\\\\xd0\\\\xba\\\\xd0\\\\xbe'\": 191892,\n",
       " b\"b'\\\\xd0\\\\xbc\\\\xd1\\\\x83\\\\xd1\\\\x81\\\\xd0\\\\xbe\\\\xd1\\\\x80\\\\xd0\\\\xbe\\\\xd1\\\\x81\\\\xd0\\\\xb6\\\\xd0\\\\xb8\\\\xd0\\\\xb3\\\\xd0\\\\xb0\\\\xd1\\\\x82\\\\xd0\\\\xb5\\\\xd0\\\\xbb\\\\xd1\\\\x8c\\\\xd0\\\\xbd\\\\xd1\\\\x8b\\\\xd0\\\\xb9'\": 59942,\n",
       " b\"b'\\\\xd0\\\\xbc\\\\xd0\\\\xb0\\\\xd0\\\\xbd\\\\xd1\\\\x82\\\\xd0\\\\xbe\\\\xd0\\\\xb2\\\\xd0\\\\xb0\\\\xd1\\\\x80\\\\xd0\\\\xba\\\\xd0\\\\xb0'\": 135995,\n",
       " b\"b'\\\\xd1\\\\x80\\\\xd0\\\\xbe\\\\xd0\\\\xb1\\\\xd0\\\\xbe\\\\xd1\\\\x82\\\\xd0\\\\xb8\\\\xd0\\\\xb7\\\\xd0\\\\xb8\\\\xd1\\\\x80\\\\xd0\\\\xbe\\\\xd0\\\\xb2\\\\xd0\\\\xb0\\\\xd0\\\\xbd\\\\xd0\\\\xbd\\\\xd1\\\\x8b\\\\xd0\\\\xb9'\": 23184,\n",
       " b\"b'\\\\xd1\\\\x80\\\\xd0\\\\xb0\\\\xd0\\\\xb7\\\\xd0\\\\xb1\\\\xd0\\\\xbb\\\\xd0\\\\xbe\\\\xd0\\\\xba\\\\xd0\\\\xb8\\\\xd1\\\\x80\\\\xd0\\\\xbe\\\\xd0\\\\xb2\\\\xd0\\\\xb0\\\\xd0\\\\xbd\\\\xd0\\\\xb8\\\\xd0\\\\xb5'\": 59714,\n",
       " b\"b'\\\\xd1\\\\x82\\\\xd1\\\\x80\\\\xd0\\\\xb0\\\\xd0\\\\xbf\\\\xd0\\\\xbf'\": 106984,\n",
       " b\"b'\\\\xd0\\\\xb3\\\\xd1\\\\x83\\\\xd0\\\\xb4\\\\xd0\\\\xb2\\\\xd0\\\\xb8\\\\xd0\\\\xbb\\\\xd0\\\\xbb'\": 89773,\n",
       " b\"b'\\\\xd1\\\\x88\\\\xd0\\\\xb0\\\\xd0\\\\xb9\\\\xd0\\\\xb5\\\\xd0\\\\xbd'\": 135428,\n",
       " b\"b'mmgp'\": 95812,\n",
       " b\"b'\\\\xd0\\\\xbf\\\\xd0\\\\xbe\\\\xd1\\\\x87\\\\xd0\\\\xb2\\\\xd0\\\\xbe\\\\xd0\\\\xb2\\\\xd0\\\\xb5\\\\xd0\\\\xb4'\": 72266,\n",
       " b\"b'\\\\xd1\\\\x81\\\\xd1\\\\x82\\\\xd1\\\\x80\\\\xd0\\\\xb5\\\\xd0\\\\xb9\\\\xd1\\\\x87'\": 27361,\n",
       " b\"b'\\\\xd1\\\\x80\\\\xd1\\\\x8b\\\\xd0\\\\xb1\\\\xd0\\\\xbe\\\\xd1\\\\x8f\\\\xd0\\\\xb4\\\\xd0\\\\xbd\\\\xd1\\\\x8b\\\\xd0\\\\xb9'\": 172066,\n",
       " b\"b'\\\\xd0\\\\xb7\\\\xd0\\\\xb5\\\\xd0\\\\xbb\\\\xd0\\\\xb0\\\\xd0\\\\xbd\\\\xd0\\\\xb4\\\\xd0\\\\xb0'\": 72932,\n",
       " b\"b'\\\\xd0\\\\xb4\\\\xd0\\\\xb6\\\\xd0\\\\xb5\\\\xd1\\\\x81\\\\xd1\\\\x81\\\\xd0\\\\xbe\\\\xd0\\\\xbf'\": 181812,\n",
       " b\"b'\\\\xd0\\\\xbd\\\\xd0\\\\xb0\\\\xd0\\\\xb7\\\\xd0\\\\xb2\\\\xd0\\\\xb0\\\\xd0\\\\xbd\\\\xd0\\\\xb8\\\\xd0\\\\xb2\\\\xd0\\\\xb0\\\\xd1\\\\x82\\\\xd1\\\\x8c'\": 43774,\n",
       " b\"b'\\\\xd0\\\\xbd\\\\xd0\\\\xbe\\\\xd0\\\\xb2\\\\xd0\\\\xbe\\\\xd1\\\\x81\\\\xd0\\\\xbf\\\\xd0\\\\xb0\\\\xd1\\\\x81\\\\xd1\\\\x81\\\\xd0\\\\xba\\\\xd0\\\\xb8\\\\xd0\\\\xb9'\": 41004,\n",
       " b\"b'\\\\xd0\\\\xba\\\\xd0\\\\xbe\\\\xd0\\\\xbd\\\\xd1\\\\x82\\\\xd1\\\\x80\\\\xd0\\\\xb0\\\\xd1\\\\x81\\\\xd1\\\\x82'\": 7440,\n",
       " b\"b'\\\\xd0\\\\xbf\\\\xd1\\\\x80\\\\xd0\\\\xbe\\\\xd0\\\\xbb\\\\xd0\\\\xbe\\\\xd0\\\\xb6\\\\xd0\\\\xb5\\\\xd0\\\\xbd\\\\xd0\\\\xb8\\\\xd0\\\\xb5'\": 109762,\n",
       " b\"b'\\\\xd0\\\\xb4\\\\xd0\\\\xb5\\\\xd0\\\\xbc\\\\xd0\\\\xb0\\\\xd1\\\\x80\\\\xd0\\\\xba\\\\xd0\\\\xb0\\\\xd1\\\\x86\\\\xd0\\\\xb8\\\\xd1\\\\x8f'\": 65084,\n",
       " b\"b'\\\\xd1\\\\x82\\\\xd0\\\\xb5\\\\xd1\\\\x81\\\\xd0\\\\xba\\\\xd0\\\\xb0'\": 92610,\n",
       " b\"b'\\\\xd0\\\\xb7\\\\xd0\\\\xb0\\\\xd1\\\\x83\\\\xd1\\\\x88\\\\xd0\\\\xb5\\\\xd0\\\\xbd\\\\xd0\\\\xb8\\\\xd0\\\\xb5'\": 180982,\n",
       " b\"b'\\\\xd0\\\\xbf\\\\xd1\\\\x80\\\\xd0\\\\xb8\\\\xd0\\\\xb0\\\\xd0\\\\xb7\\\\xd0\\\\xbe\\\\xd0\\\\xb2\\\\xd1\\\\x81\\\\xd0\\\\xba\\\\xd0\\\\xb8\\\\xd0\\\\xb9'\": 60267,\n",
       " b\"b'\\\\xd0\\\\xb2\\\\xd1\\\\x8b\\\\xd1\\\\x81\\\\xd0\\\\xbe\\\\xd0\\\\xba\\\\xd0\\\\xbe\\\\xd1\\\\x84\\\\xd0\\\\xbe\\\\xd1\\\\x80\\\\xd1\\\\x81\\\\xd0\\\\xb8\\\\xd1\\\\x80\\\\xd0\\\\xbe\\\\xd0\\\\xb2\\\\xd0\\\\xb0\\\\xd0\\\\xbd\\\\xd0\\\\xbd\\\\xd1\\\\x8b\\\\xd0\\\\xb9'\": 145859,\n",
       " b\"b'\\\\xd0\\\\xbf\\\\xd0\\\\xbe\\\\xd0\\\\xbb\\\\xd1\\\\x83\\\\xd0\\\\xbb\\\\xd0\\\\xbe\\\\xd1\\\\x82\\\\xd0\\\\xbe\\\\xd1\\\\x81'\": 168358,\n",
       " b\"b'\\\\xd0\\\\xb3\\\\xd0\\\\xb8\\\\xd0\\\\xb5\\\\xd1\\\\x80\\\\xd0\\\\xbe\\\\xd0\\\\xbd'\": 176976,\n",
       " b\"b'\\\\xd0\\\\xb6\\\\xd0\\\\xb8\\\\xd0\\\\xbb\\\\xd0\\\\xb5\\\\xd1\\\\x86'\": 4885,\n",
       " b\"b'\\\\xd1\\\\x81\\\\xd1\\\\x82\\\\xd0\\\\xbe\\\\xd1\\\\x80\\\\xd0\\\\xbd\\\\xd0\\\\xb8\\\\xd1\\\\x80\\\\xd0\\\\xbe\\\\xd0\\\\xb2\\\\xd0\\\\xb0\\\\xd1\\\\x82\\\\xd1\\\\x8c'\": 146510,\n",
       " b\"b'saratovnews'\": 128985,\n",
       " b\"b'\\\\xd0\\\\xb4\\\\xd0\\\\xb5\\\\xd0\\\\xbc\\\\xd0\\\\xbe\\\\xd0\\\\xb4\\\\xd0\\\\xb5\\\\xd0\\\\xba\\\\xd1\\\\x81'\": 44715,\n",
       " b\"b'\\\\xd0\\\\xb7\\\\xd0\\\\xb0\\\\xd0\\\\xb3\\\\xd1\\\\x80\\\\xd0\\\\xb0\\\\xd0\\\\xbd\\\\xd0\\\\xbf\\\\xd0\\\\xb0\\\\xd1\\\\x81\\\\xd0\\\\xbf\\\\xd0\\\\xbe\\\\xd1\\\\x80\\\\xd1\\\\x82'\": 10180,\n",
       " b\"b'\\\\xd0\\\\xb7\\\\xd0\\\\xb0\\\\xd0\\\\xbe\\\\xd1\\\\x87\\\\xd0\\\\xbd\\\\xd0\\\\xbe'\": 14975,\n",
       " b\"b'\\\\xd1\\\\x81\\\\xd1\\\\x82\\\\xd1\\\\x80\\\\xd1\\\\x83\\\\xd0\\\\xbc\\\\xd0\\\\xb5\\\\xd0\\\\xbd\\\\xd1\\\\x82'\": 175309,\n",
       " b\"b'\\\\xd0\\\\xb2\\\\xd0\\\\xb5\\\\xd0\\\\xbd\\\\xd0\\\\xb5\\\\xd1\\\\x86\\\\xd0\\\\xb8\\\\xd0\\\\xb0\\\\xd0\\\\xbd\\\\xd1\\\\x81\\\\xd0\\\\xba\\\\xd0\\\\xb8\\\\xd0\\\\xb9'\": 12310,\n",
       " b\"b'\\\\xd0\\\\xba\\\\xd1\\\\x80\\\\xd1\\\\x83\\\\xd1\\\\x82\\\\xd0\\\\xbe\\\\xd1\\\\x81\\\\xd1\\\\x82\\\\xd1\\\\x8c'\": 46276,\n",
       " b\"b'\\\\xd0\\\\xb2\\\\xd1\\\\x82\\\\xd0\\\\xbe\\\\xd1\\\\x80\\\\xd0\\\\xb3\\\\xd0\\\\xb0\\\\xd1\\\\x82\\\\xd1\\\\x8c\\\\xd1\\\\x81\\\\xd1\\\\x8f'\": 12995,\n",
       " b\"b'\\\\xd1\\\\x85\\\\xd0\\\\xb0\\\\xd1\\\\x82\\\\xd1\\\\x82'\": 67813,\n",
       " b\"b'\\\\xd1\\\\x84\\\\xd0\\\\xbe\\\\xd1\\\\x80\\\\xd0\\\\xb2\\\\xd0\\\\xb0\\\\xd1\\\\x80\\\\xd0\\\\xb4'\": 13816,\n",
       " b\"b'\\\\xd0\\\\xb0\\\\xd0\\\\xbb\\\\xd0\\\\xb5\\\\xd0\\\\xba\\\\xd1\\\\x81\\\\xd0\\\\xb0\\\\xd0\\\\xbd\\\\xd0\\\\xb4\\\\xd1\\\\x80\\\\xd0\\\\xbe\\\\xd0\\\\xb2\\\\xd0\\\\xb5\\\\xd1\\\\x86'\": 140577,\n",
       " b\"b'\\\\xd0\\\\xba\\\\xd0\\\\xb0\\\\xd0\\\\xb7\\\\xd1\\\\x8b\\\\xd0\\\\xb2\\\\xd0\\\\xb0\\\\xd1\\\\x82\\\\xd1\\\\x8c'\": 149603,\n",
       " b\"b'\\\\xd0\\\\xb1\\\\xd1\\\\x8b\\\\xd0\\\\xbb\\\\xd0\\\\xb8\\\\xd0\\\\xbd\\\\xd0\\\\xba\\\\xd0\\\\xb0'\": 68701,\n",
       " b\"b'\\\\xd1\\\\x81\\\\xd0\\\\xb2\\\\xd0\\\\xbe\\\\xd0\\\\xb3\\\\xd0\\\\xbe'\": 64973,\n",
       " b\"b'downlink'\": 185438,\n",
       " b\"b'\\\\xd0\\\\xbf\\\\xd0\\\\xb5\\\\xd0\\\\xbb\\\\xd0\\\\xb5\\\\xd0\\\\xbd\\\\xd0\\\\xb3'\": 60418,\n",
       " b\"b'\\\\xd0\\\\xb3\\\\xd1\\\\x80\\\\xd1\\\\x8b\\\\xd0\\\\xb6\\\\xd0\\\\xb5\\\\xd0\\\\xb2\\\\xd0\\\\xbe\\\\xd0\\\\xb9'\": 54130,\n",
       " b\"b'\\\\xd0\\\\xbc\\\\xd0\\\\xb5\\\\xd1\\\\x82\\\\xd0\\\\xb8\\\\xd0\\\\xbb\\\\xd1\\\\x83\\\\xd1\\\\x80\\\\xd0\\\\xb0\\\\xd1\\\\x86\\\\xd0\\\\xb8\\\\xd0\\\\xbb'\": 121797,\n",
       " b\"b'\\\\xd0\\\\xbf\\\\xd0\\\\xbe\\\\xd0\\\\xb4\\\\xd0\\\\xb3\\\\xd0\\\\xb8\\\\xd0\\\\xb1\\\\xd0\\\\xb0\\\\xd1\\\\x82\\\\xd1\\\\x8c'\": 36623,\n",
       " b\"b'npd'\": 96205,\n",
       " b\"b'\\\\xd0\\\\xb6\\\\xd0\\\\xbe\\\\xd1\\\\x80\\\\xd0\\\\xb6\\\\xd0\\\\xb8\\\\xd0\\\\xba'\": 139701,\n",
       " b\"b'\\\\xd0\\\\xbb\\\\xd0\\\\xb5\\\\xd0\\\\xb2\\\\xd0\\\\xbe\\\\xd0\\\\xba\\\\xd1\\\\x83\\\\xd0\\\\xbc\\\\xd1\\\\x81\\\\xd0\\\\xba\\\\xd0\\\\xb8\\\\xd0\\\\xb9'\": 89551,\n",
       " b\"b'\\\\xd1\\\\x83\\\\xd1\\\\x85'\": 12551,\n",
       " b\"b'\\\\xd0\\\\xba\\\\xd1\\\\x83\\\\xd0\\\\xb1\\\\xd0\\\\xb0\\\\xd0\\\\xb9'\": 168841,\n",
       " b\"b'\\\\xd1\\\\x82\\\\xd0\\\\xb5\\\\xd1\\\\x80\\\\xd0\\\\xbe\\\\xd1\\\\x87\\\\xd0\\\\xba\\\\xd0\\\\xb0'\": 155233,\n",
       " b\"b'\\\\xd0\\\\xbd\\\\xd0\\\\xb5\\\\xd0\\\\xbc\\\\xd0\\\\xb0\\\\xd1\\\\x82\\\\xd0\\\\xbe\\\\xd0\\\\xb4\\\\xd0\\\\xbe\\\\xd0\\\\xb7'\": 150436,\n",
       " b\"b'\\\\xd0\\\\xbc\\\\xd0\\\\xb5\\\\xd0\\\\xb4\\\\xd0\\\\xba\\\\xd0\\\\xbe\\\\xd0\\\\xb2'\": 175797,\n",
       " b\"b'\\\\xd0\\\\xbd\\\\xd0\\\\xb5\\\\xd0\\\\xb7\\\\xd0\\\\xb0\\\\xd1\\\\x81\\\\xd1\\\\x82\\\\xd1\\\\x80\\\\xd0\\\\xb0\\\\xd1\\\\x85\\\\xd0\\\\xbe\\\\xd0\\\\xb2\\\\xd0\\\\xb0\\\\xd0\\\\xbd\\\\xd0\\\\xbd\\\\xd1\\\\x8b\\\\xd0\\\\xb9'\": 100477,\n",
       " b\"b'bic'\": 87746,\n",
       " b\"b'concepts'\": 105807,\n",
       " b\"b'agnes'\": 159206,\n",
       " b\"b'\\\\xd0\\\\xba\\\\xd0\\\\xbb\\\\xd0\\\\xb8\\\\xd0\\\\xba\\\\xd1\\\\x83\\\\xd1\\\\x88\\\\xd0\\\\xb5\\\\xd1\\\\x81\\\\xd1\\\\x82\\\\xd0\\\\xb2\\\\xd0\\\\xbe'\": 116623,\n",
       " b\"b'moller'\": 132326,\n",
       " b\"b'\\\\xd0\\\\xbf\\\\xd0\\\\xbb\\\\xd0\\\\xb0\\\\xd1\\\\x81\\\\xd1\\\\x82\\\\xd0\\\\xb8\\\\xd0\\\\xbd\\\\xd0\\\\xb0'\": 4687,\n",
       " b\"b'\\\\xd0\\\\xbe\\\\xd0\\\\xb7\\\\xd0\\\\xb5\\\\xd0\\\\xba'\": 38755,\n",
       " b\"b'\\\\xd0\\\\xb0\\\\xd1\\\\x85\\\\xd0\\\\xb0\\\\xd0\\\\xbb\\\\xd1\\\\x81\\\\xd0\\\\xba\\\\xd0\\\\xb8\\\\xd0\\\\xb9'\": 192782,\n",
       " b\"b'\\\\xd0\\\\xba\\\\xd0\\\\xbe\\\\xd0\\\\xbb\\\\xd0\\\\xbf\\\\xd0\\\\xb0\\\\xd1\\\\x88\\\\xd0\\\\xb5\\\\xd0\\\\xb2\\\\xd0\\\\xbe'\": 73610,\n",
       " b\"b'fao'\": 96945,\n",
       " b\"b'\\\\xd1\\\\x87\\\\xd0\\\\xb8\\\\xd1\\\\x81\\\\xd0\\\\xbb\\\\xd0\\\\xb8\\\\xd1\\\\x82\\\\xd1\\\\x8c\\\\xd1\\\\x81\\\\xd1\\\\x8f'\": 9679,\n",
       " b\"b'adware'\": 91712,\n",
       " b\"b'\\\\xd0\\\\xbf\\\\xd0\\\\xb5\\\\xd1\\\\x82\\\\xd0\\\\xbb\\\\xd1\\\\x8e\\\\xd1\\\\x80\\\\xd0\\\\xbe\\\\xd0\\\\xb2\\\\xd1\\\\x81\\\\xd0\\\\xba\\\\xd0\\\\xb8\\\\xd0\\\\xb9'\": 111705,\n",
       " b\"b'\\\\xd1\\\\x81\\\\xd0\\\\xb5\\\\xd0\\\\xbd\\\\xd0\\\\xbe\\\\xd0\\\\xba\\\\xd0\\\\xbe\\\\xd1\\\\x81'\": 34063,\n",
       " b\"b'\\\\xd0\\\\xb3\\\\xd0\\\\xb0\\\\xd0\\\\xbb\\\\xd0\\\\xbb\\\\xd0\\\\xb8\\\\xd0\\\\xbf\\\\xd0\\\\xbe\\\\xd0\\\\xbb\\\\xd0\\\\xb8\\\\xd0\\\\xb9\\\\xd1\\\\x81\\\\xd0\\\\xba\\\\xd0\\\\xb8\\\\xd0\\\\xb9'\": 162429,\n",
       " b\"b'solution'\": 36596,\n",
       " b\"b'\\\\xd0\\\\xbf\\\\xd0\\\\xb0\\\\xd0\\\\xbb\\\\xd0\\\\xbb\\\\xd0\\\\xb0\\\\xd1\\\\x81\\\\xd0\\\\xbe\\\\xd0\\\\xb2\\\\xd0\\\\xba\\\\xd0\\\\xb0'\": 167181,\n",
       " b\"b'\\\\xd0\\\\xbc\\\\xd0\\\\xb0\\\\xd0\\\\xbd\\\\xd0\\\\xb8\\\\xd1\\\\x84\\\\xd0\\\\xb5\\\\xd1\\\\x81\\\\xd1\\\\x82\\\\xd0\\\\xb8\\\\xd1\\\\x80\\\\xd0\\\\xbe\\\\xd0\\\\xb2\\\\xd0\\\\xb0\\\\xd1\\\\x82\\\\xd1\\\\x8c\\\\xd1\\\\x81\\\\xd1\\\\x8f'\": 155475,\n",
       " b\"b'\\\\xd0\\\\xbe\\\\xd1\\\\x81\\\\xd0\\\\xb8\\\\xd0\\\\xbf\\\\xd0\\\\xbe\\\\xd0\\\\xb2\\\\xd0\\\\xb0'\": 32114,\n",
       " b\"b'\\\\xd1\\\\x80\\\\xd0\\\\xbe\\\\xd1\\\\x81\\\\xd1\\\\x81\\\\xd0\\\\xb9\\\\xd1\\\\x81\\\\xd0\\\\xba\\\\xd0\\\\xb8\\\\xd0\\\\xb9'\": 164968,\n",
       " b\"b'\\\\xd0\\\\xb4\\\\xd0\\\\xb8\\\\xd1\\\\x81\\\\xd1\\\\x81\\\\xd0\\\\xbe\\\\xd1\\\\x86\\\\xd0\\\\xb8\\\\xd0\\\\xb0\\\\xd1\\\\x86\\\\xd0\\\\xb8\\\\xd1\\\\x8f'\": 42738,\n",
       " b\"b'\\\\xd0\\\\xbd\\\\xd0\\\\xb5\\\\xd0\\\\xbf\\\\xd0\\\\xb5\\\\xd1\\\\x80\\\\xd0\\\\xb5\\\\xd1\\\\x85\\\\xd0\\\\xbe\\\\xd0\\\\xb4\\\\xd0\\\\xbd\\\\xd1\\\\x8b\\\\xd0\\\\xb9'\": 104761,\n",
       " b\"b'\\\\xd0\\\\xbc\\\\xd0\\\\xbd\\\\xd0\\\\xbe\\\\xd0\\\\xb3\\\\xd0\\\\xbe\\\\xd0\\\\xb7\\\\xd0\\\\xb0\\\\xd0\\\\xb4\\\\xd0\\\\xb0\\\\xd1\\\\x87\\\\xd0\\\\xbd\\\\xd0\\\\xbe\\\\xd1\\\\x81\\\\xd1\\\\x82\\\\xd1\\\\x8c'\": 37747,\n",
       " b\"b'\\\\xd1\\\\x8d\\\\xd0\\\\xbb\\\\xd0\\\\xb5\\\\xd0\\\\xba\\\\xd1\\\\x82\\\\xd1\\\\x80\\\\xd0\\\\xbe\\\\xd1\\\\x81\\\\xd1\\\\x82\\\\xd0\\\\xb8\\\\xd0\\\\xbc\\\\xd1\\\\x83\\\\xd0\\\\xbb\\\\xd1\\\\x8f\\\\xd1\\\\x82\\\\xd0\\\\xbe\\\\xd1\\\\x80'\": 80465,\n",
       " b\"b'\\\\xd1\\\\x84\\\\xd0\\\\xb5\\\\xd0\\\\xb4\\\\xd0\\\\xb5\\\\xd1\\\\x80\\\\xd0\\\\xb0\\\\xd1\\\\x82'\": 141462,\n",
       " b\"b'vulkan'\": 78757,\n",
       " b\"b'\\\\xd0\\\\xbe\\\\xd0\\\\xb7\\\\xd0\\\\xb5\\\\xd1\\\\x80\\\\xd0\\\\xbd\\\\xd0\\\\xbe\\\\xd0\\\\xb2'\": 184468,\n",
       " b\"b'\\\\xd0\\\\xb2\\\\xd0\\\\xb2\\\\xd1\\\\x82'\": 63563,\n",
       " b\"b'\\\\xd1\\\\x81\\\\xd0\\\\xb8\\\\xd0\\\\xbc\\\\xd0\\\\xbe\\\\xd0\\\\xbd\\\\xd0\\\\xb5\\\\xd1\\\\x82\\\\xd1\\\\x82\\\\xd0\\\\xb0'\": 177829,\n",
       " b\"b'\\\\xd0\\\\xbc\\\\xd0\\\\xbe\\\\xd0\\\\xbd\\\\xd0\\\\xbe\\\\xd0\\\\xba\\\\xd0\\\\xbb\\\\xd0\\\\xb8\\\\xd0\\\\xbd\\\\xd0\\\\xbd\\\\xd1\\\\x8b\\\\xd0\\\\xb9'\": 178865,\n",
       " b\"b'\\\\xd0\\\\xbf\\\\xd0\\\\xb0\\\\xd0\\\\xbd\\\\xd1\\\\x87\\\\xd0\\\\xb5\\\\xd0\\\\xbd\\\\xd0\\\\xba\\\\xd0\\\\xbe\\\\xd0\\\\xb2'\": 174125,\n",
       " b\"b'\\\\xd1\\\\x8d\\\\xd0\\\\xbb\\\\xd0\\\\xb8\\\\xd1\\\\x88\\\\xd0\\\\xb0'\": 112773,\n",
       " b\"b'\\\\xd0\\\\xbf\\\\xd1\\\\x80\\\\xd0\\\\xb0\\\\xd0\\\\xb2\\\\xd0\\\\xbe\\\\xd1\\\\x86\\\\xd0\\\\xb5\\\\xd0\\\\xbd\\\\xd1\\\\x82\\\\xd1\\\\x80\\\\xd0\\\\xb8\\\\xd1\\\\x81\\\\xd1\\\\x82\\\\xd1\\\\x81\\\\xd0\\\\xba\\\\xd0\\\\xb8\\\\xd0\\\\xb9'\": 86152,\n",
       " b\"b'\\\\xd0\\\\xb3\\\\xd1\\\\x80\\\\xd0\\\\xb0\\\\xd0\\\\xbd\\\\xd0\\\\xb8\\\\xd1\\\\x82\\\\xd0\\\\xbe\\\\xd0\\\\xb2\\\\xd1\\\\x8b\\\\xd0\\\\xb9'\": 180055,\n",
       " b\"b'\\\\xd1\\\\x82\\\\xd0\\\\xb5\\\\xd0\\\\xbb\\\\xd0\\\\xb5\\\\xd1\\\\x84\\\\xd0\\\\xbe\\\\xd0\\\\xbd\\\\xd0\\\\xbd\\\\xd1\\\\x8b\\\\xd0\\\\xb9'\": 2786,\n",
       " b\"b'\\\\xd1\\\\x8d\\\\xd0\\\\xbd\\\\xd0\\\\xb3\\\\xd0\\\\xb5\\\\xd0\\\\xbb\\\\xd1\\\\x8c\\\\xd0\\\\xb1\\\\xd0\\\\xb5\\\\xd1\\\\x80\\\\xd0\\\\xb3'\": 159314,\n",
       " b\"b'penimaster'\": 154190,\n",
       " b\"b'\\\\xd1\\\\x84\\\\xd1\\\\x80\\\\xd0\\\\xb0\\\\xd0\\\\xbd\\\\xd1\\\\x87\\\\xd0\\\\xb0'\": 162988,\n",
       " b\"b'\\\\xd0\\\\xbf\\\\xd0\\\\xb0\\\\xd1\\\\x80\\\\xd0\\\\xb0\\\\xd0\\\\xb3\\\\xd1\\\\x80\\\\xd0\\\\xb8\\\\xd0\\\\xbf\\\\xd0\\\\xbf'\": 66690,\n",
       " b\"b'\\\\xd0\\\\xb7\\\\xd0\\\\xb0\\\\xd0\\\\xba\\\\xd0\\\\xbe\\\\xd0\\\\xbb\\\\xd1\\\\x8b\\\\xd1\\\\x85\\\\xd0\\\\xb0\\\\xd1\\\\x82\\\\xd1\\\\x8c\\\\xd1\\\\x81\\\\xd1\\\\x8f'\": 118781,\n",
       " b\"b'\\\\xd1\\\\x84\\\\xd0\\\\xbb\\\\xd0\\\\xb0\\\\xd1\\\\x83\\\\xd0\\\\xbd\\\\xd0\\\\xb4\\\\xd0\\\\xb5\\\\xd1\\\\x80'\": 180585,\n",
       " b\"b'\\\\xd0\\\\xba\\\\xd1\\\\x80\\\\xd0\\\\xb8\\\\xd1\\\\x81\\\\xd1\\\\x82\\\\xd0\\\\xb0\\\\xd0\\\\xbb\\\\xd0\\\\xbb\\\\xd0\\\\xb8\\\\xd0\\\\xb7\\\\xd0\\\\xb0\\\\xd1\\\\x82\\\\xd0\\\\xbe\\\\xd1\\\\x80'\": 73695,\n",
       " b\"b'\\\\xd0\\\\xbe\\\\xd0\\\\xb1\\\\xd1\\\\x89\\\\xd0\\\\xb5\\\\xd0\\\\xb8\\\\xd0\\\\xbd\\\\xd1\\\\x81\\\\xd1\\\\x82\\\\xd0\\\\xb8\\\\xd1\\\\x82\\\\xd1\\\\x83\\\\xd1\\\\x82\\\\xd1\\\\x81\\\\xd0\\\\xba\\\\xd0\\\\xb8\\\\xd0\\\\xb9'\": 140207,\n",
       " b\"b'machina'\": 112966,\n",
       " b\"b'\\\\xd0\\\\xb1\\\\xd0\\\\xbe\\\\xd1\\\\x80\\\\xd1\\\\x8f'\": 22042,\n",
       " b\"b'\\\\xd0\\\\xb0\\\\xd0\\\\xb2\\\\xd0\\\\xb8\\\\xd0\\\\xb0\\\\xd0\\\\xb1\\\\xd0\\\\xbe\\\\xd0\\\\xbc\\\\xd0\\\\xb1\\\\xd0\\\\xb0'\": 43669,\n",
       " b\"b'\\\\xd0\\\\xb4\\\\xd0\\\\xb5\\\\xd0\\\\xbf\\\\xd0\\\\xb0\\\\xd1\\\\x80\\\\xd0\\\\xb4\\\\xd0\\\\xb8\\\\xd0\\\\xb5'\": 33234,\n",
       " b\"b'\\\\xd0\\\\xb4\\\\xd0\\\\xb6\\\\xd0\\\\xb5\\\\xd1\\\\x80\\\\xd0\\\\xba\\\\xd0\\\\xb1\\\\xd0\\\\xb5\\\\xd0\\\\xb9\\\\xd1\\\\x82'\": 127736,\n",
       " b\"b'\\\\xd0\\\\xba\\\\xd1\\\\x80\\\\xd1\\\\x8b\\\\xd1\\\\x88\\\\xd0\\\\xb5\\\\xd1\\\\x87\\\\xd0\\\\xba\\\\xd0\\\\xb0'\": 26435,\n",
       " b\"b'\\\\xd1\\\\x81\\\\xd0\\\\xbc\\\\xd0\\\\xbe\\\\xd0\\\\xbb\\\\xd0\\\\xb8\\\\xd0\\\\xbd\\\\xd0\\\\xb0'\": 76537,\n",
       " b\"b'\\\\xd0\\\\xbd\\\\xd0\\\\xb0\\\\xd0\\\\xb4\\\\xd0\\\\xb5\\\\xd0\\\\xb6\\\\xd0\\\\xb4\\\\xd0\\\\xb8\\\\xd0\\\\xbd\\\\xd0\\\\xb0'\": 124858,\n",
       " b\"b'\\\\xd1\\\\x81\\\\xd0\\\\xba\\\\xd1\\\\x80\\\\xd0\\\\xb8\\\\xd0\\\\xbd\\\\xd0\\\\xb8\\\\xd0\\\\xbd\\\\xd0\\\\xb3\\\\xd0\\\\xbe\\\\xd0\\\\xb2\\\\xd1\\\\x8b\\\\xd0\\\\xb9'\": 37396,\n",
       " b\"b'\\\\xd1\\\\x81\\\\xd1\\\\x82\\\\xd1\\\\x80\\\\xd0\\\\xb5\\\\xd0\\\\xbb\\\\xd1\\\\x8c\\\\xd0\\\\xb1\\\\xd0\\\\xb8\\\\xd1\\\\x89\\\\xd0\\\\xb5'\": 39810,\n",
       " b\"b'\\\\xd0\\\\xbc\\\\xd0\\\\xb0\\\\xd1\\\\x81\\\\xd0\\\\xb5\\\\xd0\\\\xbd\\\\xd1\\\\x8c\\\\xd0\\\\xba\\\\xd0\\\\xb8\\\\xd0\\\\xb9'\": 169135,\n",
       " b\"b'\\\\xd0\\\\xba\\\\xd0\\\\xbe\\\\xd0\\\\xbb\\\\xd0\\\\xbe\\\\xd1\\\\x82\\\\xd1\\\\x8c'\": 12770,\n",
       " b\"b'\\\\xd1\\\\x81\\\\xd0\\\\xb2\\\\xd0\\\\xb5\\\\xd1\\\\x82\\\\xd0\\\\xbe\\\\xd1\\\\x84\\\\xd0\\\\xb8\\\\xd0\\\\xbb\\\\xd1\\\\x8c\\\\xd1\\\\x82\\\\xd1\\\\x80'\": 28763,\n",
       " b\"b'\\\\xd1\\\\x87\\\\xd0\\\\xb5\\\\xd1\\\\x80\\\\xd0\\\\xb5\\\\xd0\\\\xb4\\\\xd0\\\\xbd\\\\xd0\\\\xb8\\\\xd0\\\\xba'\": 127087,\n",
       " b\"b'\\\\xd0\\\\xbf\\\\xd1\\\\x80\\\\xd0\\\\xb8\\\\xd0\\\\xb3\\\\xd0\\\\xbe\\\\xd1\\\\x80\\\\xd0\\\\xb0\\\\xd0\\\\xbd\\\\xd0\\\\xb8\\\\xd0\\\\xb5'\": 74323,\n",
       " b\"b'\\\\xd1\\\\x81\\\\xd1\\\\x82\\\\xd1\\\\x80\\\\xd0\\\\xbe\\\\xd0\\\\xbc\\\\xd1\\\\x8b\\\\xd0\\\\xbd\\\\xd1\\\\x81\\\\xd0\\\\xba\\\\xd0\\\\xb8\\\\xd0\\\\xb9'\": 182498,\n",
       " b\"b'\\\\xd1\\\\x80\\\\xd0\\\\xbe\\\\xd0\\\\xbc\\\\xd0\\\\xb0\\\\xd0\\\\xbd\\\\xd0\\\\xbd\\\\xd1\\\\x8b\\\\xd0\\\\xb9'\": 71766,\n",
       " b\"b'\\\\xd1\\\\x8e\\\\xd1\\\\x80\\\\xd0\\\\xba\\\\xd0\\\\xbe\\\\xd0\\\\xb2\\\\xd1\\\\x81\\\\xd0\\\\xba\\\\xd0\\\\xb8\\\\xd0\\\\xb9'\": 82953,\n",
       " b\"b'\\\\xd0\\\\xbf\\\\xd1\\\\x80\\\\xd0\\\\xb8\\\\xd1\\\\x89\\\\xd1\\\\x83\\\\xd1\\\\x80'\": 54383,\n",
       " b\"b'\\\\xd0\\\\xb2\\\\xd0\\\\xb7\\\\xd0\\\\xb1\\\\xd0\\\\xb8\\\\xd0\\\\xb2\\\\xd0\\\\xb0\\\\xd1\\\\x82\\\\xd1\\\\x8c'\": 6896,\n",
       " b\"b'\\\\xd0\\\\xb3\\\\xd0\\\\xb0\\\\xd1\\\\x80\\\\xd0\\\\xb2\\\\xd0\\\\xb8'\": 122794,\n",
       " b\"b'\\\\xd0\\\\xb2\\\\xd0\\\\xb7'\": 39846,\n",
       " b\"b'\\\\xd1\\\\x82\\\\xd0\\\\xb5\\\\xd0\\\\xbf\\\\xd0\\\\xb5\\\\xd1\\\\x80\\\\xd0\\\\xb8\\\\xd1\\\\x87\\\\xd0\\\\xb0'\": 87508,\n",
       " b\"b'creating'\": 108272,\n",
       " b\"b'\\\\xd0\\\\xba\\\\xd0\\\\xbb\\\\xd0\\\\xb8\\\\xd0\\\\xbd\\\\xd1\\\\x87'\": 62107,\n",
       " b\"b'\\\\xd1\\\\x8d\\\\xd0\\\\xb2\\\\xd0\\\\xbe\\\\xd0\\\\xbb\\\\xd1\\\\x8e\\\\xd1\\\\x86\\\\xd0\\\\xb8\\\\xd0\\\\xbe\\\\xd0\\\\xbd\\\\xd0\\\\xb8\\\\xd0\\\\xb7\\\\xd0\\\\xbc'\": 53967,\n",
       " b\"b'\\\\xd0\\\\xbf\\\\xd1\\\\x80\\\\xd0\\\\xb5\\\\xd0\\\\xb2\\\\xd0\\\\xbe\\\\xd1\\\\x81\\\\xd1\\\\x85\\\\xd0\\\\xbe\\\\xd0\\\\xb4\\\\xd1\\\\x8f\\\\xd1\\\\x89\\\\xd0\\\\xb8\\\\xd0\\\\xb9'\": 41097,\n",
       " b\"b'\\\\xd0\\\\xb3\\\\xd0\\\\xb8\\\\xd0\\\\xb4\\\\xd1\\\\x80\\\\xd0\\\\xbe\\\\xd0\\\\xbc\\\\xd0\\\\xbe\\\\xd0\\\\xbb\\\\xd0\\\\xbe\\\\xd1\\\\x82'\": 35125,\n",
       " b\"b'\\\\xd0\\\\xb7\\\\xd0\\\\xb0\\\\xd1\\\\x81\\\\xd0\\\\xb5\\\\xd0\\\\xb2\\\\xd0\\\\xb0\\\\xd1\\\\x82\\\\xd1\\\\x8c\\\\xd1\\\\x81\\\\xd1\\\\x8f'\": 94262,\n",
       " b\"b'\\\\xd1\\\\x8d\\\\xd0\\\\xb9\\\\xd1\\\\x84\\\\xd0\\\\xbe\\\\xd1\\\\x80\\\\xd0\\\\xb8\\\\xd1\\\\x87\\\\xd0\\\\xb5\\\\xd1\\\\x81\\\\xd0\\\\xba\\\\xd0\\\\xb8\\\\xd0\\\\xb9'\": 80637,\n",
       " b\"b'\\\\xd1\\\\x81\\\\xd0\\\\xbe\\\\xd1\\\\x82\\\\xd0\\\\xba\\\\xd0\\\\xb0'\": 6874,\n",
       " b\"b'\\\\xd0\\\\xbd\\\\xd0\\\\xb5\\\\xd1\\\\x81\\\\xd1\\\\x85\\\\xd0\\\\xbe\\\\xd0\\\\xb4\\\\xd1\\\\x81\\\\xd1\\\\x82\\\\xd0\\\\xb2\\\\xd0\\\\xbe'\": 74925,\n",
       " b\"b'\\\\xd0\\\\xb0\\\\xd0\\\\xbb\\\\xd1\\\\x8d\\\\xd0\\\\xbd'\": 194775,\n",
       " b\"b'\\\\xd1\\\\x84\\\\xd0\\\\xb5\\\\xd1\\\\x81\\\\xd1\\\\x81'\": 110913,\n",
       " b\"b'\\\\xd0\\\\xbf\\\\xd1\\\\x8f\\\\xd1\\\\x82\\\\xd0\\\\xb0\\\\xd1\\\\x85\\\\xd0\\\\xb8\\\\xd0\\\\xbd'\": 169031,\n",
       " b\"b'\\\\xd1\\\\x82\\\\xd0\\\\xb5\\\\xd1\\\\x85\\\\xd0\\\\xbd\\\\xd0\\\\xb0'\": 157226,\n",
       " b\"b'\\\\xd1\\\\x81\\\\xd1\\\\x82\\\\xd0\\\\xb5\\\\xd1\\\\x84\\\\xd0\\\\xb0\\\\xd0\\\\xbd'\": 11885,\n",
       " b\"b'\\\\xd0\\\\xb5\\\\xd0\\\\xb6\\\\xd0\\\\xb8\\\\xd1\\\\x85\\\\xd0\\\\xb0'\": 92195,\n",
       " b\"b'opportunity'\": 71209,\n",
       " b\"b'\\\\xd0\\\\xb2\\\\xd1\\\\x8b\\\\xd0\\\\xbc\\\\xd0\\\\xb0\\\\xd1\\\\x89\\\\xd0\\\\xb8\\\\xd0\\\\xb2\\\\xd0\\\\xb0\\\\xd1\\\\x82\\\\xd1\\\\x8c'\": 31806,\n",
       " b\"b'\\\\xd0\\\\xb0\\\\xd0\\\\xb2\\\\xd1\\\\x82\\\\xd0\\\\xbe\\\\xd1\\\\x80\\\\xd0\\\\xb0\\\\xd0\\\\xb7\\\\xd0\\\\xb1\\\\xd0\\\\xbe\\\\xd1\\\\x80\\\\xd0\\\\xba\\\\xd0\\\\xb0'\": 71208,\n",
       " b\"b'mbc'\": 146581,\n",
       " b\"b'\\\\xd0\\\\xb2\\\\xd0\\\\xb5\\\\xd0\\\\xbd\\\\xd0\\\\xb5\\\\xd0\\\\xb4\\\\xd0\\\\xb8\\\\xd0\\\\xba\\\\xd1\\\\x82'\": 73857,\n",
       " b\"b'\\\\xd0\\\\xb3\\\\xd1\\\\x80\\\\xd0\\\\xb0\\\\xd1\\\\x84\\\\xd0\\\\xbe\\\\xd0\\\\xbc\\\\xd0\\\\xb0\\\\xd0\\\\xbd\\\\xd1\\\\x81\\\\xd1\\\\x82\\\\xd0\\\\xb2\\\\xd0\\\\xbe'\": 103077,\n",
       " b\"b'visio'\": 53890,\n",
       " b\"b'\\\\xd1\\\\x82\\\\xd1\\\\x8e\\\\xd0\\\\xbc\\\\xd0\\\\xb5\\\\xd0\\\\xbd\\\\xd1\\\\x8c'\": 6041,\n",
       " b\"b'\\\\xd0\\\\xba\\\\xd0\\\\xb0\\\\xd0\\\\xbf\\\\xd0\\\\xb8\\\\xd1\\\\x89\\\\xd0\\\\xb5'\": 35008,\n",
       " b\"b'\\\\xd0\\\\xb4\\\\xd0\\\\xbe\\\\xd0\\\\xb1\\\\xd1\\\\x80\\\\xd0\\\\xb5\\\\xd0\\\\xbd\\\\xd1\\\\x8c\\\\xd0\\\\xba\\\\xd0\\\\xb8\\\\xd0\\\\xb9'\": 69843,\n",
       " b\"b'\\\\xd0\\\\xb0\\\\xd1\\\\x88\\\\xd0\\\\xbe\\\\xd1\\\\x82\\\\xd0\\\\xbe\\\\xd0\\\\xb2\\\\xd0\\\\xb8\\\\xd1\\\\x87'\": 123310,\n",
       " b\"b'\\\\xd1\\\\x82\\\\xd1\\\\x86\\\\xd1\\\\x83'\": 65690,\n",
       " b\"b'\\\\xd0\\\\xbf\\\\xd0\\\\xbe\\\\xd0\\\\xb4\\\\xd1\\\\x82\\\\xd1\\\\x80\\\\xd0\\\\xb8\\\\xd0\\\\xb1\\\\xd1\\\\x83\\\\xd0\\\\xbd\\\\xd0\\\\xbd\\\\xd1\\\\x8b\\\\xd0\\\\xb9'\": 106749,\n",
       " b\"b'\\\\xd0\\\\xbd\\\\xd0\\\\xbe\\\\xd0\\\\xb9\\\\xd1\\\\x88\\\\xd1\\\\x82\\\\xd0\\\\xb5\\\\xd0\\\\xb4\\\\xd1\\\\x82\\\\xd0\\\\xb5\\\\xd1\\\\x80'\": 132805,\n",
       " b\"b'\\\\xd0\\\\xbc\\\\xd0\\\\xb8\\\\xd1\\\\x82\\\\xd1\\\\x8f\\\\xd0\\\\xb3\\\\xd0\\\\xb8\\\\xd0\\\\xbd'\": 165338,\n",
       " b\"b'\\\\xd0\\\\xbc\\\\xd0\\\\xb0\\\\xd0\\\\xb4\\\\xd0\\\\xb6\\\\xd0\\\\xbe\\\\xd0\\\\xbd\\\\xd0\\\\xb3'\": 48314,\n",
       " b\"b'\\\\xd0\\\\xba\\\\xd1\\\\x80\\\\xd1\\\\x82\\\\xd0\\\\xb8'\": 125841,\n",
       " b\"b'\\\\xd1\\\\x8d\\\\xd0\\\\xbd\\\\xd1\\\\x82\\\\xd0\\\\xbe\\\\xd0\\\\xbc\\\\xd0\\\\xbe\\\\xd1\\\\x84\\\\xd0\\\\xb8\\\\xd0\\\\xbb\\\\xd1\\\\x8c\\\\xd0\\\\xbd\\\\xd1\\\\x8b\\\\xd0\\\\xb9'\": 190920,\n",
       " b\"b'\\\\xd0\\\\xb4\\\\xd0\\\\xb5\\\\xd0\\\\xbd\\\\xd0\\\\xbd\\\\xd1\\\\x8b\\\\xd0\\\\xb9'\": 146526,\n",
       " b\"b'luxura'\": 185229,\n",
       " b\"b'\\\\xd0\\\\xba\\\\xd1\\\\x83\\\\xd0\\\\xbc\\\\xd0\\\\xbe'\": 127681,\n",
       " b\"b'\\\\xd0\\\\xb9\\\\xd0\\\\xb5\\\\xd1\\\\x80\\\\xd0\\\\xba\\\\xd1\\\\x81'\": 192071,\n",
       " b\"b'\\\\xd0\\\\xb4\\\\xd0\\\\xb0\\\\xd0\\\\xbd\\\\xd0\\\\xb4\\\\xd0\\\\xb8'\": 83584,\n",
       " b\"b'\\\\xd0\\\\xbc\\\\xd0\\\\xb8\\\\xd1\\\\x81\\\\xd1\\\\x81\\\\xd0\\\\xb8\\\\xd1\\\\x81\\\\xd0\\\\xb8\\\\xd0\\\\xbf\\\\xd1\\\\x81\\\\xd0\\\\xba\\\\xd0\\\\xb8\\\\xd0\\\\xb9'\": 193052,\n",
       " b\"b'\\\\xd0\\\\xba\\\\xd0\\\\xbe\\\\xd0\\\\xbf\\\\xd1\\\\x8c\\\\xd1\\\\x8e\\\\xd1\\\\x82\\\\xd0\\\\xb5\\\\xd1\\\\x80'\": 139147,\n",
       " b\"b'\\\\xd0\\\\xbd\\\\xd0\\\\xb5\\\\xd1\\\\x81\\\\xd1\\\\x82\\\\xd1\\\\x80\\\\xd0\\\\xb0\\\\xd1\\\\x88\\\\xd0\\\\xbd\\\\xd0\\\\xbe'\": 94827,\n",
       " b\"b'\\\\xd0\\\\xb2\\\\xd0\\\\xb8\\\\xd0\\\\xb1\\\\xd1\\\\x80\\\\xd0\\\\xb0\\\\xd1\\\\x82\\\\xd0\\\\xbe'\": 92748,\n",
       " b\"b'\\\\xd0\\\\xba\\\\xd1\\\\x83\\\\xd1\\\\x87\\\\xd0\\\\xb5\\\\xd1\\\\x80\\\\xd1\\\\x8f\\\\xd0\\\\xb2\\\\xd1\\\\x8b\\\\xd1\\\\x85'\": 186402,\n",
       " b\"b'\\\\xd0\\\\xbe\\\\xd0\\\\xb1\\\\xd0\\\\xbe\\\\xd1\\\\x80\\\\xd0\\\\xbe\\\\xd0\\\\xbd\\\\xd1\\\\x8f\\\\xd1\\\\x82\\\\xd1\\\\x8c\\\\xd1\\\\x81\\\\xd1\\\\x8f'\": 20813,\n",
       " b\"b'\\\\xd1\\\\x81\\\\xd1\\\\x8b\\\\xd1\\\\x80\\\\xd0\\\\xbe\\\\xd0\\\\xb5\\\\xd0\\\\xb4\\\\xd0\\\\xb8\\\\xd1\\\\x82\\\\xd1\\\\x8c'\": 186594,\n",
       " b\"b'\\\\xd0\\\\xbc\\\\xd0\\\\xbe\\\\xd0\\\\xb1\\\\xd0\\\\xb8\\\\xd0\\\\xba'\": 178498,\n",
       " b\"b'\\\\xd0\\\\xb4\\\\xd0\\\\xb0\\\\xd1\\\\x88\\\\xd0\\\\xba\\\\xd0\\\\xb0'\": 66098,\n",
       " b\"b'\\\\xd1\\\\x84\\\\xd0\\\\xbb\\\\xd0\\\\xb5\\\\xd0\\\\xba\\\\xd1\\\\x81\\\\xd0\\\\xb8\\\\xd1\\\\x82\\\\xd0\\\\xb0\\\\xd0\\\\xbd\\\\xd0\\\\xba'\": 190592,\n",
       " b\"b'\\\\xd0\\\\xbd\\\\xd0\\\\xb5\\\\xd1\\\\x83\\\\xd1\\\\x81\\\\xd1\\\\x82\\\\xd0\\\\xb0\\\\xd0\\\\xbd\\\\xd0\\\\xbd\\\\xd0\\\\xbe'\": 18734,\n",
       " b\"b'\\\\xd0\\\\xbf\\\\xd0\\\\xb0\\\\xd0\\\\xb2\\\\xd0\\\\xbb\\\\xd0\\\\xbe\\\\xd0\\\\xb2\\\\xd0\\\\xb8\\\\xd1\\\\x87'\": 7731,\n",
       " b\"b'\\\\xd1\\\\x85\\\\xd1\\\\x83\\\\xd0\\\\xb4\\\\xd0\\\\xbe\\\\xd1\\\\x89\\\\xd0\\\\xb0\\\\xd0\\\\xb2\\\\xd1\\\\x8b\\\\xd0\\\\xb9'\": 24859,\n",
       " b\"b'\\\\xd0\\\\xbf\\\\xd1\\\\x80\\\\xd0\\\\xbe\\\\xd1\\\\x82\\\\xd0\\\\xb8\\\\xd0\\\\xb2\\\\xd0\\\\xbd\\\\xd0\\\\xbe'\": 15512,\n",
       " b\"b'\\\\xd1\\\\x82\\\\xd0\\\\xb0\\\\xd0\\\\xbc\\\\xd0\\\\xbc'\": 74188,\n",
       " b\"b'mapinfo'\": 83427,\n",
       " b\"b'\\\\xd1\\\\x82\\\\xd0\\\\xb0\\\\xd0\\\\xba\\\\xd1\\\\x81\\\\xd0\\\\xbe\\\\xd0\\\\xbc\\\\xd0\\\\xbe\\\\xd1\\\\x82\\\\xd0\\\\xbe\\\\xd1\\\\x80'\": 79169,\n",
       " b\"b'\\\\xd0\\\\xbd\\\\xd0\\\\xb5\\\\xd0\\\\xb1\\\\xd0\\\\xb5\\\\xd0\\\\xb7\\\\xd1\\\\x80\\\\xd0\\\\xb0\\\\xd0\\\\xb7\\\\xd0\\\\xbb\\\\xd0\\\\xb8\\\\xd1\\\\x87\\\\xd0\\\\xbd\\\\xd1\\\\x8b\\\\xd0\\\\xb9'\": 22200,\n",
       " b\"b'\\\\xd1\\\\x82\\\\xd1\\\\x80\\\\xd0\\\\xb0\\\\xd0\\\\xb3\\\\xd0\\\\xb8\\\\xd1\\\\x87\\\\xd0\\\\xbd\\\\xd1\\\\x8b\\\\xd0\\\\xb9'\": 22657,\n",
       " b\"b'\\\\xd0\\\\xba\\\\xd0\\\\xb0\\\\xd0\\\\xbb\\\\xd0\\\\xbb\\\\xd0\\\\xb0\\\\xd1\\\\x81'\": 80784,\n",
       " b\"b'graphiteleader'\": 194251,\n",
       " b\"b'stumbleupon'\": 160656,\n",
       " b\"b'\\\\xd1\\\\x80\\\\xd0\\\\xbe\\\\xd0\\\\xb7\\\\xd0\\\\xbb\\\\xd0\\\\xb8\\\\xd0\\\\xb2'\": 19687,\n",
       " b\"b'\\\\xd0\\\\xbe\\\\xd0\\\\xbb\\\\xd0\\\\xb8\\\\xd0\\\\xb2\\\\xd0\\\\xb5\\\\xd1\\\\x80'\": 20540,\n",
       " b\"b'\\\\xd0\\\\xbc\\\\xd0\\\\xb8\\\\xd0\\\\xba\\\\xd1\\\\x80\\\\xd0\\\\xbe\\\\xd1\\\\x82\\\\xd1\\\\x80\\\\xd0\\\\xb0\\\\xd0\\\\xb2\\\\xd0\\\\xbc\\\\xd0\\\\xb0\\\\xd1\\\\x82\\\\xd0\\\\xb8\\\\xd0\\\\xb7\\\\xd0\\\\xb0\\\\xd1\\\\x86\\\\xd0\\\\xb8\\\\xd1\\\\x8f'\": 179694,\n",
       " b\"b'gram'\": 130232,\n",
       " b\"b'\\\\xd0\\\\xb8\\\\xd1\\\\x82\\\\xd0\\\\xbb\\\\xd0\\\\xb0'\": 61667,\n",
       " b\"b'\\\\xd0\\\\xbd\\\\xd0\\\\xb0\\\\xd0\\\\xbf\\\\xd0\\\\xbe'\": 116931,\n",
       " b\"b'\\\\xd0\\\\xbb\\\\xd0\\\\xb0\\\\xd0\\\\xbd\\\\xd0\\\\xbe\\\\xd1\\\\x81'\": 48303,\n",
       " b\"b'vida'\": 72010,\n",
       " b\"b'\\\\xd0\\\\xbf\\\\xd0\\\\xbe\\\\xd0\\\\xb4\\\\xd0\\\\xbf\\\\xd1\\\\x83\\\\xd0\\\\xbd\\\\xd0\\\\xba\\\\xd1\\\\x82'\": 12773,\n",
       " b\"b'\\\\xd0\\\\xb3\\\\xd0\\\\xb5\\\\xd1\\\\x80\\\\xd0\\\\xbc\\\\xd0\\\\xbe\\\\xd0\\\\xb7\\\\xd0\\\\xbe\\\\xd0\\\\xbd\\\\xd0\\\\xb0'\": 167352,\n",
       " b\"b'\\\\xd0\\\\xb1\\\\xd0\\\\xb0\\\\xd0\\\\xbc\\\\xd0\\\\xb8\\\\xd0\\\\xb5'\": 180804,\n",
       " b\"b'\\\\xd1\\\\x84\\\\xd0\\\\xbe\\\\xd1\\\\x80\\\\xd0\\\\xbc\\\\xd0\\\\xb0\\\\xd0\\\\xbb\\\\xd0\\\\xb8\\\\xd0\\\\xb7\\\\xd0\\\\xbe\\\\xd0\\\\xb2\\\\xd0\\\\xb0\\\\xd0\\\\xbd\\\\xd0\\\\xbd\\\\xd1\\\\x8b\\\\xd0\\\\xb9'\": 37121,\n",
       " b\"b'\\\\xd1\\\\x80\\\\xd0\\\\xb5\\\\xd1\\\\x82\\\\xd0\\\\xb8\\\\xd0\\\\xbd\\\\xd0\\\\xb0'\": 83297,\n",
       " b\"b'\\\\xd1\\\\x81\\\\xd0\\\\xb2\\\\xd0\\\\xb8\\\\xd0\\\\xb4\\\\xd0\\\\xb5\\\\xd1\\\\x82\\\\xd0\\\\xb5\\\\xd0\\\\xbb\\\\xd1\\\\x8c\\\\xd0\\\\xbd\\\\xd0\\\\xb8\\\\xd1\\\\x86\\\\xd0\\\\xb0'\": 27411,\n",
       " b\"b'\\\\xd0\\\\xba\\\\xd0\\\\xbe\\\\xd0\\\\xbd\\\\xd0\\\\xbd\\\\xd0\\\\xb8\\\\xd0\\\\xba'\": 43461,\n",
       " b\"b'\\\\xd0\\\\xbe\\\\xd1\\\\x80\\\\xd0\\\\xb0\\\\xd0\\\\xbd\\\\xd1\\\\x81\\\\xd0\\\\xba\\\\xd0\\\\xb8\\\\xd0\\\\xb9'\": 58415,\n",
       " b\"b'\\\\xd1\\\\x87\\\\xd0\\\\xb0\\\\xd1\\\\x88\\\\xd0\\\\xb5\\\\xd0\\\\xbe\\\\xd0\\\\xb1\\\\xd1\\\\x80\\\\xd0\\\\xb0\\\\xd0\\\\xb7\\\\xd0\\\\xbd\\\\xd1\\\\x8b\\\\xd0\\\\xb9'\": 85572,\n",
       " b\"b'\\\\xd0\\\\xb4\\\\xd1\\\\x83\\\\xd1\\\\x81\\\\xd0\\\\xbb\\\\xd1\\\\x8b\\\\xd0\\\\xba'\": 129692,\n",
       " b\"b'\\\\xd0\\\\xbc\\\\xd0\\\\xbe\\\\xd1\\\\x80\\\\xd0\\\\xb4\\\\xd0\\\\xb0\\\\xd1\\\\x88\\\\xd0\\\\xbe\\\\xd0\\\\xb2'\": 70874,\n",
       " b\"b'\\\\xd1\\\\x84\\\\xd0\\\\xb5\\\\xd1\\\\x85\\\\xd1\\\\x82\\\\xd0\\\\xbe\\\\xd0\\\\xb2\\\\xd0\\\\xb0\\\\xd0\\\\xbb\\\\xd1\\\\x8c\\\\xd0\\\\xbd\\\\xd1\\\\x8b\\\\xd0\\\\xb9'\": 66518,\n",
       " b\"b'\\\\xd0\\\\xb3\\\\xd0\\\\xb8\\\\xd0\\\\xb4\\\\xd1\\\\x80\\\\xd0\\\\xb0\\\\xd1\\\\x82\\\\xd0\\\\xb8\\\\xd1\\\\x80\\\\xd0\\\\xbe\\\\xd0\\\\xb2\\\\xd0\\\\xb0\\\\xd1\\\\x82\\\\xd1\\\\x8c'\": 106625,\n",
       " b\"b'\\\\xd1\\\\x81\\\\xd0\\\\xba\\\\xd0\\\\xb0\\\\xd0\\\\xbb\\\\xd0\\\\xb8\\\\xd0\\\\xb3\\\\xd0\\\\xb5\\\\xd1\\\\x80'\": 94896,\n",
       " b\"b'\\\\xd1\\\\x80\\\\xd0\\\\xbe\\\\xd1\\\\x81\\\\xd0\\\\xb2\\\\xd0\\\\xb0'\": 190110,\n",
       " b\"b'octa'\": 93421,\n",
       " b\"b'\\\\xd0\\\\xbf\\\\xd1\\\\x80\\\\xd1\\\\x83\\\\xd1\\\\x81'\": 80807,\n",
       " b\"b'base'\": 21379,\n",
       " b\"b'\\\\xd0\\\\xb1\\\\xd0\\\\xb5\\\\xd0\\\\xbb\\\\xd1\\\\x8c\\\\xd0\\\\xba\\\\xd0\\\\xbe\\\\xd0\\\\xb2\\\\xd0\\\\xb8\\\\xd1\\\\x87'\": 170606,\n",
       " b\"b'\\\\xd0\\\\xbc\\\\xd1\\\\x83\\\\xd1\\\\x80\\\\xd0\\\\xb0\\\\xd1\\\\x82\\\\xd0\\\\xbe\\\\xd0\\\\xb2\\\\xd0\\\\xbd\\\\xd0\\\\xb0'\": 186833,\n",
       " b\"b'\\\\xd0\\\\xb4\\\\xd0\\\\xb5\\\\xd0\\\\xb2\\\\xd1\\\\x87\\\\xd1\\\\x83\\\\xd1\\\\x88\\\\xd0\\\\xba\\\\xd0\\\\xb0'\": 27359,\n",
       " b\"b'\\\\xd0\\\\xb0\\\\xd0\\\\xbd\\\\xd0\\\\xb5\\\\xd1\\\\x81\\\\xd1\\\\x82\\\\xd0\\\\xb5\\\\xd1\\\\x82\\\\xd0\\\\xb8\\\\xd0\\\\xba'\": 28326,\n",
       " b\"b'\\\\xd1\\\\x81\\\\xd0\\\\xbe\\\\xd1\\\\x8e\\\\xd0\\\\xb7\\\\xd0\\\\xba\\\\xd0\\\\xb0'\": 137267,\n",
       " b\"b'\\\\xd1\\\\x82\\\\xd0\\\\xb0\\\\xd0\\\\xbd\\\\xd1\\\\x86\\\\xd1\\\\x83\\\\xd0\\\\xbb\\\\xd1\\\\x8c\\\\xd0\\\\xba\\\\xd0\\\\xb0'\": 116987,\n",
       " b\"b'\\\\xd0\\\\xbc\\\\xd0\\\\xb8\\\\xd1\\\\x88\\\\xd0\\\\xb8\\\\xd0\\\\xbd'\": 39820,\n",
       " b\"b'starboard'\": 191519,\n",
       " b\"b'\\\\xd0\\\\xbd\\\\xd0\\\\xb0\\\\xd1\\\\x80\\\\xd0\\\\xbe\\\\xd1\\\\x87\\\\xd0\\\\xb8\\\\xd1\\\\x82\\\\xd0\\\\xbe'\": 26002,\n",
       " b\"b'\\\\xd1\\\\x80\\\\xd1\\\\x83\\\\xd0\\\\xbb\\\\xd1\\\\x8c\\\\xd0\\\\xbd\\\\xd1\\\\x8b\\\\xd0\\\\xb9'\": 161957,\n",
       " b\"b'\\\\xd1\\\\x8d\\\\xd0\\\\xbf\\\\xd1\\\\x8e\\\\xd1\\\\x80\\\\xd0\\\\xb0'\": 85955,\n",
       " b\"b'\\\\xd0\\\\xb7\\\\xd1\\\\x83\\\\xd0\\\\xb1\\\\xd0\\\\xb8\\\\xd0\\\\xbd'\": 164783,\n",
       " b\"b'\\\\xd0\\\\xba\\\\xd1\\\\x83\\\\xd0\\\\xbb\\\\xd1\\\\x83\\\\xd0\\\\xb0\\\\xd1\\\\x80\\\\xd0\\\\xbd\\\\xd1\\\\x8b\\\\xd0\\\\xb9'\": 55638,\n",
       " b\"b'\\\\xd0\\\\xb8\\\\xd0\\\\xbd\\\\xd0\\\\xba\\\\xd0\\\\xbe\\\\xd1\\\\x80\\\\xd0\\\\xbf\\\\xd0\\\\xbe\\\\xd1\\\\x80\\\\xd0\\\\xb5\\\\xd0\\\\xb9\\\\xd1\\\\x82\\\\xd0\\\\xb5\\\\xd0\\\\xb4'\": 129499,\n",
       " b\"b'\\\\xd0\\\\xbe\\\\xd0\\\\xb1\\\\xd0\\\\xb5\\\\xd1\\\\x82\\\\xd0\\\\xbe\\\\xd0\\\\xb2\\\\xd0\\\\xb0\\\\xd1\\\\x82\\\\xd1\\\\x8c'\": 150605,\n",
       " b\"b'\\\\xd0\\\\xbf\\\\xd0\\\\xb0\\\\xd1\\\\x81\\\\xd1\\\\x82\\\\xd0\\\\xb8'\": 25926,\n",
       " b\"b'\\\\xd0\\\\xb4\\\\xd0\\\\xb8\\\\xd0\\\\xb0\\\\xd1\\\\x80\\\\xd0\\\\xb0\\\\xd0\\\\xbc'\": 186428,\n",
       " b\"b'\\\\xd0\\\\xbe\\\\xd1\\\\x80\\\\xd1\\\\x83\\\\xd0\\\\xb6\\\\xd0\\\\xb5\\\\xd0\\\\xbd\\\\xd0\\\\xbe\\\\xd1\\\\x81\\\\xd0\\\\xb5\\\\xd1\\\\x86'\": 33418,\n",
       " b\"b'\\\\xd1\\\\x81\\\\xd0\\\\xba\\\\xd0\\\\xb0\\\\xd0\\\\xbd\\\\xd0\\\\xb8\\\\xd1\\\\x80\\\\xd0\\\\xbe\\\\xd0\\\\xb2\\\\xd0\\\\xb0\\\\xd1\\\\x82\\\\xd1\\\\x8c\\\\xd1\\\\x81\\\\xd1\\\\x8f'\": 58277,\n",
       " b\"b'bork'\": 59701,\n",
       " b\"b'\\\\xd0\\\\xbf\\\\xd0\\\\xbe\\\\xd1\\\\x82\\\\xd0\\\\xb5\\\\xd1\\\\x88\\\\xd0\\\\xb0\\\\xd1\\\\x82\\\\xd1\\\\x8c\\\\xd1\\\\x81\\\\xd1\\\\x8f'\": 46883,\n",
       " b\"b'\\\\xd1\\\\x81\\\\xd0\\\\xb2\\\\xd0\\\\xb8\\\\xd0\\\\xb4\\\\xd0\\\\xb5\\\\xd1\\\\x82\\\\xd0\\\\xb5\\\\xd0\\\\xbb\\\\xd1\\\\x8c\\\\xd1\\\\x81\\\\xd1\\\\x82\\\\xd0\\\\xb2\\\\xd0\\\\xbe'\": 2080,\n",
       " b\"b'smk'\": 183094,\n",
       " b\"b'\\\\xd0\\\\xbc\\\\xd0\\\\xb0\\\\xd0\\\\xb0\\\\xd1\\\\x81\\\\xd1\\\\x82\\\\xd1\\\\x80\\\\xd0\\\\xb8\\\\xd1\\\\x85\\\\xd1\\\\x82\\\\xd1\\\\x81\\\\xd0\\\\xba\\\\xd0\\\\xb8\\\\xd0\\\\xb9'\": 80704,\n",
       " b\"b'\\\\xd0\\\\xb4\\\\xd0\\\\xb5\\\\xd1\\\\x84\\\\xd0\\\\xb5\\\\xd0\\\\xba\\\\xd1\\\\x82\\\\xd0\\\\xbe\\\\xd0\\\\xbb\\\\xd0\\\\xbe\\\\xd0\\\\xb3\\\\xd0\\\\xb8\\\\xd1\\\\x87\\\\xd0\\\\xb5\\\\xd1\\\\x81\\\\xd0\\\\xba\\\\xd0\\\\xb8\\\\xd0\\\\xb9'\": 73850,\n",
       " b\"b'\\\\xd0\\\\xbc\\\\xd0\\\\xb5\\\\xd1\\\\x82\\\\xd0\\\\xb8\\\\xd1\\\\x81\\\\xd0\\\\xba\\\\xd0\\\\xb0'\": 174631,\n",
       " b\"b'\\\\xd1\\\\x8d\\\\xd0\\\\xbb\\\\xd0\\\\xba\\\\xd0\\\\xbe'\": 171166,\n",
       " b\"b'\\\\xd0\\\\xb8\\\\xd0\\\\xb6\\\\xd0\\\\xbd\\\\xd0\\\\xb8\\\\xd0\\\\xb9'\": 90887,\n",
       " b\"b'\\\\xd0\\\\xba\\\\xd1\\\\x83\\\\xd1\\\\x80\\\\xd0\\\\xb3\\\\xd0\\\\xb0\\\\xd0\\\\xbd\\\\xd1\\\\x81\\\\xd0\\\\xba\\\\xd0\\\\xb8\\\\xd0\\\\xb9'\": 10959,\n",
       " b\"b'\\\\xd1\\\\x80\\\\xd0\\\\xbe\\\\xd1\\\\x81\\\\xd0\\\\xbe\\\\xd1\\\\x85\\\\xd0\\\\xbe\\\\xd1\\\\x82\\\\xd1\\\\x80\\\\xd1\\\\x8b\\\\xd0\\\\xb1\\\\xd0\\\\xbe\\\\xd0\\\\xbb\\\\xd0\\\\xbe\\\\xd0\\\\xb2\\\\xd1\\\\x81\\\\xd0\\\\xbe\\\\xd1\\\\x8e\\\\xd0\\\\xb7'\": 108674,\n",
       " b\"b'\\\\xd1\\\\x82\\\\xd0\\\\xb5\\\\xd0\\\\xb2\\\\xd1\\\\x82\\\\xd0\\\\xbe\\\\xd0\\\\xbd\\\\xd1\\\\x86\\\\xd0\\\\xb5\\\\xd0\\\\xb2'\": 172136,\n",
       " b\"b'\\\\xd0\\\\xb1\\\\xd0\\\\xb5\\\\xd1\\\\x82\\\\xd0\\\\xbe\\\\xd0\\\\xbd\\\\xd0\\\\xb8\\\\xd1\\\\x80\\\\xd0\\\\xbe\\\\xd0\\\\xb2\\\\xd0\\\\xb0\\\\xd0\\\\xbd\\\\xd0\\\\xbd\\\\xd1\\\\x8b\\\\xd0\\\\xb9'\": 84945,\n",
       " b\"b'\\\\xd0\\\\xbb\\\\xd0\\\\xbe\\\\xd0\\\\xb1\\\\xd1\\\\x83\\\\xd1\\\\x81'\": 79247,\n",
       " b\"b'orchestra'\": 55390,\n",
       " b\"b'\\\\xd0\\\\xbb\\\\xd0\\\\xb8\\\\xd0\\\\xbd\\\\xd0\\\\xb5\\\\xd0\\\\xb5\\\\xd1\\\\x87\\\\xd0\\\\xba\\\\xd0\\\\xb0'\": 59169,\n",
       " b\"b'\\\\xd0\\\\xb3\\\\xd0\\\\xbb\\\\xd0\\\\xb0\\\\xd0\\\\xb2\\\\xd0\\\\xbd\\\\xd1\\\\x8b\\\\xd0\\\\xb9'\": 98,\n",
       " b\"b'\\\\xd0\\\\xbf\\\\xd0\\\\xbe\\\\xd0\\\\xbb\\\\xd1\\\\x82\\\\xd0\\\\xb8\\\\xd0\\\\xbd\\\\xd0\\\\xb0'\": 77959,\n",
       " b\"b'\\\\xd0\\\\xba\\\\xd0\\\\xbe\\\\xd0\\\\xbb\\\\xd0\\\\xb5\\\\xd1\\\\x82\\\\xd1\\\\x82'\": 124714,\n",
       " b\"b'\\\\xd0\\\\xbf\\\\xd0\\\\xbb\\\\xd0\\\\xb5\\\\xd0\\\\xb2\\\\xd0\\\\xb0\\\\xd0\\\\xbd\\\\xd0\\\\xb8\\\\xd0\\\\xb5'\": 184875,\n",
       " b\"b'\\\\xd0\\\\xb0\\\\xd1\\\\x81\\\\xd1\\\\x82\\\\xd1\\\\x80\\\\xd0\\\\xb8\\\\xd0\\\\xbb\\\\xd1\\\\x8c\\\\xd0\\\\xb4'\": 177233,\n",
       " b\"b'sticky'\": 105029,\n",
       " b\"b'\\\\xd0\\\\xb5\\\\xd0\\\\xb4\\\\xd0\\\\xbe\\\\xd0\\\\xbc\\\\xd0\\\\xbe'\": 116431,\n",
       " b\"b'\\\\xd0\\\\xb3\\\\xd0\\\\xb8\\\\xd0\\\\xbf\\\\xd0\\\\xbe\\\\xd1\\\\x81\\\\xd0\\\\xbf\\\\xd0\\\\xb0\\\\xd0\\\\xb4\\\\xd0\\\\xb8\\\\xd1\\\\x8f'\": 67223,\n",
       " b\"b'\\\\xd0\\\\xba\\\\xd0\\\\xbb\\\\xd0\\\\xb0\\\\xd0\\\\xb2\\\\xd0\\\\xbb\\\\xd0\\\\xb8\\\\xd0\\\\xb2\\\\xd0\\\\xb0\\\\xd1\\\\x82\\\\xd1\\\\x8c'\": 180515,\n",
       " b\"b'\\\\xd0\\\\xb0\\\\xd0\\\\xbd\\\\xd1\\\\x82\\\\xd0\\\\xb8\\\\xd1\\\\x80\\\\xd0\\\\xb0\\\\xd0\\\\xb4\\\\xd0\\\\xb0\\\\xd1\\\\x80'\": 38844,\n",
       " b\"b'\\\\xd1\\\\x8d\\\\xd0\\\\xbb\\\\xd0\\\\xb0\\\\xd1\\\\x80'\": 59396,\n",
       " b\"b'\\\\xd1\\\\x81\\\\xd0\\\\xb5\\\\xd0\\\\xb3\\\\xd0\\\\xbe\\\\xd0\\\\xb4\\\\xd0\\\\xbd\\\\xd1\\\\x8f'\": 102,\n",
       " b\"b'\\\\xd0\\\\xb3\\\\xd0\\\\xbb\\\\xd1\\\\x83\\\\xd1\\\\x85\\\\xd0\\\\xbe\\\\xd0\\\\xb2\\\\xd0\\\\xbe'\": 155878,\n",
       " b\"b'\\\\xd0\\\\xba\\\\xd1\\\\x83\\\\xd1\\\\x81\\\\xd0\\\\xbf\\\\xd0\\\\xb8\\\\xd0\\\\xb4'\": 70835,\n",
       " b\"b'\\\\xd0\\\\xb3\\\\xd0\\\\xb0\\\\xd0\\\\xbb\\\\xd0\\\\xb0\\\\xd0\\\\xbd\\\\xd1\\\\x82\\\\xd0\\\\xb5\\\\xd1\\\\x80\\\\xd0\\\\xb5\\\\xd0\\\\xb9\\\\xd1\\\\x89\\\\xd0\\\\xb8\\\\xd0\\\\xba'\": 165467,\n",
       " b\"b'\\\\xd0\\\\xbf\\\\xd1\\\\x84\\\\xd0\\\\xbc'\": 161916,\n",
       " b\"b'\\\\xd0\\\\xb3\\\\xd1\\\\x83\\\\xd0\\\\xbd\\\\xd0\\\\xbd\\\\xd1\\\\x81\\\\xd0\\\\xba\\\\xd0\\\\xb8\\\\xd0\\\\xb9'\": 67890,\n",
       " b\"b'\\\\xd0\\\\xb3\\\\xd0\\\\xb5\\\\xd0\\\\xb9\\\\xd0\\\\xbc\\\\xd0\\\\xb5\\\\xd1\\\\x80'\": 12641,\n",
       " b\"b'\\\\xd0\\\\xbb\\\\xd0\\\\xb8\\\\xd1\\\\x8f'\": 23867,\n",
       " b\"b'\\\\xd0\\\\xb0\\\\xd0\\\\xbf\\\\xd0\\\\xbb\\\\xd0\\\\xb8\\\\xd0\\\\xba\\\\xd0\\\\xb0\\\\xd1\\\\x86\\\\xd0\\\\xb8\\\\xd1\\\\x8f'\": 109231,\n",
       " b\"b'\\\\xd1\\\\x80\\\\xd0\\\\xb0\\\\xd0\\\\xb7\\\\xd0\\\\xb1\\\\xd1\\\\x80\\\\xd0\\\\xbe\\\\xd1\\\\x81\\\\xd0\\\\xb0\\\\xd0\\\\xbd\\\\xd0\\\\xbd\\\\xd0\\\\xbe\\\\xd1\\\\x81\\\\xd1\\\\x82\\\\xd1\\\\x8c'\": 88296,\n",
       " b\"b'\\\\xd1\\\\x81\\\\xd0\\\\xb5\\\\xd1\\\\x80\\\\xd0\\\\xb5\\\\xd0\\\\xb7\\\\xd0\\\\xbd\\\\xd1\\\\x8b\\\\xd0\\\\xb9'\": 151644,\n",
       " b\"b'foton'\": 55340,\n",
       " b\"b'\\\\xd1\\\\x89\\\\xd0\\\\xb8\\\\xd0\\\\xb3\\\\xd0\\\\xbe\\\\xd0\\\\xbb\\\\xd0\\\\xb5\\\\xd0\\\\xb2'\": 178793,\n",
       " b\"b'\\\\xd1\\\\x84\\\\xd1\\\\x83\\\\xd0\\\\xb4\\\\xd0\\\\xbe\\\\xd0\\\\xbc'\": 78005,\n",
       " b\"b'\\\\xd0\\\\xbf\\\\xd0\\\\xbe\\\\xd0\\\\xb4\\\\xd0\\\\xba\\\\xd0\\\\xb0\\\\xd0\\\\xbf\\\\xd1\\\\x8b\\\\xd0\\\\xb2\\\\xd0\\\\xb0\\\\xd1\\\\x82\\\\xd1\\\\x8c'\": 86001,\n",
       " b\"b'\\\\xd0\\\\xb1\\\\xd0\\\\xb5\\\\xd0\\\\xb7\\\\xd0\\\\xb2\\\\xd0\\\\xb5\\\\xd1\\\\x81\\\\xd1\\\\x82\\\\xd1\\\\x8c'\": 118979,\n",
       " b\"b'\\\\xd0\\\\xb4\\\\xd1\\\\x82\\\\xd1\\\\x81'\": 79577,\n",
       " b\"b'\\\\xd0\\\\xbf\\\\xd0\\\\xbe\\\\xd0\\\\xbb\\\\xd0\\\\xb5\\\\xd0\\\\xbd\\\\xd0\\\\xbe\\\\xd0\\\\xb2'\": 34434,\n",
       " b\"b'\\\\xd0\\\\xba\\\\xd0\\\\xbe\\\\xd1\\\\x81\\\\xd1\\\\x82\\\\xd0\\\\xb8\\\\xd0\\\\xbd\\\\xd0\\\\xb0'\": 48932,\n",
       " b\"b'\\\\xd1\\\\x85\\\\xd0\\\\xb0\\\\xd0\\\\xb9\\\\xd0\\\\xbd\\\\xd0\\\\xb5\\\\xd0\\\\xba\\\\xd0\\\\xb5\\\\xd0\\\\xbd'\": 127260,\n",
       " b\"b'orc'\": 95153,\n",
       " b\"b'\\\\xd0\\\\xb2\\\\xd0\\\\xbe\\\\xd1\\\\x81\\\\xd1\\\\x82\\\\xd0\\\\xb0\\\\xd0\\\\xbd\\\\xd0\\\\xb0\\\\xd0\\\\xb2\\\\xd0\\\\xbb\\\\xd0\\\\xb8\\\\xd0\\\\xb2\\\\xd0\\\\xb0\\\\xd1\\\\x82\\\\xd1\\\\x8c'\": 46977,\n",
       " b\"b'\\\\xd0\\\\xba\\\\xd0\\\\xb0\\\\xd1\\\\x82\\\\xd1\\\\x8e\\\\xd1\\\\x88\\\\xd0\\\\xb0'\": 19565,\n",
       " b\"b'\\\\xd0\\\\xbd\\\\xd0\\\\xb0\\\\xd0\\\\xb4\\\\xd0\\\\xb5\\\\xd0\\\\xb6\\\\xd0\\\\xb4\\\\xd0\\\\xb8\\\\xd0\\\\xbd\\\\xd1\\\\x81\\\\xd0\\\\xba\\\\xd0\\\\xb8\\\\xd0\\\\xb9'\": 62223,\n",
       " b\"b'\\\\xd0\\\\xbb\\\\xd0\\\\xbe\\\\xd0\\\\xb1\\\\xd1\\\\x8b\\\\xd0\\\\xb7\\\\xd0\\\\xb0\\\\xd0\\\\xbd\\\\xd0\\\\xb8\\\\xd0\\\\xb5'\": 148393,\n",
       " b\"b'\\\\xd0\\\\xb8\\\\xd0\\\\xbd\\\\xd0\\\\xba\\\\xd0\\\\xbe\\\\xd0\\\\xb3\\\\xd0\\\\xbd\\\\xd0\\\\xb8\\\\xd1\\\\x82\\\\xd0\\\\xbe'\": 29951,\n",
       " b\"b'\\\\xd0\\\\xb2\\\\xd0\\\\xbe\\\\xd0\\\\xbf\\\\xd0\\\\xb8\\\\xd1\\\\x8e\\\\xd1\\\\x89\\\\xd0\\\\xb8\\\\xd0\\\\xb9'\": 17225,\n",
       " b\"b'\\\\xd1\\\\x88\\\\xd1\\\\x83\\\\xd0\\\\xbb\\\\xd1\\\\x8f\\\\xd0\\\\xba'\": 92102,\n",
       " b\"b'\\\\xd0\\\\xba\\\\xd0\\\\xbe\\\\xd1\\\\x80\\\\xd0\\\\xbe\\\\xd0\\\\xb2\\\\xd0\\\\xb8\\\\xd0\\\\xbd\\\\xd1\\\\x81\\\\xd0\\\\xba\\\\xd0\\\\xb8\\\\xd0\\\\xb9'\": 96908,\n",
       " b\"b'\\\\xd0\\\\xb2\\\\xd0\\\\xb0\\\\xd0\\\\xba\\\\xd1\\\\x83\\\\xd1\\\\x83\\\\xd0\\\\xbc\\\\xd0\\\\xb8\\\\xd1\\\\x80\\\\xd0\\\\xbe\\\\xd0\\\\xb2\\\\xd0\\\\xb0\\\\xd0\\\\xbd\\\\xd0\\\\xbd\\\\xd1\\\\x8b\\\\xd0\\\\xb9'\": 169493,\n",
       " b\"b'\\\\xd1\\\\x87\\\\xd0\\\\xb5\\\\xd1\\\\x80\\\\xd0\\\\xbd\\\\xd0\\\\xbe\\\\xd0\\\\xb3\\\\xd0\\\\xbe\\\\xd0\\\\xbb\\\\xd0\\\\xbe\\\\xd0\\\\xb2\\\\xd1\\\\x8b\\\\xd0\\\\xb9'\": 68417,\n",
       " b\"b'doubt'\": 125399,\n",
       " b\"b'\\\\xd0\\\\xba\\\\xd0\\\\xbe\\\\xd0\\\\xbd\\\\xd1\\\\x84\\\\xd0\\\\xb5\\\\xd1\\\\x81\\\\xd1\\\\x81\\\\xd0\\\\xb8\\\\xd0\\\\xbe\\\\xd0\\\\xbd\\\\xd0\\\\xb0\\\\xd0\\\\xbb\\\\xd1\\\\x8c\\\\xd0\\\\xbd\\\\xd1\\\\x8b\\\\xd0\\\\xb9'\": 24024,\n",
       " b\"b'\\\\xd0\\\\xb1\\\\xd0\\\\xbe\\\\xd0\\\\xb9\\\\xd0\\\\xb5\\\\xd1\\\\x80'\": 168444,\n",
       " b\"b'\\\\xd1\\\\x81\\\\xd1\\\\x82\\\\xd0\\\\xb8\\\\xd0\\\\xbb\\\\xd1\\\\x8c'\": 469,\n",
       " b\"b'\\\\xd0\\\\xbc\\\\xd0\\\\xb0\\\\xd1\\\\x80\\\\xd1\\\\x83\\\\xd1\\\\x88\\\\xd0\\\\xba\\\\xd0\\\\xb8\\\\xd0\\\\xbd\\\\xd1\\\\x81\\\\xd0\\\\xba\\\\xd0\\\\xb8\\\\xd0\\\\xb9'\": 157895,\n",
       " b\"b'\\\\xd1\\\\x82\\\\xd0\\\\xbe\\\\xd1\\\\x80\\\\xd1\\\\x83\\\\xd0\\\\xbd\\\\xd1\\\\x8c'\": 90049,\n",
       " b\"b'label'\": 34141,\n",
       " b\"b'\\\\xd0\\\\xb5\\\\xd0\\\\xb6\\\\xd0\\\\xb5\\\\xd0\\\\xb4\\\\xd0\\\\xbd\\\\xd0\\\\xb5\\\\xd0\\\\xb2\\\\xd0\\\\xbd\\\\xd1\\\\x8b\\\\xd0\\\\xb9'\": 3076,\n",
       " b\"b'\\\\xd0\\\\xb0\\\\xd0\\\\xbd\\\\xd0\\\\xb4\\\\xd1\\\\x80\\\\xd0\\\\xb5\\\\xd0\\\\xb9\\\\xd1\\\\x87\\\\xd0\\\\xb5\\\\xd0\\\\xbd\\\\xd0\\\\xba\\\\xd0\\\\xbe'\": 78159,\n",
       " b\"b'\\\\xd0\\\\xba\\\\xd0\\\\xb8\\\\xd0\\\\xbd\\\\xd0\\\\xbe\\\\xd0\\\\xbf\\\\xd1\\\\x80\\\\xd0\\\\xbe\\\\xd0\\\\xba\\\\xd0\\\\xb0\\\\xd1\\\\x82\\\\xd0\\\\xbd\\\\xd1\\\\x8b\\\\xd0\\\\xb9'\": 129178,\n",
       " b\"b'\\\\xd0\\\\xbd\\\\xd0\\\\xbe\\\\xd0\\\\xb2\\\\xd0\\\\xbe\\\\xd0\\\\xba\\\\xd1\\\\x83\\\\xd0\\\\xb9\\\\xd0\\\\xb1\\\\xd1\\\\x8b\\\\xd1\\\\x88\\\\xd0\\\\xb5\\\\xd0\\\\xb2\\\\xd1\\\\x81\\\\xd0\\\\xba\\\\xd0\\\\xb8\\\\xd0\\\\xb9'\": 76356,\n",
       " b\"b'\\\\xd0\\\\xbd\\\\xd0\\\\xb0\\\\xd0\\\\xb2\\\\xd1\\\\x80\\\\xd0\\\\xb5\\\\xd0\\\\xb4\\\\xd0\\\\xb8\\\\xd1\\\\x82\\\\xd1\\\\x8c'\": 8685,\n",
       " b\"b'\\\\xd0\\\\xbd\\\\xd0\\\\xb5\\\\xd1\\\\x81\\\\xd1\\\\x82\\\\xd0\\\\xb0\\\\xd0\\\\xbd\\\\xd0\\\\xb4\\\\xd0\\\\xb0\\\\xd1\\\\x80\\\\xd1\\\\x82\\\\xd0\\\\xbd\\\\xd0\\\\xbe'\": 31545,\n",
       " b\"b'\\\\xd0\\\\xb7\\\\xd1\\\\x80\\\\xd0\\\\xb0\\\\xd0\\\\xb7\\\\xd0\\\\xb0'\": 48526,\n",
       " b\"b'\\\\xd1\\\\x81\\\\xd0\\\\xba\\\\xd0\\\\xbe\\\\xd0\\\\xba\\\\xd0\\\\xbe\\\\xd0\\\\xb2'\": 87966,\n",
       " b\"b'\\\\xd1\\\\x81\\\\xd1\\\\x8c\\\\xd0\\\\xbe\\\\xd0\\\\xb3\\\\xd0\\\\xbe\\\\xd0\\\\xb4\\\\xd0\\\\xbd\\\\xd1\\\\x96'\": 96147,\n",
       " b\"b'luna'\": 48491,\n",
       " b\"b'\\\\xd0\\\\xbc\\\\xd0\\\\xb8\\\\xd0\\\\xba\\\\xd1\\\\x80\\\\xd0\\\\xbe\\\\xd0\\\\xba\\\\xd0\\\\xb0\\\\xd0\\\\xbf\\\\xd1\\\\x81\\\\xd1\\\\x83\\\\xd0\\\\xbb\\\\xd0\\\\xb0'\": 74802,\n",
       " b\"b'\\\\xd1\\\\x82\\\\xd0\\\\xb0\\\\xd1\\\\x80\\\\xd0\\\\xbc\\\\xd0\\\\xbe'\": 138157,\n",
       " b\"b'\\\\xd1\\\\x83\\\\xd0\\\\xb1\\\\xd1\\\\x8b\\\\xd1\\\\x81\\\\xd1\\\\x82\\\\xd1\\\\x80\\\\xd1\\\\x8f\\\\xd1\\\\x82\\\\xd1\\\\x8c'\": 61710,\n",
       " b\"b'\\\\xd1\\\\x84\\\\xd0\\\\xb0\\\\xd1\\\\x80\\\\xd0\\\\xbd\\\\xd0\\\\xb5\\\\xd0\\\\xb7\\\\xd0\\\\xb5'\": 110331,\n",
       " b\"b'\\\\xd0\\\\xbd\\\\xd0\\\\xb8\\\\xd1\\\\x87\\\\xd1\\\\x82\\\\xd0\\\\xbe\\\\xd0\\\\xb6\\\\xd0\\\\xbd\\\\xd1\\\\x8b\\\\xd0\\\\xb9'\": 10801,\n",
       " b\"b'\\\\xd1\\\\x81\\\\xd0\\\\xbe\\\\xd1\\\\x82\\\\xd0\\\\xbe\\\\xd0\\\\xbd'\": 121823,\n",
       " b\"b'\\\\xd0\\\\xbc\\\\xd0\\\\xb5\\\\xd0\\\\xb6\\\\xd1\\\\x87\\\\xd0\\\\xb5\\\\xd0\\\\xbb\\\\xd0\\\\xbe\\\\xd0\\\\xb2\\\\xd0\\\\xb5\\\\xd1\\\\x87\\\\xd0\\\\xb5\\\\xd1\\\\x81\\\\xd0\\\\xba\\\\xd0\\\\xb8\\\\xd0\\\\xb9'\": 97075,\n",
       " b\"b'\\\\xd1\\\\x81\\\\xd1\\\\x84\\\\xd1\\\\x80'\": 89879,\n",
       " b\"b'\\\\xd0\\\\xbb\\\\xd0\\\\xbe\\\\xd0\\\\xbd\\\\xd0\\\\xb3\\\\xd0\\\\xb0\\\\xd0\\\\xbd\\\\xd0\\\\xb8\\\\xd0\\\\xbd'\": 183370,\n",
       " b\"b'\\\\xd0\\\\xb7\\\\xd0\\\\xb0\\\\xd0\\\\xbc\\\\xd0\\\\xbe\\\\xd1\\\\x80\\\\xd0\\\\xbe\\\\xd0\\\\xb7\\\\xd0\\\\xbe\\\\xd0\\\\xba'\": 9183,\n",
       " b\"b'\\\\xd0\\\\xb0\\\\xd0\\\\xba\\\\xd1\\\\x87\\\\xd1\\\\x83\\\\xd1\\\\x80\\\\xd0\\\\xb8\\\\xd0\\\\xbd'\": 81123,\n",
       " b\"b'\\\\xd0\\\\xb7\\\\xd0\\\\xb2\\\\xd0\\\\xb5'\": 181564,\n",
       " b\"b'\\\\xd0\\\\xb4\\\\xd1\\\\x80\\\\xd0\\\\xb0\\\\xd0\\\\xb2\\\\xd0\\\\xb0'\": 104244,\n",
       " b\"b'\\\\xd0\\\\xbe\\\\xd0\\\\xb6\\\\xd0\\\\xb4\\\\xd0\\\\xb5\\\\xd1\\\\x81\\\\xd1\\\\x82\\\\xd0\\\\xb2\\\\xd0\\\\xb5\\\\xd0\\\\xbd\\\\xd1\\\\x81\\\\xd0\\\\xba\\\\xd0\\\\xb8\\\\xd0\\\\xb9'\": 85630,\n",
       " b\"b'\\\\xd0\\\\xbf\\\\xd0\\\\xbe\\\\xd0\\\\xb4\\\\xd0\\\\xb5\\\\xd0\\\\xbb\\\\xd0\\\\xb8\\\\xd0\\\\xb5'\": 131142,\n",
       " b\"b'\\\\xd0\\\\xbd\\\\xd0\\\\xb5\\\\xd0\\\\xbf\\\\xd1\\\\x80\\\\xd0\\\\xb8\\\\xd0\\\\xbd\\\\xd1\\\\x83\\\\xd0\\\\xb6\\\\xd0\\\\xb4\\\\xd0\\\\xb5\\\\xd0\\\\xbd\\\\xd0\\\\xbd\\\\xd0\\\\xbe\\\\xd1\\\\x81\\\\xd1\\\\x82\\\\xd1\\\\x8c'\": 38068,\n",
       " b\"b'\\\\xd0\\\\xbd\\\\xd0\\\\xb5\\\\xd0\\\\xba\\\\xd1\\\\x80\\\\xd0\\\\xbe\\\\xd1\\\\x82\\\\xd0\\\\xb8\\\\xd1\\\\x87\\\\xd0\\\\xb5\\\\xd1\\\\x81\\\\xd0\\\\xba\\\\xd0\\\\xb8\\\\xd0\\\\xb9'\": 37667,\n",
       " b\"b'\\\\xd1\\\\x82\\\\xd0\\\\xb5\\\\xd0\\\\xbb\\\\xd0\\\\xb5\\\\xd0\\\\xbc\\\\xd0\\\\xbe\\\\xd1\\\\x81\\\\xd1\\\\x82'\": 34544,\n",
       " b\"b'\\\\xd0\\\\xb8\\\\xd0\\\\xbc\\\\xd0\\\\xbf\\\\xd0\\\\xb5\\\\xd1\\\\x80\\\\xd0\\\\xb8\\\\xd1\\\\x83\\\\xd0\\\\xbc'\": 76216,\n",
       " b\"b'coachella'\": 179163,\n",
       " b\"b'\\\\xd0\\\\xba\\\\xd1\\\\x81\\\\xd1\\\\x83'\": 55560,\n",
       " b\"b'\\\\xd0\\\\xbb\\\\xd0\\\\xb8\\\\xd1\\\\x86\\\\xd0\\\\xb8\\\\xd0\\\\xbd\\\\xd0\\\\xb8\\\\xd1\\\\x8f'\": 111866,\n",
       " b\"b'\\\\xd0\\\\xbe\\\\xd1\\\\x82\\\\xd0\\\\xb5\\\\xd1\\\\x86'\": 609,\n",
       " b\"b'\\\\xd0\\\\xbb\\\\xd0\\\\xb8\\\\xd0\\\\xbf\\\\xd0\\\\xbe\\\\xd0\\\\xbf\\\\xd0\\\\xb5\\\\xd1\\\\x80\\\\xd0\\\\xbe\\\\xd0\\\\xba\\\\xd1\\\\x81\\\\xd0\\\\xb8\\\\xd0\\\\xb4\\\\xd0\\\\xb0\\\\xd1\\\\x86\\\\xd0\\\\xb8\\\\xd1\\\\x8f'\": 194370,\n",
       " b\"b'\\\\xd0\\\\xb1\\\\xd0\\\\xb0\\\\xd1\\\\x80\\\\xd1\\\\x80\\\\xd0\\\\xbe\\\\xd1\\\\x83'\": 94069,\n",
       " b\"b'\\\\xd0\\\\xb2\\\\xd1\\\\x81\\\\xd0\\\\xb5\\\\xd0\\\\xbc\\\\xd0\\\\xb5\\\\xd1\\\\x80\\\\xd0\\\\xbd\\\\xd0\\\\xbe'\": 37750,\n",
       " b\"b'\\\\xd0\\\\xb1\\\\xd0\\\\xb0\\\\xd1\\\\x8f\\\\xd1\\\\x82\\\\xd1\\\\x8c'\": 72155,\n",
       " b\"b'\\\\xd1\\\\x87\\\\xd0\\\\xbe\\\\xd1\\\\x80\\\\xd0\\\\xbd\\\\xd0\\\\xbe\\\\xd0\\\\xb2\\\\xd0\\\\xbb\\\\xd1\\\\x8f\\\\xd1\\\\x82\\\\xd1\\\\x8c'\": 94266,\n",
       " b\"b'\\\\xd0\\\\xb5\\\\xd0\\\\xbf\\\\xd0\\\\xb2'\": 146392,\n",
       " b\"b'records'\": 25482,\n",
       " b\"b'\\\\xd0\\\\xb1\\\\xd0\\\\xb0\\\\xd1\\\\x80\\\\xd0\\\\xb0\\\\xd1\\\\x88\\\\xd0\\\\xb5\\\\xd0\\\\xb2'\": 193262,\n",
       " b\"b'\\\\xd1\\\\x82\\\\xd0\\\\xb0\\\\xd0\\\\xb9\\\\xd1\\\\x81\\\\xd0\\\\xba\\\\xd0\\\\xb8\\\\xd0\\\\xb9'\": 7966,\n",
       " b\"b'sushi'\": 75313,\n",
       " b\"b'\\\\xd0\\\\xbe\\\\xd1\\\\x82\\\\xd0\\\\xba\\\\xd0\\\\xbe\\\\xd0\\\\xbf\\\\xd0\\\\xba\\\\xd0\\\\xb0'\": 192513,\n",
       " b\"b'\\\\xd0\\\\xb4\\\\xd0\\\\xb5\\\\xd1\\\\x80\\\\xd0\\\\xb3\\\\xd0\\\\xb0\\\\xd1\\\\x82\\\\xd1\\\\x8c'\": 15621,\n",
       " b\"b'\\\\xd0\\\\xb0\\\\xd0\\\\xb7\\\\xd0\\\\xb0\\\\xd1\\\\x82\\\\xd1\\\\x82\\\\xd1\\\\x8b\\\\xd0\\\\xba'\": 94502,\n",
       " b\"b'\\\\xd0\\\\xba\\\\xd0\\\\xbe\\\\xd1\\\\x81\\\\xd0\\\\xbc\\\\xd0\\\\xb5\\\\xd1\\\\x86\\\\xd0\\\\xb5\\\\xd0\\\\xb2\\\\xd1\\\\x82\\\\xd0\\\\xb8\\\\xd1\\\\x87\\\\xd0\\\\xb5\\\\xd1\\\\x81\\\\xd0\\\\xba\\\\xd0\\\\xb8\\\\xd0\\\\xb9'\": 82645,\n",
       " b\"b'\\\\xd0\\\\xbd\\\\xd0\\\\xb5\\\\xd0\\\\xb3\\\\xd1\\\\x80\\\\xd0\\\\xb0\\\\xd0\\\\xb6\\\\xd0\\\\xb4\\\\xd0\\\\xb0\\\\xd0\\\\xbd\\\\xd0\\\\xb8\\\\xd0\\\\xbd'\": 33776,\n",
       " b\"b'\\\\xd0\\\\xb4\\\\xd0\\\\xb0\\\\xd0\\\\xbd\\\\xd0\\\\xb8\\\\xd0\\\\xbb\\\\xd0\\\\xb0'\": 18135,\n",
       " b\"b'\\\\xd0\\\\xbc\\\\xd0\\\\xb8\\\\xd1\\\\x81\\\\xd1\\\\x82\\\\xd1\\\\x83\\\\xd1\\\\x80'\": 122287,\n",
       " b\"b'\\\\xd0\\\\xb0\\\\xd1\\\\x86\\\\xd0\\\\xb8\\\\xd0\\\\xb9'\": 148499,\n",
       " b\"b'\\\\xd0\\\\xbc\\\\xd0\\\\xb8\\\\xd1\\\\x85\\\\xd0\\\\xb0\\\\xd0\\\\xbb\\\\xd1\\\\x8c\\\\xd1\\\\x81\\\\xd0\\\\xba\\\\xd0\\\\xb8\\\\xd0\\\\xb9'\": 109197,\n",
       " b\"b'\\\\xd0\\\\xbb\\\\xd0\\\\xb8\\\\xd0\\\\xbd\\\\xd0\\\\xb5\\\\xd0\\\\xb0\\\\xd1\\\\x80\\\\xd0\\\\xb8\\\\xd0\\\\xb7\\\\xd0\\\\xbe\\\\xd0\\\\xb2\\\\xd0\\\\xb0\\\\xd1\\\\x82\\\\xd1\\\\x8c'\": 190552,\n",
       " b\"b'\\\\xd0\\\\xba\\\\xd1\\\\x8f\\\\xd1\\\\x81\\\\xd1\\\\x82\\\\xd1\\\\x83\\\\xd1\\\\x82\\\\xd0\\\\xb8\\\\xd1\\\\x81'\": 177491,\n",
       " b\"b'\\\\xd0\\\\xbf\\\\xd1\\\\x80\\\\xd0\\\\xbe\\\\xd1\\\\x82\\\\xd0\\\\xb8\\\\xd0\\\\xb2\\\\xd0\\\\xbe\\\\xd1\\\\x8d\\\\xd0\\\\xbf\\\\xd0\\\\xb8\\\\xd0\\\\xb4\\\\xd0\\\\xb5\\\\xd0\\\\xbc\\\\xd0\\\\xb8\\\\xd1\\\\x87\\\\xd0\\\\xb5\\\\xd1\\\\x81\\\\xd0\\\\xba\\\\xd0\\\\xb8\\\\xd0\\\\xb9'\": 36796,\n",
       " b\"b'\\\\xd1\\\\x87\\\\xd0\\\\xb5\\\\xd1\\\\x80\\\\xd0\\\\xbf\\\\xd0\\\\xb0\\\\xd1\\\\x82\\\\xd1\\\\x8c'\": 12671,\n",
       " b\"b'\\\\xd0\\\\xbd\\\\xd0\\\\xb5\\\\xd1\\\\x8e\\\\xd1\\\\x80\\\\xd0\\\\xb8\\\\xd0\\\\xb4\\\\xd0\\\\xb8\\\\xd1\\\\x87\\\\xd0\\\\xb5\\\\xd1\\\\x81\\\\xd0\\\\xba\\\\xd0\\\\xb8\\\\xd0\\\\xb9'\": 136987,\n",
       " b\"b'\\\\xd1\\\\x83\\\\xd0\\\\xb2\\\\xd0\\\\xb8'\": 144197,\n",
       " b\"b'\\\\xd0\\\\xb8\\\\xd0\\\\xbd\\\\xd0\\\\xba\\\\xd1\\\\x83\\\\xd0\\\\xb1'\": 73688,\n",
       " b\"b'\\\\xd0\\\\xb2\\\\xd0\\\\xb5\\\\xd1\\\\x81\\\\xd1\\\\x82\\\\xd0\\\\xbc\\\\xd0\\\\xb8\\\\xd0\\\\xbd\\\\xd1\\\\x81\\\\xd1\\\\x82\\\\xd0\\\\xb5\\\\xd1\\\\x80\\\\xd1\\\\x81\\\\xd0\\\\xba\\\\xd0\\\\xb8\\\\xd0\\\\xb9'\": 44352,\n",
       " b\"b'\\\\xd0\\\\xb0\\\\xd0\\\\xb8\\\\xd0\\\\xb1'\": 104632,\n",
       " b\"b'\\\\xd0\\\\xbd\\\\xd0\\\\xb5\\\\xd1\\\\x87\\\\xd1\\\\x83\\\\xd0\\\\xb9'\": 151652,\n",
       " b\"b'adora'\": 179027,\n",
       " b\"b'\\\\xd0\\\\xba\\\\xd0\\\\xbe\\\\xd1\\\\x80\\\\xd1\\\\x87\\\\xd0\\\\xb5\\\\xd0\\\\xb2\\\\xd0\\\\xb0\\\\xd1\\\\x82\\\\xd0\\\\xb5\\\\xd0\\\\xbb\\\\xd1\\\\x8c'\": 147516,\n",
       " b\"b'\\\\xd0\\\\xba\\\\xd1\\\\x80\\\\xd0\\\\xb5\\\\xd1\\\\x81\\\\xd0\\\\xb5\\\\xd0\\\\xbb\\\\xd0\\\\xba\\\\xd0\\\\xb0'\": 105106,\n",
       " b\"b'\\\\xd0\\\\xbf\\\\xd1\\\\x80\\\\xd0\\\\xbe\\\\xd0\\\\xb3\\\\xd0\\\\xbe\\\\xd0\\\\xb2\\\\xd0\\\\xb0\\\\xd1\\\\x80\\\\xd0\\\\xb8\\\\xd0\\\\xb2\\\\xd0\\\\xb0\\\\xd0\\\\xbd\\\\xd0\\\\xb8\\\\xd0\\\\xb5'\": 56207,\n",
       " b\"b'\\\\xd1\\\\x81\\\\xd1\\\\x82\\\\xd0\\\\xb0\\\\xd0\\\\xb2\\\\xd0\\\\xb8\\\\xd1\\\\x82\\\\xd1\\\\x8c\\\\xd1\\\\x81\\\\xd1\\\\x8f'\": 4981,\n",
       " b\"b'\\\\xd0\\\\xb1\\\\xd0\\\\xb5\\\\xd0\\\\xbb\\\\xd0\\\\xb0\\\\xd1\\\\x80\\\\xd1\\\\x83\\\\xd1\\\\x81\\\\xd0\\\\xbe\\\\xd0\\\\xb2'\": 134234,\n",
       " b\"b'\\\\xd0\\\\xba\\\\xd0\\\\xb0\\\\xd1\\\\x88\\\\xd0\\\\xb0\\\\xd0\\\\xb5\\\\xd0\\\\xb2'\": 113163,\n",
       " b\"b'\\\\xd0\\\\xb0\\\\xd1\\\\x85\\\\xd0\\\\xb5\\\\xd0\\\\xb9\\\\xd1\\\\x81\\\\xd0\\\\xba\\\\xd0\\\\xb8\\\\xd0\\\\xb9'\": 80981,\n",
       " b\"b'\\\\xd0\\\\xba\\\\xd0\\\\xb5\\\\xd1\\\\x82\\\\xd0\\\\xbe\\\\xd0\\\\xb3\\\\xd0\\\\xb5\\\\xd0\\\\xbd\\\\xd0\\\\xbd\\\\xd1\\\\x8b\\\\xd0\\\\xb9'\": 142400,\n",
       " b\"b'\\\\xd0\\\\xba\\\\xd0\\\\xbe\\\\xd1\\\\x80\\\\xd0\\\\xbe\\\\xd0\\\\xb1\\\\xd0\\\\xb8\\\\xd1\\\\x82\\\\xd1\\\\x8c\\\\xd1\\\\x81\\\\xd1\\\\x8f'\": 54577,\n",
       " b\"b'\\\\xd0\\\\xbc\\\\xd0\\\\xb0\\\\xd0\\\\xbb\\\\xd1\\\\x8b\\\\xd1\\\\x88\\\\xd0\\\\xbe\\\\xd0\\\\xbd\\\\xd0\\\\xbe\\\\xd0\\\\xba'\": 165779,\n",
       " b\"b'\\\\xd1\\\\x81\\\\xd0\\\\xb8\\\\xd0\\\\xbb\\\\xd1\\\\x8c\\\\xd0\\\\xb2\\\\xd0\\\\xb0\\\\xd0\\\\xbd\\\\xd0\\\\xbe'\": 192908,\n",
       " b\"b'\\\\xd0\\\\xb3\\\\xd0\\\\xb1\\\\xd1\\\\x80'\": 66215,\n",
       " b\"b'\\\\xd0\\\\xbf\\\\xd0\\\\xbe\\\\xd0\\\\xbb\\\\xd0\\\\xba\\\\xd0\\\\xb8\\\\xd1\\\\x80\\\\xd0\\\\xbf\\\\xd0\\\\xb8\\\\xd1\\\\x87'\": 80826,\n",
       " b\"b'\\\\xd0\\\\xb8\\\\xd1\\\\x81\\\\xd1\\\\x82\\\\xd0\\\\xb5\\\\xd1\\\\x80\\\\xd0\\\\xb7\\\\xd0\\\\xb0\\\\xd0\\\\xbd\\\\xd0\\\\xbd\\\\xd1\\\\x8b\\\\xd0\\\\xb9'\": 80010,\n",
       " b\"b'\\\\xd1\\\\x85\\\\xd0\\\\xbe\\\\xd0\\\\xbc\\\\xd0\\\\xb0\\\\xd1\\\\x81'\": 183858,\n",
       " b\"b'\\\\xd1\\\\x81\\\\xd0\\\\xbe\\\\xd0\\\\xb1\\\\xd0\\\\xbb\\\\xd0\\\\xb0\\\\xd0\\\\xb7\\\\xd0\\\\xbd\\\\xd0\\\\xb8\\\\xd1\\\\x82\\\\xd0\\\\xb5\\\\xd0\\\\xbb\\\\xd1\\\\x8c\\\\xd0\\\\xbd\\\\xd0\\\\xbe\\\\xd1\\\\x81\\\\xd1\\\\x82\\\\xd1\\\\x8c'\": 78779,\n",
       " b\"b'\\\\xd0\\\\xbf\\\\xd0\\\\xb8\\\\xd0\\\\xbb\\\\xd0\\\\xb5\\\\xd0\\\\xbd\\\\xd0\\\\xb8\\\\xd0\\\\xb5'\": 37725,\n",
       " b\"b'\\\\xd1\\\\x82\\\\xd1\\\\x83\\\\xd0\\\\xbc\\\\xd0\\\\xb0\\\\xd0\\\\xbd\\\\xd1\\\\x81\\\\xd0\\\\xba\\\\xd0\\\\xb8\\\\xd0\\\\xb9'\": 129885,\n",
       " b\"b'btu'\": 106607,\n",
       " b\"b'ipc'\": 53289,\n",
       " b\"b'\\\\xd0\\\\xbe\\\\xd0\\\\xb1\\\\xd0\\\\xb8\\\\xd0\\\\xb2\\\\xd0\\\\xb0\\\\xd0\\\\xbd\\\\xd0\\\\xb8\\\\xd0\\\\xb5'\": 192282,\n",
       " b\"b'\\\\xd1\\\\x80\\\\xd0\\\\xbe\\\\xd0\\\\xb9\\\\xd0\\\\xb1\\\\xd1\\\\x83\\\\xd1\\\\x88'\": 95510,\n",
       " b\"b'\\\\xd0\\\\xbc\\\\xd0\\\\xb0\\\\xd0\\\\xb4\\\\xd1\\\\x80\\\\xd0\\\\xb8\\\\xd1\\\\x85'\": 189860,\n",
       " b\"b'\\\\xd1\\\\x81\\\\xd0\\\\xb0\\\\xd0\\\\xbc\\\\xd0\\\\xb8\\\\xd1\\\\x82'\": 181029,\n",
       " b\"b'\\\\xd0\\\\xbb\\\\xd0\\\\xb5\\\\xd1\\\\x82\\\\xd0\\\\xbe\\\\xd0\\\\xbf\\\\xd0\\\\xb8\\\\xd1\\\\x81\\\\xd0\\\\xb0\\\\xd0\\\\xbd\\\\xd0\\\\xb8\\\\xd0\\\\xb5'\": 65008,\n",
       " b\"b'\\\\xd1\\\\x81\\\\xd0\\\\xbd\\\\xd0\\\\xb5\\\\xd0\\\\xb6\\\\xd0\\\\xb8\\\\xd0\\\\xba'\": 137627,\n",
       " b\"b'\\\\xd1\\\\x8d\\\\xd0\\\\xbd\\\\xd0\\\\xb7\\\\xd0\\\\xb8\\\\xd0\\\\xbc\\\\xd0\\\\xbd\\\\xd1\\\\x8b\\\\xd0\\\\xb9'\": 62031,\n",
       " b\"b'\\\\xd0\\\\xba\\\\xd1\\\\x83\\\\xd1\\\\x81\\\\xd1\\\\x82\\\\xd0\\\\xbe\\\\xd0\\\\xb2\\\\xd0\\\\xbe\\\\xd0\\\\xb9'\": 34863,\n",
       " b\"b'\\\\xd0\\\\xbc\\\\xd0\\\\xb0\\\\xd1\\\\x80\\\\xd0\\\\xba\\\\xd0\\\\xb5\\\\xd0\\\\xbb\\\\xd0\\\\xbe\\\\xd0\\\\xb2'\": 30346,\n",
       " b\"b'\\\\xd0\\\\xb2\\\\xd0\\\\xb5\\\\xd1\\\\x82\\\\xd0\\\\xbb\\\\xd1\\\\x83\\\\xd0\\\\xb3\\\\xd0\\\\xb0'\": 66093,\n",
       " b\"b'\\\\xd0\\\\xb1\\\\xd0\\\\xb5\\\\xd1\\\\x81\\\\xd1\\\\x85\\\\xd0\\\\xb0\\\\xd1\\\\x80\\\\xd0\\\\xb0\\\\xd0\\\\xba\\\\xd1\\\\x82\\\\xd0\\\\xb5\\\\xd1\\\\x80\\\\xd0\\\\xbd\\\\xd0\\\\xbe\\\\xd1\\\\x81\\\\xd1\\\\x82\\\\xd1\\\\x8c'\": 138608,\n",
       " b\"b'\\\\xd1\\\\x81\\\\xd1\\\\x82\\\\xd0\\\\xb5\\\\xd0\\\\xbf\\\\xd0\\\\xb0\\\\xd0\\\\xbd\\\\xd1\\\\x87\\\\xd0\\\\xb8\\\\xd0\\\\xba\\\\xd0\\\\xbe\\\\xd0\\\\xb2\\\\xd1\\\\x8b\\\\xd0\\\\xb9'\": 163268,\n",
       " b\"b'\\\\xd0\\\\xbe\\\\xd0\\\\xbb\\\\xd1\\\\x8e\\\\xd0\\\\xbd\\\\xd0\\\\xb8\\\\xd0\\\\xbd'\": 134377,\n",
       " b\"b'\\\\xd0\\\\xbc\\\\xd0\\\\xb0\\\\xd1\\\\x80\\\\xd0\\\\xba\\\\xd0\\\\xb8\\\\xd1\\\\x80\\\\xd0\\\\xbe\\\\xd0\\\\xb2\\\\xd0\\\\xb0\\\\xd1\\\\x82\\\\xd1\\\\x8c\\\\xd1\\\\x81\\\\xd1\\\\x8f'\": 32243,\n",
       " b\"b'\\\\xd0\\\\xb7\\\\xd0\\\\xb0\\\\xd0\\\\xbd\\\\xd0\\\\xba\\\\xd0\\\\xbe\\\\xd0\\\\xb2\\\\xd1\\\\x81\\\\xd0\\\\xba\\\\xd0\\\\xb8\\\\xd0\\\\xb9'\": 180652,\n",
       " b\"b'\\\\xd1\\\\x80\\\\xd0\\\\xb5\\\\xd0\\\\xb7\\\\xd0\\\\xbe\\\\xd0\\\\xbd\\\\xd0\\\\xbd\\\\xd1\\\\x8b\\\\xd0\\\\xb9'\": 27933,\n",
       " b\"b'\\\\xd1\\\\x86\\\\xd0\\\\xbe\\\\xd0\\\\xba'\": 63497,\n",
       " b\"b'\\\\xd0\\\\xba\\\\xd0\\\\xb0\\\\xd0\\\\xb2\\\\xd0\\\\xb0\\\\xd0\\\\xbb\\\\xd0\\\\xb5\\\\xd1\\\\x80\\\\xd0\\\\xb3\\\\xd0\\\\xb0\\\\xd1\\\\x80\\\\xd0\\\\xb4\\\\xd1\\\\x81\\\\xd0\\\\xba\\\\xd0\\\\xb8\\\\xd0\\\\xb9'\": 94142,\n",
       " b\"b'\\\\xd0\\\\xba\\\\xd0\\\\xb0\\\\xd1\\\\x82\\\\xd0\\\\xb0\\\\xd0\\\\xbc\\\\xd0\\\\xbd\\\\xd0\\\\xb5\\\\xd0\\\\xb7'\": 122834,\n",
       " b\"b'\\\\xd1\\\\x84\\\\xd0\\\\xbf\\\\xd0\\\\xba\\\\xd0\\\\xbf'\": 194863,\n",
       " b\"b'\\\\xd1\\\\x8d\\\\xd0\\\\xbb\\\\xd0\\\\xb5\\\\xd0\\\\xba\\\\xd1\\\\x82\\\\xd1\\\\x80\\\\xd0\\\\xbe\\\\xd0\\\\xb3\\\\xd1\\\\x80\\\\xd0\\\\xb0\\\\xd1\\\\x84\\\\xd0\\\\xb8\\\\xd1\\\\x87\\\\xd0\\\\xb5\\\\xd1\\\\x81\\\\xd0\\\\xba\\\\xd0\\\\xb8\\\\xd0\\\\xb9'\": 151964,\n",
       " b\"b'\\\\xd0\\\\xb2\\\\xd0\\\\xb5\\\\xd1\\\\x80\\\\xd0\\\\xbe\\\\xd1\\\\x84\\\\xd0\\\\xb0\\\\xd1\\\\x80\\\\xd0\\\\xbc'\": 114213,\n",
       " b\"b'\\\\xd0\\\\xbf\\\\xd0\\\\xbe\\\\xd0\\\\xbb\\\\xd1\\\\x83\\\\xd0\\\\xb4\\\\xd0\\\\xbb\\\\xd0\\\\xb8\\\\xd0\\\\xbd\\\\xd0\\\\xbd\\\\xd1\\\\x8b\\\\xd0\\\\xb9'\": 141924,\n",
       " b\"b'\\\\xd0\\\\xb1\\\\xd0\\\\xb0\\\\xd0\\\\xbb\\\\xd0\\\\xba\\\\xd0\\\\xb0\\\\xd0\\\\xbd\\\\xd0\\\\xba\\\\xd0\\\\xb0\\\\xd1\\\\x80'\": 158140,\n",
       " b\"b'\\\\xd1\\\\x80\\\\xd0\\\\xb0\\\\xd1\\\\x81\\\\xd1\\\\x81\\\\xd0\\\\xb0\\\\xd0\\\\xb4\\\\xd0\\\\xb8\\\\xd0\\\\xbd\\\\xd0\\\\xb0'\": 102998,\n",
       " b\"b'\\\\xd0\\\\xb1\\\\xd0\\\\xbe\\\\xd0\\\\xba\\\\xd0\\\\xbe'\": 61825,\n",
       " b\"b'\\\\xd1\\\\x81\\\\xd0\\\\xb0\\\\xd0\\\\xbb\\\\xd0\\\\xbe\\\\xd0\\\\xbf'\": 140006,\n",
       " b\"b'\\\\xd0\\\\xbf\\\\xd1\\\\x80\\\\xd0\\\\xb8\\\\xd0\\\\xbe\\\\xd0\\\\xbd\\\\xd0\\\\xb5\\\\xd0\\\\xb6\\\\xd1\\\\x8c\\\\xd0\\\\xb5'\": 139144,\n",
       " b\"b'\\\\xd0\\\\xbc\\\\xd0\\\\xb0\\\\xd0\\\\xb3\\\\xd0\\\\xb0\\\\xd0\\\\xbd'\": 113051,\n",
       " b\"b'\\\\xd0\\\\xb4\\\\xd0\\\\xb0\\\\xd0\\\\xbb\\\\xd0\\\\xb0\\\\xd1\\\\x82'\": 66686,\n",
       " b\"b'\\\\xd0\\\\xba\\\\xd0\\\\xb8\\\\xd0\\\\xbd\\\\xd0\\\\xb5\\\\xd1\\\\x81\\\\xd0\\\\xba\\\\xd0\\\\xbe\\\\xd0\\\\xbf\\\\xd0\\\\xbd\\\\xd1\\\\x8b\\\\xd0\\\\xb9'\": 104189,\n",
       " b\"b'\\\\xd1\\\\x81\\\\xd0\\\\xb3\\\\xd0\\\\xbb\\\\xd0\\\\xb0\\\\xd1\\\\x82\\\\xd1\\\\x8b\\\\xd0\\\\xb2\\\\xd0\\\\xb0\\\\xd1\\\\x82\\\\xd1\\\\x8c'\": 32761,\n",
       " b\"b'\\\\xd0\\\\xbc\\\\xd0\\\\xb5\\\\xd1\\\\x81\\\\xd1\\\\x81\\\\xd0\\\\xb8\\\\xd0\\\\xb0\\\\xd0\\\\xbd\\\\xd0\\\\xb8\\\\xd0\\\\xb7\\\\xd0\\\\xbc'\": 94441,\n",
       " b\"b'\\\\xd0\\\\xb7\\\\xd0\\\\xb0\\\\xd0\\\\xb2\\\\xd1\\\\x83\\\\xd0\\\\xb0\\\\xd0\\\\xbb\\\\xd0\\\\xb8\\\\xd1\\\\x80\\\\xd0\\\\xbe\\\\xd0\\\\xb2\\\\xd0\\\\xb0\\\\xd0\\\\xbd\\\\xd0\\\\xbd\\\\xd1\\\\x8b\\\\xd0\\\\xb9'\": 42880,\n",
       " b\"b'\\\\xd1\\\\x8d\\\\xd0\\\\xba\\\\xd0\\\\xbe\\\\xd1\\\\x81\\\\xd1\\\\x84\\\\xd0\\\\xb5\\\\xd1\\\\x80\\\\xd0\\\\xb0'\": 115306,\n",
       " b\"b'\\\\xd0\\\\xba\\\\xd1\\\\x80\\\\xd1\\\\x8b\\\\xd1\\\\x88\\\\xd0\\\\xb5\\\\xd0\\\\xb2\\\\xd0\\\\xb0\\\\xd0\\\\xbd\\\\xd0\\\\xb8\\\\xd0\\\\xb5'\": 65303,\n",
       " b\"b'\\\\xd0\\\\xb3\\\\xd1\\\\x83\\\\xd0\\\\xb7\\\\xd0\\\\xb5\\\\xd1\\\\x80\\\\xd0\\\\xb8\\\\xd0\\\\xbf\\\\xd0\\\\xbb\\\\xd1\\\\x8c'\": 116988,\n",
       " b\"b'\\\\xd0\\\\xba\\\\xd0\\\\xb0\\\\xd1\\\\x80\\\\xd0\\\\xb1\\\\xd0\\\\xb0\\\\xd1\\\\x81'\": 106705,\n",
       " b\"b'\\\\xd0\\\\xb1\\\\xd0\\\\xbe\\\\xd0\\\\xb5\\\\xd1\\\\x81\\\\xd0\\\\xbf\\\\xd0\\\\xbe\\\\xd1\\\\x81\\\\xd0\\\\xbe\\\\xd0\\\\xb1\\\\xd0\\\\xbd\\\\xd0\\\\xbe\\\\xd1\\\\x81\\\\xd1\\\\x82\\\\xd1\\\\x8c'\": 32730,\n",
       " b\"b'\\\\xd0\\\\xb0\\\\xd0\\\\xb4\\\\xd0\\\\xb5\\\\xd0\\\\xbf\\\\xd1\\\\x82'\": 14644,\n",
       " b\"b'flames'\": 118710,\n",
       " b\"b'\\\\xd0\\\\xb5\\\\xd1\\\\x81\\\\xd0\\\\xbd\\\\xd0\\\\xbe'\": 143893,\n",
       " b\"b'\\\\xd0\\\\xbf\\\\xd0\\\\xb0\\\\xd1\\\\x80\\\\xd1\\\\x84\\\\xd1\\\\x8f\\\\xd0\\\\xbd\\\\xd0\\\\xb8\\\\xd0\\\\xbd'\": 77092,\n",
       " b\"b'\\\\xd1\\\\x84\\\\xd0\\\\xbe\\\\xd0\\\\xbb\\\\xd1\\\\x8c\\\\xd0\\\\xba'\": 85069,\n",
       " b\"b'\\\\xd0\\\\xb8\\\\xd0\\\\xbd\\\\xd1\\\\x82\\\\xd1\\\\x80\\\\xd0\\\\xb0\\\\xd1\\\\x82\\\\xd0\\\\xb5\\\\xd0\\\\xba\\\\xd0\\\\xb0\\\\xd0\\\\xbb\\\\xd1\\\\x8c\\\\xd0\\\\xbd\\\\xd1\\\\x8b\\\\xd0\\\\xb9'\": 169549,\n",
       " b\"b'\\\\xd0\\\\xbd\\\\xd0\\\\xbe\\\\xd0\\\\xbc\\\\xd0\\\\xb0\\\\xd1\\\\x80\\\\xd1\\\\x85'\": 166702,\n",
       " b\"b'\\\\xd0\\\\xbf\\\\xd0\\\\xbe\\\\xd0\\\\xb4\\\\xd1\\\\x81\\\\xd0\\\\xb0\\\\xd0\\\\xb6\\\\xd0\\\\xb8\\\\xd0\\\\xb2\\\\xd0\\\\xb0\\\\xd0\\\\xbd\\\\xd0\\\\xb8\\\\xd0\\\\xb5'\": 151813,\n",
       " b\"b'\\\\xd0\\\\xb2\\\\xd0\\\\xbe\\\\xd1\\\\x89\\\\xd0\\\\xb5\\\\xd0\\\\xbd\\\\xd0\\\\xb8\\\\xd0\\\\xb5'\": 141863,\n",
       " b\"b'\\\\xd0\\\\xb8\\\\xd0\\\\xb0\\\\xd0\\\\xbc'\": 163371,\n",
       " b\"b'\\\\xd0\\\\xb3\\\\xd0\\\\xb0\\\\xd0\\\\xb0\\\\xd1\\\\x80'\": 68238,\n",
       " b\"b'\\\\xd1\\\\x81\\\\xd0\\\\xba\\\\xd1\\\\x80\\\\xd1\\\\x8b\\\\xd0\\\\xb2\\\\xd0\\\\xb0\\\\xd1\\\\x82\\\\xd1\\\\x8c'\": 1798,\n",
       " b\"b'\\\\xd0\\\\xb0\\\\xd0\\\\xb2\\\\xd0\\\\xba\\\\xd1\\\\x81\\\\xd0\\\\xb5\\\\xd0\\\\xbd\\\\xd1\\\\x82\\\\xd1\\\\x8c\\\\xd0\\\\xb5\\\\xd0\\\\xb2'\": 124879,\n",
       " b\"b'\\\\xd0\\\\xb3\\\\xd0\\\\xb5\\\\xd1\\\\x80\\\\xd0\\\\xb0\\\\xd1\\\\x81\\\\xd0\\\\xb8\\\\xd0\\\\xbc\\\\xd0\\\\xb5\\\\xd0\\\\xbd\\\\xd0\\\\xba\\\\xd0\\\\xbe'\": 39799,\n",
       " b\"b'\\\\xd0\\\\xb3\\\\xd0\\\\xbe\\\\xd1\\\\x80\\\\xd0\\\\xb5\\\\xd0\\\\xbd\\\\xd0\\\\xba\\\\xd0\\\\xbe'\": 101116,\n",
       " b\"b'\\\\xd0\\\\xb8\\\\xd0\\\\xbd\\\\xd1\\\\x84\\\\xd0\\\\xb8\\\\xd1\\\\x86\\\\xd0\\\\xb8\\\\xd1\\\\x80\\\\xd0\\\\xbe\\\\xd0\\\\xb2\\\\xd0\\\\xb0\\\\xd0\\\\xbd\\\\xd0\\\\xbd\\\\xd0\\\\xbe\\\\xd1\\\\x81\\\\xd1\\\\x82\\\\xd1\\\\x8c'\": 81824,\n",
       " b\"b'\\\\xd0\\\\xb0\\\\xd0\\\\xb4\\\\xd0\\\\xb0\\\\xd0\\\\xb5\\\\xd0\\\\xb2'\": 138391,\n",
       " b\"b'\\\\xd0\\\\xbc\\\\xd0\\\\xb5\\\\xd0\\\\xb3\\\\xd0\\\\xb8\\\\xd0\\\\xbd'\": 166594,\n",
       " b\"b'cds'\": 76508,\n",
       " b\"b'\\\\xd0\\\\xb0\\\\xd0\\\\xb4\\\\xd1\\\\x8b\\\\xd0\\\\xb3\\\\xd0\\\\xb5\\\\xd0\\\\xb5\\\\xd1\\\\x86'\": 106886,\n",
       " b\"b'\\\\xd1\\\\x82\\\\xd0\\\\xbb\\\\xd0\\\\xb5\\\\xd0\\\\xbd\\\\xd0\\\\xbd\\\\xd0\\\\xbe\\\\xd1\\\\x81\\\\xd1\\\\x82\\\\xd1\\\\x8c'\": 118523,\n",
       " b\"b'\\\\xd0\\\\xb2\\\\xd1\\\\x8b\\\\xd1\\\\x85\\\\xd0\\\\xb0\\\\xd0\\\\xb6\\\\xd0\\\\xb8\\\\xd0\\\\xb2\\\\xd0\\\\xb0\\\\xd0\\\\xbd\\\\xd0\\\\xb8\\\\xd0\\\\xb5'\": 53215,\n",
       " b\"b'\\\\xd0\\\\xb4\\\\xd0\\\\xb0\\\\xd0\\\\xb2\\\\xd0\\\\xb8\\\\xd1\\\\x82\\\\xd1\\\\x8c'\": 6598,\n",
       " b\"b'\\\\xd0\\\\xb4\\\\xd0\\\\xb6\\\\xd0\\\\xb8\\\\xd1\\\\x82'\": 140734,\n",
       " b\"b'\\\\xd0\\\\xbc\\\\xd0\\\\xb8\\\\xd0\\\\xbd\\\\xd0\\\\xb8\\\\xd0\\\\xbc\\\\xd0\\\\xb0\\\\xd0\\\\xbb\\\\xd1\\\\x8c\\\\xd0\\\\xbd\\\\xd1\\\\x8b\\\\xd0\\\\xb9'\": 1289,\n",
       " b\"b'\\\\xd0\\\\xb1\\\\xd0\\\\xb0\\\\xd1\\\\x82\\\\xd0\\\\xbb\\\\xd0\\\\xb5\\\\xd0\\\\xb9\\\\xd0\\\\xba'\": 191354,\n",
       " b\"b'\\\\xd0\\\\xbc\\\\xd0\\\\xb5\\\\xd1\\\\x82\\\\xd0\\\\xb0\\\\xd0\\\\xbb\\\\xd0\\\\xbb\\\\xd0\\\\xbe\\\\xd1\\\\x81\\\\xd0\\\\xb0\\\\xd0\\\\xb9\\\\xd0\\\\xb4\\\\xd0\\\\xb8\\\\xd0\\\\xbd\\\\xd0\\\\xb3'\": 63477,\n",
       " b\"b'\\\\xd0\\\\xb2\\\\xd0\\\\xb0\\\\xd1\\\\x85\\\\xd0\\\\xb8\\\\xd1\\\\x82\\\\xd0\\\\xbe\\\\xd0\\\\xb2\\\\xd1\\\\x81\\\\xd0\\\\xba\\\\xd0\\\\xb8\\\\xd0\\\\xb9'\": 71190,\n",
       " b\"b'\\\\xd0\\\\xba\\\\xd1\\\\x80\\\\xd1\\\\x8f\\\\xd0\\\\xba\\\\xd0\\\\xb0\\\\xd1\\\\x82\\\\xd1\\\\x8c'\": 75534,\n",
       " b\"b'\\\\xd1\\\\x80\\\\xd0\\\\xb0\\\\xd1\\\\x81\\\\xd1\\\\x88\\\\xd0\\\\xb0\\\\xd1\\\\x80\\\\xd0\\\\xb8\\\\xd0\\\\xb2\\\\xd0\\\\xb0\\\\xd1\\\\x82\\\\xd1\\\\x8c'\": 104430,\n",
       " b\"b'\\\\xd1\\\\x8f\\\\xd0\\\\xb2\\\\xd0\\\\xbb\\\\xd0\\\\xb5\\\\xd0\\\\xbd\\\\xd0\\\\xbd\\\\xd0\\\\xbe\\\\xd1\\\\x81\\\\xd1\\\\x82\\\\xd1\\\\x8c'\": 159409,\n",
       " b\"b'\\\\xd1\\\\x81\\\\xd1\\\\x82\\\\xd1\\\\x80\\\\xd0\\\\xbe\\\\xd0\\\\xb5\\\\xd0\\\\xb2'\": 50555,\n",
       " b\"b'\\\\xd0\\\\xb1\\\\xd0\\\\xbe\\\\xd0\\\\xbb\\\\xd1\\\\x8c\\\\xd1\\\\x88\\\\xd0\\\\xbe\\\\xd0\\\\xb2'\": 88880,\n",
       " b\"b'\\\\xd1\\\\x80\\\\xd0\\\\xb5\\\\xd1\\\\x81\\\\xd1\\\\x83\\\\xd1\\\\x80\\\\xd1\\\\x81\\\\xd0\\\\xbd\\\\xd0\\\\xb8\\\\xd0\\\\xba'\": 103632,\n",
       " b\"b'\\\\xd1\\\\x88\\\\xd0\\\\xb0\\\\xd1\\\\x80\\\\xd0\\\\xb4\\\\xd0\\\\xb5\\\\xd0\\\\xbd'\": 63816,\n",
       " b\"b'\\\\xd1\\\\x81\\\\xd1\\\\x82\\\\xd0\\\\xb0\\\\xd1\\\\x84\\\\xd1\\\\x84\\\\xd0\\\\xbe\\\\xd1\\\\x80\\\\xd0\\\\xb4\\\\xd1\\\\x88\\\\xd0\\\\xb8\\\\xd1\\\\x80\\\\xd1\\\\x81\\\\xd0\\\\xba\\\\xd0\\\\xb8\\\\xd0\\\\xb9'\": 73563,\n",
       " b\"b'epidermidis'\": 173675,\n",
       " b\"b'\\\\xd1\\\\x88\\\\xd0\\\\xb0\\\\xd1\\\\x80\\\\xd0\\\\xb8\\\\xd1\\\\x82\\\\xd1\\\\x8c'\": 26854,\n",
       " b\"b'\\\\xd0\\\\xb2\\\\xd0\\\\xb5\\\\xd0\\\\xbb\\\\xd0\\\\xb8\\\\xd0\\\\xb6'\": 90391,\n",
       " b\"b'pinto'\": 187375,\n",
       " b\"b'\\\\xd0\\\\xbc\\\\xd0\\\\xb0\\\\xd1\\\\x80\\\\xd1\\\\x81\\\\xd0\\\\xbe'\": 84499,\n",
       " b\"b'\\\\xd0\\\\xb4\\\\xd0\\\\xbc\\\\xd1\\\\x81\\\\xd0\\\\xbe'\": 176622,\n",
       " b\"b'\\\\xd0\\\\xb2\\\\xd0\\\\xb3\\\\xd0\\\\xb8\\\\xd0\\\\xba'\": 27153,\n",
       " b\"b'adf'\": 117057,\n",
       " ...}"
      ]
     },
     "execution_count": 70,
     "metadata": {},
     "output_type": "execute_result"
    }
   ],
   "source": [
    "vocab_dict"
   ]
  },
  {
   "cell_type": "code",
   "execution_count": 73,
   "metadata": {},
   "outputs": [],
   "source": [
    "# the word2vec model was loaded with strings as byte-arrays so need to convert\n",
    "def convert_to_vocab_bytes(s):\n",
    "    return bytes(\"b'\" + s + \"'\", encoding='utf-8')   "
   ]
  },
  {
   "cell_type": "code",
   "execution_count": 74,
   "metadata": {},
   "outputs": [
    {
     "data": {
      "text/plain": [
       "b\"b'\\xd1\\x81\\xd1\\x82\\xd0\\xbe\\xd0\\xbb'\""
      ]
     },
     "execution_count": 74,
     "metadata": {},
     "output_type": "execute_result"
    }
   ],
   "source": [
    "convert_to_vocab_bytes('стол')"
   ]
  },
  {
   "cell_type": "markdown",
   "metadata": {},
   "source": [
    "### sklearn KNN integration with WMD"
   ]
  },
  {
   "cell_type": "code",
   "execution_count": null,
   "metadata": {},
   "outputs": [],
   "source": [
    "\"\"\"%%file word_movers_knn.py\"\"\"\n",
    "\n",
    "# Authors: Vlad Niculae, Matt Kusner\n",
    "# License: Simplified BSD\n",
    "\n",
    "import numpy as np\n",
    "from sklearn.metrics import euclidean_distances\n",
    "from sklearn.externals.joblib import Parallel, delayed\n",
    "from sklearn.neighbors import KNeighborsClassifier\n",
    "from sklearn.utils import check_array\n",
    "from sklearn.cross_validation import check_cv\n",
    "from sklearn.metrics.scorer import check_scoring\n",
    "from sklearn.preprocessing import normalize\n",
    "\n",
    "from pyemd import emd\n",
    "\n",
    "\n",
    "class WordMoversKNN(KNeighborsClassifier):\n",
    "    \"\"\"K nearest neighbors classifier using the Word Mover's Distance.\n",
    "\n",
    "    Parameters\n",
    "    ----------\n",
    "    \n",
    "    W_embed : array, shape: (vocab_size, embed_size)\n",
    "        Precomputed word embeddings between vocabulary items.\n",
    "        Row indices should correspond to the columns in the bag-of-words input.\n",
    "\n",
    "    n_neighbors : int, optional (default = 5)\n",
    "        Number of neighbors to use by default for :meth:`k_neighbors` queries.\n",
    "\n",
    "    n_jobs : int, optional (default = 1)\n",
    "        The number of parallel jobs to run for Word Mover's Distance computation.\n",
    "        If ``-1``, then the number of jobs is set to the number of CPU cores.\n",
    "    \n",
    "    verbose : int, optional\n",
    "        Controls the verbosity; the higher, the more messages. Defaults to 0.\n",
    "        \n",
    "    References\n",
    "    ----------\n",
    "    \n",
    "    Matt J. Kusner, Yu Sun, Nicholas I. Kolkin, Kilian Q. Weinberger\n",
    "    From Word Embeddings To Document Distances\n",
    "    The International Conference on Machine Learning (ICML), 2015\n",
    "    http://mkusner.github.io/publications/WMD.pdf\n",
    "    \n",
    "    \"\"\"\n",
    "    _pairwise = False\n",
    "\n",
    "    def __init__(self, W_embed, n_neighbors=1, n_jobs=1, verbose=False):\n",
    "        self.W_embed = W_embed\n",
    "        self.verbose = verbose\n",
    "        super(WordMoversKNN, self).__init__(n_neighbors=n_neighbors, n_jobs=n_jobs,\n",
    "                                            metric='precomputed', algorithm='brute')\n",
    "\n",
    "    def _wmd(self, i, row, X_train):\n",
    "        \"\"\"Compute the WMD between training sample i and given test row.\n",
    "        \n",
    "        Assumes that `row` and train samples are sparse BOW vectors summing to 1.\n",
    "        \"\"\"\n",
    "        union_idx = np.union1d(X_train[i].indices, row.indices)\n",
    "        W_minimal = self.W_embed[union_idx]\n",
    "        W_dist = euclidean_distances(W_minimal)\n",
    "        bow_i = X_train[i, union_idx].A.ravel()\n",
    "        bow_j = row[:, union_idx].A.ravel()\n",
    "        return emd(bow_i, bow_j, W_dist)\n",
    "    \n",
    "    def _wmd_row(self, row, X_train):\n",
    "        \"\"\"Wrapper to compute the WMD of a row with all training samples.\n",
    "        \n",
    "        Assumes that `row` and train samples are sparse BOW vectors summing to 1.\n",
    "        Useful for parallelization.\n",
    "        \"\"\"\n",
    "        n_samples_train = X_train.shape[0]\n",
    "        return [self._wmd(i, row, X_train) for i in range(n_samples_train)]\n",
    "\n",
    "    def _pairwise_wmd(self, X_test, X_train=None):\n",
    "        \"\"\"Computes the word mover's distance between all train and test points.\n",
    "        \n",
    "        Parallelized over rows of X_test.\n",
    "        \n",
    "        Assumes that train and test samples are sparse BOW vectors summing to 1.\n",
    "        \n",
    "        Parameters\n",
    "        ----------\n",
    "        X_test: scipy.sparse matrix, shape: (n_test_samples, vocab_size)\n",
    "            Test samples.\n",
    "        \n",
    "        X_train: scipy.sparse matrix, shape: (n_train_samples, vocab_size)\n",
    "            Training samples. If `None`, uses the samples the estimator was fit with.\n",
    "        \n",
    "        Returns\n",
    "        -------\n",
    "        dist : array, shape: (n_test_samples, n_train_samples)\n",
    "            Distances between all test samples and all train samples.\n",
    "        \n",
    "        \"\"\"\n",
    "        n_samples_test = X_test.shape[0]\n",
    "        \n",
    "        if X_train is None:\n",
    "            X_train = self._fit_X\n",
    "\n",
    "        dist = Parallel(n_jobs=self.n_jobs, verbose=self.verbose)(\n",
    "            delayed(self._wmd_row)(test_sample, X_train)\n",
    "            for test_sample in X_test)\n",
    "\n",
    "        return np.array(dist)\n",
    "\n",
    "    def fit(self, X, y):\n",
    "        \"\"\"Fit the model using X as training data and y as target values\n",
    "\n",
    "        Parameters\n",
    "        ----------\n",
    "        X : scipy sparse matrix, shape: (n_samples, n_features)\n",
    "            Training data. \n",
    "\n",
    "        y : {array-like, sparse matrix}\n",
    "            Target values of shape = [n_samples] or [n_samples, n_outputs]\n",
    "\n",
    "        \"\"\"\n",
    "        X = check_array(X, accept_sparse='csr', copy=True)\n",
    "        X = normalize(X, norm='l1', copy=False)\n",
    "        return super(WordMoversKNN, self).fit(X, y)\n",
    "\n",
    "    def predict(self, X):\n",
    "        \"\"\"Predict the class labels for the provided data\n",
    "        Parameters\n",
    "        ----------\n",
    "        X : scipy.sparse matrix, shape (n_test_samples, vocab_size)\n",
    "            Test samples.\n",
    "\n",
    "        Returns\n",
    "        -------\n",
    "        y : array of shape [n_samples]\n",
    "            Class labels for each data sample.\n",
    "        \"\"\"\n",
    "        X = check_array(X, accept_sparse='csr', copy=True)\n",
    "        X = normalize(X, norm='l1', copy=False)\n",
    "        dist = self._pairwise_wmd(X)\n",
    "        return super(WordMoversKNN, self).predict(dist)\n",
    "    \n",
    "    \n",
    "class WordMoversKNNCV(WordMoversKNN):\n",
    "    \"\"\"Cross-validated KNN classifier using the Word Mover's Distance.\n",
    "\n",
    "    Parameters\n",
    "    ----------\n",
    "    W_embed : array, shape: (vocab_size, embed_size)\n",
    "        Precomputed word embeddings between vocabulary items.\n",
    "        Row indices should correspond to the columns in the bag-of-words input.\n",
    "\n",
    "    n_neighbors_try : sequence, optional\n",
    "        List of ``n_neighbors`` values to try.\n",
    "        If None, tries 1-5 neighbors.\n",
    "\n",
    "    scoring : string, callable or None, optional, default: None\n",
    "        A string (see model evaluation documentation) or\n",
    "        a scorer callable object / function with signature\n",
    "        ``scorer(estimator, X, y)``.\n",
    "\n",
    "    cv : int, cross-validation generator or an iterable, optional\n",
    "        Determines the cross-validation splitting strategy.\n",
    "        Possible inputs for cv are:\n",
    "          - None, to use the default 3-fold cross-validation,\n",
    "          - integer, to specify the number of folds.\n",
    "          - An object to be used as a cross-validation generator.\n",
    "          - An iterable yielding train/test splits.\n",
    "        For integer/None inputs, StratifiedKFold is used.\n",
    "\n",
    "    n_jobs : int, optional (default = 1)\n",
    "        The number of parallel jobs to run for Word Mover's Distance computation.\n",
    "        If ``-1``, then the number of jobs is set to the number of CPU cores.\n",
    "\n",
    "    verbose : int, optional\n",
    "        Controls the verbosity; the higher, the more messages. Defaults to 0.\n",
    "\n",
    "    Attributes\n",
    "    ----------\n",
    "    cv_scores_ : array, shape (n_folds, len(n_neighbors_try))\n",
    "        Test set scores for each fold.\n",
    "\n",
    "    n_neighbors_ : int,\n",
    "        The best `n_neighbors` value found.\n",
    "\n",
    "    References\n",
    "    ----------\n",
    "\n",
    "    Matt J. Kusner, Yu Sun, Nicholas I. Kolkin, Kilian Q. Weinberger\n",
    "    From Word Embeddings To Document Distances\n",
    "    The International Conference on Machine Learning (ICML), 2015\n",
    "    http://mkusner.github.io/publications/WMD.pdf\n",
    "    \n",
    "    \"\"\"\n",
    "    def __init__(self, W_embed, n_neighbors_try=None, scoring=None, cv=3,\n",
    "                 n_jobs=1, verbose=False):\n",
    "        self.cv = cv\n",
    "        self.n_neighbors_try = n_neighbors_try\n",
    "        self.scoring = scoring\n",
    "        super(WordMoversKNNCV, self).__init__(W_embed,\n",
    "                                              n_neighbors=None,\n",
    "                                              n_jobs=n_jobs,\n",
    "                                              verbose=verbose)\n",
    "\n",
    "    def fit(self, X, y):\n",
    "        \"\"\"Fit KNN model by choosing the best `n_neighbors`.\n",
    "        \n",
    "        Parameters\n",
    "        -----------\n",
    "        X : scipy.sparse matrix, (n_samples, vocab_size)\n",
    "            Data\n",
    "        y : ndarray, shape (n_samples,) or (n_samples, n_targets)\n",
    "            Target\n",
    "        \"\"\"\n",
    "        if self.n_neighbors_try is None:\n",
    "            n_neighbors_try = range(1, 6)\n",
    "        else:\n",
    "            n_neighbors_try = self.n_neighbors_try\n",
    "\n",
    "        X = check_array(X, accept_sparse='csr', copy=True)\n",
    "        X = normalize(X, norm='l1', copy=False)\n",
    "\n",
    "        cv = check_cv(self.cv, X, y)\n",
    "        knn = KNeighborsClassifier(metric='precomputed', algorithm='brute')\n",
    "        scorer = check_scoring(knn, scoring=self.scoring)\n",
    "\n",
    "        scores = []\n",
    "        for train_ix, test_ix in cv:\n",
    "            dist = self._pairwise_wmd(X[test_ix], X[train_ix])\n",
    "            knn.fit(X[train_ix], y[train_ix])\n",
    "            scores.append([\n",
    "                scorer(knn.set_params(n_neighbors=k), dist, y[test_ix])\n",
    "                for k in n_neighbors_try\n",
    "            ])\n",
    "        scores = np.array(scores)\n",
    "        self.cv_scores_ = scores\n",
    "\n",
    "        best_k_ix = np.argmax(np.mean(scores, axis=0))\n",
    "        best_k = n_neighbors_try[best_k_ix]\n",
    "        self.n_neighbors = self.n_neighbors_ = best_k\n",
    "\n",
    "        return super(WordMoversKNNCV, self).fit(X, y)"
   ]
  },
  {
   "cell_type": "markdown",
   "metadata": {},
   "source": [
    "Let's see how well it performs."
   ]
  },
  {
   "cell_type": "code",
   "execution_count": null,
   "metadata": {},
   "outputs": [],
   "source": [
    "test_tokenized = test_data['text_pymystem_list'].values\n",
    "train_tokenized = train_data['text_pymystem_list'].values\n",
    "\n",
    "flat_train_tokenized = [item for sublist in train_tokenized for item in sublist]\n",
    "flat_test_tokenized = [item for sublist in test_tokenized for item in sublist]"
   ]
  },
  {
   "cell_type": "markdown",
   "metadata": {},
   "source": [
    "To speed up performance we focus only on the words that are both in Google News model and in our dataset."
   ]
  },
  {
   "cell_type": "code",
   "execution_count": null,
   "metadata": {},
   "outputs": [],
   "source": [
    "# the word2vec model was loaded with strings as byte-arrays so need to convert\n",
    "def convert_to_vocab_bytes(s):\n",
    "    return bytes(\"b'\" + s + \"'\", encoding='utf-8')    "
   ]
  },
  {
   "cell_type": "code",
   "execution_count": null,
   "metadata": {},
   "outputs": [],
   "source": [
    "vect = CountVectorizer()\n",
    "vect.fit(flat_train_tokenized)"
   ]
  },
  {
   "cell_type": "code",
   "execution_count": null,
   "metadata": {},
   "outputs": [],
   "source": [
    "common = [word for word in vect.get_feature_names() if convert_to_vocab_bytes(word) in vocab_dict]\n",
    "W_common = W[[vocab_dict[ convert_to_vocab_bytes(w)] for w in common]]"
   ]
  },
  {
   "cell_type": "code",
   "execution_count": null,
   "metadata": {},
   "outputs": [],
   "source": [
    "vocab_dict"
   ]
  },
  {
   "cell_type": "code",
   "execution_count": null,
   "metadata": {},
   "outputs": [],
   "source": [
    "vect.get_feature_names()"
   ]
  },
  {
   "cell_type": "markdown",
   "metadata": {},
   "source": [
    "The mass of the pile of mud in the Word Mover's Distance is determined by how many times a word appears in a document. So we need a CountVectorizer."
   ]
  },
  {
   "cell_type": "code",
   "execution_count": null,
   "metadata": {},
   "outputs": [],
   "source": [
    "test_tokenized[0]"
   ]
  },
  {
   "cell_type": "code",
   "execution_count": null,
   "metadata": {},
   "outputs": [],
   "source": [
    "vect = CountVectorizer(vocabulary=common, dtype=np.double)\n",
    "X_train = vect.fit_transform(train_tokenized)\n",
    "X_test = vect.transform(test_tokenized)"
   ]
  },
  {
   "cell_type": "markdown",
   "metadata": {},
   "source": [
    "Let's train the model."
   ]
  },
  {
   "cell_type": "code",
   "execution_count": null,
   "metadata": {},
   "outputs": [],
   "source": [
    "knn = WordMoversKNN(n_neighbors=1, W_embed=W_common, verbose=5, n_jobs=-1)"
   ]
  },
  {
   "cell_type": "code",
   "execution_count": null,
   "metadata": {},
   "outputs": [],
   "source": [
    "knn.fit(X_train, train_data['tradition'])"
   ]
  },
  {
   "cell_type": "markdown",
   "metadata": {},
   "source": [
    "__Warning__: 10 minutes runtime on 7 cores"
   ]
  },
  {
   "cell_type": "code",
   "execution_count": null,
   "metadata": {},
   "outputs": [],
   "source": [
    "%%time \n",
    "predicted = knn.predict(X_test)"
   ]
  },
  {
   "cell_type": "markdown",
   "metadata": {},
   "source": [
    "Only 2% above the naive baseline unfortunately. WMD achieves good results on sentiment analysis in the published paper. Maybe it works better for sentiment than for topic classification that we use it here. Or maybe preprocessing can be tuned here. It is hard to debug a black box method!"
   ]
  },
  {
   "cell_type": "code",
   "execution_count": null,
   "metadata": {},
   "outputs": [],
   "source": [
    "evaluate_prediction(predicted, test_data['tradition'], traditions)"
   ]
  },
  {
   "cell_type": "markdown",
   "metadata": {},
   "source": [
    "# Conclusion"
   ]
  },
  {
   "cell_type": "markdown",
   "metadata": {},
   "source": [
    "Above we shown how to run 'hello-world' in 7 different document classification techniques. It is just a beginning of exploration of their features... There are a lot of parameters that can be tuned to get the best possible results out of them. The 'hello-world' run is in no way an indication of their best peformance. The goal of this tutorial is to show the API so you can start tuning them yourself."
   ]
  },
  {
   "cell_type": "markdown",
   "metadata": {},
   "source": [
    "Out of the box \"no tuning\" accuracy of bag of words is not far behind more advanced techniques. \n",
    "Tune them and the pre-processing for them well first and only then reach for more advanced methods if more accuracy is absolutely needed."
   ]
  }
 ],
 "metadata": {
  "kernelspec": {
   "display_name": "Python 3",
   "language": "python",
   "name": "python3"
  },
  "language_info": {
   "codemirror_mode": {
    "name": "ipython",
    "version": 3
   },
   "file_extension": ".py",
   "mimetype": "text/x-python",
   "name": "python",
   "nbconvert_exporter": "python",
   "pygments_lexer": "ipython3",
   "version": "3.5.2"
  }
 },
 "nbformat": 4,
 "nbformat_minor": 1
}
